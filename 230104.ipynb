{
 "cells": [
  {
   "cell_type": "markdown",
   "metadata": {},
   "source": [
    "# 230103 복습\n"
   ]
  },
  {
   "cell_type": "markdown",
   "metadata": {},
   "source": [
    "## 문자열 처리\n",
    "* text변수에서 대문자 L을 소문자 a로 바꾼다.\n",
    "* 1번을 진행한 문단에서 띄어쓰기를 전부 제거한다.\n",
    "* 2번을 진행한 문단에서 Lorem. 에 해당하는 문자를 지운다. 단 strip함수를 이용한다."
   ]
  },
  {
   "cell_type": "code",
   "execution_count": 1,
   "metadata": {},
   "outputs": [],
   "source": [
    "text ='''Lorem Ipsum is simply dummy text of the printing and typesetting industry. Lorem Ipsum has been the industry's standard dummy text ever since the 1500s, when an unknown printer took a galley of type and scrambled it to make a type specimen book. It has survived not only five centuries, but also the leap into electronic typesetting, remaining essentially unchanged. It was popularised in the 1960s with the release of Letraset sheets containing Lorem Ipsum passages, and more recently with desktop publishing software like Aldus PageMaker including versions of Lorem Ipsum.'''\n"
   ]
  },
  {
   "cell_type": "code",
   "execution_count": 7,
   "metadata": {},
   "outputs": [
    {
     "data": {
      "text/plain": [
       "\"aorem Ipsum is simply dummy text of the printing and typesetting industry. aorem Ipsum has been the industry's standard dummy text ever since the 1500s, when an unknown printer took a galley of type and scrambled it to make a type specimen book. It has survived not only five centuries, but also the leap into electronic typesetting, remaining essentially unchanged. It was popularised in the 1960s with the release of aetraset sheets containing aorem Ipsum passages, and more recently with desktop publishing software like Aldus PageMaker including versions of aorem Ipsum.\""
      ]
     },
     "execution_count": 7,
     "metadata": {},
     "output_type": "execute_result"
    }
   ],
   "source": [
    "text1 = text.replace('L','a')\n",
    "text1"
   ]
  },
  {
   "cell_type": "code",
   "execution_count": 9,
   "metadata": {},
   "outputs": [
    {
     "data": {
      "text/plain": [
       "\"aoremIpsumissimplydummytextoftheprintingandtypesettingindustry.aoremIpsumhasbeentheindustry'sstandarddummytexteversincethe1500s,whenanunknownprintertookagalleyoftypeandscrambledittomakeatypespecimenbook.Ithassurvivednotonlyfivecenturies,butalsotheleapintoelectronictypesetting,remainingessentiallyunchanged.Itwaspopularisedinthe1960swiththereleaseofaetrasetsheetscontainingaoremIpsumpassages,andmorerecentlywithdesktoppublishingsoftwarelikeAldusPageMakerincludingversionsofaoremIpsum.\""
      ]
     },
     "execution_count": 9,
     "metadata": {},
     "output_type": "execute_result"
    }
   ],
   "source": [
    "text2 = text1.replace(' ','')\n",
    "text2"
   ]
  },
  {
   "cell_type": "code",
   "execution_count": 10,
   "metadata": {},
   "outputs": [
    {
     "data": {
      "text/plain": [
       "\"aoremIpsumissimplydummytextoftheprintingandtypesettingindustry.aoremIpsumhasbeentheindustry'sstandarddummytexteversincethe1500s,whenanunknownprintertookagalleyoftypeandscrambledittomakeatypespecimenbook.Ithassurvivednotonlyfivecenturies,butalsotheleapintoelectronictypesetting,remainingessentiallyunchanged.Itwaspopularisedinthe1960swiththereleaseofaetrasetsheetscontainingaoremIpsumpassages,andmorerecentlywithdesktoppublishingsoftwarelikeAldusPageMakerincludingversionsofaoremIpsu\""
      ]
     },
     "execution_count": 10,
     "metadata": {},
     "output_type": "execute_result"
    }
   ],
   "source": [
    "text3 = text2.strip('Lorem.')\n",
    "text3"
   ]
  },
  {
   "cell_type": "code",
   "execution_count": 19,
   "metadata": {},
   "outputs": [
    {
     "data": {
      "text/plain": [
       "'\\n'"
      ]
     },
     "execution_count": 19,
     "metadata": {},
     "output_type": "execute_result"
    }
   ],
   "source": [
    "'따옴표\\n 계행문자 쓰기'[3] # 계행문자 \\n은 한문자로 처리됨"
   ]
  },
  {
   "cell_type": "markdown",
   "metadata": {},
   "source": [
    "##  조건문"
   ]
  },
  {
   "cell_type": "code",
   "execution_count": 20,
   "metadata": {},
   "outputs": [],
   "source": [
    "x = 5"
   ]
  },
  {
   "cell_type": "code",
   "execution_count": 21,
   "metadata": {},
   "outputs": [
    {
     "name": "stdout",
     "output_type": "stream",
     "text": [
      "오른쪽 숫자가 더 큽니다.\n"
     ]
    }
   ],
   "source": [
    "if x > 10:\n",
    "    print('왼쪽 숫자가 더 큽니다.')\n",
    "elif x < 9:\n",
    "    print('오른쪽 숫자가 더 큽니다.')\n",
    "else:\n",
    "    print('두가지 모두 아닙니다')"
   ]
  },
  {
   "cell_type": "markdown",
   "metadata": {},
   "source": [
    "### 실습1\n",
    "* 1~100 사이 숫자에서 3으로 나누었을 때 나머지가 0이 숫자만 출력하는 프로그램 만들기\n",
    "* 단 for, if문을 모두 사용해야한 한다.\n",
    "* 3으로 나누었을 때 나머지가 0이 아니라면 'False'라고 출력하기\n"
   ]
  },
  {
   "cell_type": "code",
   "execution_count": 22,
   "metadata": {},
   "outputs": [
    {
     "name": "stdout",
     "output_type": "stream",
     "text": [
      "False\n",
      "False\n",
      "3\n",
      "False\n",
      "False\n",
      "6\n",
      "False\n",
      "False\n",
      "9\n",
      "False\n",
      "False\n",
      "12\n",
      "False\n",
      "False\n",
      "15\n",
      "False\n",
      "False\n",
      "18\n",
      "False\n",
      "False\n",
      "21\n",
      "False\n",
      "False\n",
      "24\n",
      "False\n",
      "False\n",
      "27\n",
      "False\n",
      "False\n",
      "30\n",
      "False\n",
      "False\n",
      "33\n",
      "False\n",
      "False\n",
      "36\n",
      "False\n",
      "False\n",
      "39\n",
      "False\n",
      "False\n",
      "42\n",
      "False\n",
      "False\n",
      "45\n",
      "False\n",
      "False\n",
      "48\n",
      "False\n",
      "False\n",
      "51\n",
      "False\n",
      "False\n",
      "54\n",
      "False\n",
      "False\n",
      "57\n",
      "False\n",
      "False\n",
      "60\n",
      "False\n",
      "False\n",
      "63\n",
      "False\n",
      "False\n",
      "66\n",
      "False\n",
      "False\n",
      "69\n",
      "False\n",
      "False\n",
      "72\n",
      "False\n",
      "False\n",
      "75\n",
      "False\n",
      "False\n",
      "78\n",
      "False\n",
      "False\n",
      "81\n",
      "False\n",
      "False\n",
      "84\n",
      "False\n",
      "False\n",
      "87\n",
      "False\n",
      "False\n",
      "90\n",
      "False\n",
      "False\n",
      "93\n",
      "False\n",
      "False\n",
      "96\n",
      "False\n",
      "False\n",
      "99\n",
      "False\n"
     ]
    }
   ],
   "source": [
    "for i in range(1,101):\n",
    "    if i % 3 ==0:\n",
    "        print(i)\n",
    "    else:\n",
    "        print('False')"
   ]
  },
  {
   "cell_type": "markdown",
   "metadata": {},
   "source": [
    "### 실습2\n",
    "* 아래 코드를 참조해서 프로그램 만들기\n",
    "* 0~99 범위에서, 짝수인 경우 해당 숫자가 짝수라고 출력하기\n",
    "* 홀수인 경우 해당 숫자의 팩토리얼 연산 결과를 출력하기\n",
    "* 단 짝수인지 확인하는 코드는 작성하지 않는다."
   ]
  },
  {
   "cell_type": "code",
   "execution_count": null,
   "metadata": {},
   "outputs": [],
   "source": [
    "for i in range(100):\n",
    "    if i%2 ==0:\n",
    "        continue"
   ]
  },
  {
   "cell_type": "code",
   "execution_count": 7,
   "metadata": {},
   "outputs": [
    {
     "name": "stdout",
     "output_type": "stream",
     "text": [
      "1\n",
      "2 짝수\n",
      "6\n",
      "4 짝수\n",
      "120\n",
      "6 짝수\n",
      "5040\n",
      "8 짝수\n",
      "362880\n",
      "10 짝수\n"
     ]
    }
   ],
   "source": [
    "## \n",
    "for i in range(1,11):\n",
    "    result =1\n",
    "    if i %2 == 1:    \n",
    "        for j in range(1,i+1):\n",
    "            result *= j\n",
    "        print(result)\n",
    "        continue\n",
    "    \n",
    "    print(i,'짝수')"
   ]
  },
  {
   "cell_type": "code",
   "execution_count": null,
   "metadata": {},
   "outputs": [],
   "source": [
    "## 답안 1\n",
    "for i in range(0,100,2):\n",
    "    print(i, '짝수')\n",
    "    \n",
    "    result = 1\n",
    "    if i%2 !=2:\n",
    "        for j in range(1,i+2):\n",
    "            result *= j\n",
    "        print(result) \n",
    "        "
   ]
  },
  {
   "cell_type": "code",
   "execution_count": 1,
   "metadata": {},
   "outputs": [
    {
     "name": "stdout",
     "output_type": "stream",
     "text": [
      "0 짝수\n",
      "1\n",
      "2 짝수\n",
      "6\n",
      "4 짝수\n",
      "720\n",
      "6 짝수\n",
      "3628800\n",
      "8 짝수\n",
      "1316818944000\n"
     ]
    }
   ],
   "source": [
    "## 답안 2\n",
    "result = 1\n",
    "for i in range(0,10,1):\n",
    "    if i%2 ==1:\n",
    "        ##팩토리얼 코드\n",
    "        \n",
    "        for j in range(1,i+1):\n",
    "            result *= j\n",
    "        print(result) \n",
    "        \n",
    "        continue\n",
    "    print(i, \"짝수\")"
   ]
  },
  {
   "cell_type": "markdown",
   "metadata": {},
   "source": [
    "# 반복문 while\n",
    "* 기본적으로 무한으로 반복 (반복하려는 성질)  // for문은 멈추려는 성질\n",
    "* 오른쪽에 있는 조건문이 거짓이면 멈춤\n",
    "* while True: # 오른쪽 조건이 참일 경우 실행 <br>\n",
    "ind +=1 # ind는 반복 횟수가 같아진다\n",
    "* range함수를 받을수 없음"
   ]
  },
  {
   "cell_type": "code",
   "execution_count": 48,
   "metadata": {},
   "outputs": [
    {
     "name": "stdout",
     "output_type": "stream",
     "text": [
      "반복문이 실행되고 있습니다.\n",
      "반복문이 실행되고 있습니다.\n",
      "반복문이 실행되고 있습니다.\n",
      "반복문이 실행되고 있습니다.\n",
      "반복문이 실행되고 있습니다.\n",
      "반복문이 실행되고 있습니다.\n",
      "반복문이 실행되고 있습니다.\n",
      "반복문이 실행되고 있습니다.\n",
      "반복문이 실행되고 있습니다.\n",
      "반복문이 실행되고 있습니다.\n"
     ]
    }
   ],
   "source": [
    "ind = 0\n",
    "while True:\n",
    "    print('반복문이 실행되고 있습니다.')\n",
    "    ind +=1\n",
    "    if ind == 10:\n",
    "        break"
   ]
  },
  {
   "cell_type": "code",
   "execution_count": 49,
   "metadata": {},
   "outputs": [
    {
     "name": "stdout",
     "output_type": "stream",
     "text": [
      "반복문이 실행되고 있습니다.\n",
      "반복문이 실행되고 있습니다.\n",
      "반복문이 실행되고 있습니다.\n",
      "반복문이 실행되고 있습니다.\n",
      "반복문이 실행되고 있습니다.\n",
      "반복문이 실행되고 있습니다.\n",
      "반복문이 실행되고 있습니다.\n",
      "반복문이 실행되고 있습니다.\n",
      "반복문이 실행되고 있습니다.\n",
      "반복문이 실행되고 있습니다.\n"
     ]
    }
   ],
   "source": [
    "ind = 0\n",
    "while ind !=10:\n",
    "    print('반복문이 실행되고 있습니다.')\n",
    "    ind +=1\n"
   ]
  },
  {
   "cell_type": "markdown",
   "metadata": {},
   "source": [
    "## 실습 1\n",
    "* for문을 while문으로 변경하기"
   ]
  },
  {
   "cell_type": "code",
   "execution_count": 54,
   "metadata": {},
   "outputs": [
    {
     "name": "stdout",
     "output_type": "stream",
     "text": [
      "1\n",
      "2\n",
      "3\n",
      "4\n",
      "5\n",
      "6\n"
     ]
    }
   ],
   "source": [
    "ind = 0\n",
    "while ind !=6:\n",
    "    ind +=1\n",
    "    print(ind)\n",
    "    "
   ]
  },
  {
   "cell_type": "code",
   "execution_count": 55,
   "metadata": {},
   "outputs": [
    {
     "name": "stdout",
     "output_type": "stream",
     "text": [
      "1\n",
      "3\n",
      "5\n",
      "7\n",
      "9\n",
      "11\n",
      "13\n",
      "15\n",
      "17\n",
      "19\n"
     ]
    }
   ],
   "source": [
    "for i in range(1,20,2):\n",
    "    print(i)"
   ]
  },
  {
   "cell_type": "code",
   "execution_count": 63,
   "metadata": {},
   "outputs": [
    {
     "name": "stdout",
     "output_type": "stream",
     "text": [
      "1\n",
      "3\n",
      "5\n",
      "7\n",
      "9\n",
      "11\n",
      "13\n",
      "15\n",
      "17\n",
      "19\n"
     ]
    }
   ],
   "source": [
    "i=1\n",
    "while i<20:\n",
    "    print(i)\n",
    "    i +=2"
   ]
  },
  {
   "cell_type": "code",
   "execution_count": null,
   "id": "a6978f75",
   "metadata": {},
   "outputs": [
    {
     "name": "stdout",
     "output_type": "stream",
     "text": [
      "10\n",
      "9\n",
      "8\n",
      "7\n",
      "6\n",
      "5\n",
      "4\n",
      "3\n",
      "2\n",
      "1\n"
     ]
    }
   ],
   "source": [
    "for i in range(10,0,-1):\n",
    "    print(i)"
   ]
  },
  {
   "cell_type": "code",
   "execution_count": null,
   "id": "5acb9126",
   "metadata": {},
   "outputs": [],
   "source": [
    "for i in range(1,30):\n",
    "    print(i%2)"
   ]
  },
  {
   "cell_type": "code",
   "execution_count": null,
   "metadata": {},
   "outputs": [],
   "source": [
    "i =1\n",
    "while i <30:\n",
    "    print(i%2)\n",
    "    i +=1"
   ]
  },
  {
   "cell_type": "code",
   "execution_count": 69,
   "metadata": {},
   "outputs": [
    {
     "name": "stdout",
     "output_type": "stream",
     "text": [
      "10\n",
      "9\n",
      "8\n",
      "7\n",
      "6\n",
      "5\n",
      "4\n",
      "3\n",
      "2\n",
      "1\n"
     ]
    }
   ],
   "source": [
    "i = 10\n",
    "while i>0:\n",
    "    print(i)\n",
    "    i -=1"
   ]
  },
  {
   "cell_type": "code",
   "execution_count": 70,
   "metadata": {},
   "outputs": [
    {
     "name": "stdout",
     "output_type": "stream",
     "text": [
      "0\n",
      "1\n",
      "2\n",
      "3\n",
      "4\n",
      "5\n",
      "6\n",
      "7\n",
      "8\n",
      "9\n"
     ]
    }
   ],
   "source": [
    "# for i in [0,1,2,3,4,5,6,7,8,9]:\n",
    "#     print(i)\n",
    "\n",
    "# while문을 이용하여 위 코드 구현하기\n",
    "list1 = [0,1,2,3,4,5,6,7,8,9]\n",
    "i = 0\n",
    "while i in list1:\n",
    "    print(i)\n",
    "    i +=1"
   ]
  },
  {
   "cell_type": "code",
   "execution_count": 71,
   "metadata": {},
   "outputs": [
    {
     "name": "stdout",
     "output_type": "stream",
     "text": [
      "0\n",
      "1\n",
      "2\n",
      "3\n",
      "4\n",
      "5\n",
      "6\n",
      "7\n",
      "8\n",
      "9\n"
     ]
    }
   ],
   "source": [
    "## 다른 방법\n",
    "list1 = [0,1,2,3,4,5,6,7,8,9]\n",
    "i = 0\n",
    "while i <10:\n",
    "    print(list1[i])\n",
    "    i +=1"
   ]
  },
  {
   "cell_type": "markdown",
   "id": "52d34589",
   "metadata": {},
   "source": [
    "---\n",
    "## 실습 2\n",
    "* while문을 이용해서 아래와 같은 문장을 출력해보자\n",
    "* 단, print 함수는 단 하나만 사용한다\n",
    "\n",
    "반복문을 이용하면</br>\n",
    "여러 줄의 출력도</br>\n",
    "하나의 프린트문으로 출력할 수</br>\n",
    "있습니다"
   ]
  },
  {
   "cell_type": "code",
   "execution_count": 78,
   "id": "2d5a9989",
   "metadata": {},
   "outputs": [
    {
     "name": "stdout",
     "output_type": "stream",
     "text": [
      "반복문을 이용하면\n",
      "여러 줄의 출력도\n",
      "하나의 프린트문으로 출력할 수\n",
      "있습니다\n"
     ]
    }
   ],
   "source": [
    "list1 = ['반복문을 이용하면','여러 줄의 출력도','하나의 프린트문으로 출력할 수','있습니다']\n",
    "ind = 0\n",
    "while ind < len(list1):\n",
    "    print(list1[ind])\n",
    "    ind+=1"
   ]
  },
  {
   "cell_type": "markdown",
   "metadata": {},
   "source": [
    "## 실습 3\n",
    "* while문을 이용하여 아래 코드 구현해보기"
   ]
  },
  {
   "cell_type": "code",
   "execution_count": null,
   "id": "bcbb2271",
   "metadata": {},
   "outputs": [
    {
     "name": "stdout",
     "output_type": "stream",
     "text": [
      "4 5\n",
      "8 9\n"
     ]
    }
   ],
   "source": [
    "for i, j in [(4,5),(8,9)]:\n",
    "    print(i, j)"
   ]
  },
  {
   "cell_type": "code",
   "execution_count": 87,
   "metadata": {},
   "outputs": [
    {
     "name": "stdout",
     "output_type": "stream",
     "text": [
      "4 5\n",
      "8 9\n"
     ]
    }
   ],
   "source": [
    "i =(4,8)\n",
    "j =(5,9)\n",
    "ind = 0\n",
    "while ind<2:\n",
    "    print(i[ind],j[ind])\n",
    "    ind +=1"
   ]
  },
  {
   "cell_type": "code",
   "execution_count": 91,
   "metadata": {},
   "outputs": [
    {
     "name": "stdout",
     "output_type": "stream",
     "text": [
      "4 5\n",
      "8 9\n"
     ]
    }
   ],
   "source": [
    "## 다른 방법 1\n",
    "list1 =[(4,5),(8,9)]\n",
    "ind = 0\n",
    "\n",
    "while ind<2:\n",
    "    print(list1[ind][0], list1[ind][1])\n",
    "    ind +=1"
   ]
  },
  {
   "cell_type": "code",
   "execution_count": null,
   "id": "14e1bd53",
   "metadata": {},
   "outputs": [],
   "source": [
    "print('★★★★', end='☆\\n')\n",
    "print('★★★', end='☆☆\\n')\n",
    "print('★★', end='☆☆☆\\n')\n",
    "print('★', end='☆☆☆☆\\n')\n",
    "print('', end='☆☆☆☆☆\\n')"
   ]
  },
  {
   "cell_type": "code",
   "execution_count": 96,
   "metadata": {},
   "outputs": [
    {
     "name": "stdout",
     "output_type": "stream",
     "text": [
      "★★★★★\n",
      "★★★★☆\n",
      "★★★☆☆\n",
      "★★☆☆☆\n",
      "★☆☆☆☆\n",
      "☆☆☆☆☆\n"
     ]
    }
   ],
   "source": [
    "black = 5\n",
    "white = 0\n",
    "s1 = '★'\n",
    "s2 = '☆'\n",
    "\n",
    "while black>=0:\n",
    "    print(f'{s1 * black}{s2*white}',end ='\\n')\n",
    "    black -=1\n",
    "    white +=1"
   ]
  },
  {
   "cell_type": "code",
   "execution_count": 3,
   "id": "46a1ef43",
   "metadata": {},
   "outputs": [
    {
     "name": "stdout",
     "output_type": "stream",
     "text": [
      "2 는 짝수\n",
      "6 는 짝수\n",
      "8 는 짝수\n",
      "9 는 홀수\n",
      "1 는 홀수\n",
      "0 는 짝수\n"
     ]
    }
   ],
   "source": [
    "list1 = [2,6,8,9,1,0]\n",
    "i =0\n",
    "while i <6:\n",
    "    if list1[i] %2 == 0:\n",
    "        print(list1[i],'는 짝수')\n",
    "    else:\n",
    "        print(list1[i],'는 홀수')\n",
    "    i+=1"
   ]
  },
  {
   "cell_type": "code",
   "execution_count": 13,
   "metadata": {},
   "outputs": [
    {
     "name": "stdout",
     "output_type": "stream",
     "text": [
      "3628800\n"
     ]
    }
   ],
   "source": [
    "n = int(input('숫자를 입력하세요: '))\n",
    "result = 1\n",
    "i= 1\n",
    "while i<=n:\n",
    "    result *=i\n",
    "    i+=1\n",
    "print(result)"
   ]
  },
  {
   "cell_type": "code",
   "execution_count": 45,
   "metadata": {},
   "outputs": [
    {
     "name": "stdout",
     "output_type": "stream",
     "text": [
      "1*2*3*4*5* =120\n"
     ]
    }
   ],
   "source": [
    "## 수식으로 나타내기 1 (오름차순)\n",
    "n = int(input('숫자를 입력하세요: '))\n",
    "result = 1\n",
    "i= 1\n",
    "str1 = ''\n",
    "while i<=n:\n",
    "    str1 += str(i)\n",
    "    str1 += '*'\n",
    "    result *= i\n",
    "    i+=1\n",
    "str1 += ' ='\n",
    "print(f'{str1}{result}') \n"
   ]
  },
  {
   "cell_type": "code",
   "execution_count": 20,
   "metadata": {},
   "outputs": [
    {
     "name": "stdout",
     "output_type": "stream",
     "text": [
      "4*3*2*1 = 24\n"
     ]
    }
   ],
   "source": [
    "## 수식으로 나타내기 2(내림차순)\n",
    "n = int(input('숫자를 입력하세요: '))\n",
    "result = 1\n",
    "i= n\n",
    "str1 = ''\n",
    "while i>1:\n",
    "    str1 += str(i)\n",
    "    str1 +='*'\n",
    "    result *=i\n",
    "    \n",
    "    i-=1\n",
    "str1 += '1 = '\n",
    "str1 += str(result)\n",
    "\n",
    "print(str1)\n"
   ]
  },
  {
   "cell_type": "markdown",
   "metadata": {},
   "source": [
    "## 실습 4\n",
    "* 위 코드를 참고해서 지정된 범위의 짝수와 홀수를 출력하는 프로그램을 만들어본다.\n",
    "* 변수 두 개를 사용하는 반복문을 필수로 사용해야 한다.\n",
    "* 단 while문과 break 명령어를 이용해야 한다.\n",
    "* 출력 예시(1~8 범위의 경우)<br>\n",
    "(1,2) <br>\n",
    "(3,4) <br>\n",
    "(5,6) <br>\n",
    "(7,8) <br>\n"
   ]
  },
  {
   "cell_type": "code",
   "execution_count": 44,
   "metadata": {},
   "outputs": [
    {
     "name": "stdout",
     "output_type": "stream",
     "text": [
      "5\n",
      "1 2\n",
      "3 4\n",
      "5 6\n",
      "7 8\n",
      "9 10\n"
     ]
    }
   ],
   "source": [
    "# break O\n",
    "list1 = []\n",
    "i = 1\n",
    "while i<11:\n",
    "    list1 += [(i,i+1)]\n",
    "    i+=2\n",
    "list1\n",
    "print(len(list1))\n",
    "i = 0\n",
    "while True:\n",
    "    print(list1[i][0], list1[i][1])\n",
    "    i +=1\n",
    "    if i >= len(list1):\n",
    "        break"
   ]
  },
  {
   "cell_type": "code",
   "execution_count": 48,
   "metadata": {},
   "outputs": [
    {
     "name": "stdout",
     "output_type": "stream",
     "text": [
      "5\n",
      "1 2\n",
      "3 4\n",
      "5 6\n",
      "7 8\n",
      "9 10\n"
     ]
    }
   ],
   "source": [
    "# break X\n",
    "list1 = []\n",
    "i = 1\n",
    "while i<11:\n",
    "    list1 += [(i,i+1)]\n",
    "    i+=2\n",
    "print(len(list1))\n",
    "i = 0\n",
    "while i < len(list1):\n",
    "    print(list1[i][0], list1[i][1])\n",
    "    i +=1\n"
   ]
  },
  {
   "cell_type": "markdown",
   "metadata": {},
   "source": [
    "# 다중 반복문 (복습)\n",
    "* 반복문은 여러개가 중첩될수록 성능이 떨어짐\n",
    "* 삼중루프 이상은 권장되지 않음"
   ]
  },
  {
   "cell_type": "code",
   "execution_count": 16,
   "metadata": {},
   "outputs": [
    {
     "name": "stdout",
     "output_type": "stream",
     "text": [
      "[[1, 2, 3], [4, 5, 6], [7, 8, 9]]\n"
     ]
    }
   ],
   "source": [
    "list1 = [[1,2,3],[4,5,6],[7,8,9]]\n",
    "print(list1)"
   ]
  },
  {
   "cell_type": "code",
   "execution_count": 50,
   "metadata": {},
   "outputs": [
    {
     "name": "stdout",
     "output_type": "stream",
     "text": [
      "[1, 2, 3]\n",
      "[4, 5, 6]\n",
      "[7, 8, 9]\n"
     ]
    }
   ],
   "source": [
    "for i in list1:\n",
    "    print(i)"
   ]
  },
  {
   "cell_type": "code",
   "execution_count": 24,
   "metadata": {},
   "outputs": [
    {
     "name": "stdout",
     "output_type": "stream",
     "text": [
      "1\n",
      "2\n",
      "3\n",
      "4\n",
      "5\n",
      "6\n",
      "7\n",
      "8\n",
      "9\n"
     ]
    }
   ],
   "source": [
    "for i in list1:\n",
    "    for j in i:\n",
    "        print(j)"
   ]
  },
  {
   "cell_type": "markdown",
   "metadata": {},
   "source": [
    "###  실습 1\n",
    "* 아래 리스트에서 짝수번째 자리에 있는 리스트에서 홀수번째 자리의 값 출력하기\n",
    "* 단 0은 짝수"
   ]
  },
  {
   "cell_type": "code",
   "execution_count": 26,
   "metadata": {},
   "outputs": [
    {
     "name": "stdout",
     "output_type": "stream",
     "text": [
      "2\n",
      "8\n",
      "6\n"
     ]
    }
   ],
   "source": [
    "list1 = [[1,2,3],[4,5,6],[7,8,9],[0,9,8],[7,6,5],[4,3,2]]\n",
    "list2 =[]\n",
    "for i in range(len(list1)):\n",
    "    if i%2 ==0:\n",
    "        list2 +=[list1[i]]\n",
    "for i in range(len(list2)):\n",
    "    for j in range(3):\n",
    "        if j%2 ==0:\n",
    "            continue\n",
    "        print(list2[i][j])"
   ]
  },
  {
   "cell_type": "code",
   "execution_count": 27,
   "metadata": {},
   "outputs": [
    {
     "data": {
      "text/plain": [
       "3"
      ]
     },
     "execution_count": 27,
     "metadata": {},
     "output_type": "execute_result"
    }
   ],
   "source": [
    "len(list2)"
   ]
  },
  {
   "cell_type": "code",
   "execution_count": 88,
   "metadata": {},
   "outputs": [
    {
     "name": "stdout",
     "output_type": "stream",
     "text": [
      "2\n",
      "8\n",
      "6\n"
     ]
    }
   ],
   "source": [
    "## 답안\n",
    "for i in range(len(list1)):\n",
    "    if i%2 == 1:\n",
    "        continue\n",
    "    target = list1[i]\n",
    "    for j in range(len(target)):\n",
    "            if j%2 ==0:\n",
    "                continue\n",
    "            print(target[j])"
   ]
  },
  {
   "cell_type": "markdown",
   "metadata": {},
   "source": [
    "# 230104 과제 (복습)\n",
    "* 반복문 이용해보기\n",
    "* 숫자 하나를 입력받으면 아래 계산을 하는 프로그램 만들기\n",
    "* 1부터 입력받은 숫자까지의 범위에서\n",
    "* 짝수만 골라 출력한다\n",
    "* 홀수인 경우, 해당 숫자 이하의 모든 범위의 숫자를 더한 값을 출력한다\n"
   ]
  },
  {
   "cell_type": "code",
   "execution_count": 21,
   "metadata": {},
   "outputs": [
    {
     "name": "stdout",
     "output_type": "stream",
     "text": [
      "홀수 1\n",
      "짝수 2\n",
      "홀수 6\n",
      "짝수 4\n",
      "홀수 15\n",
      "짝수 6\n",
      "홀수 28\n",
      "짝수 8\n",
      "홀수 45\n",
      "짝수 10\n"
     ]
    }
   ],
   "source": [
    "## for , while\n",
    "a = int(input())\n",
    "\n",
    "x = 1\n",
    "result = 0\n",
    "for i in range(1,a+1):\n",
    "    if i%2 !=0:\n",
    "        while x <=i:\n",
    "            result +=x\n",
    "            x +=1\n",
    "        print('홀수' , result)\n",
    "    else:\n",
    "        print('짝수' , i)"
   ]
  },
  {
   "cell_type": "code",
   "execution_count": null,
   "metadata": {},
   "outputs": [],
   "source": [
    "## while, for\n",
    "a = int(input())\n",
    "\n",
    "while 1 <=a:\n",
    "    if a%2 ==0:\n",
    "        print('짝수',i)\n",
    "    else:\n",
    "        result = 0\n",
    "        result +=a\n",
    "        print(result)\n",
    "            \n",
    "    \n",
    "\n",
    "\n",
    "\n",
    "\n",
    "# for i in range(1,a+1):\n",
    "#     if i%2 !=0:\n",
    "#         while x <=i:\n",
    "#             result +=x\n",
    "#             x +=1\n",
    "#         print('홀수' , result)\n",
    "#     else:\n",
    "#         print('짝수' , i)"
   ]
  }
 ],
 "metadata": {
  "kernelspec": {
   "display_name": "Python 3.11.1 64-bit",
   "language": "python",
   "name": "python3"
  },
  "language_info": {
   "codemirror_mode": {
    "name": "ipython",
    "version": 3
   },
   "file_extension": ".py",
   "mimetype": "text/x-python",
   "name": "python",
   "nbconvert_exporter": "python",
   "pygments_lexer": "ipython3",
   "version": "3.11.1"
  },
  "orig_nbformat": 4,
  "vscode": {
   "interpreter": {
    "hash": "de47f5c92c0ee6f12a59a5613ac5feff6aab19ddff207ba0b3964cced08c4ccc"
   }
  }
 },
 "nbformat": 4,
 "nbformat_minor": 2
}
