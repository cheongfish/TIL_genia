{
 "cells": [
  {
   "cell_type": "markdown",
   "metadata": {},
   "source": [
    "# 문자열 처리\n"
   ]
  },
  {
   "cell_type": "markdown",
   "metadata": {},
   "source": [
    "## join , split\n",
    "* 문자열1.join('문자열1','문자열2') = 문자열 2와 3을 1을 구분자로 해서 합친다.\n",
    "* 문자열1.split('문자열1','문자열2') = 문자열 2와 3을 1을 구분자로 해서 나눈다."
   ]
  },
  {
   "cell_type": "code",
   "execution_count": 209,
   "metadata": {},
   "outputs": [
    {
     "data": {
      "text/plain": [
       "'hello world'"
      ]
     },
     "execution_count": 209,
     "metadata": {},
     "output_type": "execute_result"
    }
   ],
   "source": [
    "##예시 join\n",
    "' '.join(['hello' , 'world'])"
   ]
  },
  {
   "cell_type": "code",
   "execution_count": 210,
   "metadata": {},
   "outputs": [
    {
     "data": {
      "text/plain": [
       "['hello', 'world']"
      ]
     },
     "execution_count": 210,
     "metadata": {},
     "output_type": "execute_result"
    }
   ],
   "source": [
    "## 예시 split\n",
    "'hello world'.split( ' ')"
   ]
  },
  {
   "cell_type": "markdown",
   "metadata": {},
   "source": [
    "## strip, lstrip, rstrip, replace\n",
    "* 문자열.strip('문자열2') \n",
    "* 문자열.lstrip('문자열2') >> 왼쪽 문자열2 모두 제거 , 중간에 있으면 제거불가\n",
    "* 문자열.rstrip('문자열2') >> 오른쪽 문자열2 모두 제거 , 중간에 있으면 제거불가\n",
    "* 문자열.replace('기존문자', '새로운 문자') >> 문자열의 기존문자를 새로운 문자로 바꾼다."
   ]
  },
  {
   "cell_type": "markdown",
   "metadata": {},
   "source": [
    "*  실습\n",
    "\n",
    "* 아래 문자열 처리해보기\n",
    "* 주어진 문자열의 163번째 글자를 찾아보자\n",
    "* 주어진 문자열을 뒤에서 200번째까지의 글자를 표시해보자\n"
   ]
  },
  {
   "cell_type": "code",
   "execution_count": 211,
   "metadata": {},
   "outputs": [],
   "source": [
    "text ='''Lorem Ipsum is simply dummy text of the printing and typesetting industry. Lorem Ipsum has been the industry's standard dummy text ever since the 1500s, when an unknown printer took a galley of type and scrambled it to make a type specimen book. It has survived not only five centuries, but also the leap into electronic typesetting, remaining essentially unchanged. It was popularised in the 1960s with the release of Letraset sheets containing Lorem Ipsum passages, and more recently with desktop publishing software like Aldus PageMaker including versions of Lorem Ipsum.'''\n"
   ]
  },
  {
   "cell_type": "code",
   "execution_count": 212,
   "metadata": {},
   "outputs": [
    {
     "data": {
      "text/plain": [
       "'n'"
      ]
     },
     "execution_count": 212,
     "metadata": {},
     "output_type": "execute_result"
    }
   ],
   "source": [
    "text[162]"
   ]
  },
  {
   "cell_type": "code",
   "execution_count": 213,
   "metadata": {},
   "outputs": [
    {
     "data": {
      "text/plain": [
       "'y'"
      ]
     },
     "execution_count": 213,
     "metadata": {},
     "output_type": "execute_result"
    }
   ],
   "source": [
    "text1 = text.replace(' ','') ## 공백은 글자로 보지 않을때\n",
    "text1[162]"
   ]
  },
  {
   "cell_type": "code",
   "execution_count": 214,
   "metadata": {},
   "outputs": [
    {
     "data": {
      "text/plain": [
       "'popularised in the 1960s with the release of Letraset sheets containing Lorem Ipsum passages, and more recently with desktop publishing software like Aldus PageMaker including versions of Lorem Ipsum.'"
      ]
     },
     "execution_count": 214,
     "metadata": {},
     "output_type": "execute_result"
    }
   ],
   "source": [
    "text[-200:]"
   ]
  },
  {
   "cell_type": "code",
   "execution_count": 215,
   "metadata": {},
   "outputs": [
    {
     "data": {
      "text/plain": [
       "\".muspI meroL fo snoisrev gnidulcni rekaMegaP sudlA ekil erawtfos gnihsilbup potksed htiw yltnecer erom dna ,segassap muspI meroL gniniatnoc steehs tesarteL fo esaeler eht htiw s0691 eht ni desiralupop saw tI .degnahcnu yllaitnesse gniniamer ,gnittesepyt cinortcele otni pael eht osla tub ,seirutnec evif ylno ton devivrus sah tI .koob nemiceps epyt a ekam ot ti delbmarcs dna epyt fo yellag a koot retnirp nwonknu na nehw ,s0051 eht ecnis reve txet ymmud dradnats s'yrtsudni eht neeb sah muspI meroL .yrtsudni gnittesepyt dna gnitnirp eht fo txet ymmud ylpmis si muspI meroL\""
      ]
     },
     "execution_count": 215,
     "metadata": {},
     "output_type": "execute_result"
    }
   ],
   "source": [
    "text[::-1] ## 역순으로 정렬"
   ]
  },
  {
   "cell_type": "markdown",
   "metadata": {},
   "source": [
    "## 인덱싱, 슬라이싱\n",
    "* 인덱싱 : 대괄호[]를 적고, 그 안의 숫자에 해당하는 문자를 보여줍니다.\n",
    "* 슬라이싱: 대괄호[]를 적고, 그 안의 범위를 표시합니다.\n",
    "    * [시작할 숫자: 끝날숫자 +1]"
   ]
  },
  {
   "cell_type": "code",
   "execution_count": 216,
   "metadata": {},
   "outputs": [
    {
     "data": {
      "text/plain": [
       "\"Lorem Ipsum is simply dummy text of the printing and typesetting industry. Lorem Ipsum has been the industry's standard dummy text ever since the 1500s, when an unknown printer took a galley of type and scrambled it to make a type specimen book. It has survived not only five centuries, but also the leap into electronic typesetting, remaining essentially unchanged. It was popularised in the 1960s with the release of Letraset sheets containing Lorem Ipsum passages, and more recently with desktop publishing software like Aldus PageMaker including versions of Lorem Ipsum.\""
      ]
     },
     "execution_count": 216,
     "metadata": {},
     "output_type": "execute_result"
    }
   ],
   "source": [
    "text"
   ]
  },
  {
   "cell_type": "code",
   "execution_count": 217,
   "metadata": {},
   "outputs": [
    {
     "data": {
      "text/plain": [
       "' dummy tex'"
      ]
     },
     "execution_count": 217,
     "metadata": {},
     "output_type": "execute_result"
    }
   ],
   "source": [
    "text[21:31] ## 22~31번ㅉ 문자열"
   ]
  },
  {
   "cell_type": "code",
   "execution_count": 218,
   "metadata": {},
   "outputs": [
    {
     "data": {
      "text/plain": [
       "'Lorem Ipusm'"
      ]
     },
     "execution_count": 218,
     "metadata": {},
     "output_type": "execute_result"
    }
   ],
   "source": [
    "' '.join(['Lorem', 'Ipusm'])"
   ]
  },
  {
   "cell_type": "markdown",
   "metadata": {},
   "source": [
    "# 함수의 기본구조\n",
    "대상.함수이름(패러미터)\n",
    "    \n",
    "    * 위 정보를 이용하여 아래 두문장을 공백을 구분자로 해서 합쳐보자\n",
    "1. Lorem Ipsum is simply dummy text of the printing and typesetting industry.\n",
    "2. more recently with desktop publishing software like Aldus PageMaker"
   ]
  },
  {
   "cell_type": "code",
   "execution_count": 219,
   "metadata": {},
   "outputs": [],
   "source": [
    "string1 = 'Lorem Ipsum is simply dummy text of the printing and typesetting industry.'\n",
    "string2 = 'more recently with desktop publishing software like Aldus PageMaker'\n",
    "string3 =' '.join([string1, string2]) ## 공백을 구분자로 string1, string2 합치기"
   ]
  },
  {
   "cell_type": "code",
   "execution_count": 220,
   "metadata": {},
   "outputs": [
    {
     "data": {
      "text/plain": [
       "'Lorem Ipsum is simpLy dummy text of the printing and typesetting industry.'"
      ]
     },
     "execution_count": 220,
     "metadata": {},
     "output_type": "execute_result"
    }
   ],
   "source": [
    "string1.replace('l','L')\n"
   ]
  },
  {
   "cell_type": "code",
   "execution_count": 221,
   "metadata": {},
   "outputs": [
    {
     "data": {
      "text/plain": [
       "'more recentLy with desktop pubLishing software Like ALdus PageMaker'"
      ]
     },
     "execution_count": 221,
     "metadata": {},
     "output_type": "execute_result"
    }
   ],
   "source": [
    "string2.replace('l','L')\n"
   ]
  },
  {
   "cell_type": "code",
   "execution_count": 222,
   "metadata": {},
   "outputs": [
    {
     "data": {
      "text/plain": [
       "['Lorem',\n",
       " 'Ipsum',\n",
       " 'is',\n",
       " 'simply',\n",
       " 'dummy',\n",
       " 'text',\n",
       " 'of',\n",
       " 'the',\n",
       " 'printing',\n",
       " 'and',\n",
       " 'typesetting',\n",
       " 'industry.']"
      ]
     },
     "execution_count": 222,
     "metadata": {},
     "output_type": "execute_result"
    }
   ],
   "source": [
    "string1.split(' ')"
   ]
  },
  {
   "cell_type": "code",
   "execution_count": 223,
   "metadata": {},
   "outputs": [
    {
     "data": {
      "text/plain": [
       "['more',\n",
       " 'recently',\n",
       " 'with',\n",
       " 'desktop',\n",
       " 'publishing',\n",
       " 'software',\n",
       " 'like',\n",
       " 'Aldus',\n",
       " 'PageMaker']"
      ]
     },
     "execution_count": 223,
     "metadata": {},
     "output_type": "execute_result"
    }
   ],
   "source": [
    "string2.split(' ')"
   ]
  },
  {
   "cell_type": "markdown",
   "metadata": {},
   "source": [
    "## 실습 1\n",
    "* split() 함수 사용하기\n",
    "* Lorem Ipsum is simply dummy text of the printing and typesetting industry. Lorem Ipsum has been the industry's standard dummy text ever since the 1500s, when an unknown printer took a galley of type and scrambled it to make a type specimen book.\n",
    "\n",
    "* 위 문장을 뛰어쓰기를 기준으로 나누고, 나누어진 단어중 맨 앞과 맨 뒤 단어를 'o'를 기준으로 나눈다"
   ]
  },
  {
   "cell_type": "code",
   "execution_count": 224,
   "metadata": {},
   "outputs": [],
   "source": [
    "Newtext = '''Lorem Ipsum is simply dummy text of the printing and typesetting industry. Lorem Ipsum has been the industry's standard dummy text ever since the 1500s, when an unknown printer took a galley of type and scrambled it to make a type specimen book.'''\n",
    "Newtext1 =Newtext.split(' ') ## 문장을 공백기준으로 구분한 단어들을 Newtext1 변수에 저장"
   ]
  },
  {
   "cell_type": "code",
   "execution_count": 225,
   "metadata": {},
   "outputs": [],
   "source": [
    "Newtext1_start = Newtext1[0].split('o') ## 첫번째 단어를 'o'기준으로 나눔\n"
   ]
  },
  {
   "cell_type": "code",
   "execution_count": 226,
   "metadata": {},
   "outputs": [],
   "source": [
    "Newtext1_end = Newtext1[-1].split('o') ## 마지막 단어를 'o'기준으로 나눔"
   ]
  },
  {
   "cell_type": "code",
   "execution_count": 227,
   "metadata": {},
   "outputs": [],
   "source": [
    "Newtext1_1500 =Newtext.split('1500') ## Newtext를 '1500'을 기준으로 나누고 저장"
   ]
  },
  {
   "cell_type": "code",
   "execution_count": 228,
   "metadata": {},
   "outputs": [
    {
     "data": {
      "text/plain": [
       "\"em Ipsum is simply dummy text of the printing and typesetting industry. Lorem Ipsum has been the industry's standard dummy text ever since the \""
      ]
     },
     "execution_count": 228,
     "metadata": {},
     "output_type": "execute_result"
    }
   ],
   "source": [
    "Newtext1_1500[0].strip('Lbokr')\n"
   ]
  },
  {
   "cell_type": "code",
   "execution_count": 229,
   "metadata": {},
   "outputs": [
    {
     "data": {
      "text/plain": [
       "'hjfhdskj'"
      ]
     },
     "execution_count": 229,
     "metadata": {},
     "output_type": "execute_result"
    }
   ],
   "source": [
    "'sdhjfhdskjfs'.strip('sdfe')"
   ]
  },
  {
   "cell_type": "code",
   "execution_count": 230,
   "metadata": {},
   "outputs": [
    {
     "data": {
      "text/plain": [
       "'kjhfkjsdfhsj%_)_)_)_)_)_kjsdhfkjsdhf'"
      ]
     },
     "execution_count": 230,
     "metadata": {},
     "output_type": "execute_result"
    }
   ],
   "source": [
    "'sdkjhfkjsdfhsj%_)_)_)_)_)_kjsdhfkjsdhf'.strip('sd') # 중간에 다른게 있으면 작동중지"
   ]
  },
  {
   "cell_type": "code",
   "execution_count": 231,
   "metadata": {},
   "outputs": [
    {
     "data": {
      "text/plain": [
       "'kjhfkjfhsj%_)_)_)_)_)_kjhfkjhf'"
      ]
     },
     "execution_count": 231,
     "metadata": {},
     "output_type": "execute_result"
    }
   ],
   "source": [
    "'sdkjhfkjsdfhsj%_)_)_)_)_)_kjsdhfkjsdhf'.replace('sd','')  # 모두 제거하고 싶을때"
   ]
  },
  {
   "cell_type": "code",
   "execution_count": 232,
   "metadata": {},
   "outputs": [],
   "source": [
    "text = '''Lorem Ipsum is simply dummy text of the printing and typesetting industry. Lorem Ipsum has been the industry's standard dummy text ever since the 1500s, when an unknown printer took a galley of type and scrambled it to make a type specimen book.'''"
   ]
  },
  {
   "cell_type": "markdown",
   "metadata": {},
   "source": [
    "## 실습 2\n",
    "* text 문자열에서 'Lorem Ipusm'에 해당하는 문자들을 strip함수를 이용해서 지운다.\n",
    "* text 문자열에서 'Lorem Ipusm'에 해당하는 문자들을 왼쪽 끝부분만 지운다."
   ]
  },
  {
   "cell_type": "code",
   "execution_count": 233,
   "metadata": {},
   "outputs": [
    {
     "data": {
      "text/plain": [
       "\"is simply dummy text of the printing and typesetting industry. Lorem Ipsum has been the industry's standard dummy text ever since the 1500s, when an unknown printer took a galley of type and scrambled it to make a type specimen book.\""
      ]
     },
     "execution_count": 233,
     "metadata": {},
     "output_type": "execute_result"
    }
   ],
   "source": [
    "text1 = text.strip('Lorem Ipusm')\n",
    "text1"
   ]
  },
  {
   "cell_type": "code",
   "execution_count": 234,
   "metadata": {},
   "outputs": [
    {
     "data": {
      "text/plain": [
       "\"is simply dummy text of the printing and typesetting industry. Lorem Ipsum has been the industry's standard dummy text ever since the 1500s, when an unknown printer took a galley of type and scrambled it to make a type specimen book.\""
      ]
     },
     "execution_count": 234,
     "metadata": {},
     "output_type": "execute_result"
    }
   ],
   "source": [
    "text1 = text.lstrip('Lorem Ipusm')\n",
    "text1"
   ]
  },
  {
   "cell_type": "code",
   "execution_count": 235,
   "metadata": {},
   "outputs": [
    {
     "data": {
      "text/plain": [
       "\"is simply dummy text of the printing and typesetting industry. Lorem Ipsum has been the industry's standard dummy text ever since the 1500s, when an unknown printer took a galley of type and scrambled it to make a type specimen book.\""
      ]
     },
     "execution_count": 235,
     "metadata": {},
     "output_type": "execute_result"
    }
   ],
   "source": [
    "text2 = text1.replace('Lorem Ipusm','')\n",
    "text2"
   ]
  },
  {
   "cell_type": "markdown",
   "metadata": {},
   "source": [
    "# 계행문자(이스케이프 코드) \n",
    "1. \\n\n",
    "2. \\t\n",
    "3. print함수에서 작동\n",
    "* return vs print\n",
    "    return : 메모리에 올라가지만 출력은 되지 않음 , 변수에 집어넣을 수 있음 >> 변수를 통해서 활용\n",
    "    print: 변수에 넣을 수 없고 출력만 가능"
   ]
  },
  {
   "cell_type": "code",
   "execution_count": 236,
   "metadata": {},
   "outputs": [
    {
     "data": {
      "text/plain": [
       "'\\n'"
      ]
     },
     "execution_count": 236,
     "metadata": {},
     "output_type": "execute_result"
    }
   ],
   "source": [
    "'\\n'"
   ]
  },
  {
   "cell_type": "code",
   "execution_count": 237,
   "metadata": {},
   "outputs": [
    {
     "data": {
      "text/plain": [
       "'\\t'"
      ]
     },
     "execution_count": 237,
     "metadata": {},
     "output_type": "execute_result"
    }
   ],
   "source": [
    "'\\t'"
   ]
  },
  {
   "cell_type": "code",
   "execution_count": 238,
   "metadata": {},
   "outputs": [
    {
     "data": {
      "text/plain": [
       "'이스케이프 코드를 쓰면 \\n 이렇게 나옵니다'"
      ]
     },
     "execution_count": 238,
     "metadata": {},
     "output_type": "execute_result"
    }
   ],
   "source": [
    "'이스케이프 코드를 쓰면 \\n 이렇게 나옵니다'"
   ]
  },
  {
   "cell_type": "code",
   "execution_count": 239,
   "metadata": {},
   "outputs": [
    {
     "data": {
      "text/plain": [
       "'이스케이프 코드를 쓰면 \\t 이렇게 나옵니다'"
      ]
     },
     "execution_count": 239,
     "metadata": {},
     "output_type": "execute_result"
    }
   ],
   "source": [
    "'이스케이프 코드를 쓰면 \\t 이렇게 나옵니다'"
   ]
  },
  {
   "cell_type": "code",
   "execution_count": 240,
   "metadata": {},
   "outputs": [
    {
     "name": "stdout",
     "output_type": "stream",
     "text": [
      "이스케이프 코드를 쓰면 \n",
      " 이렇게 나옵니다\n"
     ]
    }
   ],
   "source": [
    "print('이스케이프 코드를 쓰면 \\n 이렇게 나옵니다')"
   ]
  },
  {
   "cell_type": "code",
   "execution_count": 241,
   "metadata": {},
   "outputs": [
    {
     "name": "stdout",
     "output_type": "stream",
     "text": [
      "이스케이프 코드를 쓰면 \t 이렇게 나옵니다\n"
     ]
    }
   ],
   "source": [
    "print('이스케이프 코드를 쓰면 \\t 이렇게 나옵니다')"
   ]
  },
  {
   "cell_type": "code",
   "execution_count": 242,
   "metadata": {},
   "outputs": [
    {
     "name": "stdout",
     "output_type": "stream",
     "text": [
      "이스케이프 코드를 쓰면 ' 이렇게 나옵니다\n"
     ]
    }
   ],
   "source": [
    "print('이스케이프 코드를 쓰면 \\' 이렇게 나옵니다') ## 특수기호 무시"
   ]
  },
  {
   "cell_type": "code",
   "execution_count": 243,
   "metadata": {},
   "outputs": [
    {
     "data": {
      "text/plain": [
       "'리턴값'"
      ]
     },
     "execution_count": 243,
     "metadata": {},
     "output_type": "execute_result"
    }
   ],
   "source": [
    "x = '리턴값'\n",
    "x"
   ]
  },
  {
   "cell_type": "code",
   "execution_count": 244,
   "metadata": {},
   "outputs": [
    {
     "name": "stdout",
     "output_type": "stream",
     "text": [
      "출력값\n"
     ]
    }
   ],
   "source": [
    "x = print('출력값')\n",
    "x"
   ]
  },
  {
   "cell_type": "code",
   "execution_count": 245,
   "metadata": {},
   "outputs": [
    {
     "name": "stdout",
     "output_type": "stream",
     "text": [
      "a\t a \t a\n"
     ]
    }
   ],
   "source": [
    "print('a\\t a \\t a')"
   ]
  },
  {
   "cell_type": "code",
   "execution_count": 246,
   "metadata": {},
   "outputs": [
    {
     "data": {
      "text/plain": [
       "'aaa'"
      ]
     },
     "execution_count": 246,
     "metadata": {},
     "output_type": "execute_result"
    }
   ],
   "source": [
    "('''a\n",
    "a\n",
    "a''').replace('\\n','')"
   ]
  },
  {
   "cell_type": "markdown",
   "metadata": {},
   "source": [
    "## 문자(%s),숫자(%d), 소수점(%.f) format\n",
    "* '%s 입니다.' %(변수명)"
   ]
  },
  {
   "cell_type": "code",
   "execution_count": 247,
   "metadata": {},
   "outputs": [],
   "source": [
    "x = 456"
   ]
  },
  {
   "cell_type": "code",
   "execution_count": 248,
   "metadata": {},
   "outputs": [
    {
     "name": "stdout",
     "output_type": "stream",
     "text": [
      "x의 값은  456 입니다.\n"
     ]
    }
   ],
   "source": [
    "print('x의 값은 ',x, '입니다.')"
   ]
  },
  {
   "cell_type": "code",
   "execution_count": 249,
   "metadata": {},
   "outputs": [
    {
     "name": "stdout",
     "output_type": "stream",
     "text": [
      "x의 값은 456입니다.\n"
     ]
    }
   ],
   "source": [
    "print('x의 값은 %d입니다.' %x)"
   ]
  },
  {
   "cell_type": "code",
   "execution_count": 250,
   "metadata": {},
   "outputs": [],
   "source": [
    "x = '문자'"
   ]
  },
  {
   "cell_type": "code",
   "execution_count": 251,
   "metadata": {},
   "outputs": [
    {
     "name": "stdout",
     "output_type": "stream",
     "text": [
      "x의 값은 문자입니다.\n"
     ]
    }
   ],
   "source": [
    "print('x의 값은 %s입니다.' %x)"
   ]
  },
  {
   "cell_type": "code",
   "execution_count": 252,
   "metadata": {},
   "outputs": [],
   "source": [
    "x = 456.123"
   ]
  },
  {
   "cell_type": "code",
   "execution_count": 253,
   "metadata": {},
   "outputs": [
    {
     "name": "stdout",
     "output_type": "stream",
     "text": [
      "x의 값은 456.123입니다\n"
     ]
    }
   ],
   "source": [
    "print('x의 값은 %.3f입니다' %x)"
   ]
  },
  {
   "cell_type": "code",
   "execution_count": 254,
   "metadata": {},
   "outputs": [
    {
     "name": "stdout",
     "output_type": "stream",
     "text": [
      "x는 456이고, y는 hello입니다.\n"
     ]
    }
   ],
   "source": [
    "x = 456\n",
    "y = 'hello'\n",
    "print('x는 %d이고, y는 %s입니다.'%(x,y))"
   ]
  },
  {
   "cell_type": "markdown",
   "metadata": {},
   "source": [
    "## f'string\n",
    "* 문자열, 숫자, 리스트 표현 가능\n",
    "* 소수점 자리 표시할땐 자리수 제한이 있기 때문에 %f.을 사용하는게 더 좋음"
   ]
  },
  {
   "cell_type": "code",
   "execution_count": 255,
   "metadata": {},
   "outputs": [
    {
     "data": {
      "text/plain": [
       "'x의 값은 456입니다.'"
      ]
     },
     "execution_count": 255,
     "metadata": {},
     "output_type": "execute_result"
    }
   ],
   "source": [
    "x = 456\n",
    "f'x의 값은 {x}입니다.'"
   ]
  },
  {
   "cell_type": "code",
   "execution_count": 256,
   "metadata": {},
   "outputs": [
    {
     "data": {
      "text/plain": [
       "'x의 값은 문자입니다.'"
      ]
     },
     "execution_count": 256,
     "metadata": {},
     "output_type": "execute_result"
    }
   ],
   "source": [
    "x = '문자'\n",
    "f'x의 값은 {x}입니다.'"
   ]
  },
  {
   "cell_type": "code",
   "execution_count": 257,
   "metadata": {},
   "outputs": [
    {
     "data": {
      "text/plain": [
       "'x의 값은 [12, 3, 4, 5, 6, 7]입니다.'"
      ]
     },
     "execution_count": 257,
     "metadata": {},
     "output_type": "execute_result"
    }
   ],
   "source": [
    "x = [12,3,4,5,6,7]\n",
    "f'x의 값은 {x}입니다.'"
   ]
  },
  {
   "cell_type": "code",
   "execution_count": 258,
   "metadata": {},
   "outputs": [
    {
     "name": "stdout",
     "output_type": "stream",
     "text": [
      "x는 456이고, y는 hello입니다.\n"
     ]
    }
   ],
   "source": [
    "x = 456\n",
    "y = 'hello'\n",
    "print(f'x는 {x}이고, y는 {y}입니다.')"
   ]
  },
  {
   "cell_type": "markdown",
   "metadata": {},
   "source": [
    "---\n",
    "## 실습\n"
   ]
  },
  {
   "cell_type": "code",
   "execution_count": 259,
   "metadata": {},
   "outputs": [
    {
     "data": {
      "text/plain": [
       "'오늘은 문자열을 배웠고, 그 지식을 이용해 문자열을 수정을 해 봅시다 '"
      ]
     },
     "execution_count": 259,
     "metadata": {},
     "output_type": "execute_result"
    }
   ],
   "source": [
    "text= '오늘은\\t문자열을\\t배웠고,\\t그\\t지식을\\t이용해\\t문자열을\\t수정을\\t해\\t봅시다\\n'\n",
    "text1 = text.replace('\\t', ' ')\n",
    "text2 = text1.replace('\\n', ' ')\n",
    "text2"
   ]
  },
  {
   "cell_type": "code",
   "execution_count": 260,
   "metadata": {},
   "outputs": [
    {
     "data": {
      "text/plain": [
       "'오늘은\\t%문자열을\\t%배웠고,\\t%그\\t%지식을\\t%이용해\\t%문자열을\\t%수정을\\t%해\\t%봅시다\\n%'"
      ]
     },
     "execution_count": 260,
     "metadata": {},
     "output_type": "execute_result"
    }
   ],
   "source": [
    "text= '오늘은\\t문자열을\\t배웠고,\\t그\\t지식을\\t이용해\\t문자열을\\t수정을\\t해\\t봅시다\\n'\n",
    "text1 = text.replace('\\t', '\\t%')\n",
    "text2 = text1.replace('\\n' ,'\\n%')\n",
    "text2"
   ]
  },
  {
   "cell_type": "code",
   "execution_count": 261,
   "metadata": {},
   "outputs": [
    {
     "name": "stdout",
     "output_type": "stream",
     "text": [
      "오늘은\t문자열을\t배웠고 \n",
      " \t그\t지식을\t이용해\t문자열을\t수정을\t해\t봅시다\n",
      "\n",
      "오늘은\t문자열을\t배웠고 \n",
      " \t그\t지식을\t이용해\t문자열을\t수정을\t해\t봅시다\n",
      "\n"
     ]
    }
   ],
   "source": [
    "text1 = text.split(',')\n",
    "print(f'{text1[0]} \\n {text1[1]}') \n",
    "print('%s \\n %s' %(text1[0], text1[1]))"
   ]
  },
  {
   "cell_type": "code",
   "execution_count": 262,
   "metadata": {},
   "outputs": [
    {
     "name": "stdout",
     "output_type": "stream",
     "text": [
      "오늘은\t문자열을\t배웠고\n",
      "\t그\t지식을\t이용해\t문자열을\t수정을\t해\t봅시다\n",
      "\n"
     ]
    }
   ],
   "source": [
    "print(text.replace(',', '\\n'))"
   ]
  },
  {
   "cell_type": "code",
   "execution_count": 269,
   "metadata": {},
   "outputs": [
    {
     "name": "stdout",
     "output_type": "stream",
     "text": [
      "안녕\n"
     ]
    }
   ],
   "source": [
    "print('안',end='')\n",
    "print('녕')"
   ]
  },
  {
   "cell_type": "markdown",
   "metadata": {},
   "source": [
    "# 반복문 (for)\n"
   ]
  },
  {
   "cell_type": "code",
   "execution_count": 2,
   "metadata": {},
   "outputs": [
    {
     "name": "stdout",
     "output_type": "stream",
     "text": [
      "hello\n",
      "hello\n",
      "hello\n",
      "hello\n",
      "hello\n",
      "hello\n",
      "hello\n",
      "hello\n",
      "hello\n",
      "hello\n",
      "world\n"
     ]
    }
   ],
   "source": [
    "for i in range(10): # range(시작할 숫자, 끝날숫자 +1) i가 오른쪽 범위를 하나하나 할당해가며 반복함\n",
    "    print('hello')\n",
    "print('world') ## for문에 영향받지 않음 변수를 통해 순회하므로 연산 가능"
   ]
  },
  {
   "cell_type": "code",
   "execution_count": null,
   "metadata": {},
   "outputs": [
    {
     "name": "stdout",
     "output_type": "stream",
     "text": [
      "4 5\n",
      "6 9\n"
     ]
    }
   ],
   "source": [
    "for i,j in [(4,5),(6,9)]:  ##  여러개 변수 지정 가능 , 값들도 짝을 지어야 함\n",
    "    print(i, j)"
   ]
  },
  {
   "cell_type": "markdown",
   "metadata": {},
   "source": [
    "## range함수\n",
    "* (1,10,2) step옵션을 줄 수 있음 \n",
    "* step 인자에 -1을 넣어 역순으로 순회 할 수 있음\n"
   ]
  },
  {
   "cell_type": "code",
   "execution_count": 280,
   "metadata": {},
   "outputs": [
    {
     "data": {
      "text/plain": [
       "[0, 1, 2, 3, 4, 5, 6, 7, 8, 9]"
      ]
     },
     "execution_count": 280,
     "metadata": {},
     "output_type": "execute_result"
    }
   ],
   "source": [
    "list(range(10)) "
   ]
  },
  {
   "cell_type": "code",
   "execution_count": 293,
   "metadata": {},
   "outputs": [
    {
     "name": "stdout",
     "output_type": "stream",
     "text": [
      "2\n",
      "4\n",
      "6\n",
      "8\n",
      "10\n",
      "12\n",
      "14\n",
      "16\n",
      "18\n",
      "20\n"
     ]
    }
   ],
   "source": [
    "for i in range(2,21,2):\n",
    "    print(i)"
   ]
  },
  {
   "cell_type": "code",
   "execution_count": 281,
   "metadata": {},
   "outputs": [
    {
     "name": "stdout",
     "output_type": "stream",
     "text": [
      "0\n",
      "1\n",
      "2\n",
      "3\n",
      "4\n",
      "5\n",
      "6\n",
      "7\n",
      "8\n",
      "9\n"
     ]
    }
   ],
   "source": [
    "for i in range(10):\n",
    "    print(i)"
   ]
  },
  {
   "cell_type": "code",
   "execution_count": 282,
   "metadata": {},
   "outputs": [
    {
     "name": "stdout",
     "output_type": "stream",
     "text": [
      "0\n",
      "1\n",
      "2\n",
      "3\n",
      "4\n",
      "5\n",
      "6\n",
      "7\n",
      "8\n",
      "9\n"
     ]
    }
   ],
   "source": [
    "for i in [0,1,2,3,4,5,6,7,8,9]:\n",
    "    print(i)"
   ]
  },
  {
   "cell_type": "code",
   "execution_count": 283,
   "metadata": {},
   "outputs": [
    {
     "name": "stdout",
     "output_type": "stream",
     "text": [
      "0\n",
      "1\n",
      "2\n",
      "3\n",
      "4\n",
      "5\n",
      "6\n",
      "7\n",
      "8\n",
      "9\n"
     ]
    }
   ],
   "source": [
    "for i in {0,1,2,3,4,5,6,7,8,9}:  ##set 동작함\n",
    "    print(i)"
   ]
  },
  {
   "cell_type": "code",
   "execution_count": 284,
   "metadata": {},
   "outputs": [
    {
     "name": "stdout",
     "output_type": "stream",
     "text": [
      "0\n",
      "1\n",
      "2\n",
      "3\n",
      "4\n",
      "5\n",
      "6\n",
      "7\n",
      "8\n",
      "9\n"
     ]
    }
   ],
   "source": [
    "for i in (0,1,2,3,4,5,6,7,8,9):  ##tuple 동작함\n",
    "    print(i)"
   ]
  },
  {
   "cell_type": "code",
   "execution_count": 285,
   "metadata": {},
   "outputs": [
    {
     "name": "stdout",
     "output_type": "stream",
     "text": [
      "0\n",
      "1\n",
      "2\n",
      "3\n",
      "4\n",
      "5\n",
      "6\n",
      "7\n",
      "8\n",
      "9\n"
     ]
    }
   ],
   "source": [
    "for i in '0123456789':  ##문자 동작함\n",
    "    print(i)"
   ]
  },
  {
   "cell_type": "code",
   "execution_count": 287,
   "metadata": {},
   "outputs": [
    {
     "name": "stdout",
     "output_type": "stream",
     "text": [
      "a\n",
      "b\n",
      "c\n"
     ]
    }
   ],
   "source": [
    "for i in ['a','b','c']:  ##[문자열] 동작함\n",
    "    print(i)"
   ]
  },
  {
   "cell_type": "code",
   "execution_count": 334,
   "metadata": {},
   "outputs": [
    {
     "name": "stdout",
     "output_type": "stream",
     "text": [
      "[10, 9, 8, 7, 6, 5, 4, 3, 2, 1]\n",
      "[10, 8, 6, 4, 2]\n",
      "[10, 7, 4, 1]\n"
     ]
    }
   ],
   "source": [
    "print(list(range(10,0,-1)))\n",
    "print(list(range(10,0,-2)))\n",
    "print(list(range(10,0,-3)))\n"
   ]
  },
  {
   "cell_type": "markdown",
   "metadata": {},
   "source": [
    "### 실습 1\n",
    "* for문을 이용하여 아래와 같은 문장을 출력해보자\n",
    "* print함수는 단 하나만 사용한다\n",
    "\n",
    "반복문을 이용하면<br>\n",
    "여러줄의 출력도<br>\n",
    "하나의 프린트문으로 출력할 수<br>\n",
    "있습니다"
   ]
  },
  {
   "cell_type": "code",
   "execution_count": 288,
   "metadata": {},
   "outputs": [
    {
     "name": "stdout",
     "output_type": "stream",
     "text": [
      "반복문을 이용하면\n",
      "여러줄의 출력도\n",
      "하나의 프린트문으로 출력할 수\n",
      "있습니다\n"
     ]
    }
   ],
   "source": [
    "for i in ['반복문을 이용하면','여러줄의 출력도','하나의 프린트문으로 출력할 수','있습니다']:\n",
    "    print(i, end = '\\n') # 계행 문자 없이 출력 가능"
   ]
  },
  {
   "cell_type": "markdown",
   "metadata": {},
   "source": [
    "* 4의 배수 출력해보기 범위(1~99)"
   ]
  },
  {
   "cell_type": "code",
   "execution_count": 302,
   "metadata": {},
   "outputs": [
    {
     "name": "stdout",
     "output_type": "stream",
     "text": [
      "4\n",
      "8\n",
      "12\n",
      "16\n",
      "20\n",
      "24\n",
      "28\n",
      "32\n",
      "36\n",
      "40\n",
      "44\n",
      "48\n",
      "52\n",
      "56\n",
      "60\n",
      "64\n",
      "68\n",
      "72\n",
      "76\n",
      "80\n",
      "84\n",
      "88\n",
      "92\n",
      "96\n"
     ]
    }
   ],
   "source": [
    "for i in range(4,100,4):\n",
    "    print(i)"
   ]
  },
  {
   "cell_type": "code",
   "execution_count": 303,
   "metadata": {},
   "outputs": [
    {
     "name": "stdout",
     "output_type": "stream",
     "text": [
      "4\n",
      "8\n",
      "12\n",
      "16\n",
      "20\n",
      "24\n",
      "28\n",
      "32\n",
      "36\n",
      "40\n",
      "44\n",
      "48\n",
      "52\n",
      "56\n",
      "60\n",
      "64\n",
      "68\n",
      "72\n",
      "76\n",
      "80\n",
      "84\n",
      "88\n",
      "92\n",
      "96\n"
     ]
    }
   ],
   "source": [
    "for i in range(1,25):\n",
    "    print(i*4)"
   ]
  },
  {
   "cell_type": "code",
   "execution_count": 313,
   "metadata": {},
   "outputs": [
    {
     "name": "stdout",
     "output_type": "stream",
     "text": [
      "★★★★☆\n",
      "★★★☆☆\n",
      "★★☆☆☆\n",
      "★☆☆☆☆\n",
      "☆☆☆☆☆\n"
     ]
    }
   ],
   "source": [
    "black =4\n",
    "white = 1\n",
    "for i in range(5):\n",
    "    print('★' * black, end = '')\n",
    "    print( '☆' * white)\n",
    "    black -=1\n",
    "    white +=1"
   ]
  },
  {
   "cell_type": "code",
   "execution_count": 316,
   "metadata": {},
   "outputs": [
    {
     "name": "stdout",
     "output_type": "stream",
     "text": [
      "2는 짝수\n",
      "6는 짝수\n",
      "8는 짝수\n",
      "9는 홀수\n",
      "1는 홀수\n",
      "0는 짝수\n"
     ]
    }
   ],
   "source": [
    "for i in [2,6,8,9,1,0]:\n",
    "    if i%2 == 0:\n",
    "        print(f'{i}는 짝수')\n",
    "    else:\n",
    "        print(f'{i}는 홀수')"
   ]
  },
  {
   "cell_type": "markdown",
   "metadata": {},
   "source": [
    "### 실습 2 (재귀함수)\n",
    "* 반복문을 이용하여 팩토리얼 연산을 하는 프로그램 만들기\n",
    "* 팩토리얼(!) : N*(N-1)*(N-2)...1 의 값"
   ]
  },
  {
   "cell_type": "code",
   "execution_count": 320,
   "metadata": {},
   "outputs": [
    {
     "name": "stdout",
     "output_type": "stream",
     "text": [
      "6\n"
     ]
    }
   ],
   "source": [
    "a= int(input())\n",
    "result = 1\n",
    "for i in range(1,a+1):\n",
    "    result *= i\n",
    "print(result)\n"
   ]
  },
  {
   "cell_type": "code",
   "execution_count": 326,
   "metadata": {},
   "outputs": [
    {
     "name": "stdout",
     "output_type": "stream",
     "text": [
      "1\n",
      "1 * 2 = 2\n",
      "2 * 3 = 6\n",
      "6 * 4 = 24\n",
      "24 * 5 = 120\n",
      "120 * 6 = 720\n",
      "720\n"
     ]
    }
   ],
   "source": [
    "a= int(input())\n",
    "result = 1\n",
    "print(1)\n",
    "string1 = ''\n",
    "for i in range(2,a+1):\n",
    "    print(f'{result} * {i} = {result * i}')\n",
    "    result *= i\n",
    "print(result)"
   ]
  },
  {
   "cell_type": "code",
   "execution_count": 13,
   "metadata": {},
   "outputs": [
    {
     "data": {
      "text/plain": [
       "'6*5*4*3*2*1 = 720'"
      ]
     },
     "execution_count": 13,
     "metadata": {},
     "output_type": "execute_result"
    }
   ],
   "source": [
    "a= int(input())\n",
    "result = 1\n",
    "string1 = ''\n",
    "for i in range(a,1,-1):\n",
    "    string1 +=str(i)\n",
    "    string1 +='*'\n",
    "    result *= i\n",
    "    \n",
    "string1 += '1 = '\n",
    "string1 += str(result)\n",
    "string1"
   ]
  },
  {
   "cell_type": "markdown",
   "metadata": {},
   "source": [
    "### 실습 3\n",
    "* 10,9.5,9,8.5,8..0 순으로 출력되도록 반복문을 구성해보자"
   ]
  },
  {
   "cell_type": "code",
   "execution_count": 338,
   "metadata": {},
   "outputs": [
    {
     "name": "stdout",
     "output_type": "stream",
     "text": [
      "10.0\n",
      "9.5\n",
      "9.0\n",
      "8.5\n",
      "8.0\n",
      "7.5\n",
      "7.0\n",
      "6.5\n",
      "6.0\n",
      "5.5\n",
      "5.0\n",
      "4.5\n",
      "4.0\n",
      "3.5\n",
      "3.0\n",
      "2.5\n",
      "2.0\n",
      "1.5\n",
      "1.0\n",
      "0.5\n",
      "0.0\n"
     ]
    }
   ],
   "source": [
    "for i in range(100,-1,-5):\n",
    "    print(i/10)"
   ]
  },
  {
   "cell_type": "markdown",
   "metadata": {},
   "source": [
    "### 실습 4\n",
    "* 위 코드를 참고하여 지정된 범위의 짝수와 홀수를 출력하는 프로그램을 만들어본다.\n",
    "* 변수 두개를 사용하는 반복문을 필수로 사용해야 한다\n",
    "* 예시<br>\n",
    "1,2<br>\n",
    "3,4<br>\n",
    "5,6<br>\n",
    "7,8<br>\n",
    "\n"
   ]
  },
  {
   "cell_type": "code",
   "execution_count": 3,
   "metadata": {},
   "outputs": [
    {
     "name": "stdout",
     "output_type": "stream",
     "text": [
      "1 2\n",
      "3 4\n",
      "5 6\n",
      "7 8\n",
      "9 10\n",
      "11 12\n",
      "13 14\n",
      "15 16\n",
      "17 18\n",
      "19 20\n",
      "21 22\n",
      "23 24\n"
     ]
    }
   ],
   "source": [
    "list1 = []\n",
    "for i in range(1,25,2):\n",
    "    list1 += [(i,i+1)]\n",
    "\n",
    "for i,j in list1:\n",
    "    print(i,j)\n",
    "\n",
    "    \n",
    "\n",
    "    "
   ]
  },
  {
   "cell_type": "markdown",
   "metadata": {},
   "source": [
    "# 조건문 if\n",
    "* if 조건 (True인지 False인지 판별하는 것)<br>\n",
    ": 실행할 코드 \n",
    "* 조건은 True / False로만 표현되야함\n",
    "* False가 아니라면 if문은 동작함"
   ]
  },
  {
   "cell_type": "code",
   "execution_count": 365,
   "metadata": {},
   "outputs": [],
   "source": [
    "x= 13"
   ]
  },
  {
   "cell_type": "code",
   "execution_count": 366,
   "metadata": {},
   "outputs": [
    {
     "name": "stdout",
     "output_type": "stream",
     "text": [
      "정답\n"
     ]
    }
   ],
   "source": [
    "if x== 13:\n",
    "    print('정답')"
   ]
  },
  {
   "cell_type": "code",
   "execution_count": 364,
   "metadata": {},
   "outputs": [
    {
     "name": "stdout",
     "output_type": "stream",
     "text": [
      "코드가 실행되었습니다\n"
     ]
    }
   ],
   "source": [
    "if True:\n",
    "    print('코드가 실행되었습니다')"
   ]
  },
  {
   "cell_type": "code",
   "execution_count": 368,
   "metadata": {},
   "outputs": [
    {
     "name": "stdout",
     "output_type": "stream",
     "text": [
      "코드가 실행되었습니다.\n"
     ]
    }
   ],
   "source": [
    "if 654:\n",
    "    print('코드가 실행되었습니다.')"
   ]
  },
  {
   "cell_type": "markdown",
   "metadata": {},
   "source": [
    "## 실습 1 <br>\n",
    "* 1~100 사이 숫자에서 3으로 나누었을때 나머지가 0인 숫자만 출력하는 프로그램 만들기\n",
    "* 단 for, if문을 모두 사용해야 한다."
   ]
  },
  {
   "cell_type": "code",
   "execution_count": 390,
   "metadata": {},
   "outputs": [
    {
     "name": "stdout",
     "output_type": "stream",
     "text": [
      "6\n",
      "12\n",
      "18\n",
      "24\n",
      "30\n",
      "36\n",
      "42\n",
      "48\n",
      "54\n",
      "60\n",
      "66\n",
      "72\n",
      "78\n",
      "84\n",
      "90\n",
      "96\n"
     ]
    }
   ],
   "source": [
    "list1 = []\n",
    "for i in range(1,101):\n",
    "    if i %3 ==0:\n",
    "        if i%2 !=0:\n",
    "            continue\n",
    "        print(i)\n",
    "            "
   ]
  },
  {
   "cell_type": "code",
   "execution_count": 383,
   "metadata": {},
   "outputs": [
    {
     "name": "stdout",
     "output_type": "stream",
     "text": [
      "1\n",
      "2\n",
      "3\n",
      "4\n",
      "5\n",
      "6\n",
      "7\n",
      "8\n",
      "9\n",
      "10\n",
      "11\n",
      "12\n",
      "13\n",
      "14\n",
      "15\n",
      "16\n",
      "17\n",
      "18\n",
      "19\n",
      "20\n",
      "21\n",
      "22\n",
      "23\n",
      "24\n",
      "25\n",
      "26\n",
      "27\n",
      "28\n",
      "29\n",
      "30\n",
      "31\n",
      "32\n",
      "33\n",
      "34\n",
      "35\n",
      "36\n",
      "37\n",
      "38\n",
      "39\n",
      "40\n",
      "41\n",
      "42\n",
      "43\n",
      "44\n",
      "45\n",
      "46\n",
      "47\n",
      "48\n",
      "49\n",
      "50\n",
      "51\n",
      "52\n",
      "53\n",
      "54\n",
      "55\n",
      "56\n",
      "57\n",
      "58\n",
      "59\n",
      "60\n",
      "61\n",
      "62\n",
      "63\n",
      "64\n",
      "65\n",
      "66\n",
      "67\n",
      "68\n",
      "69\n"
     ]
    }
   ],
   "source": [
    "for i in range(1,101):\n",
    "    if i==70:\n",
    "        break\n",
    "    print(i)"
   ]
  },
  {
   "cell_type": "markdown",
   "metadata": {},
   "source": [
    "## 실습 2\n",
    "* 주어진 코드를 참조해서 아래 반복문을 수정해보자\n",
    "* 문자열인 경우 그냥 출력하고, 숫자인 경우 10을 곱해 출력한다."
   ]
  },
  {
   "cell_type": "code",
   "execution_count": 385,
   "metadata": {},
   "outputs": [
    {
     "data": {
      "text/plain": [
       "True"
      ]
     },
     "execution_count": 385,
     "metadata": {},
     "output_type": "execute_result"
    }
   ],
   "source": [
    "type(10) == int"
   ]
  },
  {
   "cell_type": "code",
   "execution_count": 392,
   "metadata": {},
   "outputs": [
    {
     "name": "stdout",
     "output_type": "stream",
     "text": [
      "10\n",
      "9\n",
      "8\n",
      "7\n",
      "6\n",
      "5\n",
      "4\n",
      "3\n",
      "2\n"
     ]
    }
   ],
   "source": [
    "for i in ['10','9','8','7','6','5','4','3','2',1]:\n",
    "    if type(i) == str:\n",
    "        print(i)\n",
    "    if type(i) == int:\n",
    "        print(10*i)"
   ]
  },
  {
   "cell_type": "code",
   "execution_count": 393,
   "metadata": {},
   "outputs": [
    {
     "name": "stdout",
     "output_type": "stream",
     "text": [
      "999 500초과입니다\n"
     ]
    }
   ],
   "source": [
    "x = 999\n",
    "if x> 500:\n",
    "    print(x, '는 500초과입니다')\n"
   ]
  },
  {
   "cell_type": "code",
   "execution_count": 394,
   "metadata": {},
   "outputs": [
    {
     "name": "stdout",
     "output_type": "stream",
     "text": [
      "450 500이하입니다\n"
     ]
    }
   ],
   "source": [
    "x = 450\n",
    "if x> 500:\n",
    "    print(x, '500초과입니다')\n",
    "else:\n",
    "    print(x, '500이하입니다')    "
   ]
  },
  {
   "cell_type": "code",
   "execution_count": 395,
   "metadata": {},
   "outputs": [
    {
     "name": "stdout",
     "output_type": "stream",
     "text": [
      "450 는 301~500입니다\n"
     ]
    }
   ],
   "source": [
    "x = 450\n",
    "if x> 500:\n",
    "    print(x, '는 500초과입니다')\n",
    "elif x>300:\n",
    "    print(x, '는 301~500입니다')\n",
    "    \n",
    "else:\n",
    "    print(x, '는 300이하입니다')    "
   ]
  }
 ],
 "metadata": {
  "kernelspec": {
   "display_name": "Python 3.11.0 64-bit",
   "language": "python",
   "name": "python3"
  },
  "language_info": {
   "codemirror_mode": {
    "name": "ipython",
    "version": 3
   },
   "file_extension": ".py",
   "mimetype": "text/x-python",
   "name": "python",
   "nbconvert_exporter": "python",
   "pygments_lexer": "ipython3",
   "version": "3.11.0"
  },
  "orig_nbformat": 4,
  "vscode": {
   "interpreter": {
    "hash": "de47f5c92c0ee6f12a59a5613ac5feff6aab19ddff207ba0b3964cced08c4ccc"
   }
  }
 },
 "nbformat": 4,
 "nbformat_minor": 2
}
