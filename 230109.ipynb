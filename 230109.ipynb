{
 "cells": [
  {
   "cell_type": "markdown",
   "metadata": {},
   "source": [
    "# 넘파이 패키지 이용하기\n",
    "* 배열 또는 백터 계산을 위한 패키지\n",
    "* ndarray 자료형을 이용\n",
    "\n",
    "* 배열 생성: arr:np.random.randin(5,8)\n",
    "* 배열 연산 : 일반 연산자 이용 >> 파이썬 리스트 보다 연산속도가 압도적으로 빠름, 빅데이터 다룰때 사용함\n",
    "* 단 , 행렬곱은 *(성분곱) 대신 arr.dot(arr2)이용\n"
   ]
  },
  {
   "cell_type": "markdown",
   "metadata": {},
   "source": [
    "## 넘파이 인덱싱, 슬라이싱\n",
    "\n",
    "* arr변수에 array([1,2,3,6,5,4])가 있다고 가정할 때, <br>\n",
    "arr[-2] == array([5]) <br>\n",
    "arr[3:] == array([6,5,4]) <br>\n",
    "* 리스트 형태의 인덱싱과 슬라이싱이 가능\n",
    "* array([1,2,3],[4,5,6],[7,8,9]) 이중 리스트 가능"
   ]
  },
  {
   "cell_type": "markdown",
   "metadata": {},
   "source": [
    "## 넘파이 파일 처리\n",
    "* np.save('filename,npy, arr) <br>\n",
    "arr = np.load('filename.npy) \n",
    "* 저장된 파일은 바이너리 형식이므로,(0,1로 표현) <br>\n",
    "판다스의 csv 등의 테이블 파일 저장에 비해 경제적 (용량, 속도 빠름)"
   ]
  },
  {
   "cell_type": "code",
   "execution_count": 3,
   "metadata": {},
   "outputs": [],
   "source": [
    "import numpy as np\n",
    "arr = np.array([1,2,3])"
   ]
  },
  {
   "cell_type": "code",
   "execution_count": 10,
   "metadata": {},
   "outputs": [
    {
     "data": {
      "text/plain": [
       "array([1, 2, 3])"
      ]
     },
     "execution_count": 10,
     "metadata": {},
     "output_type": "execute_result"
    }
   ],
   "source": [
    "arr"
   ]
  },
  {
   "cell_type": "code",
   "execution_count": 11,
   "metadata": {},
   "outputs": [
    {
     "data": {
      "text/plain": [
       "3"
      ]
     },
     "execution_count": 11,
     "metadata": {},
     "output_type": "execute_result"
    }
   ],
   "source": [
    "arr[-1]"
   ]
  },
  {
   "cell_type": "code",
   "execution_count": 12,
   "metadata": {},
   "outputs": [
    {
     "data": {
      "text/plain": [
       "array([2, 3])"
      ]
     },
     "execution_count": 12,
     "metadata": {},
     "output_type": "execute_result"
    }
   ],
   "source": [
    "arr[1:]"
   ]
  },
  {
   "cell_type": "code",
   "execution_count": 15,
   "metadata": {},
   "outputs": [],
   "source": [
    "arr2 = np.array([4,5,6])"
   ]
  },
  {
   "cell_type": "code",
   "execution_count": 16,
   "metadata": {},
   "outputs": [
    {
     "data": {
      "text/plain": [
       "array([5, 7, 9])"
      ]
     },
     "execution_count": 16,
     "metadata": {},
     "output_type": "execute_result"
    }
   ],
   "source": [
    "arr + arr2  # 배열의 연산 (행렬연산)"
   ]
  },
  {
   "cell_type": "code",
   "execution_count": 17,
   "metadata": {},
   "outputs": [
    {
     "data": {
      "text/plain": [
       "[1, 2, 3, 4, 5, 6]"
      ]
     },
     "execution_count": 17,
     "metadata": {},
     "output_type": "execute_result"
    }
   ],
   "source": [
    "[1,2,3] + [4,5,6] # 리스트의 연산"
   ]
  },
  {
   "cell_type": "code",
   "execution_count": 18,
   "metadata": {},
   "outputs": [
    {
     "data": {
      "text/plain": [
       "array([-3, -3, -3])"
      ]
     },
     "execution_count": 18,
     "metadata": {},
     "output_type": "execute_result"
    }
   ],
   "source": [
    "arr - arr2"
   ]
  },
  {
   "cell_type": "code",
   "execution_count": 19,
   "metadata": {},
   "outputs": [
    {
     "data": {
      "text/plain": [
       "array([ 4, 10, 18])"
      ]
     },
     "execution_count": 19,
     "metadata": {},
     "output_type": "execute_result"
    }
   ],
   "source": [
    "arr * arr2"
   ]
  },
  {
   "cell_type": "code",
   "execution_count": 21,
   "metadata": {},
   "outputs": [
    {
     "data": {
      "text/plain": [
       "32"
      ]
     },
     "execution_count": 21,
     "metadata": {},
     "output_type": "execute_result"
    }
   ],
   "source": [
    "arr.dot(arr2) ## 행렬곱"
   ]
  },
  {
   "cell_type": "code",
   "execution_count": 23,
   "metadata": {},
   "outputs": [
    {
     "data": {
      "text/plain": [
       "array([0.25, 0.4 , 0.5 ])"
      ]
     },
     "execution_count": 23,
     "metadata": {},
     "output_type": "execute_result"
    }
   ],
   "source": [
    "arr/arr2"
   ]
  },
  {
   "cell_type": "code",
   "execution_count": 24,
   "metadata": {},
   "outputs": [
    {
     "data": {
      "text/plain": [
       "array([1, 2, 3])"
      ]
     },
     "execution_count": 24,
     "metadata": {},
     "output_type": "execute_result"
    }
   ],
   "source": [
    "arr % arr2"
   ]
  },
  {
   "cell_type": "code",
   "execution_count": 25,
   "metadata": {},
   "outputs": [
    {
     "data": {
      "text/plain": [
       "array([0, 0, 0])"
      ]
     },
     "execution_count": 25,
     "metadata": {},
     "output_type": "execute_result"
    }
   ],
   "source": [
    "arr // arr2"
   ]
  },
  {
   "cell_type": "code",
   "execution_count": 28,
   "metadata": {},
   "outputs": [
    {
     "data": {
      "text/plain": [
       "array([13, 14, 15])"
      ]
     },
     "execution_count": 28,
     "metadata": {},
     "output_type": "execute_result"
    }
   ],
   "source": [
    "arr + 12 ## 브로드캐스팅 지원 함(각각 요소에 모두 연산 하는것)"
   ]
  },
  {
   "cell_type": "code",
   "execution_count": 33,
   "metadata": {},
   "outputs": [
    {
     "data": {
      "text/plain": [
       "array([[1, 2, 3],\n",
       "       [4, 5, 6],\n",
       "       [7, 8, 9]])"
      ]
     },
     "execution_count": 33,
     "metadata": {},
     "output_type": "execute_result"
    }
   ],
   "source": [
    "arr3 = np.array([[1,2,3],[4,5,6],[7,8,9]])\n",
    "arr3"
   ]
  },
  {
   "cell_type": "code",
   "execution_count": 37,
   "metadata": {},
   "outputs": [
    {
     "data": {
      "text/plain": [
       "(3, 3)"
      ]
     },
     "execution_count": 37,
     "metadata": {},
     "output_type": "execute_result"
    }
   ],
   "source": [
    "arr3.shape #(몇차원인지 파악하는 방법)"
   ]
  },
  {
   "cell_type": "code",
   "execution_count": 31,
   "metadata": {},
   "outputs": [
    {
     "data": {
      "text/plain": [
       "[[1, 2, 3], [4, 5, 6], [7, 8, 9]]"
      ]
     },
     "execution_count": 31,
     "metadata": {},
     "output_type": "execute_result"
    }
   ],
   "source": [
    "[[1,2,3],[4,5,6],[7,8,9]]"
   ]
  },
  {
   "cell_type": "code",
   "execution_count": 38,
   "metadata": {},
   "outputs": [
    {
     "data": {
      "text/plain": [
       "array([[ 4,  8, 12],\n",
       "       [16, 20, 24],\n",
       "       [28, 32, 36]])"
      ]
     },
     "execution_count": 38,
     "metadata": {},
     "output_type": "execute_result"
    }
   ],
   "source": [
    "arr3 * 4"
   ]
  },
  {
   "cell_type": "code",
   "execution_count": 41,
   "metadata": {},
   "outputs": [
    {
     "data": {
      "text/plain": [
       "array([[ 2,  4,  6],\n",
       "       [ 8, 10, 12],\n",
       "       [14, 16, 18]])"
      ]
     },
     "execution_count": 41,
     "metadata": {},
     "output_type": "execute_result"
    }
   ],
   "source": [
    "arr3 + arr3"
   ]
  },
  {
   "cell_type": "code",
   "execution_count": 42,
   "metadata": {},
   "outputs": [
    {
     "data": {
      "text/plain": [
       "array([[0, 0, 0],\n",
       "       [3, 3, 3],\n",
       "       [6, 6, 6]])"
      ]
     },
     "execution_count": 42,
     "metadata": {},
     "output_type": "execute_result"
    }
   ],
   "source": [
    "arr3 - arr"
   ]
  },
  {
   "cell_type": "code",
   "execution_count": 44,
   "metadata": {},
   "outputs": [
    {
     "data": {
      "text/plain": [
       "array([[1. , 1. , 1. ],\n",
       "       [4. , 2.5, 2. ],\n",
       "       [7. , 4. , 3. ]])"
      ]
     },
     "execution_count": 44,
     "metadata": {},
     "output_type": "execute_result"
    }
   ],
   "source": [
    "arr3 / arr"
   ]
  },
  {
   "cell_type": "code",
   "execution_count": 46,
   "metadata": {},
   "outputs": [
    {
     "data": {
      "text/plain": [
       "array([ 32,  77, 122])"
      ]
     },
     "execution_count": 46,
     "metadata": {},
     "output_type": "execute_result"
    }
   ],
   "source": [
    "arr3.dot(arr2)"
   ]
  },
  {
   "cell_type": "code",
   "execution_count": 69,
   "metadata": {},
   "outputs": [
    {
     "data": {
      "text/plain": [
       "7"
      ]
     },
     "execution_count": 69,
     "metadata": {},
     "output_type": "execute_result"
    }
   ],
   "source": [
    "arr4 = np.random.randint(5,8) # 5~8 사이 무작위 정수 랜덤으로 저장\n",
    "arr4"
   ]
  },
  {
   "cell_type": "code",
   "execution_count": 72,
   "metadata": {},
   "outputs": [
    {
     "name": "stdout",
     "output_type": "stream",
     "text": [
      "주사위 값은 6입니다\n"
     ]
    }
   ],
   "source": [
    "num = arr4 = np.random.randint(1,7)\n",
    "print(f'주사위 값은 {num}입니다')"
   ]
  },
  {
   "cell_type": "markdown",
   "metadata": {},
   "source": [
    "---\n",
    "### 절대경로와 상대경로\n",
    "1. 절대경로 : F/신입강의/data/221116.ipynb와 같은 형태의 경로\n",
    "- 파이썬이나 다른 OS에선 /를 /로 대체해서 사용\n",
    "2. 상대경로: ./arr3.npy와 같은 형태의 경로\n",
    "* ./표기는 현재 파일과 같은 경로\n",
    "* ../표기는 현재 파일에서 상위 디렉토리라는 뜻\n",
    "* ./folder/표기는 현재 경로에서 folder라는 폴더로 들어간다는 뜻"
   ]
  },
  {
   "cell_type": "code",
   "execution_count": 80,
   "metadata": {},
   "outputs": [],
   "source": [
    "np.save('../실습 데이터/arr3.npy',arr3)"
   ]
  },
  {
   "cell_type": "code",
   "execution_count": 76,
   "metadata": {},
   "outputs": [
    {
     "data": {
      "text/plain": [
       "array([[1, 2, 3],\n",
       "       [4, 5, 6],\n",
       "       [7, 8, 9]])"
      ]
     },
     "execution_count": 76,
     "metadata": {},
     "output_type": "execute_result"
    }
   ],
   "source": [
    "new_arr  = np.load('./arr3.npy')\n",
    "new_arr"
   ]
  },
  {
   "cell_type": "markdown",
   "metadata": {},
   "source": [
    "# 외부 데이터를 이용한 데이터 처리\n",
    "* 공공데이터포털을 이용\n",
    "* 주어진 데이터에서 분류, 평균 비교, 연산 등의 작업 진행 <br>\n",
    "\n",
    "* 각 분류 및 연산에서 실질적인 의미를 가지고 있는지 확인\n",
    "* 결측치, 오기재된 데이터 처리방법 검토해보기"
   ]
  },
  {
   "cell_type": "markdown",
   "metadata": {},
   "source": [
    "## 실습 1\n",
    "* 아래 데이터를 2022년 분기별 데이터로 분류를 한다\n",
    "* 분류된 데이터는 각각 df_3, df_6, df_9,df_12라는 변수로 저장한다\n",
    "* df_6과 df_12의 지분율 평균을 비교한다\n",
    "* 지분율이 가장 높은 기관이 있는 달과 가장 낮은 기관이 있는 달을 확인한다"
   ]
  },
  {
   "cell_type": "code",
   "execution_count": 4,
   "metadata": {},
   "outputs": [
    {
     "data": {
      "text/html": [
       "<div>\n",
       "<style scoped>\n",
       "    .dataframe tbody tr th:only-of-type {\n",
       "        vertical-align: middle;\n",
       "    }\n",
       "\n",
       "    .dataframe tbody tr th {\n",
       "        vertical-align: top;\n",
       "    }\n",
       "\n",
       "    .dataframe thead th {\n",
       "        text-align: right;\n",
       "    }\n",
       "</style>\n",
       "<table border=\"1\" class=\"dataframe\">\n",
       "  <thead>\n",
       "    <tr style=\"text-align: right;\">\n",
       "      <th></th>\n",
       "      <th>발행기관명</th>\n",
       "      <th>보고서 작성기준일</th>\n",
       "      <th>지분율(퍼센트)</th>\n",
       "    </tr>\n",
       "    <tr>\n",
       "      <th>번호</th>\n",
       "      <th></th>\n",
       "      <th></th>\n",
       "      <th></th>\n",
       "    </tr>\n",
       "  </thead>\n",
       "  <tbody>\n",
       "    <tr>\n",
       "      <th>1</th>\n",
       "      <td>㈜파크시스템스</td>\n",
       "      <td>2022-07-22</td>\n",
       "      <td>5.04</td>\n",
       "    </tr>\n",
       "    <tr>\n",
       "      <th>2</th>\n",
       "      <td>롯데칠성음료(주)</td>\n",
       "      <td>2022-07-26</td>\n",
       "      <td>9.95</td>\n",
       "    </tr>\n",
       "  </tbody>\n",
       "</table>\n",
       "</div>"
      ],
      "text/plain": [
       "        발행기관명   보고서 작성기준일  지분율(퍼센트)\n",
       "번호                                 \n",
       "1     ㈜파크시스템스  2022-07-22      5.04\n",
       "2   롯데칠성음료(주)  2022-07-26      9.95"
      ]
     },
     "execution_count": 4,
     "metadata": {},
     "output_type": "execute_result"
    }
   ],
   "source": [
    "import pandas as pd\n",
    "df = pd.read_csv('C:/Users/user/Desktop/230102~/실습 데이터/국민연금공단_대량보유주식 보고내역_20221005.csv',\n",
    "                 encoding= 'cp949',index_col=0) # 0번째 컬럼을 인덱스로 사용\n",
    "df.head(2)"
   ]
  },
  {
   "cell_type": "code",
   "execution_count": 176,
   "metadata": {},
   "outputs": [
    {
     "data": {
      "text/html": [
       "<div>\n",
       "<style scoped>\n",
       "    .dataframe tbody tr th:only-of-type {\n",
       "        vertical-align: middle;\n",
       "    }\n",
       "\n",
       "    .dataframe tbody tr th {\n",
       "        vertical-align: top;\n",
       "    }\n",
       "\n",
       "    .dataframe thead th {\n",
       "        text-align: right;\n",
       "    }\n",
       "</style>\n",
       "<table border=\"1\" class=\"dataframe\">\n",
       "  <thead>\n",
       "    <tr style=\"text-align: right;\">\n",
       "      <th></th>\n",
       "      <th>발행기관명</th>\n",
       "      <th>보고서 작성기준일</th>\n",
       "      <th>지분율(퍼센트)</th>\n",
       "      <th>분기</th>\n",
       "      <th>3분기 평균</th>\n",
       "      <th>분기_1</th>\n",
       "    </tr>\n",
       "    <tr>\n",
       "      <th>번호</th>\n",
       "      <th></th>\n",
       "      <th></th>\n",
       "      <th></th>\n",
       "      <th></th>\n",
       "      <th></th>\n",
       "      <th></th>\n",
       "    </tr>\n",
       "  </thead>\n",
       "  <tbody>\n",
       "    <tr>\n",
       "      <th>1</th>\n",
       "      <td>㈜파크시스템스</td>\n",
       "      <td>2022-07-22</td>\n",
       "      <td>5.04</td>\n",
       "      <td>3</td>\n",
       "      <td>NaN</td>\n",
       "      <td>3</td>\n",
       "    </tr>\n",
       "    <tr>\n",
       "      <th>2</th>\n",
       "      <td>롯데칠성음료(주)</td>\n",
       "      <td>2022-07-26</td>\n",
       "      <td>9.95</td>\n",
       "      <td>3</td>\n",
       "      <td>NaN</td>\n",
       "      <td>3</td>\n",
       "    </tr>\n",
       "    <tr>\n",
       "      <th>3</th>\n",
       "      <td>한화솔루션(주)</td>\n",
       "      <td>2022-07-01</td>\n",
       "      <td>8.93</td>\n",
       "      <td>3</td>\n",
       "      <td>NaN</td>\n",
       "      <td>3</td>\n",
       "    </tr>\n",
       "    <tr>\n",
       "      <th>4</th>\n",
       "      <td>현대엘리베이터(주)</td>\n",
       "      <td>2022-07-26</td>\n",
       "      <td>5.83</td>\n",
       "      <td>3</td>\n",
       "      <td>NaN</td>\n",
       "      <td>3</td>\n",
       "    </tr>\n",
       "    <tr>\n",
       "      <th>5</th>\n",
       "      <td>롯데관광개발(주)</td>\n",
       "      <td>2022-07-25</td>\n",
       "      <td>6.17</td>\n",
       "      <td>3</td>\n",
       "      <td>NaN</td>\n",
       "      <td>3</td>\n",
       "    </tr>\n",
       "    <tr>\n",
       "      <th>...</th>\n",
       "      <td>...</td>\n",
       "      <td>...</td>\n",
       "      <td>...</td>\n",
       "      <td>...</td>\n",
       "      <td>...</td>\n",
       "      <td>...</td>\n",
       "    </tr>\n",
       "    <tr>\n",
       "      <th>124</th>\n",
       "      <td>효성티앤씨</td>\n",
       "      <td>2022-07-26</td>\n",
       "      <td>7.65</td>\n",
       "      <td>3</td>\n",
       "      <td>NaN</td>\n",
       "      <td>3</td>\n",
       "    </tr>\n",
       "    <tr>\n",
       "      <th>125</th>\n",
       "      <td>(주)세아제강</td>\n",
       "      <td>2022-09-26</td>\n",
       "      <td>5.13</td>\n",
       "      <td>3</td>\n",
       "      <td>NaN</td>\n",
       "      <td>3</td>\n",
       "    </tr>\n",
       "    <tr>\n",
       "      <th>126</th>\n",
       "      <td>현대오토에버</td>\n",
       "      <td>2022-08-16</td>\n",
       "      <td>7.04</td>\n",
       "      <td>3</td>\n",
       "      <td>NaN</td>\n",
       "      <td>3</td>\n",
       "    </tr>\n",
       "    <tr>\n",
       "      <th>127</th>\n",
       "      <td>피에스케이(주)</td>\n",
       "      <td>2022-09-29</td>\n",
       "      <td>7.97</td>\n",
       "      <td>3</td>\n",
       "      <td>NaN</td>\n",
       "      <td>3</td>\n",
       "    </tr>\n",
       "    <tr>\n",
       "      <th>128</th>\n",
       "      <td>솔루스첨단소재</td>\n",
       "      <td>2022-07-15</td>\n",
       "      <td>5.15</td>\n",
       "      <td>3</td>\n",
       "      <td>NaN</td>\n",
       "      <td>3</td>\n",
       "    </tr>\n",
       "  </tbody>\n",
       "</table>\n",
       "<p>128 rows × 6 columns</p>\n",
       "</div>"
      ],
      "text/plain": [
       "          발행기관명   보고서 작성기준일  지분율(퍼센트)  분기  3분기 평균  분기_1\n",
       "번호                                                     \n",
       "1       ㈜파크시스템스  2022-07-22      5.04   3     NaN     3\n",
       "2     롯데칠성음료(주)  2022-07-26      9.95   3     NaN     3\n",
       "3      한화솔루션(주)  2022-07-01      8.93   3     NaN     3\n",
       "4    현대엘리베이터(주)  2022-07-26      5.83   3     NaN     3\n",
       "5     롯데관광개발(주)  2022-07-25      6.17   3     NaN     3\n",
       "..          ...         ...       ...  ..     ...   ...\n",
       "124       효성티앤씨  2022-07-26      7.65   3     NaN     3\n",
       "125     (주)세아제강  2022-09-26      5.13   3     NaN     3\n",
       "126      현대오토에버  2022-08-16      7.04   3     NaN     3\n",
       "127    피에스케이(주)  2022-09-29      7.97   3     NaN     3\n",
       "128     솔루스첨단소재  2022-07-15      5.15   3     NaN     3\n",
       "\n",
       "[128 rows x 6 columns]"
      ]
     },
     "execution_count": 176,
     "metadata": {},
     "output_type": "execute_result"
    }
   ],
   "source": [
    "a = [] \n",
    "for i in range(1,max(df.index)+1):\n",
    "    if int(df.loc[i,'보고서 작성기준일'].split('-')[1]) >9:\n",
    "        a.append(4)\n",
    "    elif int(df.loc[i,'보고서 작성기준일'].split('-')[1]) >6:\n",
    "        a.append(3)\n",
    "    elif int(df.loc[i,'보고서 작성기준일'].split('-')[1]) >3:\n",
    "        a.append(2)\n",
    "    else:\n",
    "        a.append(1)\n",
    "df['분기_1']  =a\n",
    "df"
   ]
  },
  {
   "cell_type": "code",
   "execution_count": 181,
   "metadata": {},
   "outputs": [],
   "source": [
    "# 답안\n",
    "def split_date(x):\n",
    "    month = int(x.split('-')[1])\n",
    "    \n",
    "    if month>9:\n",
    "        return 4\n",
    "    elif month>6:\n",
    "        return 3\n",
    "    elif month>3:\n",
    "        return 2\n",
    "    else:\n",
    "        return 1"
   ]
  },
  {
   "cell_type": "code",
   "execution_count": 109,
   "metadata": {},
   "outputs": [
    {
     "data": {
      "text/html": [
       "<div>\n",
       "<style scoped>\n",
       "    .dataframe tbody tr th:only-of-type {\n",
       "        vertical-align: middle;\n",
       "    }\n",
       "\n",
       "    .dataframe tbody tr th {\n",
       "        vertical-align: top;\n",
       "    }\n",
       "\n",
       "    .dataframe thead th {\n",
       "        text-align: right;\n",
       "    }\n",
       "</style>\n",
       "<table border=\"1\" class=\"dataframe\">\n",
       "  <thead>\n",
       "    <tr style=\"text-align: right;\">\n",
       "      <th></th>\n",
       "      <th>발행기관명</th>\n",
       "      <th>보고서 작성기준일</th>\n",
       "      <th>지분율(퍼센트)</th>\n",
       "      <th>분기</th>\n",
       "    </tr>\n",
       "    <tr>\n",
       "      <th>번호</th>\n",
       "      <th></th>\n",
       "      <th></th>\n",
       "      <th></th>\n",
       "      <th></th>\n",
       "    </tr>\n",
       "  </thead>\n",
       "  <tbody>\n",
       "    <tr>\n",
       "      <th>1</th>\n",
       "      <td>㈜파크시스템스</td>\n",
       "      <td>2022-07-22</td>\n",
       "      <td>5.04</td>\n",
       "      <td>3</td>\n",
       "    </tr>\n",
       "    <tr>\n",
       "      <th>2</th>\n",
       "      <td>롯데칠성음료(주)</td>\n",
       "      <td>2022-07-26</td>\n",
       "      <td>9.95</td>\n",
       "      <td>3</td>\n",
       "    </tr>\n",
       "    <tr>\n",
       "      <th>3</th>\n",
       "      <td>한화솔루션(주)</td>\n",
       "      <td>2022-07-01</td>\n",
       "      <td>8.93</td>\n",
       "      <td>3</td>\n",
       "    </tr>\n",
       "    <tr>\n",
       "      <th>4</th>\n",
       "      <td>현대엘리베이터(주)</td>\n",
       "      <td>2022-07-26</td>\n",
       "      <td>5.83</td>\n",
       "      <td>3</td>\n",
       "    </tr>\n",
       "    <tr>\n",
       "      <th>5</th>\n",
       "      <td>롯데관광개발(주)</td>\n",
       "      <td>2022-07-25</td>\n",
       "      <td>6.17</td>\n",
       "      <td>3</td>\n",
       "    </tr>\n",
       "    <tr>\n",
       "      <th>...</th>\n",
       "      <td>...</td>\n",
       "      <td>...</td>\n",
       "      <td>...</td>\n",
       "      <td>...</td>\n",
       "    </tr>\n",
       "    <tr>\n",
       "      <th>124</th>\n",
       "      <td>효성티앤씨</td>\n",
       "      <td>2022-07-26</td>\n",
       "      <td>7.65</td>\n",
       "      <td>3</td>\n",
       "    </tr>\n",
       "    <tr>\n",
       "      <th>125</th>\n",
       "      <td>(주)세아제강</td>\n",
       "      <td>2022-09-26</td>\n",
       "      <td>5.13</td>\n",
       "      <td>3</td>\n",
       "    </tr>\n",
       "    <tr>\n",
       "      <th>126</th>\n",
       "      <td>현대오토에버</td>\n",
       "      <td>2022-08-16</td>\n",
       "      <td>7.04</td>\n",
       "      <td>3</td>\n",
       "    </tr>\n",
       "    <tr>\n",
       "      <th>127</th>\n",
       "      <td>피에스케이(주)</td>\n",
       "      <td>2022-09-29</td>\n",
       "      <td>7.97</td>\n",
       "      <td>3</td>\n",
       "    </tr>\n",
       "    <tr>\n",
       "      <th>128</th>\n",
       "      <td>솔루스첨단소재</td>\n",
       "      <td>2022-07-15</td>\n",
       "      <td>5.15</td>\n",
       "      <td>3</td>\n",
       "    </tr>\n",
       "  </tbody>\n",
       "</table>\n",
       "<p>128 rows × 4 columns</p>\n",
       "</div>"
      ],
      "text/plain": [
       "          발행기관명   보고서 작성기준일  지분율(퍼센트)  분기\n",
       "번호                                       \n",
       "1       ㈜파크시스템스  2022-07-22      5.04   3\n",
       "2     롯데칠성음료(주)  2022-07-26      9.95   3\n",
       "3      한화솔루션(주)  2022-07-01      8.93   3\n",
       "4    현대엘리베이터(주)  2022-07-26      5.83   3\n",
       "5     롯데관광개발(주)  2022-07-25      6.17   3\n",
       "..          ...         ...       ...  ..\n",
       "124       효성티앤씨  2022-07-26      7.65   3\n",
       "125     (주)세아제강  2022-09-26      5.13   3\n",
       "126      현대오토에버  2022-08-16      7.04   3\n",
       "127    피에스케이(주)  2022-09-29      7.97   3\n",
       "128     솔루스첨단소재  2022-07-15      5.15   3\n",
       "\n",
       "[128 rows x 4 columns]"
      ]
     },
     "execution_count": 109,
     "metadata": {},
     "output_type": "execute_result"
    }
   ],
   "source": [
    "df['분기'] = df['보고서 작성기준일'].apply(lambda x : split_date(x))\n",
    "df"
   ]
  },
  {
   "cell_type": "code",
   "execution_count": 110,
   "metadata": {},
   "outputs": [],
   "source": [
    "df_9 = df[df['분기'] ==3]\n",
    "df_12 = df[df['분기'] == 4]"
   ]
  },
  {
   "cell_type": "code",
   "execution_count": 126,
   "metadata": {},
   "outputs": [
    {
     "data": {
      "text/plain": [
       "(7.380079365079366, 9.66)"
      ]
     },
     "execution_count": 126,
     "metadata": {},
     "output_type": "execute_result"
    }
   ],
   "source": [
    "mean_9 = df_9['지분율(퍼센트)'].mean()\n",
    "mean_12 = df_12['지분율(퍼센트)'].mean()\n",
    "mean_9, mean_12\n"
   ]
  },
  {
   "cell_type": "code",
   "execution_count": 129,
   "metadata": {},
   "outputs": [
    {
     "name": "stdout",
     "output_type": "stream",
     "text": [
      "3,4분기 지분율의 평균은 각각 7.380퍼센트, 9.660퍼센트로,\n",
      "      4분기 지분율의 평균이 2.280퍼센트보다 더 높습니다.\n"
     ]
    }
   ],
   "source": [
    "print('''3,4분기 지분율의 평균은 각각 %.3f퍼센트, %.3f퍼센트로,\n",
    "      4분기 지분율의 평균이 %.3f퍼센트보다 더 높습니다.''' \n",
    "      %(mean_9, mean_12, mean_12 - mean_9)) # 복잡한 연산시 에러발생 가능성 있기 때문에 변수로 따로 빼는 것을 권장함"
   ]
  },
  {
   "cell_type": "code",
   "execution_count": 140,
   "metadata": {},
   "outputs": [],
   "source": [
    "max_val = df['지분율(퍼센트)'].max()\n",
    "min_val = df['지분율(퍼센트)'].min()"
   ]
  },
  {
   "cell_type": "code",
   "execution_count": 138,
   "metadata": {},
   "outputs": [
    {
     "data": {
      "text/plain": [
       "'(주)SBS'"
      ]
     },
     "execution_count": 138,
     "metadata": {},
     "output_type": "execute_result"
    }
   ],
   "source": [
    "df.index[df['지분율(퍼센트)'] == max_val][0]\n",
    "df.loc[83,'발행기관명']"
   ]
  },
  {
   "cell_type": "code",
   "execution_count": 141,
   "metadata": {},
   "outputs": [
    {
     "data": {
      "text/plain": [
       "69"
      ]
     },
     "execution_count": 141,
     "metadata": {},
     "output_type": "execute_result"
    }
   ],
   "source": [
    "df.index[df['지분율(퍼센트)'] == min_val][0]"
   ]
  },
  {
   "cell_type": "code",
   "execution_count": 142,
   "metadata": {},
   "outputs": [
    {
     "data": {
      "text/plain": [
       "'(주)코리아써키트'"
      ]
     },
     "execution_count": 142,
     "metadata": {},
     "output_type": "execute_result"
    }
   ],
   "source": [
    "df.loc[69,'발행기관명']"
   ]
  },
  {
   "cell_type": "markdown",
   "metadata": {},
   "source": [
    "## 실습 2\n",
    "* 아래 데이터프레임에서 무역수지가 적자인 그룹과 흑자인 그룹을 나눕니다.\n",
    "* 수출건수가 상위 10%인 그룹을 구합니다\n",
    "* 수입건수의 평균을 구하고, 그 값에 가장 가까운 그룹을 구합니다."
   ]
  },
  {
   "cell_type": "code",
   "execution_count": 19,
   "metadata": {},
   "outputs": [
    {
     "name": "stderr",
     "output_type": "stream",
     "text": [
      "c:\\Users\\user\\AppData\\Local\\Programs\\Python\\Python311\\Lib\\site-packages\\openpyxl\\styles\\stylesheet.py:226: UserWarning: Workbook contains no default style, apply openpyxl's default\n",
      "  warn(\"Workbook contains no default style, apply openpyxl's default\")\n"
     ]
    },
    {
     "data": {
      "text/html": [
       "<div>\n",
       "<style scoped>\n",
       "    .dataframe tbody tr th:only-of-type {\n",
       "        vertical-align: middle;\n",
       "    }\n",
       "\n",
       "    .dataframe tbody tr th {\n",
       "        vertical-align: top;\n",
       "    }\n",
       "\n",
       "    .dataframe thead th {\n",
       "        text-align: right;\n",
       "    }\n",
       "</style>\n",
       "<table border=\"1\" class=\"dataframe\">\n",
       "  <thead>\n",
       "    <tr style=\"text-align: right;\">\n",
       "      <th></th>\n",
       "      <th>기간</th>\n",
       "      <th>FTA명</th>\n",
       "      <th>수출건수</th>\n",
       "      <th>수출금액</th>\n",
       "      <th>수입건수</th>\n",
       "      <th>수입금액</th>\n",
       "      <th>무역수지</th>\n",
       "    </tr>\n",
       "  </thead>\n",
       "  <tbody>\n",
       "    <tr>\n",
       "      <th>0</th>\n",
       "      <td>2022</td>\n",
       "      <td>RCEP</td>\n",
       "      <td>6,474,383</td>\n",
       "      <td>287,564,087</td>\n",
       "      <td>11,944,545</td>\n",
       "      <td>292,113,146</td>\n",
       "      <td>-4,549,059</td>\n",
       "    </tr>\n",
       "    <tr>\n",
       "      <th>1</th>\n",
       "      <td>2022</td>\n",
       "      <td>한-EFTA</td>\n",
       "      <td>26,912</td>\n",
       "      <td>1,794,418</td>\n",
       "      <td>75,489</td>\n",
       "      <td>4,810,598</td>\n",
       "      <td>-3,016,180</td>\n",
       "    </tr>\n",
       "    <tr>\n",
       "      <th>2</th>\n",
       "      <td>2022</td>\n",
       "      <td>한-EU</td>\n",
       "      <td>882,224</td>\n",
       "      <td>67,684,624</td>\n",
       "      <td>4,734,145</td>\n",
       "      <td>66,716,800</td>\n",
       "      <td>967,825</td>\n",
       "    </tr>\n",
       "    <tr>\n",
       "      <th>3</th>\n",
       "      <td>2022</td>\n",
       "      <td>한-뉴질랜드</td>\n",
       "      <td>36,305</td>\n",
       "      <td>3,139,637</td>\n",
       "      <td>455,563</td>\n",
       "      <td>1,743,951</td>\n",
       "      <td>1,395,687</td>\n",
       "    </tr>\n",
       "    <tr>\n",
       "      <th>4</th>\n",
       "      <td>2022</td>\n",
       "      <td>한-미국</td>\n",
       "      <td>2,186,357</td>\n",
       "      <td>100,446,018</td>\n",
       "      <td>18,531,680</td>\n",
       "      <td>74,972,585</td>\n",
       "      <td>25,473,433</td>\n",
       "    </tr>\n",
       "  </tbody>\n",
       "</table>\n",
       "</div>"
      ],
      "text/plain": [
       "     기간    FTA명                  수출건수                  수출금액  \\\n",
       "0  2022    RCEP             6,474,383           287,564,087   \n",
       "1  2022  한-EFTA                26,912             1,794,418   \n",
       "2  2022    한-EU               882,224            67,684,624   \n",
       "3  2022  한-뉴질랜드                36,305             3,139,637   \n",
       "4  2022    한-미국             2,186,357           100,446,018   \n",
       "\n",
       "                   수입건수                  수입금액                  무역수지  \n",
       "0            11,944,545           292,113,146            -4,549,059  \n",
       "1                75,489             4,810,598            -3,016,180  \n",
       "2             4,734,145            66,716,800               967,825  \n",
       "3               455,563             1,743,951             1,395,687  \n",
       "4            18,531,680            74,972,585            25,473,433  "
      ]
     },
     "execution_count": 19,
     "metadata": {},
     "output_type": "execute_result"
    }
   ],
   "source": [
    "import openpyxl\n",
    "df2= pd.read_excel('C:/Users/user/Desktop/230102~/실습 데이터/FTA무역통계_20230109000015.xls', header = 4)\n",
    "df2.head(5)"
   ]
  },
  {
   "cell_type": "markdown",
   "metadata": {},
   "source": [
    "### 실습 2-1"
   ]
  },
  {
   "cell_type": "code",
   "execution_count": 22,
   "metadata": {},
   "outputs": [
    {
     "data": {
      "text/plain": [
       "-4549059"
      ]
     },
     "execution_count": 22,
     "metadata": {},
     "output_type": "execute_result"
    }
   ],
   "source": [
    "int(df2['무역수지'][0].replace(' ','').replace(',',''))"
   ]
  },
  {
   "cell_type": "code",
   "execution_count": 23,
   "metadata": {},
   "outputs": [
    {
     "data": {
      "text/plain": [
       "True"
      ]
     },
     "execution_count": 23,
     "metadata": {},
     "output_type": "execute_result"
    }
   ],
   "source": [
    "'-'in df2['무역수지'][0] ## -가 있는지 없는지 확인"
   ]
  },
  {
   "cell_type": "code",
   "execution_count": 24,
   "metadata": {},
   "outputs": [],
   "source": [
    "def number(x):\n",
    "    y = int(x.replace(' ','').replace(',','')) \n",
    "    return y>0\n"
   ]
  },
  {
   "cell_type": "code",
   "execution_count": 25,
   "metadata": {},
   "outputs": [
    {
     "data": {
      "text/html": [
       "<div>\n",
       "<style scoped>\n",
       "    .dataframe tbody tr th:only-of-type {\n",
       "        vertical-align: middle;\n",
       "    }\n",
       "\n",
       "    .dataframe tbody tr th {\n",
       "        vertical-align: top;\n",
       "    }\n",
       "\n",
       "    .dataframe thead th {\n",
       "        text-align: right;\n",
       "    }\n",
       "</style>\n",
       "<table border=\"1\" class=\"dataframe\">\n",
       "  <thead>\n",
       "    <tr style=\"text-align: right;\">\n",
       "      <th></th>\n",
       "      <th>기간</th>\n",
       "      <th>FTA명</th>\n",
       "      <th>수출건수</th>\n",
       "      <th>수출금액</th>\n",
       "      <th>수입건수</th>\n",
       "      <th>수입금액</th>\n",
       "      <th>무역수지</th>\n",
       "    </tr>\n",
       "  </thead>\n",
       "  <tbody>\n",
       "    <tr>\n",
       "      <th>2</th>\n",
       "      <td>2022</td>\n",
       "      <td>한-EU</td>\n",
       "      <td>882,224</td>\n",
       "      <td>67,684,624</td>\n",
       "      <td>4,734,145</td>\n",
       "      <td>66,716,800</td>\n",
       "      <td>967,825</td>\n",
       "    </tr>\n",
       "    <tr>\n",
       "      <th>3</th>\n",
       "      <td>2022</td>\n",
       "      <td>한-뉴질랜드</td>\n",
       "      <td>36,305</td>\n",
       "      <td>3,139,637</td>\n",
       "      <td>455,563</td>\n",
       "      <td>1,743,951</td>\n",
       "      <td>1,395,687</td>\n",
       "    </tr>\n",
       "    <tr>\n",
       "      <th>4</th>\n",
       "      <td>2022</td>\n",
       "      <td>한-미국</td>\n",
       "      <td>2,186,357</td>\n",
       "      <td>100,446,018</td>\n",
       "      <td>18,531,680</td>\n",
       "      <td>74,972,585</td>\n",
       "      <td>25,473,433</td>\n",
       "    </tr>\n",
       "    <tr>\n",
       "      <th>5</th>\n",
       "      <td>2022</td>\n",
       "      <td>한-베트남</td>\n",
       "      <td>582,908</td>\n",
       "      <td>56,212,924</td>\n",
       "      <td>860,372</td>\n",
       "      <td>24,850,108</td>\n",
       "      <td>31,362,815</td>\n",
       "    </tr>\n",
       "    <tr>\n",
       "      <th>6</th>\n",
       "      <td>2022</td>\n",
       "      <td>한-싱가포르</td>\n",
       "      <td>749,118</td>\n",
       "      <td>18,696,289</td>\n",
       "      <td>151,934</td>\n",
       "      <td>9,315,582</td>\n",
       "      <td>9,380,706</td>\n",
       "    </tr>\n",
       "    <tr>\n",
       "      <th>7</th>\n",
       "      <td>2022</td>\n",
       "      <td>한-아세안</td>\n",
       "      <td>2,775,570</td>\n",
       "      <td>115,599,623</td>\n",
       "      <td>1,839,987</td>\n",
       "      <td>75,744,022</td>\n",
       "      <td>39,855,602</td>\n",
       "    </tr>\n",
       "    <tr>\n",
       "      <th>8</th>\n",
       "      <td>2022</td>\n",
       "      <td>한-영국</td>\n",
       "      <td>108,368</td>\n",
       "      <td>5,862,160</td>\n",
       "      <td>386,507</td>\n",
       "      <td>5,374,130</td>\n",
       "      <td>488,030</td>\n",
       "    </tr>\n",
       "    <tr>\n",
       "      <th>9</th>\n",
       "      <td>2022</td>\n",
       "      <td>한-인도</td>\n",
       "      <td>193,395</td>\n",
       "      <td>17,391,372</td>\n",
       "      <td>182,655</td>\n",
       "      <td>8,403,685</td>\n",
       "      <td>8,987,687</td>\n",
       "    </tr>\n",
       "    <tr>\n",
       "      <th>10</th>\n",
       "      <td>2022</td>\n",
       "      <td>한-중국</td>\n",
       "      <td>1,325,620</td>\n",
       "      <td>144,611,224</td>\n",
       "      <td>6,775,116</td>\n",
       "      <td>142,753,918</td>\n",
       "      <td>1,857,306</td>\n",
       "    </tr>\n",
       "    <tr>\n",
       "      <th>11</th>\n",
       "      <td>2022</td>\n",
       "      <td>한-중미</td>\n",
       "      <td>28,606</td>\n",
       "      <td>1,388,730</td>\n",
       "      <td>10,003</td>\n",
       "      <td>933,363</td>\n",
       "      <td>455,367</td>\n",
       "    </tr>\n",
       "    <tr>\n",
       "      <th>14</th>\n",
       "      <td>2022</td>\n",
       "      <td>한-콜롬비아</td>\n",
       "      <td>14,045</td>\n",
       "      <td>862,924</td>\n",
       "      <td>11,286</td>\n",
       "      <td>636,784</td>\n",
       "      <td>226,140</td>\n",
       "    </tr>\n",
       "    <tr>\n",
       "      <th>15</th>\n",
       "      <td>2022</td>\n",
       "      <td>한-터키</td>\n",
       "      <td>82,688</td>\n",
       "      <td>7,059,423</td>\n",
       "      <td>46,380</td>\n",
       "      <td>1,287,251</td>\n",
       "      <td>5,772,172</td>\n",
       "    </tr>\n",
       "  </tbody>\n",
       "</table>\n",
       "</div>"
      ],
      "text/plain": [
       "      기간    FTA명                  수출건수                  수출금액  \\\n",
       "2   2022    한-EU               882,224            67,684,624   \n",
       "3   2022  한-뉴질랜드                36,305             3,139,637   \n",
       "4   2022    한-미국             2,186,357           100,446,018   \n",
       "5   2022   한-베트남               582,908            56,212,924   \n",
       "6   2022  한-싱가포르               749,118            18,696,289   \n",
       "7   2022   한-아세안             2,775,570           115,599,623   \n",
       "8   2022    한-영국               108,368             5,862,160   \n",
       "9   2022    한-인도               193,395            17,391,372   \n",
       "10  2022    한-중국             1,325,620           144,611,224   \n",
       "11  2022    한-중미                28,606             1,388,730   \n",
       "14  2022  한-콜롬비아                14,045               862,924   \n",
       "15  2022    한-터키                82,688             7,059,423   \n",
       "\n",
       "                    수입건수                  수입금액                  무역수지  \n",
       "2              4,734,145            66,716,800               967,825  \n",
       "3                455,563             1,743,951             1,395,687  \n",
       "4             18,531,680            74,972,585            25,473,433  \n",
       "5                860,372            24,850,108            31,362,815  \n",
       "6                151,934             9,315,582             9,380,706  \n",
       "7              1,839,987            75,744,022            39,855,602  \n",
       "8                386,507             5,374,130               488,030  \n",
       "9                182,655             8,403,685             8,987,687  \n",
       "10             6,775,116           142,753,918             1,857,306  \n",
       "11                10,003               933,363               455,367  \n",
       "14                11,286               636,784               226,140  \n",
       "15                46,380             1,287,251             5,772,172  "
      ]
     },
     "execution_count": 25,
     "metadata": {},
     "output_type": "execute_result"
    }
   ],
   "source": [
    "m= df2['무역수지'].apply(lambda x : number(x)) ## 무역수지가 흑자인 그룹\n",
    "df3 = df2[m]\n",
    "df3"
   ]
  },
  {
   "cell_type": "code",
   "execution_count": 327,
   "metadata": {},
   "outputs": [
    {
     "data": {
      "text/html": [
       "<div>\n",
       "<style scoped>\n",
       "    .dataframe tbody tr th:only-of-type {\n",
       "        vertical-align: middle;\n",
       "    }\n",
       "\n",
       "    .dataframe tbody tr th {\n",
       "        vertical-align: top;\n",
       "    }\n",
       "\n",
       "    .dataframe thead th {\n",
       "        text-align: right;\n",
       "    }\n",
       "</style>\n",
       "<table border=\"1\" class=\"dataframe\">\n",
       "  <thead>\n",
       "    <tr style=\"text-align: right;\">\n",
       "      <th></th>\n",
       "      <th>기간</th>\n",
       "      <th>FTA명</th>\n",
       "      <th>수출건수</th>\n",
       "      <th>수출금액</th>\n",
       "      <th>수입건수</th>\n",
       "      <th>수입금액</th>\n",
       "      <th>무역수지</th>\n",
       "    </tr>\n",
       "  </thead>\n",
       "  <tbody>\n",
       "    <tr>\n",
       "      <th>0</th>\n",
       "      <td>2022</td>\n",
       "      <td>RCEP</td>\n",
       "      <td>6,474,383</td>\n",
       "      <td>287,564,087</td>\n",
       "      <td>11,944,545</td>\n",
       "      <td>292,113,146</td>\n",
       "      <td>-4,549,059</td>\n",
       "    </tr>\n",
       "    <tr>\n",
       "      <th>1</th>\n",
       "      <td>2022</td>\n",
       "      <td>한-EFTA</td>\n",
       "      <td>26,912</td>\n",
       "      <td>1,794,418</td>\n",
       "      <td>75,489</td>\n",
       "      <td>4,810,598</td>\n",
       "      <td>-3,016,180</td>\n",
       "    </tr>\n",
       "    <tr>\n",
       "      <th>12</th>\n",
       "      <td>2022</td>\n",
       "      <td>한-칠레</td>\n",
       "      <td>30,137</td>\n",
       "      <td>1,425,386</td>\n",
       "      <td>16,553</td>\n",
       "      <td>6,264,483</td>\n",
       "      <td>-4,839,097</td>\n",
       "    </tr>\n",
       "    <tr>\n",
       "      <th>13</th>\n",
       "      <td>2022</td>\n",
       "      <td>한-캐나다</td>\n",
       "      <td>212,405</td>\n",
       "      <td>7,224,014</td>\n",
       "      <td>329,449</td>\n",
       "      <td>7,966,998</td>\n",
       "      <td>-742,985</td>\n",
       "    </tr>\n",
       "    <tr>\n",
       "      <th>16</th>\n",
       "      <td>2022</td>\n",
       "      <td>한-페루</td>\n",
       "      <td>13,929</td>\n",
       "      <td>721,030</td>\n",
       "      <td>10,024</td>\n",
       "      <td>2,734,129</td>\n",
       "      <td>-2,013,099</td>\n",
       "    </tr>\n",
       "    <tr>\n",
       "      <th>17</th>\n",
       "      <td>2022</td>\n",
       "      <td>한-호주</td>\n",
       "      <td>191,729</td>\n",
       "      <td>17,396,124</td>\n",
       "      <td>560,089</td>\n",
       "      <td>41,235,660</td>\n",
       "      <td>-23,839,536</td>\n",
       "    </tr>\n",
       "  </tbody>\n",
       "</table>\n",
       "</div>"
      ],
      "text/plain": [
       "      기간    FTA명                  수출건수                  수출금액  \\\n",
       "0   2022    RCEP             6,474,383           287,564,087   \n",
       "1   2022  한-EFTA                26,912             1,794,418   \n",
       "12  2022    한-칠레                30,137             1,425,386   \n",
       "13  2022   한-캐나다               212,405             7,224,014   \n",
       "16  2022    한-페루                13,929               721,030   \n",
       "17  2022    한-호주               191,729            17,396,124   \n",
       "\n",
       "                    수입건수                  수입금액                  무역수지  \n",
       "0             11,944,545           292,113,146            -4,549,059  \n",
       "1                 75,489             4,810,598            -3,016,180  \n",
       "12                16,553             6,264,483            -4,839,097  \n",
       "13               329,449             7,966,998              -742,985  \n",
       "16                10,024             2,734,129            -2,013,099  \n",
       "17               560,089            41,235,660           -23,839,536  "
      ]
     },
     "execution_count": 327,
     "metadata": {},
     "output_type": "execute_result"
    }
   ],
   "source": [
    "df4 = df2[-m] ## 무역수지가 적자인 그룹\n",
    "df4"
   ]
  },
  {
   "cell_type": "markdown",
   "metadata": {},
   "source": [
    "### 실습 2-2 "
   ]
  },
  {
   "cell_type": "code",
   "execution_count": 26,
   "metadata": {},
   "outputs": [
    {
     "data": {
      "text/plain": [
       "0     6474383\n",
       "1       26912\n",
       "2      882224\n",
       "3       36305\n",
       "4     2186357\n",
       "5      582908\n",
       "6      749118\n",
       "7     2775570\n",
       "8      108368\n",
       "9      193395\n",
       "10    1325620\n",
       "11      28606\n",
       "12      30137\n",
       "13     212405\n",
       "14      14045\n",
       "15      82688\n",
       "16      13929\n",
       "17     191729\n",
       "Name: 수출건수, dtype: int64"
      ]
     },
     "execution_count": 26,
     "metadata": {},
     "output_type": "execute_result"
    }
   ],
   "source": [
    "def count_top10(x):\n",
    "    y = int(x.replace(' ','').replace(',','')) \n",
    "    return y\n",
    "df2['수출건수'].apply(lambda x : count_top10(x))"
   ]
  },
  {
   "cell_type": "code",
   "execution_count": 329,
   "metadata": {},
   "outputs": [
    {
     "data": {
      "text/plain": [
       "Index(['기간', 'FTA명', '수출건수', '수출금액', '수입건수', '수입금액', '무역수지'], dtype='object')"
      ]
     },
     "execution_count": 329,
     "metadata": {},
     "output_type": "execute_result"
    }
   ],
   "source": [
    "df2.columns"
   ]
  },
  {
   "cell_type": "code",
   "execution_count": 27,
   "metadata": {},
   "outputs": [
    {
     "name": "stdout",
     "output_type": "stream",
     "text": [
      "<class 'pandas.core.frame.DataFrame'>\n",
      "RangeIndex: 18 entries, 0 to 17\n",
      "Data columns (total 7 columns):\n",
      " #   Column  Non-Null Count  Dtype \n",
      "---  ------  --------------  ----- \n",
      " 0   기간      18 non-null     int64 \n",
      " 1   FTA명    18 non-null     object\n",
      " 2   수출건수    18 non-null     int64 \n",
      " 3   수출금액    18 non-null     int64 \n",
      " 4   수입건수    18 non-null     int64 \n",
      " 5   수입금액    18 non-null     int64 \n",
      " 6   무역수지    18 non-null     int64 \n",
      "dtypes: int64(6), object(1)\n",
      "memory usage: 1.1+ KB\n"
     ]
    }
   ],
   "source": [
    "for i in df2.columns[2:]:\n",
    "    df2[i] = df2[i].apply(lambda x : count_top10(x))\n",
    "df2.info()\n"
   ]
  },
  {
   "cell_type": "code",
   "execution_count": 335,
   "metadata": {},
   "outputs": [
    {
     "data": {
      "text/plain": [
       "(18, 7)"
      ]
     },
     "execution_count": 335,
     "metadata": {},
     "output_type": "execute_result"
    }
   ],
   "source": [
    "df2.shape ## 상위 10% =1.8개 약 2개"
   ]
  },
  {
   "cell_type": "code",
   "execution_count": 338,
   "metadata": {},
   "outputs": [
    {
     "data": {
      "text/html": [
       "<div>\n",
       "<style scoped>\n",
       "    .dataframe tbody tr th:only-of-type {\n",
       "        vertical-align: middle;\n",
       "    }\n",
       "\n",
       "    .dataframe tbody tr th {\n",
       "        vertical-align: top;\n",
       "    }\n",
       "\n",
       "    .dataframe thead th {\n",
       "        text-align: right;\n",
       "    }\n",
       "</style>\n",
       "<table border=\"1\" class=\"dataframe\">\n",
       "  <thead>\n",
       "    <tr style=\"text-align: right;\">\n",
       "      <th></th>\n",
       "      <th>기간</th>\n",
       "      <th>FTA명</th>\n",
       "      <th>수출건수</th>\n",
       "      <th>수출금액</th>\n",
       "      <th>수입건수</th>\n",
       "      <th>수입금액</th>\n",
       "      <th>무역수지</th>\n",
       "    </tr>\n",
       "  </thead>\n",
       "  <tbody>\n",
       "    <tr>\n",
       "      <th>7</th>\n",
       "      <td>2022</td>\n",
       "      <td>한-아세안</td>\n",
       "      <td>2775570</td>\n",
       "      <td>115599623</td>\n",
       "      <td>1839987</td>\n",
       "      <td>75744022</td>\n",
       "      <td>39855602</td>\n",
       "    </tr>\n",
       "    <tr>\n",
       "      <th>0</th>\n",
       "      <td>2022</td>\n",
       "      <td>RCEP</td>\n",
       "      <td>6474383</td>\n",
       "      <td>287564087</td>\n",
       "      <td>11944545</td>\n",
       "      <td>292113146</td>\n",
       "      <td>-4549059</td>\n",
       "    </tr>\n",
       "  </tbody>\n",
       "</table>\n",
       "</div>"
      ],
      "text/plain": [
       "     기간   FTA명     수출건수       수출금액      수입건수       수입금액      무역수지\n",
       "7  2022  한-아세안  2775570  115599623   1839987   75744022  39855602\n",
       "0  2022   RCEP  6474383  287564087  11944545  292113146  -4549059"
      ]
     },
     "execution_count": 338,
     "metadata": {},
     "output_type": "execute_result"
    }
   ],
   "source": [
    "df2.sort_values('수출건수').iloc[-2:]"
   ]
  },
  {
   "cell_type": "code",
   "execution_count": 351,
   "metadata": {},
   "outputs": [
    {
     "data": {
      "text/plain": [
       "'115,245,654'"
      ]
     },
     "execution_count": 351,
     "metadata": {},
     "output_type": "execute_result"
    }
   ],
   "source": [
    "format(115245654,',') ## 숫자의 세자리마다 ,찍기"
   ]
  },
  {
   "cell_type": "markdown",
   "metadata": {},
   "source": [
    "### 실습 2-3"
   ]
  },
  {
   "cell_type": "code",
   "execution_count": 28,
   "metadata": {},
   "outputs": [
    {
     "data": {
      "text/plain": [
       "2606765.388888889"
      ]
     },
     "execution_count": 28,
     "metadata": {},
     "output_type": "execute_result"
    }
   ],
   "source": [
    "mean_1 = df2['수입건수'].mean()\n",
    "mean_1"
   ]
  },
  {
   "cell_type": "code",
   "execution_count": 30,
   "metadata": {},
   "outputs": [
    {
     "ename": "ValueError",
     "evalue": "Length of values (1) does not match length of index (18)",
     "output_type": "error",
     "traceback": [
      "\u001b[1;31m---------------------------------------------------------------------------\u001b[0m",
      "\u001b[1;31mValueError\u001b[0m                                Traceback (most recent call last)",
      "Cell \u001b[1;32mIn[30], line 3\u001b[0m\n\u001b[0;32m      1\u001b[0m arr1 \u001b[39m=\u001b[39m np\u001b[39m.\u001b[39marray([df2[\u001b[39m'\u001b[39m\u001b[39m수입건수\u001b[39m\u001b[39m'\u001b[39m]]) \u001b[39m# np는 [0,0,0,0,0] 이고 df는 세로이기 때문에 사이즈가 달라서 연산이 안됨\u001b[39;00m\n\u001b[0;32m      2\u001b[0m arr1                                                         \n\u001b[1;32m----> 3\u001b[0m df2[\u001b[39m'\u001b[39;49m\u001b[39m편차_수입건수\u001b[39;49m\u001b[39m'\u001b[39;49m] \u001b[39m=\u001b[39m arr1 \u001b[39m-\u001b[39m \u001b[39m2606765\u001b[39m\n",
      "File \u001b[1;32mc:\\Users\\user\\AppData\\Local\\Programs\\Python\\Python311\\Lib\\site-packages\\pandas\\core\\frame.py:3978\u001b[0m, in \u001b[0;36mDataFrame.__setitem__\u001b[1;34m(self, key, value)\u001b[0m\n\u001b[0;32m   3975\u001b[0m     \u001b[39mself\u001b[39m\u001b[39m.\u001b[39m_setitem_array([key], value)\n\u001b[0;32m   3976\u001b[0m \u001b[39melse\u001b[39;00m:\n\u001b[0;32m   3977\u001b[0m     \u001b[39m# set column\u001b[39;00m\n\u001b[1;32m-> 3978\u001b[0m     \u001b[39mself\u001b[39;49m\u001b[39m.\u001b[39;49m_set_item(key, value)\n",
      "File \u001b[1;32mc:\\Users\\user\\AppData\\Local\\Programs\\Python\\Python311\\Lib\\site-packages\\pandas\\core\\frame.py:4172\u001b[0m, in \u001b[0;36mDataFrame._set_item\u001b[1;34m(self, key, value)\u001b[0m\n\u001b[0;32m   4162\u001b[0m \u001b[39mdef\u001b[39;00m \u001b[39m_set_item\u001b[39m(\u001b[39mself\u001b[39m, key, value) \u001b[39m-\u001b[39m\u001b[39m>\u001b[39m \u001b[39mNone\u001b[39;00m:\n\u001b[0;32m   4163\u001b[0m \u001b[39m    \u001b[39m\u001b[39m\"\"\"\u001b[39;00m\n\u001b[0;32m   4164\u001b[0m \u001b[39m    Add series to DataFrame in specified column.\u001b[39;00m\n\u001b[0;32m   4165\u001b[0m \n\u001b[1;32m   (...)\u001b[0m\n\u001b[0;32m   4170\u001b[0m \u001b[39m    ensure homogeneity.\u001b[39;00m\n\u001b[0;32m   4171\u001b[0m \u001b[39m    \"\"\"\u001b[39;00m\n\u001b[1;32m-> 4172\u001b[0m     value \u001b[39m=\u001b[39m \u001b[39mself\u001b[39;49m\u001b[39m.\u001b[39;49m_sanitize_column(value)\n\u001b[0;32m   4174\u001b[0m     \u001b[39mif\u001b[39;00m (\n\u001b[0;32m   4175\u001b[0m         key \u001b[39min\u001b[39;00m \u001b[39mself\u001b[39m\u001b[39m.\u001b[39mcolumns\n\u001b[0;32m   4176\u001b[0m         \u001b[39mand\u001b[39;00m value\u001b[39m.\u001b[39mndim \u001b[39m==\u001b[39m \u001b[39m1\u001b[39m\n\u001b[0;32m   4177\u001b[0m         \u001b[39mand\u001b[39;00m \u001b[39mnot\u001b[39;00m is_extension_array_dtype(value)\n\u001b[0;32m   4178\u001b[0m     ):\n\u001b[0;32m   4179\u001b[0m         \u001b[39m# broadcast across multiple columns if necessary\u001b[39;00m\n\u001b[0;32m   4180\u001b[0m         \u001b[39mif\u001b[39;00m \u001b[39mnot\u001b[39;00m \u001b[39mself\u001b[39m\u001b[39m.\u001b[39mcolumns\u001b[39m.\u001b[39mis_unique \u001b[39mor\u001b[39;00m \u001b[39misinstance\u001b[39m(\u001b[39mself\u001b[39m\u001b[39m.\u001b[39mcolumns, MultiIndex):\n",
      "File \u001b[1;32mc:\\Users\\user\\AppData\\Local\\Programs\\Python\\Python311\\Lib\\site-packages\\pandas\\core\\frame.py:4912\u001b[0m, in \u001b[0;36mDataFrame._sanitize_column\u001b[1;34m(self, value)\u001b[0m\n\u001b[0;32m   4909\u001b[0m     \u001b[39mreturn\u001b[39;00m _reindex_for_setitem(Series(value), \u001b[39mself\u001b[39m\u001b[39m.\u001b[39mindex)\n\u001b[0;32m   4911\u001b[0m \u001b[39mif\u001b[39;00m is_list_like(value):\n\u001b[1;32m-> 4912\u001b[0m     com\u001b[39m.\u001b[39;49mrequire_length_match(value, \u001b[39mself\u001b[39;49m\u001b[39m.\u001b[39;49mindex)\n\u001b[0;32m   4913\u001b[0m \u001b[39mreturn\u001b[39;00m sanitize_array(value, \u001b[39mself\u001b[39m\u001b[39m.\u001b[39mindex, copy\u001b[39m=\u001b[39m\u001b[39mTrue\u001b[39;00m, allow_2d\u001b[39m=\u001b[39m\u001b[39mTrue\u001b[39;00m)\n",
      "File \u001b[1;32mc:\\Users\\user\\AppData\\Local\\Programs\\Python\\Python311\\Lib\\site-packages\\pandas\\core\\common.py:561\u001b[0m, in \u001b[0;36mrequire_length_match\u001b[1;34m(data, index)\u001b[0m\n\u001b[0;32m    557\u001b[0m \u001b[39m\u001b[39m\u001b[39m\"\"\"\u001b[39;00m\n\u001b[0;32m    558\u001b[0m \u001b[39mCheck the length of data matches the length of the index.\u001b[39;00m\n\u001b[0;32m    559\u001b[0m \u001b[39m\"\"\"\u001b[39;00m\n\u001b[0;32m    560\u001b[0m \u001b[39mif\u001b[39;00m \u001b[39mlen\u001b[39m(data) \u001b[39m!=\u001b[39m \u001b[39mlen\u001b[39m(index):\n\u001b[1;32m--> 561\u001b[0m     \u001b[39mraise\u001b[39;00m \u001b[39mValueError\u001b[39;00m(\n\u001b[0;32m    562\u001b[0m         \u001b[39m\"\u001b[39m\u001b[39mLength of values \u001b[39m\u001b[39m\"\u001b[39m\n\u001b[0;32m    563\u001b[0m         \u001b[39mf\u001b[39m\u001b[39m\"\u001b[39m\u001b[39m(\u001b[39m\u001b[39m{\u001b[39;00m\u001b[39mlen\u001b[39m(data)\u001b[39m}\u001b[39;00m\u001b[39m) \u001b[39m\u001b[39m\"\u001b[39m\n\u001b[0;32m    564\u001b[0m         \u001b[39m\"\u001b[39m\u001b[39mdoes not match length of index \u001b[39m\u001b[39m\"\u001b[39m\n\u001b[0;32m    565\u001b[0m         \u001b[39mf\u001b[39m\u001b[39m\"\u001b[39m\u001b[39m(\u001b[39m\u001b[39m{\u001b[39;00m\u001b[39mlen\u001b[39m(index)\u001b[39m}\u001b[39;00m\u001b[39m)\u001b[39m\u001b[39m\"\u001b[39m\n\u001b[0;32m    566\u001b[0m     )\n",
      "\u001b[1;31mValueError\u001b[0m: Length of values (1) does not match length of index (18)"
     ]
    }
   ],
   "source": [
    "arr1 = np.array([df2['수입건수']]) # np는 [0,0,0,0,0] 이고 df는 세로이기 때문에 사이즈가 달라서 연산이 안됨\n",
    "arr1                                                         \n",
    "df2['편차_수입건수'] = arr1 - 2606765"
   ]
  },
  {
   "cell_type": "code",
   "execution_count": 31,
   "metadata": {},
   "outputs": [
    {
     "data": {
      "text/plain": [
       "2606765.388888889"
      ]
     },
     "execution_count": 31,
     "metadata": {},
     "output_type": "execute_result"
    }
   ],
   "source": [
    "import_mean = df2['수입건수'].mean()\n",
    "import_mean"
   ]
  },
  {
   "cell_type": "code",
   "execution_count": 32,
   "metadata": {},
   "outputs": [],
   "source": [
    "dev_min =  [9999999999,0]\n",
    "for i in df2.index:\n",
    "    dev = df2.loc[i,'수입건수'] - import_mean\n",
    "    \n",
    "    if dev_min[0] > abs(dev): ## 절댓값 구하는 함수 abs\n",
    "        dev_min = [abs(dev),i]"
   ]
  },
  {
   "cell_type": "code",
   "execution_count": 33,
   "metadata": {},
   "outputs": [
    {
     "data": {
      "text/plain": [
       "[766778.388888889, 7]"
      ]
     },
     "execution_count": 33,
     "metadata": {},
     "output_type": "execute_result"
    }
   ],
   "source": [
    "dev_min"
   ]
  },
  {
   "cell_type": "code",
   "execution_count": 34,
   "metadata": {},
   "outputs": [
    {
     "data": {
      "text/plain": [
       "7     7.667784e+05\n",
       "5     1.746393e+06\n",
       "17    2.046676e+06\n",
       "2     2.127380e+06\n",
       "3     2.151202e+06\n",
       "8     2.220258e+06\n",
       "13    2.277316e+06\n",
       "9     2.424110e+06\n",
       "6     2.454831e+06\n",
       "1     2.531276e+06\n",
       "15    2.560385e+06\n",
       "12    2.590212e+06\n",
       "14    2.595479e+06\n",
       "16    2.596741e+06\n",
       "11    2.596762e+06\n",
       "10    4.168351e+06\n",
       "0     9.337780e+06\n",
       "4     1.592491e+07\n",
       "Name: 수입건수, dtype: float64"
      ]
     },
     "execution_count": 34,
     "metadata": {},
     "output_type": "execute_result"
    }
   ],
   "source": [
    "import_calc = df2['수입건수'] - import_mean\n",
    "import_calc = import_calc.apply(lambda x: abs(x))\n",
    "import_calc.sort_values()"
   ]
  },
  {
   "cell_type": "markdown",
   "metadata": {},
   "source": [
    "## 실습 3\n",
    "* 교육인원을 아래 조건에 따라 3그룹으로 나눕니다.\n",
    "    * 30명 이하 그룹\n",
    "    * 500명 이하 그룹\n",
    "    * 500명 초과 그룹\n",
    "* 각 그룹별로 어느 지역이 가장 많은지 살펴봅시다."
   ]
  },
  {
   "cell_type": "code",
   "execution_count": 184,
   "metadata": {},
   "outputs": [
    {
     "data": {
      "text/html": [
       "<div>\n",
       "<style scoped>\n",
       "    .dataframe tbody tr th:only-of-type {\n",
       "        vertical-align: middle;\n",
       "    }\n",
       "\n",
       "    .dataframe tbody tr th {\n",
       "        vertical-align: top;\n",
       "    }\n",
       "\n",
       "    .dataframe thead th {\n",
       "        text-align: right;\n",
       "    }\n",
       "</style>\n",
       "<table border=\"1\" class=\"dataframe\">\n",
       "  <thead>\n",
       "    <tr style=\"text-align: right;\">\n",
       "      <th></th>\n",
       "      <th>교육일자</th>\n",
       "      <th>지부코드</th>\n",
       "      <th>교육구분</th>\n",
       "      <th>교육구분_1</th>\n",
       "      <th>교육장소</th>\n",
       "      <th>교육인원</th>\n",
       "      <th>교육시작시간</th>\n",
       "      <th>교육종료시간</th>\n",
       "    </tr>\n",
       "    <tr>\n",
       "      <th>실적번호</th>\n",
       "      <th></th>\n",
       "      <th></th>\n",
       "      <th></th>\n",
       "      <th></th>\n",
       "      <th></th>\n",
       "      <th></th>\n",
       "      <th></th>\n",
       "      <th></th>\n",
       "    </tr>\n",
       "  </thead>\n",
       "  <tbody>\n",
       "    <tr>\n",
       "      <th>777624</th>\n",
       "      <td>2020-01-07</td>\n",
       "      <td>인천지부</td>\n",
       "      <td>3</td>\n",
       "      <td>기관/단체, 기업체 등 교통안전교육</td>\n",
       "      <td>171연대</td>\n",
       "      <td>162</td>\n",
       "      <td>10:00:00</td>\n",
       "      <td>12:00:00</td>\n",
       "    </tr>\n",
       "    <tr>\n",
       "      <th>777625</th>\n",
       "      <td>2020-01-07</td>\n",
       "      <td>인천지부</td>\n",
       "      <td>3</td>\n",
       "      <td>기관/단체, 기업체 등 교통안전교육</td>\n",
       "      <td>172연대</td>\n",
       "      <td>43</td>\n",
       "      <td>14:00:00</td>\n",
       "      <td>16:00:00</td>\n",
       "    </tr>\n",
       "  </tbody>\n",
       "</table>\n",
       "</div>"
      ],
      "text/plain": [
       "              교육일자  지부코드  교육구분               교육구분_1   교육장소  교육인원    교육시작시간  \\\n",
       "실적번호                                                                         \n",
       "777624  2020-01-07  인천지부     3  기관/단체, 기업체 등 교통안전교육  171연대   162  10:00:00   \n",
       "777625  2020-01-07  인천지부     3  기관/단체, 기업체 등 교통안전교육  172연대    43  14:00:00   \n",
       "\n",
       "          교육종료시간  \n",
       "실적번호              \n",
       "777624  12:00:00  \n",
       "777625  16:00:00  "
      ]
     },
     "execution_count": 184,
     "metadata": {},
     "output_type": "execute_result"
    }
   ],
   "source": [
    "df3 = pd.read_csv('C:/Users/user/Desktop/230102~/실습 데이터/도로교통공단_사회교육_교육실적정보_20201231.csv',\n",
    "                  encoding='cp949',index_col=0)\n",
    "df3.head(2)"
   ]
  },
  {
   "cell_type": "code",
   "execution_count": 369,
   "metadata": {},
   "outputs": [
    {
     "data": {
      "text/plain": [
       "31.516191904047975"
      ]
     },
     "execution_count": 369,
     "metadata": {},
     "output_type": "execute_result"
    }
   ],
   "source": [
    "df3['교육인원'].mean()"
   ]
  },
  {
   "cell_type": "code",
   "execution_count": 370,
   "metadata": {},
   "outputs": [
    {
     "data": {
      "text/plain": [
       "1000"
      ]
     },
     "execution_count": 370,
     "metadata": {},
     "output_type": "execute_result"
    }
   ],
   "source": [
    "df3['교육인원'].max()"
   ]
  },
  {
   "cell_type": "code",
   "execution_count": 185,
   "metadata": {},
   "outputs": [
    {
     "data": {
      "text/html": [
       "<div>\n",
       "<style scoped>\n",
       "    .dataframe tbody tr th:only-of-type {\n",
       "        vertical-align: middle;\n",
       "    }\n",
       "\n",
       "    .dataframe tbody tr th {\n",
       "        vertical-align: top;\n",
       "    }\n",
       "\n",
       "    .dataframe thead th {\n",
       "        text-align: right;\n",
       "    }\n",
       "</style>\n",
       "<table border=\"1\" class=\"dataframe\">\n",
       "  <thead>\n",
       "    <tr style=\"text-align: right;\">\n",
       "      <th></th>\n",
       "      <th>교육일자</th>\n",
       "      <th>지부코드</th>\n",
       "      <th>교육구분</th>\n",
       "      <th>교육구분_1</th>\n",
       "      <th>교육장소</th>\n",
       "      <th>교육인원</th>\n",
       "      <th>교육시작시간</th>\n",
       "      <th>교육종료시간</th>\n",
       "    </tr>\n",
       "    <tr>\n",
       "      <th>실적번호</th>\n",
       "      <th></th>\n",
       "      <th></th>\n",
       "      <th></th>\n",
       "      <th></th>\n",
       "      <th></th>\n",
       "      <th></th>\n",
       "      <th></th>\n",
       "      <th></th>\n",
       "    </tr>\n",
       "  </thead>\n",
       "  <tbody>\n",
       "    <tr>\n",
       "      <th>777867</th>\n",
       "      <td>2020-01-10</td>\n",
       "      <td>경북지부</td>\n",
       "      <td>2</td>\n",
       "      <td>청소년 교통안전교육</td>\n",
       "      <td>구미 보호관찰소</td>\n",
       "      <td>5</td>\n",
       "      <td>13:00:00</td>\n",
       "      <td>16:00:00</td>\n",
       "    </tr>\n",
       "    <tr>\n",
       "      <th>777961</th>\n",
       "      <td>2020-01-15</td>\n",
       "      <td>인천지부</td>\n",
       "      <td>4</td>\n",
       "      <td>노인 교통안전교육</td>\n",
       "      <td>인천노인인력개발센터</td>\n",
       "      <td>25</td>\n",
       "      <td>10:00:00</td>\n",
       "      <td>11:00:00</td>\n",
       "    </tr>\n",
       "    <tr>\n",
       "      <th>777971</th>\n",
       "      <td>2020-01-21</td>\n",
       "      <td>인천지부</td>\n",
       "      <td>4</td>\n",
       "      <td>노인 교통안전교육</td>\n",
       "      <td>인천노인인력개발센터</td>\n",
       "      <td>25</td>\n",
       "      <td>10:00:00</td>\n",
       "      <td>11:00:00</td>\n",
       "    </tr>\n",
       "    <tr>\n",
       "      <th>778003</th>\n",
       "      <td>2020-01-20</td>\n",
       "      <td>대구지부</td>\n",
       "      <td>2</td>\n",
       "      <td>청소년 교통안전교육</td>\n",
       "      <td>대구행복한미래제단 301호</td>\n",
       "      <td>20</td>\n",
       "      <td>15:00:00</td>\n",
       "      <td>16:00:00</td>\n",
       "    </tr>\n",
       "    <tr>\n",
       "      <th>778004</th>\n",
       "      <td>2020-01-30</td>\n",
       "      <td>대구지부</td>\n",
       "      <td>3</td>\n",
       "      <td>기관/단체, 기업체 등 교통안전교육</td>\n",
       "      <td>공군 제16전투비행단</td>\n",
       "      <td>10</td>\n",
       "      <td>10:30:00</td>\n",
       "      <td>11:30:00</td>\n",
       "    </tr>\n",
       "    <tr>\n",
       "      <th>...</th>\n",
       "      <td>...</td>\n",
       "      <td>...</td>\n",
       "      <td>...</td>\n",
       "      <td>...</td>\n",
       "      <td>...</td>\n",
       "      <td>...</td>\n",
       "      <td>...</td>\n",
       "      <td>...</td>\n",
       "    </tr>\n",
       "    <tr>\n",
       "      <th>784810</th>\n",
       "      <td>2020-11-12</td>\n",
       "      <td>광주전남지부</td>\n",
       "      <td>1</td>\n",
       "      <td>어린이 교통안전교육</td>\n",
       "      <td>여수 중앙어린이집</td>\n",
       "      <td>8</td>\n",
       "      <td>11:30:00</td>\n",
       "      <td>12:00:00</td>\n",
       "    </tr>\n",
       "    <tr>\n",
       "      <th>784811</th>\n",
       "      <td>2020-11-12</td>\n",
       "      <td>광주전남지부</td>\n",
       "      <td>1</td>\n",
       "      <td>어린이 교통안전교육</td>\n",
       "      <td>여수 중앙어린이집</td>\n",
       "      <td>8</td>\n",
       "      <td>11:30:00</td>\n",
       "      <td>12:00:00</td>\n",
       "    </tr>\n",
       "    <tr>\n",
       "      <th>788112</th>\n",
       "      <td>2020-05-24</td>\n",
       "      <td>울산경남지부</td>\n",
       "      <td>1</td>\n",
       "      <td>어린이 교통안전교육</td>\n",
       "      <td>예다움어린이집</td>\n",
       "      <td>17</td>\n",
       "      <td>10:30:00</td>\n",
       "      <td>11:30:00</td>\n",
       "    </tr>\n",
       "    <tr>\n",
       "      <th>789143</th>\n",
       "      <td>2020-12-04</td>\n",
       "      <td>대구지부</td>\n",
       "      <td>1</td>\n",
       "      <td>어린이 교통안전교육</td>\n",
       "      <td>함지초등병설유치원</td>\n",
       "      <td>20</td>\n",
       "      <td>10:00:00</td>\n",
       "      <td>11:00:00</td>\n",
       "    </tr>\n",
       "    <tr>\n",
       "      <th>790305</th>\n",
       "      <td>2020-11-23</td>\n",
       "      <td>인천지부</td>\n",
       "      <td>3</td>\n",
       "      <td>기관/단체, 기업체 등 교통안전교육</td>\n",
       "      <td>한국가스기술공사 인천지사 교육장</td>\n",
       "      <td>15</td>\n",
       "      <td>16:00:00</td>\n",
       "      <td>17:00:00</td>\n",
       "    </tr>\n",
       "  </tbody>\n",
       "</table>\n",
       "<p>4548 rows × 8 columns</p>\n",
       "</div>"
      ],
      "text/plain": [
       "              교육일자    지부코드  교육구분               교육구분_1               교육장소  \\\n",
       "실적번호                                                                       \n",
       "777867  2020-01-10    경북지부     2           청소년 교통안전교육           구미 보호관찰소   \n",
       "777961  2020-01-15    인천지부     4            노인 교통안전교육         인천노인인력개발센터   \n",
       "777971  2020-01-21    인천지부     4            노인 교통안전교육         인천노인인력개발센터   \n",
       "778003  2020-01-20    대구지부     2           청소년 교통안전교육     대구행복한미래제단 301호   \n",
       "778004  2020-01-30    대구지부     3  기관/단체, 기업체 등 교통안전교육        공군 제16전투비행단   \n",
       "...            ...     ...   ...                  ...                ...   \n",
       "784810  2020-11-12  광주전남지부     1           어린이 교통안전교육          여수 중앙어린이집   \n",
       "784811  2020-11-12  광주전남지부     1           어린이 교통안전교육          여수 중앙어린이집   \n",
       "788112  2020-05-24  울산경남지부     1           어린이 교통안전교육            예다움어린이집   \n",
       "789143  2020-12-04    대구지부     1           어린이 교통안전교육          함지초등병설유치원   \n",
       "790305  2020-11-23    인천지부     3  기관/단체, 기업체 등 교통안전교육  한국가스기술공사 인천지사 교육장   \n",
       "\n",
       "        교육인원    교육시작시간    교육종료시간  \n",
       "실적번호                              \n",
       "777867     5  13:00:00  16:00:00  \n",
       "777961    25  10:00:00  11:00:00  \n",
       "777971    25  10:00:00  11:00:00  \n",
       "778003    20  15:00:00  16:00:00  \n",
       "778004    10  10:30:00  11:30:00  \n",
       "...      ...       ...       ...  \n",
       "784810     8  11:30:00  12:00:00  \n",
       "784811     8  11:30:00  12:00:00  \n",
       "788112    17  10:30:00  11:30:00  \n",
       "789143    20  10:00:00  11:00:00  \n",
       "790305    15  16:00:00  17:00:00  \n",
       "\n",
       "[4548 rows x 8 columns]"
      ]
     },
     "execution_count": 185,
     "metadata": {},
     "output_type": "execute_result"
    }
   ],
   "source": [
    "m = df3['교육인원'] <=30 \n",
    "df_30 = df3[m]\n",
    "df_30 "
   ]
  },
  {
   "cell_type": "code",
   "execution_count": 186,
   "metadata": {},
   "outputs": [],
   "source": [
    "def dev_people(x):\n",
    "    if x > 500:\n",
    "        return '500명 초과'\n",
    "    elif x <= 500 and x> 30:\n",
    "        return '500명 이하'\n",
    "    elif x <=30:\n",
    "        return '30명 이하'\n",
    "df3['교육인원그룹'] = df3['교육인원'].apply(lambda x: dev_people(x))    "
   ]
  },
  {
   "cell_type": "code",
   "execution_count": 187,
   "metadata": {},
   "outputs": [
    {
     "data": {
      "text/html": [
       "<div>\n",
       "<style scoped>\n",
       "    .dataframe tbody tr th:only-of-type {\n",
       "        vertical-align: middle;\n",
       "    }\n",
       "\n",
       "    .dataframe tbody tr th {\n",
       "        vertical-align: top;\n",
       "    }\n",
       "\n",
       "    .dataframe thead th {\n",
       "        text-align: right;\n",
       "    }\n",
       "</style>\n",
       "<table border=\"1\" class=\"dataframe\">\n",
       "  <thead>\n",
       "    <tr style=\"text-align: right;\">\n",
       "      <th></th>\n",
       "      <th>교육일자</th>\n",
       "      <th>지부코드</th>\n",
       "      <th>교육구분</th>\n",
       "      <th>교육구분_1</th>\n",
       "      <th>교육장소</th>\n",
       "      <th>교육인원</th>\n",
       "      <th>교육시작시간</th>\n",
       "      <th>교육종료시간</th>\n",
       "      <th>교육인원그룹</th>\n",
       "    </tr>\n",
       "    <tr>\n",
       "      <th>실적번호</th>\n",
       "      <th></th>\n",
       "      <th></th>\n",
       "      <th></th>\n",
       "      <th></th>\n",
       "      <th></th>\n",
       "      <th></th>\n",
       "      <th></th>\n",
       "      <th></th>\n",
       "      <th></th>\n",
       "    </tr>\n",
       "  </thead>\n",
       "  <tbody>\n",
       "    <tr>\n",
       "      <th>777867</th>\n",
       "      <td>2020-01-10</td>\n",
       "      <td>경북지부</td>\n",
       "      <td>2</td>\n",
       "      <td>청소년 교통안전교육</td>\n",
       "      <td>구미 보호관찰소</td>\n",
       "      <td>5</td>\n",
       "      <td>13:00:00</td>\n",
       "      <td>16:00:00</td>\n",
       "      <td>30명 이하</td>\n",
       "    </tr>\n",
       "    <tr>\n",
       "      <th>777961</th>\n",
       "      <td>2020-01-15</td>\n",
       "      <td>인천지부</td>\n",
       "      <td>4</td>\n",
       "      <td>노인 교통안전교육</td>\n",
       "      <td>인천노인인력개발센터</td>\n",
       "      <td>25</td>\n",
       "      <td>10:00:00</td>\n",
       "      <td>11:00:00</td>\n",
       "      <td>30명 이하</td>\n",
       "    </tr>\n",
       "    <tr>\n",
       "      <th>777971</th>\n",
       "      <td>2020-01-21</td>\n",
       "      <td>인천지부</td>\n",
       "      <td>4</td>\n",
       "      <td>노인 교통안전교육</td>\n",
       "      <td>인천노인인력개발센터</td>\n",
       "      <td>25</td>\n",
       "      <td>10:00:00</td>\n",
       "      <td>11:00:00</td>\n",
       "      <td>30명 이하</td>\n",
       "    </tr>\n",
       "    <tr>\n",
       "      <th>778003</th>\n",
       "      <td>2020-01-20</td>\n",
       "      <td>대구지부</td>\n",
       "      <td>2</td>\n",
       "      <td>청소년 교통안전교육</td>\n",
       "      <td>대구행복한미래제단 301호</td>\n",
       "      <td>20</td>\n",
       "      <td>15:00:00</td>\n",
       "      <td>16:00:00</td>\n",
       "      <td>30명 이하</td>\n",
       "    </tr>\n",
       "    <tr>\n",
       "      <th>778004</th>\n",
       "      <td>2020-01-30</td>\n",
       "      <td>대구지부</td>\n",
       "      <td>3</td>\n",
       "      <td>기관/단체, 기업체 등 교통안전교육</td>\n",
       "      <td>공군 제16전투비행단</td>\n",
       "      <td>10</td>\n",
       "      <td>10:30:00</td>\n",
       "      <td>11:30:00</td>\n",
       "      <td>30명 이하</td>\n",
       "    </tr>\n",
       "    <tr>\n",
       "      <th>...</th>\n",
       "      <td>...</td>\n",
       "      <td>...</td>\n",
       "      <td>...</td>\n",
       "      <td>...</td>\n",
       "      <td>...</td>\n",
       "      <td>...</td>\n",
       "      <td>...</td>\n",
       "      <td>...</td>\n",
       "      <td>...</td>\n",
       "    </tr>\n",
       "    <tr>\n",
       "      <th>784810</th>\n",
       "      <td>2020-11-12</td>\n",
       "      <td>광주전남지부</td>\n",
       "      <td>1</td>\n",
       "      <td>어린이 교통안전교육</td>\n",
       "      <td>여수 중앙어린이집</td>\n",
       "      <td>8</td>\n",
       "      <td>11:30:00</td>\n",
       "      <td>12:00:00</td>\n",
       "      <td>30명 이하</td>\n",
       "    </tr>\n",
       "    <tr>\n",
       "      <th>784811</th>\n",
       "      <td>2020-11-12</td>\n",
       "      <td>광주전남지부</td>\n",
       "      <td>1</td>\n",
       "      <td>어린이 교통안전교육</td>\n",
       "      <td>여수 중앙어린이집</td>\n",
       "      <td>8</td>\n",
       "      <td>11:30:00</td>\n",
       "      <td>12:00:00</td>\n",
       "      <td>30명 이하</td>\n",
       "    </tr>\n",
       "    <tr>\n",
       "      <th>788112</th>\n",
       "      <td>2020-05-24</td>\n",
       "      <td>울산경남지부</td>\n",
       "      <td>1</td>\n",
       "      <td>어린이 교통안전교육</td>\n",
       "      <td>예다움어린이집</td>\n",
       "      <td>17</td>\n",
       "      <td>10:30:00</td>\n",
       "      <td>11:30:00</td>\n",
       "      <td>30명 이하</td>\n",
       "    </tr>\n",
       "    <tr>\n",
       "      <th>789143</th>\n",
       "      <td>2020-12-04</td>\n",
       "      <td>대구지부</td>\n",
       "      <td>1</td>\n",
       "      <td>어린이 교통안전교육</td>\n",
       "      <td>함지초등병설유치원</td>\n",
       "      <td>20</td>\n",
       "      <td>10:00:00</td>\n",
       "      <td>11:00:00</td>\n",
       "      <td>30명 이하</td>\n",
       "    </tr>\n",
       "    <tr>\n",
       "      <th>790305</th>\n",
       "      <td>2020-11-23</td>\n",
       "      <td>인천지부</td>\n",
       "      <td>3</td>\n",
       "      <td>기관/단체, 기업체 등 교통안전교육</td>\n",
       "      <td>한국가스기술공사 인천지사 교육장</td>\n",
       "      <td>15</td>\n",
       "      <td>16:00:00</td>\n",
       "      <td>17:00:00</td>\n",
       "      <td>30명 이하</td>\n",
       "    </tr>\n",
       "  </tbody>\n",
       "</table>\n",
       "<p>4548 rows × 9 columns</p>\n",
       "</div>"
      ],
      "text/plain": [
       "              교육일자    지부코드  교육구분               교육구분_1               교육장소  \\\n",
       "실적번호                                                                       \n",
       "777867  2020-01-10    경북지부     2           청소년 교통안전교육           구미 보호관찰소   \n",
       "777961  2020-01-15    인천지부     4            노인 교통안전교육         인천노인인력개발센터   \n",
       "777971  2020-01-21    인천지부     4            노인 교통안전교육         인천노인인력개발센터   \n",
       "778003  2020-01-20    대구지부     2           청소년 교통안전교육     대구행복한미래제단 301호   \n",
       "778004  2020-01-30    대구지부     3  기관/단체, 기업체 등 교통안전교육        공군 제16전투비행단   \n",
       "...            ...     ...   ...                  ...                ...   \n",
       "784810  2020-11-12  광주전남지부     1           어린이 교통안전교육          여수 중앙어린이집   \n",
       "784811  2020-11-12  광주전남지부     1           어린이 교통안전교육          여수 중앙어린이집   \n",
       "788112  2020-05-24  울산경남지부     1           어린이 교통안전교육            예다움어린이집   \n",
       "789143  2020-12-04    대구지부     1           어린이 교통안전교육          함지초등병설유치원   \n",
       "790305  2020-11-23    인천지부     3  기관/단체, 기업체 등 교통안전교육  한국가스기술공사 인천지사 교육장   \n",
       "\n",
       "        교육인원    교육시작시간    교육종료시간  교육인원그룹  \n",
       "실적번호                                      \n",
       "777867     5  13:00:00  16:00:00  30명 이하  \n",
       "777961    25  10:00:00  11:00:00  30명 이하  \n",
       "777971    25  10:00:00  11:00:00  30명 이하  \n",
       "778003    20  15:00:00  16:00:00  30명 이하  \n",
       "778004    10  10:30:00  11:30:00  30명 이하  \n",
       "...      ...       ...       ...     ...  \n",
       "784810     8  11:30:00  12:00:00  30명 이하  \n",
       "784811     8  11:30:00  12:00:00  30명 이하  \n",
       "788112    17  10:30:00  11:30:00  30명 이하  \n",
       "789143    20  10:00:00  11:00:00  30명 이하  \n",
       "790305    15  16:00:00  17:00:00  30명 이하  \n",
       "\n",
       "[4548 rows x 9 columns]"
      ]
     },
     "execution_count": 187,
     "metadata": {},
     "output_type": "execute_result"
    }
   ],
   "source": [
    "df_30 =df3['교육인원그룹'] == '30명 이하'\n",
    "df3[df_30]"
   ]
  },
  {
   "cell_type": "code",
   "execution_count": 37,
   "metadata": {},
   "outputs": [],
   "source": [
    "## 답안\n",
    "def num_count(x):\n",
    "    if x<=30:\n",
    "        return True\n",
    "    else:\n",
    "        return False"
   ]
  },
  {
   "cell_type": "code",
   "execution_count": 40,
   "metadata": {},
   "outputs": [],
   "source": [
    "query_expr = '30 < 교육인원 <= 500' ## 쿼리함수말고 다른곳에선 사용 불가\n",
    "df_500 = df3.query(query_expr)"
   ]
  },
  {
   "cell_type": "code",
   "execution_count": 42,
   "metadata": {},
   "outputs": [],
   "source": [
    "df_1000 = df3[df3['교육인원'] > 500]"
   ]
  },
  {
   "cell_type": "code",
   "execution_count": 14,
   "metadata": {},
   "outputs": [],
   "source": [
    "m = df3['교육인원'].apply(lambda x: num_count(x))\n",
    "df_30 = df3[m]\n",
    "msg = df_30.value_counts('지부코드').sort_values(ascending=False)"
   ]
  },
  {
   "cell_type": "code",
   "execution_count": 45,
   "metadata": {},
   "outputs": [
    {
     "name": "stdout",
     "output_type": "stream",
     "text": [
      "30명 이하 구간에선 광주전남지부가 942건으로 가장 많았습니다.\n"
     ]
    }
   ],
   "source": [
    "msg = df_30.value_counts('지부코드').sort_values(ascending=False)\n",
    "print(f'30명 이하 구간에선 {msg.index[0]}가 {msg[0]}건으로 가장 많았습니다.')"
   ]
  },
  {
   "cell_type": "code",
   "execution_count": 54,
   "metadata": {},
   "outputs": [
    {
     "data": {
      "text/plain": [
       "'광주전남지부'"
      ]
     },
     "execution_count": 54,
     "metadata": {},
     "output_type": "execute_result"
    }
   ],
   "source": [
    "msg.index[0]"
   ]
  },
  {
   "cell_type": "code",
   "execution_count": 41,
   "metadata": {},
   "outputs": [
    {
     "name": "stdout",
     "output_type": "stream",
     "text": [
      "500명 이하 구간에선 대구지부가 459건으로 가장 많았습니다.\n"
     ]
    }
   ],
   "source": [
    "msg = df_500.value_counts('지부코드').sort_values(ascending=False)\n",
    "print(f'500명 이하 구간에선 {msg.index[0]}가 {msg[0]}건으로 가장 많았습니다.')"
   ]
  },
  {
   "cell_type": "code",
   "execution_count": 43,
   "metadata": {},
   "outputs": [
    {
     "name": "stdout",
     "output_type": "stream",
     "text": [
      "1000명 이하 구간에선 충북지부가 2건으로 가장 많았습니다.\n"
     ]
    }
   ],
   "source": [
    "msg = df_1000.value_counts('지부코드').sort_values(ascending=False)\n",
    "print(f'1000명 이하 구간에선 {msg.index[0]}가 {msg[0]}건으로 가장 많았습니다.')"
   ]
  },
  {
   "cell_type": "markdown",
   "metadata": {},
   "source": [
    "## 실습 4 \n",
    "* 아래 데이터프레임에서 주어진 계산을 해보자\n",
    "    * 자치구명별로 물건금액의 합계를 구한다.(단, 본번 정보가 있는 건물에 한함)\n",
    "    * 신고한 개업공인중개사 시군구명 column에서 NaN값의 개수를 구한다.\n",
    "    * 건물면적이 20평 이상인 건물에 대해서만 물건금액의 평균을 구한다\n",
    "    * 5층 이하인 건물에 대해서만 자치구별로 빈도를 구한다"
   ]
  },
  {
   "cell_type": "markdown",
   "metadata": {},
   "source": [
    "### 결측치 : NaN, None, nan, NA, N/a, NA!,엑셀의 빈 값, 엑셀의 !VALUE\n",
    "* 결측치가 있을 경우, 해당 row를 지우는게 일반적\n",
    "* 단, 결측치가 있는 column이 거의 결측치로 이루어져 있다면, 해당 column을 지우는 것을 권장"
   ]
  },
  {
   "cell_type": "markdown",
   "metadata": {},
   "source": [
    "#### dropna 함수: NaN 값을 지우는 함수\n",
    "* 패러미터를 axis = 1로 받을 경우 column단위로 지움\n",
    "    * 기본값: axis = 0(row단위로 지움)\n",
    "* 패러미터로 how = 'all'로 받을 경우, 모든 row, column이 NaN일 경우 지움"
   ]
  },
  {
   "cell_type": "code",
   "execution_count": null,
   "metadata": {},
   "outputs": [],
   "source": [
    "import pandas as pd\n",
    "df5 = pd.read_csv('C:/Users/user/Desktop/230102~/실습 데이터/서울시 부동산 실거래가 정보.csv',encoding='cp949')\n",
    "df6 = df5.copy()"
   ]
  },
  {
   "cell_type": "code",
   "execution_count": null,
   "metadata": {},
   "outputs": [],
   "source": [
    "df5.head(2)"
   ]
  },
  {
   "cell_type": "code",
   "execution_count": 10,
   "metadata": {},
   "outputs": [
    {
     "data": {
      "text/html": [
       "<div>\n",
       "<style scoped>\n",
       "    .dataframe tbody tr th:only-of-type {\n",
       "        vertical-align: middle;\n",
       "    }\n",
       "\n",
       "    .dataframe tbody tr th {\n",
       "        vertical-align: top;\n",
       "    }\n",
       "\n",
       "    .dataframe thead th {\n",
       "        text-align: right;\n",
       "    }\n",
       "</style>\n",
       "<table border=\"1\" class=\"dataframe\">\n",
       "  <thead>\n",
       "    <tr style=\"text-align: right;\">\n",
       "      <th></th>\n",
       "      <th>본번</th>\n",
       "      <th>신고구분</th>\n",
       "      <th>신고한 개업공인중개사 시군구명</th>\n",
       "    </tr>\n",
       "  </thead>\n",
       "  <tbody>\n",
       "    <tr>\n",
       "      <th>0</th>\n",
       "      <td>43.0</td>\n",
       "      <td>중개거래</td>\n",
       "      <td>서울 송파구</td>\n",
       "    </tr>\n",
       "    <tr>\n",
       "      <th>1</th>\n",
       "      <td>7.0</td>\n",
       "      <td>중개거래</td>\n",
       "      <td>서울 중구</td>\n",
       "    </tr>\n",
       "    <tr>\n",
       "      <th>2</th>\n",
       "      <td>295.0</td>\n",
       "      <td>중개거래</td>\n",
       "      <td>서울 중랑구</td>\n",
       "    </tr>\n",
       "    <tr>\n",
       "      <th>3</th>\n",
       "      <td>425.0</td>\n",
       "      <td>중개거래</td>\n",
       "      <td>서울 강동구</td>\n",
       "    </tr>\n",
       "    <tr>\n",
       "      <th>4</th>\n",
       "      <td>80.0</td>\n",
       "      <td>중개거래</td>\n",
       "      <td>서울 은평구</td>\n",
       "    </tr>\n",
       "    <tr>\n",
       "      <th>...</th>\n",
       "      <td>...</td>\n",
       "      <td>...</td>\n",
       "      <td>...</td>\n",
       "    </tr>\n",
       "    <tr>\n",
       "      <th>639995</th>\n",
       "      <td>56.0</td>\n",
       "      <td>NaN</td>\n",
       "      <td>NaN</td>\n",
       "    </tr>\n",
       "    <tr>\n",
       "      <th>639996</th>\n",
       "      <td>1278.0</td>\n",
       "      <td>NaN</td>\n",
       "      <td>NaN</td>\n",
       "    </tr>\n",
       "    <tr>\n",
       "      <th>639997</th>\n",
       "      <td>271.0</td>\n",
       "      <td>NaN</td>\n",
       "      <td>NaN</td>\n",
       "    </tr>\n",
       "    <tr>\n",
       "      <th>639998</th>\n",
       "      <td>169.0</td>\n",
       "      <td>NaN</td>\n",
       "      <td>NaN</td>\n",
       "    </tr>\n",
       "    <tr>\n",
       "      <th>639999</th>\n",
       "      <td>261.0</td>\n",
       "      <td>NaN</td>\n",
       "      <td>NaN</td>\n",
       "    </tr>\n",
       "  </tbody>\n",
       "</table>\n",
       "<p>640000 rows × 3 columns</p>\n",
       "</div>"
      ],
      "text/plain": [
       "            본번  신고구분 신고한 개업공인중개사 시군구명\n",
       "0         43.0  중개거래           서울 송파구\n",
       "1          7.0  중개거래            서울 중구\n",
       "2        295.0  중개거래           서울 중랑구\n",
       "3        425.0  중개거래           서울 강동구\n",
       "4         80.0  중개거래           서울 은평구\n",
       "...        ...   ...              ...\n",
       "639995    56.0   NaN              NaN\n",
       "639996  1278.0   NaN              NaN\n",
       "639997   271.0   NaN              NaN\n",
       "639998   169.0   NaN              NaN\n",
       "639999   261.0   NaN              NaN\n",
       "\n",
       "[640000 rows x 3 columns]"
      ]
     },
     "execution_count": 10,
     "metadata": {},
     "output_type": "execute_result"
    }
   ],
   "source": [
    "df5.iloc[:,[7,19,20]] # 결측치 : NaN, None, nan, NA, N/a, NA!,엑셀의 빈 값, 엑셀의 !VALUE"
   ]
  },
  {
   "cell_type": "code",
   "execution_count": 63,
   "metadata": {},
   "outputs": [
    {
     "data": {
      "text/plain": [
       "nan"
      ]
     },
     "execution_count": 63,
     "metadata": {},
     "output_type": "execute_result"
    }
   ],
   "source": [
    "float('nan')"
   ]
  },
  {
   "cell_type": "code",
   "execution_count": 188,
   "metadata": {},
   "outputs": [
    {
     "data": {
      "text/plain": [
       "True"
      ]
     },
     "execution_count": 188,
     "metadata": {},
     "output_type": "execute_result"
    }
   ],
   "source": [
    "type(float('nan')) == type(0.996) ## 실수와 타입은 같음"
   ]
  },
  {
   "cell_type": "code",
   "execution_count": 65,
   "metadata": {},
   "outputs": [
    {
     "data": {
      "text/plain": [
       "True"
      ]
     },
     "execution_count": 65,
     "metadata": {},
     "output_type": "execute_result"
    }
   ],
   "source": [
    "0.99 == 0.99"
   ]
  },
  {
   "cell_type": "code",
   "execution_count": 67,
   "metadata": {},
   "outputs": [
    {
     "data": {
      "text/plain": [
       "False"
      ]
     },
     "execution_count": 67,
     "metadata": {},
     "output_type": "execute_result"
    }
   ],
   "source": [
    "float('nan') == float('nan') # 이를 이용해 결측치 제거함"
   ]
  },
  {
   "cell_type": "markdown",
   "metadata": {},
   "source": [
    "#### 실습 4-1"
   ]
  },
  {
   "cell_type": "code",
   "execution_count": 77,
   "metadata": {},
   "outputs": [
    {
     "data": {
      "text/plain": [
       "array(['송파구', '중구', '중랑구', '강동구', '은평구', '동대문구', '금천구', '성동구', '양천구',\n",
       "       '서대문구', '도봉구', '강북구', '동작구', '관악구', '영등포구', '구로구', '서초구', '강서구',\n",
       "       '광진구', '노원구', '강남구', '성북구', '용산구', '종로구', '마포구'], dtype=object)"
      ]
     },
     "execution_count": 77,
     "metadata": {},
     "output_type": "execute_result"
    }
   ],
   "source": [
    "for i in df5['자치구명'].unique():\n",
    "    m = df5['자치구명'] == i\n",
    "    df6 = df5[m]\n"
   ]
  },
  {
   "cell_type": "code",
   "execution_count": 79,
   "metadata": {},
   "outputs": [],
   "source": [
    "df5_na_omit = df5.dropna(subset = ['본번']) ## 본번이 결측치인 행을 제거"
   ]
  },
  {
   "cell_type": "code",
   "execution_count": 83,
   "metadata": {},
   "outputs": [
    {
     "name": "stderr",
     "output_type": "stream",
     "text": [
      "C:\\Users\\user\\AppData\\Local\\Temp\\ipykernel_20376\\647544960.py:3: UserWarning: Boolean Series key will be reindexed to match DataFrame index.\n",
      "  print(i, '\\t', df5_na_omit[m]['물건금액(만원)'].sum(), '\\t만원')\n"
     ]
    },
    {
     "name": "stdout",
     "output_type": "stream",
     "text": [
      "송파구 \t 2714820349 \t만원\n",
      "중구 \t 405634533 \t만원\n",
      "중랑구 \t 795939306 \t만원\n",
      "강동구 \t 1453409556 \t만원\n",
      "은평구 \t 1335816845 \t만원\n",
      "동대문구 \t 883886673 \t만원\n",
      "금천구 \t 670158675 \t만원\n",
      "성동구 \t 1329873851 \t만원\n",
      "양천구 \t 1377262558 \t만원\n",
      "서대문구 \t 896689348 \t만원\n",
      "도봉구 \t 788640613 \t만원\n",
      "강북구 \t 619446115 \t만원\n",
      "동작구 \t 1216723230 \t만원\n",
      "관악구 \t 873649480 \t만원\n",
      "영등포구 \t 1346630498 \t만원\n",
      "구로구 \t 1198229714 \t만원\n",
      "서초구 \t 2633490080 \t만원\n",
      "강서구 \t 1855893441 \t만원\n",
      "광진구 \t 843774183 \t만원\n",
      "노원구 \t 1353330005 \t만원\n",
      "강남구 \t 3159289701 \t만원\n",
      "성북구 \t 1175311100 \t만원\n",
      "용산구 \t 1280016108 \t만원\n",
      "종로구 \t 406760075 \t만원\n",
      "마포구 \t 1463054038 \t만원\n"
     ]
    }
   ],
   "source": [
    "for i in df5_na_omit['자치구명'].unique():\n",
    "    m = df5['자치구명'] == i\n",
    "    print(i, '\\t', df5_na_omit[m]['물건금액(만원)'].sum(), '\\t만원')"
   ]
  },
  {
   "cell_type": "markdown",
   "metadata": {},
   "source": [
    "#### 실습 4-2"
   ]
  },
  {
   "cell_type": "code",
   "execution_count": 58,
   "metadata": {},
   "outputs": [
    {
     "data": {
      "text/plain": [
       "462901"
      ]
     },
     "execution_count": 58,
     "metadata": {},
     "output_type": "execute_result"
    }
   ],
   "source": [
    "df5['신고한 개업공인중개사 시군구명'].isnull().sum()"
   ]
  },
  {
   "cell_type": "code",
   "execution_count": 189,
   "metadata": {},
   "outputs": [
    {
     "data": {
      "text/plain": [
       "462901"
      ]
     },
     "execution_count": 189,
     "metadata": {},
     "output_type": "execute_result"
    }
   ],
   "source": [
    "## 답안\n",
    "ind = 0\n",
    "for i in df5['신고한 개업공인중개사 시군구명']:\n",
    "    if i==i:\n",
    "        pass\n",
    "    else:\n",
    "        ind +=1\n",
    "    ind\n",
    "ind"
   ]
  },
  {
   "cell_type": "code",
   "execution_count": 98,
   "metadata": {},
   "outputs": [
    {
     "data": {
      "text/html": [
       "<div>\n",
       "<style scoped>\n",
       "    .dataframe tbody tr th:only-of-type {\n",
       "        vertical-align: middle;\n",
       "    }\n",
       "\n",
       "    .dataframe tbody tr th {\n",
       "        vertical-align: top;\n",
       "    }\n",
       "\n",
       "    .dataframe thead th {\n",
       "        text-align: right;\n",
       "    }\n",
       "</style>\n",
       "<table border=\"1\" class=\"dataframe\">\n",
       "  <thead>\n",
       "    <tr style=\"text-align: right;\">\n",
       "      <th></th>\n",
       "      <th>신고한 개업공인중개사 시군구명</th>\n",
       "    </tr>\n",
       "  </thead>\n",
       "  <tbody>\n",
       "    <tr>\n",
       "      <th>NaN</th>\n",
       "      <td>462901</td>\n",
       "    </tr>\n",
       "    <tr>\n",
       "      <th>서울 강서구</th>\n",
       "      <td>16236</td>\n",
       "    </tr>\n",
       "    <tr>\n",
       "      <th>서울 강남구</th>\n",
       "      <td>11468</td>\n",
       "    </tr>\n",
       "    <tr>\n",
       "      <th>서울 은평구</th>\n",
       "      <td>10050</td>\n",
       "    </tr>\n",
       "    <tr>\n",
       "      <th>서울 송파구</th>\n",
       "      <td>9977</td>\n",
       "    </tr>\n",
       "    <tr>\n",
       "      <th>...</th>\n",
       "      <td>...</td>\n",
       "    </tr>\n",
       "    <tr>\n",
       "      <th>경기 안양만안구 서울 강남구</th>\n",
       "      <td>1</td>\n",
       "    </tr>\n",
       "    <tr>\n",
       "      <th>서울 강남구 제주 제주시</th>\n",
       "      <td>1</td>\n",
       "    </tr>\n",
       "    <tr>\n",
       "      <th>서울 광진구 서울 노원구 서울 중랑구</th>\n",
       "      <td>1</td>\n",
       "    </tr>\n",
       "    <tr>\n",
       "      <th>경기 성남수정구 서울 강남구 서울 송파구</th>\n",
       "      <td>1</td>\n",
       "    </tr>\n",
       "    <tr>\n",
       "      <th>경기 수원장안구 서울 구로구</th>\n",
       "      <td>1</td>\n",
       "    </tr>\n",
       "  </tbody>\n",
       "</table>\n",
       "<p>736 rows × 1 columns</p>\n",
       "</div>"
      ],
      "text/plain": [
       "                        신고한 개업공인중개사 시군구명\n",
       "NaN                               462901\n",
       "서울 강서구                             16236\n",
       "서울 강남구                             11468\n",
       "서울 은평구                             10050\n",
       "서울 송파구                              9977\n",
       "...                                  ...\n",
       "경기 안양만안구 서울 강남구                        1\n",
       "서울 강남구 제주 제주시                          1\n",
       "서울 광진구 서울 노원구 서울 중랑구                   1\n",
       "경기 성남수정구 서울 강남구 서울 송파구                 1\n",
       "경기 수원장안구 서울 구로구                        1\n",
       "\n",
       "[736 rows x 1 columns]"
      ]
     },
     "execution_count": 98,
     "metadata": {},
     "output_type": "execute_result"
    }
   ],
   "source": [
    "df6 = df5['신고한 개업공인중개사 시군구명'].value_counts(dropna= False).to_frame()\n",
    "df6"
   ]
  },
  {
   "cell_type": "markdown",
   "metadata": {},
   "source": [
    "#### 실습 4-3"
   ]
  },
  {
   "cell_type": "code",
   "execution_count": 190,
   "metadata": {},
   "outputs": [
    {
     "data": {
      "text/plain": [
       "119123"
      ]
     },
     "execution_count": 190,
     "metadata": {},
     "output_type": "execute_result"
    }
   ],
   "source": [
    "df_20  =df5[df5['건물면적(㎡)'] >=3.3 * 20] ## 실습 4\n",
    "int(df_20['물건금액(만원)'].mean())"
   ]
  },
  {
   "cell_type": "markdown",
   "metadata": {},
   "source": [
    "#### 실습 4-4"
   ]
  },
  {
   "cell_type": "code",
   "execution_count": 124,
   "metadata": {},
   "outputs": [
    {
     "data": {
      "text/plain": [
       "array(['송파구', '중랑구', '은평구', '금천구', '성동구', '양천구', '강동구', '서대문구', '도봉구',\n",
       "       '동작구', '관악구', '영등포구', '구로구', '서초구', '강서구', '광진구', '노원구', '강북구',\n",
       "       '성북구', '용산구', '동대문구', '종로구', '마포구', '중구', '강남구'], dtype=object)"
      ]
     },
     "execution_count": 124,
     "metadata": {},
     "output_type": "execute_result"
    }
   ],
   "source": [
    "df_5 = df5['층'] <= 5\n",
    "df6 = df5[df_5]\n",
    "df6['자치구명'].unique()"
   ]
  },
  {
   "cell_type": "code",
   "execution_count": null,
   "metadata": {},
   "outputs": [],
   "source": [
    "df5[df_5]"
   ]
  },
  {
   "cell_type": "code",
   "execution_count": 112,
   "metadata": {},
   "outputs": [],
   "source": [
    "## 답안\n",
    "import pandas as pd\n",
    "m = df5['층'] <= 5\n",
    "df_h = df5[m]"
   ]
  },
  {
   "cell_type": "code",
   "execution_count": 119,
   "metadata": {},
   "outputs": [
    {
     "data": {
      "text/plain": [
       "강서구     33643\n",
       "은평구     28348\n",
       "송파구     20452\n",
       "구로구     19641\n",
       "양천구     19028\n",
       "강북구     16696\n",
       "도봉구     15919\n",
       "강동구     15593\n",
       "관악구     15312\n",
       "마포구     14644\n",
       "중랑구     14260\n",
       "성북구     13335\n",
       "강남구     13315\n",
       "금천구     13252\n",
       "동작구     13215\n",
       "노원구     12997\n",
       "서초구     12655\n",
       "광진구     10986\n",
       "서대문구    10786\n",
       "영등포구    10230\n",
       "동대문구     8181\n",
       "용산구      7830\n",
       "성동구      6319\n",
       "종로구      5079\n",
       "중구       3452\n",
       "Name: 자치구명, dtype: int64"
      ]
     },
     "execution_count": 119,
     "metadata": {},
     "output_type": "execute_result"
    }
   ],
   "source": [
    "df_h['자치구명'].value_counts()"
   ]
  },
  {
   "cell_type": "markdown",
   "metadata": {},
   "source": [
    "# 230109과제\n",
    "* 판다스와 넘파이를 이용한 데이터 이용\n",
    "* 주어진 데이터프레임에서 아래 처리를 한다.\n",
    "* 뒤에서 3번째 순서의 column을 df_to_arr 파일로 저장(바이너리 파일로)\n",
    "* 임의의 범위를 슬라이싱한 뒤, 넘파이를 이용해 행렬곱 구하기"
   ]
  },
  {
   "cell_type": "code",
   "execution_count": 175,
   "metadata": {},
   "outputs": [
    {
     "data": {
      "text/plain": [
       "0         연립다세대\n",
       "1          오피스텔\n",
       "2         연립다세대\n",
       "3          오피스텔\n",
       "4         연립다세대\n",
       "          ...  \n",
       "639995      아파트\n",
       "639996      아파트\n",
       "639997      아파트\n",
       "639998    연립다세대\n",
       "639999    연립다세대\n",
       "Name: 건물용도, Length: 640000, dtype: object"
      ]
     },
     "execution_count": 175,
     "metadata": {},
     "output_type": "execute_result"
    }
   ],
   "source": [
    "df5.iloc[:,-3]"
   ]
  },
  {
   "cell_type": "code",
   "execution_count": 191,
   "metadata": {},
   "outputs": [],
   "source": [
    "np.array(df5.iloc[:,-3])\n",
    "np.savez('./df_to_arr.npy',np.array(df5.iloc[:,-3]))"
   ]
  },
  {
   "cell_type": "code",
   "execution_count": 179,
   "metadata": {},
   "outputs": [],
   "source": [
    "np1 = df5[['건물면적(㎡)','토지면적(㎡)','층']][50:53]\n",
    "np2 = df5[['건물면적(㎡)','토지면적(㎡)','층']][100:106]\n",
    "np1 = np.array(np1)\n",
    "np2 = np.array(np2)"
   ]
  },
  {
   "cell_type": "code",
   "execution_count": 180,
   "metadata": {},
   "outputs": [
    {
     "data": {
      "text/plain": [
       "array([[2233.8149, 1442.8332,  175.17  ],\n",
       "       [3176.0636, 2050.0848,  227.8   ],\n",
       "       [3864.3871, 2495.0628,  301.53  ],\n",
       "       [ 989.1641,  645.0588,   74.74  ],\n",
       "       [2077.0681, 1341.7308,  163.98  ],\n",
       "       [2201.6649, 1421.5932,  172.17  ]])"
      ]
     },
     "execution_count": 180,
     "metadata": {},
     "output_type": "execute_result"
    }
   ],
   "source": [
    "np2.dot(np1)"
   ]
  },
  {
   "cell_type": "code",
   "execution_count": null,
   "metadata": {},
   "outputs": [],
   "source": []
  }
 ],
 "metadata": {
  "kernelspec": {
   "display_name": "Python 3.11.1 64-bit",
   "language": "python",
   "name": "python3"
  },
  "language_info": {
   "codemirror_mode": {
    "name": "ipython",
    "version": 3
   },
   "file_extension": ".py",
   "mimetype": "text/x-python",
   "name": "python",
   "nbconvert_exporter": "python",
   "pygments_lexer": "ipython3",
   "version": "3.11.1"
  },
  "orig_nbformat": 4,
  "vscode": {
   "interpreter": {
    "hash": "de47f5c92c0ee6f12a59a5613ac5feff6aab19ddff207ba0b3964cced08c4ccc"
   }
  }
 },
 "nbformat": 4,
 "nbformat_minor": 2
}
