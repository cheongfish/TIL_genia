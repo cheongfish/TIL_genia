{
 "cells": [
  {
   "cell_type": "markdown",
   "metadata": {},
   "source": [
    "## 데이터 축소\n",
    "분석이 불가한 데이터를 저차원, 저용량으로 축소<br>\n",
    "컬럼이 늘어나면 통계 분석 시간이 산술기하급수적으로 증가함\n",
    "* 차원 축소(컬럼 갯수)\n",
    "    * 컬럼 개수를 줄이는 것\n",
    "    * 데이터의 특징에 따라 다름\n",
    "* 유효숫자 변경\n",
    "    * 숫자 단위를 변경하는 것 (예시 7억원에서 원단위를 억원으로 바꾸는 것)\n",
    "    * 득보다 실이 많을 때 안하는걸 권장\n",
    "* 데이터 용량 축소 (PCA,LBA)\n",
    "    * 서버에서 작업할 때 중요함\n",
    "    * 메모리에서 오버플로우가 발생할 때\n",
    "    * 작업속도가 중요한 경우\n",
    "    * 중간산출물을 저장하고 불러올때, 입출력 지연이 생김\n",
    "    * 바이너리 파일(npz)입출력 속도가 가장 빠름\n",
    "* 수량 감소 - 정보를 날리는 작업\n",
    "    * 패러미터만 남기고 삭제 (값만 남기는 작업), 아는 내용은 중복에서 적지 않는 관점과 동일\n",
    "    * 선형 회귀\n",
    "    * 히스토그램\n",
    "    * 클러스터링 \n",
    "        * 데이터를 집단별로 묶는 방법, 개별값은 전부 버림\n",
    "    * 샘플링\n",
    "        * 표본조사와 비슷, 표본으로 추출한 데이터만 남기고, 나머지는 전부 버림\n",
    "        * 신뢰도는 떨어지지만 적은 데이터로 대표성을 나타낼 수 있는 유의미한 결과를 도출할 수 있다는 점에서 경제적임"
   ]
  },
  {
   "cell_type": "markdown",
   "metadata": {},
   "source": [
    "## 데이터 이산화 \n",
    "연속형 데이터를 범주형 데이터로 변경 (바이너리화) 두개로 나누는것 <br>\n",
    "번주형 데이터 :각 변수간 간극이 없고, 변수별로 대소를 비교하지 못할때 <br>\n",
    "(0,1),(10,20),(True,False) <br>\n",
    "이산화가 인코딩 안에 들어가 있는 개념 <br>\n",
    "* 기계학습 등에서 주요하게 사용\n",
    "* 숫자가 크게 높거나 비슷한 값의 연관성 제거\n",
    "* 컴퓨터가 판단할 수 없다는 특성에 근거\n",
    "* 마스킹을 하기 위해서"
   ]
  },
  {
   "cell_type": "markdown",
   "metadata": {},
   "source": [
    "## 데이터 표준화, 정규화\n",
    "데이터의 분포에 따른 특성 제거 또는 통계를 위한 변환\n",
    "* 표준화(정규 분포 형태로 변화, Normalizing)\n",
    "    * 데이터베이스의 정규화 개념과 구분\n",
    "    * 데이터 범위 차이가 달라짐\n",
    "    * 데이터 범위의 제한 없음\n",
    "    * Z-Score\n",
    "* 정규화(0-1 범위로 변화 등,Scaling)\n",
    "    * 데이터의 범위 차이가 유지됨\n",
    "    * 데이터 범위의 제한이 생김\n",
    "    * min-max scaling등 (범위변환)\n",
    "    * 같은 스케일로 값을 비교할 수 있다는 이점\n",
    "    * ML모델에 적용할 수 있는 이점이 있다 (스케일(데이터 범위)이 같아야 작동 가능)"
   ]
  },
  {
   "cell_type": "code",
   "execution_count": 138,
   "metadata": {},
   "outputs": [],
   "source": [
    "from sklearn.preprocessing import MinMaxScaler\n",
    "MinMaxScaler\n",
    "scaler = MinMaxScaler()"
   ]
  },
  {
   "cell_type": "code",
   "execution_count": 139,
   "metadata": {},
   "outputs": [
    {
     "data": {
      "text/html": [
       "<style>#sk-container-id-3 {color: black;background-color: white;}#sk-container-id-3 pre{padding: 0;}#sk-container-id-3 div.sk-toggleable {background-color: white;}#sk-container-id-3 label.sk-toggleable__label {cursor: pointer;display: block;width: 100%;margin-bottom: 0;padding: 0.3em;box-sizing: border-box;text-align: center;}#sk-container-id-3 label.sk-toggleable__label-arrow:before {content: \"▸\";float: left;margin-right: 0.25em;color: #696969;}#sk-container-id-3 label.sk-toggleable__label-arrow:hover:before {color: black;}#sk-container-id-3 div.sk-estimator:hover label.sk-toggleable__label-arrow:before {color: black;}#sk-container-id-3 div.sk-toggleable__content {max-height: 0;max-width: 0;overflow: hidden;text-align: left;background-color: #f0f8ff;}#sk-container-id-3 div.sk-toggleable__content pre {margin: 0.2em;color: black;border-radius: 0.25em;background-color: #f0f8ff;}#sk-container-id-3 input.sk-toggleable__control:checked~div.sk-toggleable__content {max-height: 200px;max-width: 100%;overflow: auto;}#sk-container-id-3 input.sk-toggleable__control:checked~label.sk-toggleable__label-arrow:before {content: \"▾\";}#sk-container-id-3 div.sk-estimator input.sk-toggleable__control:checked~label.sk-toggleable__label {background-color: #d4ebff;}#sk-container-id-3 div.sk-label input.sk-toggleable__control:checked~label.sk-toggleable__label {background-color: #d4ebff;}#sk-container-id-3 input.sk-hidden--visually {border: 0;clip: rect(1px 1px 1px 1px);clip: rect(1px, 1px, 1px, 1px);height: 1px;margin: -1px;overflow: hidden;padding: 0;position: absolute;width: 1px;}#sk-container-id-3 div.sk-estimator {font-family: monospace;background-color: #f0f8ff;border: 1px dotted black;border-radius: 0.25em;box-sizing: border-box;margin-bottom: 0.5em;}#sk-container-id-3 div.sk-estimator:hover {background-color: #d4ebff;}#sk-container-id-3 div.sk-parallel-item::after {content: \"\";width: 100%;border-bottom: 1px solid gray;flex-grow: 1;}#sk-container-id-3 div.sk-label:hover label.sk-toggleable__label {background-color: #d4ebff;}#sk-container-id-3 div.sk-serial::before {content: \"\";position: absolute;border-left: 1px solid gray;box-sizing: border-box;top: 0;bottom: 0;left: 50%;z-index: 0;}#sk-container-id-3 div.sk-serial {display: flex;flex-direction: column;align-items: center;background-color: white;padding-right: 0.2em;padding-left: 0.2em;position: relative;}#sk-container-id-3 div.sk-item {position: relative;z-index: 1;}#sk-container-id-3 div.sk-parallel {display: flex;align-items: stretch;justify-content: center;background-color: white;position: relative;}#sk-container-id-3 div.sk-item::before, #sk-container-id-3 div.sk-parallel-item::before {content: \"\";position: absolute;border-left: 1px solid gray;box-sizing: border-box;top: 0;bottom: 0;left: 50%;z-index: -1;}#sk-container-id-3 div.sk-parallel-item {display: flex;flex-direction: column;z-index: 1;position: relative;background-color: white;}#sk-container-id-3 div.sk-parallel-item:first-child::after {align-self: flex-end;width: 50%;}#sk-container-id-3 div.sk-parallel-item:last-child::after {align-self: flex-start;width: 50%;}#sk-container-id-3 div.sk-parallel-item:only-child::after {width: 0;}#sk-container-id-3 div.sk-dashed-wrapped {border: 1px dashed gray;margin: 0 0.4em 0.5em 0.4em;box-sizing: border-box;padding-bottom: 0.4em;background-color: white;}#sk-container-id-3 div.sk-label label {font-family: monospace;font-weight: bold;display: inline-block;line-height: 1.2em;}#sk-container-id-3 div.sk-label-container {text-align: center;}#sk-container-id-3 div.sk-container {/* jupyter's `normalize.less` sets `[hidden] { display: none; }` but bootstrap.min.css set `[hidden] { display: none !important; }` so we also need the `!important` here to be able to override the default hidden behavior on the sphinx rendered scikit-learn.org. See: https://github.com/scikit-learn/scikit-learn/issues/21755 */display: inline-block !important;position: relative;}#sk-container-id-3 div.sk-text-repr-fallback {display: none;}</style><div id=\"sk-container-id-3\" class=\"sk-top-container\"><div class=\"sk-text-repr-fallback\"><pre>MinMaxScaler()</pre><b>In a Jupyter environment, please rerun this cell to show the HTML representation or trust the notebook. <br />On GitHub, the HTML representation is unable to render, please try loading this page with nbviewer.org.</b></div><div class=\"sk-container\" hidden><div class=\"sk-item\"><div class=\"sk-estimator sk-toggleable\"><input class=\"sk-toggleable__control sk-hidden--visually\" id=\"sk-estimator-id-3\" type=\"checkbox\" checked><label for=\"sk-estimator-id-3\" class=\"sk-toggleable__label sk-toggleable__label-arrow\">MinMaxScaler</label><div class=\"sk-toggleable__content\"><pre>MinMaxScaler()</pre></div></div></div></div></div>"
      ],
      "text/plain": [
       "MinMaxScaler()"
      ]
     },
     "execution_count": 139,
     "metadata": {},
     "output_type": "execute_result"
    }
   ],
   "source": [
    "data = [[-1, 2], [-0.5, 6], [0, 10], [1, 18]]\n",
    "scaler.fit(data)"
   ]
  },
  {
   "cell_type": "code",
   "execution_count": 151,
   "metadata": {},
   "outputs": [
    {
     "data": {
      "text/plain": [
       "array([[0.  , 0.  ],\n",
       "       [0.25, 0.25],\n",
       "       [0.5 , 0.5 ],\n",
       "       [1.  , 1.  ]])"
      ]
     },
     "execution_count": 151,
     "metadata": {},
     "output_type": "execute_result"
    }
   ],
   "source": [
    "scaler.transform(data) # 각각 scale이 어떤기준으로 할당되는가? > DataFrame 기준, 각 column 단위로 scaling\n",
    "# 왜 [1,18]이 [1,1]로 scaling이 되는가? 각 컬럼의 기준이 다르기 때문에"
   ]
  },
  {
   "cell_type": "code",
   "execution_count": 150,
   "metadata": {},
   "outputs": [
    {
     "data": {
      "text/plain": [
       "array([[2.5   , 0.1875]])"
      ]
     },
     "execution_count": 150,
     "metadata": {},
     "output_type": "execute_result"
    }
   ],
   "source": [
    "scaler.transform([[4,5]])"
   ]
  },
  {
   "cell_type": "code",
   "execution_count": 148,
   "metadata": {},
   "outputs": [
    {
     "data": {
      "text/html": [
       "<div>\n",
       "<style scoped>\n",
       "    .dataframe tbody tr th:only-of-type {\n",
       "        vertical-align: middle;\n",
       "    }\n",
       "\n",
       "    .dataframe tbody tr th {\n",
       "        vertical-align: top;\n",
       "    }\n",
       "\n",
       "    .dataframe thead th {\n",
       "        text-align: right;\n",
       "    }\n",
       "</style>\n",
       "<table border=\"1\" class=\"dataframe\">\n",
       "  <thead>\n",
       "    <tr style=\"text-align: right;\">\n",
       "      <th></th>\n",
       "      <th>0</th>\n",
       "      <th>1</th>\n",
       "    </tr>\n",
       "  </thead>\n",
       "  <tbody>\n",
       "    <tr>\n",
       "      <th>0</th>\n",
       "      <td>-1.0</td>\n",
       "      <td>2</td>\n",
       "    </tr>\n",
       "    <tr>\n",
       "      <th>1</th>\n",
       "      <td>-0.5</td>\n",
       "      <td>6</td>\n",
       "    </tr>\n",
       "    <tr>\n",
       "      <th>2</th>\n",
       "      <td>0.0</td>\n",
       "      <td>10</td>\n",
       "    </tr>\n",
       "    <tr>\n",
       "      <th>3</th>\n",
       "      <td>1.0</td>\n",
       "      <td>18</td>\n",
       "    </tr>\n",
       "  </tbody>\n",
       "</table>\n",
       "</div>"
      ],
      "text/plain": [
       "     0   1\n",
       "0 -1.0   2\n",
       "1 -0.5   6\n",
       "2  0.0  10\n",
       "3  1.0  18"
      ]
     },
     "execution_count": 148,
     "metadata": {},
     "output_type": "execute_result"
    }
   ],
   "source": [
    "import pandas as pd\n",
    "df = pd.DataFrame(data)\n",
    "df"
   ]
  },
  {
   "cell_type": "code",
   "execution_count": 149,
   "metadata": {},
   "outputs": [
    {
     "data": {
      "text/html": [
       "<div>\n",
       "<style scoped>\n",
       "    .dataframe tbody tr th:only-of-type {\n",
       "        vertical-align: middle;\n",
       "    }\n",
       "\n",
       "    .dataframe tbody tr th {\n",
       "        vertical-align: top;\n",
       "    }\n",
       "\n",
       "    .dataframe thead th {\n",
       "        text-align: right;\n",
       "    }\n",
       "</style>\n",
       "<table border=\"1\" class=\"dataframe\">\n",
       "  <thead>\n",
       "    <tr style=\"text-align: right;\">\n",
       "      <th></th>\n",
       "      <th>0</th>\n",
       "      <th>1</th>\n",
       "    </tr>\n",
       "  </thead>\n",
       "  <tbody>\n",
       "    <tr>\n",
       "      <th>0</th>\n",
       "      <td>0.00</td>\n",
       "      <td>0.00</td>\n",
       "    </tr>\n",
       "    <tr>\n",
       "      <th>1</th>\n",
       "      <td>0.25</td>\n",
       "      <td>0.25</td>\n",
       "    </tr>\n",
       "    <tr>\n",
       "      <th>2</th>\n",
       "      <td>0.50</td>\n",
       "      <td>0.50</td>\n",
       "    </tr>\n",
       "    <tr>\n",
       "      <th>3</th>\n",
       "      <td>1.00</td>\n",
       "      <td>1.00</td>\n",
       "    </tr>\n",
       "  </tbody>\n",
       "</table>\n",
       "</div>"
      ],
      "text/plain": [
       "      0     1\n",
       "0  0.00  0.00\n",
       "1  0.25  0.25\n",
       "2  0.50  0.50\n",
       "3  1.00  1.00"
      ]
     },
     "execution_count": 149,
     "metadata": {},
     "output_type": "execute_result"
    }
   ],
   "source": [
    "pd.DataFrame(scaler.transform(data))"
   ]
  },
  {
   "cell_type": "markdown",
   "metadata": {},
   "source": [
    "# 기초통계 - T - test\n",
    "1. 집단 특성 확인\n",
    "    * 독립표본 > 아래 절차로 이동\n",
    "    * 대응표본 > Paired T-test\n",
    "        * 표본들의 리스트의 길이가 같아야함\n",
    "        * 두 표본간 관계성이 있어야함\n",
    "        * 조건이 까다롭기 때문에, 설득력이 높음(T-test중에서)\n",
    "2. 자료의 특성 확인\n",
    "    * 범주형 > Mann - Whitney U test\n",
    "        * 랭크 기반으로 범주를 할당한 후 차이분석\n",
    "        * 조건이 널널한 편이기 때문에 설득력이 높진 않음\n",
    "3. 연속형일 경우\n",
    "    * 정규성, 등분산성 만족 > Student's T -test (independent T-test)\n",
    "        * 우리가 알고 있는 T-test\n",
    "    * 정규성 만족, 등분산성 불만족 > welch's T-test\n",
    "        * 이분산성(분산성이 다름)\n",
    "    * 정규성 불만족 > Mann - Whitney U test(wilconxon test 대체 가능)\n",
    "\n",
    "* 최대한 다양한 기법을 통해 결론을 도출해야함\n",
    "    * 그만큼 결론을 내릴때 신중하게 해야함\n",
    "    * 한가지 방법만 햇을때 설득력이 높지 않다\n",
    "    * T-test는 설득력이 높은편은 아니다\n",
    "    * 정규분포는 T-test의 근간이기 때문에 정규성을 만족하지 않으면 설득력이 거의 없다\n",
    "* P- value표기법\n",
    "    1. p<0.05 ==*\n",
    "    1. p<0.01 ==**\n",
    "    1. p<0.001 ==***\n",
    "    1. p<0.0001 ==****\n",
    "    1. p= 0.05 ==ns\n"
   ]
  },
  {
   "cell_type": "markdown",
   "metadata": {},
   "source": [
    "## 실습_1\n",
    "* 두 그룹 간 차이가 통계적으로 유의미한지 알아보는 용도로 이용"
   ]
  },
  {
   "cell_type": "code",
   "execution_count": 170,
   "metadata": {},
   "outputs": [],
   "source": [
    "from scipy import stats\n",
    "import numpy as np\n",
    "import pandas as pd"
   ]
  },
  {
   "cell_type": "code",
   "execution_count": 164,
   "metadata": {},
   "outputs": [
    {
     "name": "stderr",
     "output_type": "stream",
     "text": [
      "c:\\Users\\user\\AppData\\Local\\Programs\\Python\\Python311\\Lib\\site-packages\\openpyxl\\styles\\stylesheet.py:226: UserWarning: Workbook contains no default style, apply openpyxl's default\n",
      "  warn(\"Workbook contains no default style, apply openpyxl's default\")\n"
     ]
    }
   ],
   "source": [
    "import openpyxl\n",
    "df = pd.read_excel('C:/Users/user/Desktop/230102~/실습 데이터/FTA무역통계_20230109000015.xls',header= 4,index_col= 1)\n",
    "df.head(5)\n",
    "df_backup = df.copy()"
   ]
  },
  {
   "cell_type": "code",
   "execution_count": 165,
   "metadata": {},
   "outputs": [],
   "source": [
    "df['수출건수'] = [int(i.replace(' ','').replace(',','')) for i in df['수출건수']]"
   ]
  },
  {
   "cell_type": "code",
   "execution_count": 166,
   "metadata": {},
   "outputs": [],
   "source": [
    "df['수입건수'] = [int(i.replace(' ','').replace(',','')) for i in df['수입건수']]"
   ]
  },
  {
   "cell_type": "code",
   "execution_count": 167,
   "metadata": {},
   "outputs": [
    {
     "data": {
      "text/html": [
       "<div>\n",
       "<style scoped>\n",
       "    .dataframe tbody tr th:only-of-type {\n",
       "        vertical-align: middle;\n",
       "    }\n",
       "\n",
       "    .dataframe tbody tr th {\n",
       "        vertical-align: top;\n",
       "    }\n",
       "\n",
       "    .dataframe thead th {\n",
       "        text-align: right;\n",
       "    }\n",
       "</style>\n",
       "<table border=\"1\" class=\"dataframe\">\n",
       "  <thead>\n",
       "    <tr style=\"text-align: right;\">\n",
       "      <th></th>\n",
       "      <th>기간</th>\n",
       "      <th>수출건수</th>\n",
       "      <th>수출금액</th>\n",
       "      <th>수입건수</th>\n",
       "      <th>수입금액</th>\n",
       "      <th>무역수지</th>\n",
       "    </tr>\n",
       "    <tr>\n",
       "      <th>FTA명</th>\n",
       "      <th></th>\n",
       "      <th></th>\n",
       "      <th></th>\n",
       "      <th></th>\n",
       "      <th></th>\n",
       "      <th></th>\n",
       "    </tr>\n",
       "  </thead>\n",
       "  <tbody>\n",
       "    <tr>\n",
       "      <th>RCEP</th>\n",
       "      <td>2022</td>\n",
       "      <td>6474383</td>\n",
       "      <td>287,564,087</td>\n",
       "      <td>11944545</td>\n",
       "      <td>292,113,146</td>\n",
       "      <td>-4,549,059</td>\n",
       "    </tr>\n",
       "    <tr>\n",
       "      <th>한-EFTA</th>\n",
       "      <td>2022</td>\n",
       "      <td>26912</td>\n",
       "      <td>1,794,418</td>\n",
       "      <td>75489</td>\n",
       "      <td>4,810,598</td>\n",
       "      <td>-3,016,180</td>\n",
       "    </tr>\n",
       "    <tr>\n",
       "      <th>한-EU</th>\n",
       "      <td>2022</td>\n",
       "      <td>882224</td>\n",
       "      <td>67,684,624</td>\n",
       "      <td>4734145</td>\n",
       "      <td>66,716,800</td>\n",
       "      <td>967,825</td>\n",
       "    </tr>\n",
       "    <tr>\n",
       "      <th>한-뉴질랜드</th>\n",
       "      <td>2022</td>\n",
       "      <td>36305</td>\n",
       "      <td>3,139,637</td>\n",
       "      <td>455563</td>\n",
       "      <td>1,743,951</td>\n",
       "      <td>1,395,687</td>\n",
       "    </tr>\n",
       "    <tr>\n",
       "      <th>한-미국</th>\n",
       "      <td>2022</td>\n",
       "      <td>2186357</td>\n",
       "      <td>100,446,018</td>\n",
       "      <td>18531680</td>\n",
       "      <td>74,972,585</td>\n",
       "      <td>25,473,433</td>\n",
       "    </tr>\n",
       "    <tr>\n",
       "      <th>한-베트남</th>\n",
       "      <td>2022</td>\n",
       "      <td>582908</td>\n",
       "      <td>56,212,924</td>\n",
       "      <td>860372</td>\n",
       "      <td>24,850,108</td>\n",
       "      <td>31,362,815</td>\n",
       "    </tr>\n",
       "    <tr>\n",
       "      <th>한-싱가포르</th>\n",
       "      <td>2022</td>\n",
       "      <td>749118</td>\n",
       "      <td>18,696,289</td>\n",
       "      <td>151934</td>\n",
       "      <td>9,315,582</td>\n",
       "      <td>9,380,706</td>\n",
       "    </tr>\n",
       "    <tr>\n",
       "      <th>한-아세안</th>\n",
       "      <td>2022</td>\n",
       "      <td>2775570</td>\n",
       "      <td>115,599,623</td>\n",
       "      <td>1839987</td>\n",
       "      <td>75,744,022</td>\n",
       "      <td>39,855,602</td>\n",
       "    </tr>\n",
       "    <tr>\n",
       "      <th>한-영국</th>\n",
       "      <td>2022</td>\n",
       "      <td>108368</td>\n",
       "      <td>5,862,160</td>\n",
       "      <td>386507</td>\n",
       "      <td>5,374,130</td>\n",
       "      <td>488,030</td>\n",
       "    </tr>\n",
       "    <tr>\n",
       "      <th>한-인도</th>\n",
       "      <td>2022</td>\n",
       "      <td>193395</td>\n",
       "      <td>17,391,372</td>\n",
       "      <td>182655</td>\n",
       "      <td>8,403,685</td>\n",
       "      <td>8,987,687</td>\n",
       "    </tr>\n",
       "    <tr>\n",
       "      <th>한-중국</th>\n",
       "      <td>2022</td>\n",
       "      <td>1325620</td>\n",
       "      <td>144,611,224</td>\n",
       "      <td>6775116</td>\n",
       "      <td>142,753,918</td>\n",
       "      <td>1,857,306</td>\n",
       "    </tr>\n",
       "    <tr>\n",
       "      <th>한-중미</th>\n",
       "      <td>2022</td>\n",
       "      <td>28606</td>\n",
       "      <td>1,388,730</td>\n",
       "      <td>10003</td>\n",
       "      <td>933,363</td>\n",
       "      <td>455,367</td>\n",
       "    </tr>\n",
       "    <tr>\n",
       "      <th>한-칠레</th>\n",
       "      <td>2022</td>\n",
       "      <td>30137</td>\n",
       "      <td>1,425,386</td>\n",
       "      <td>16553</td>\n",
       "      <td>6,264,483</td>\n",
       "      <td>-4,839,097</td>\n",
       "    </tr>\n",
       "    <tr>\n",
       "      <th>한-캐나다</th>\n",
       "      <td>2022</td>\n",
       "      <td>212405</td>\n",
       "      <td>7,224,014</td>\n",
       "      <td>329449</td>\n",
       "      <td>7,966,998</td>\n",
       "      <td>-742,985</td>\n",
       "    </tr>\n",
       "    <tr>\n",
       "      <th>한-콜롬비아</th>\n",
       "      <td>2022</td>\n",
       "      <td>14045</td>\n",
       "      <td>862,924</td>\n",
       "      <td>11286</td>\n",
       "      <td>636,784</td>\n",
       "      <td>226,140</td>\n",
       "    </tr>\n",
       "    <tr>\n",
       "      <th>한-터키</th>\n",
       "      <td>2022</td>\n",
       "      <td>82688</td>\n",
       "      <td>7,059,423</td>\n",
       "      <td>46380</td>\n",
       "      <td>1,287,251</td>\n",
       "      <td>5,772,172</td>\n",
       "    </tr>\n",
       "    <tr>\n",
       "      <th>한-페루</th>\n",
       "      <td>2022</td>\n",
       "      <td>13929</td>\n",
       "      <td>721,030</td>\n",
       "      <td>10024</td>\n",
       "      <td>2,734,129</td>\n",
       "      <td>-2,013,099</td>\n",
       "    </tr>\n",
       "    <tr>\n",
       "      <th>한-호주</th>\n",
       "      <td>2022</td>\n",
       "      <td>191729</td>\n",
       "      <td>17,396,124</td>\n",
       "      <td>560089</td>\n",
       "      <td>41,235,660</td>\n",
       "      <td>-23,839,536</td>\n",
       "    </tr>\n",
       "  </tbody>\n",
       "</table>\n",
       "</div>"
      ],
      "text/plain": [
       "          기간     수출건수                  수출금액      수입건수                  수입금액  \\\n",
       "FTA명                                                                          \n",
       "RCEP    2022  6474383           287,564,087  11944545           292,113,146   \n",
       "한-EFTA  2022    26912             1,794,418     75489             4,810,598   \n",
       "한-EU    2022   882224            67,684,624   4734145            66,716,800   \n",
       "한-뉴질랜드  2022    36305             3,139,637    455563             1,743,951   \n",
       "한-미국    2022  2186357           100,446,018  18531680            74,972,585   \n",
       "한-베트남   2022   582908            56,212,924    860372            24,850,108   \n",
       "한-싱가포르  2022   749118            18,696,289    151934             9,315,582   \n",
       "한-아세안   2022  2775570           115,599,623   1839987            75,744,022   \n",
       "한-영국    2022   108368             5,862,160    386507             5,374,130   \n",
       "한-인도    2022   193395            17,391,372    182655             8,403,685   \n",
       "한-중국    2022  1325620           144,611,224   6775116           142,753,918   \n",
       "한-중미    2022    28606             1,388,730     10003               933,363   \n",
       "한-칠레    2022    30137             1,425,386     16553             6,264,483   \n",
       "한-캐나다   2022   212405             7,224,014    329449             7,966,998   \n",
       "한-콜롬비아  2022    14045               862,924     11286               636,784   \n",
       "한-터키    2022    82688             7,059,423     46380             1,287,251   \n",
       "한-페루    2022    13929               721,030     10024             2,734,129   \n",
       "한-호주    2022   191729            17,396,124    560089            41,235,660   \n",
       "\n",
       "                        무역수지  \n",
       "FTA명                          \n",
       "RCEP              -4,549,059  \n",
       "한-EFTA            -3,016,180  \n",
       "한-EU                 967,825  \n",
       "한-뉴질랜드             1,395,687  \n",
       "한-미국              25,473,433  \n",
       "한-베트남             31,362,815  \n",
       "한-싱가포르             9,380,706  \n",
       "한-아세안             39,855,602  \n",
       "한-영국                 488,030  \n",
       "한-인도               8,987,687  \n",
       "한-중국               1,857,306  \n",
       "한-중미                 455,367  \n",
       "한-칠레              -4,839,097  \n",
       "한-캐나다               -742,985  \n",
       "한-콜롬비아               226,140  \n",
       "한-터키               5,772,172  \n",
       "한-페루              -2,013,099  \n",
       "한-호주             -23,839,536  "
      ]
     },
     "execution_count": 167,
     "metadata": {},
     "output_type": "execute_result"
    }
   ],
   "source": [
    "df"
   ]
  },
  {
   "cell_type": "code",
   "execution_count": null,
   "metadata": {},
   "outputs": [],
   "source": [
    "df['수출건수'],df['수입건수']"
   ]
  },
  {
   "cell_type": "code",
   "execution_count": 168,
   "metadata": {},
   "outputs": [
    {
     "data": {
      "text/plain": [
       "Ttest_indResult(statistic=-1.3740039439389153, pvalue=0.1784315106587003)"
      ]
     },
     "execution_count": 168,
     "metadata": {},
     "output_type": "execute_result"
    }
   ],
   "source": [
    "stats.ttest_ind(df['수출건수'],df['수입건수'])"
   ]
  },
  {
   "cell_type": "code",
   "execution_count": 174,
   "metadata": {},
   "outputs": [
    {
     "data": {
      "text/plain": [
       "ShapiroResult(statistic=0.6007808446884155, pvalue=6.888485586387105e-06)"
      ]
     },
     "execution_count": 174,
     "metadata": {},
     "output_type": "execute_result"
    }
   ],
   "source": [
    "# 정규성 검정\n",
    "# 귀무가설 : 정규성을 만족하는 모집단에서 나왔다\n",
    "# p-value가 0.05 미만이므로 귀무가설 기각>> 정규성을 만족할 수 없다.\n",
    "# shapiro검정은 상당히 엄격함\n",
    "stats.shapiro(df['수출건수'])"
   ]
  },
  {
   "cell_type": "code",
   "execution_count": 184,
   "metadata": {},
   "outputs": [
    {
     "data": {
      "text/plain": [
       "MannwhitneyuResult(statistic=151.0, pvalue=0.7397342431142654)"
      ]
     },
     "execution_count": 184,
     "metadata": {},
     "output_type": "execute_result"
    }
   ],
   "source": [
    "stats.mannwhitneyu(df['수출건수'],df['수입건수'])"
   ]
  },
  {
   "cell_type": "code",
   "execution_count": 187,
   "metadata": {},
   "outputs": [
    {
     "data": {
      "text/plain": [
       "WilcoxonResult(statistic=48.0, pvalue=0.1083831787109375)"
      ]
     },
     "execution_count": 187,
     "metadata": {},
     "output_type": "execute_result"
    }
   ],
   "source": [
    "# 귀무가설: 두 그룹의 차이가 나지 않는다\n",
    "## 올바른 검정을 사용해야함 (p-value가 달라짐)\n",
    "# 두 그룹간 차이를 확인\n",
    "# p > 0.05 이기 때문에, 두 그룹간 간의 차이가 나지 않는다고 볼 수 있음\n",
    "stats.wilcoxon(df['수출건수'],df['수입건수']) \n"
   ]
  },
  {
   "cell_type": "code",
   "execution_count": 190,
   "metadata": {},
   "outputs": [
    {
     "data": {
      "text/plain": [
       "KstestResult(statistic=0.16666666666666666, pvalue=0.9715397823325015, statistic_location=212405, statistic_sign=1)"
      ]
     },
     "execution_count": 190,
     "metadata": {},
     "output_type": "execute_result"
    }
   ],
   "source": [
    "# ks test\n",
    "# 귀무가설 : 같은 분산을 가진 표본에서 추출한 것이다. (등분산성이라고 가정할 수 있음)\n",
    "# p >= 0.05이기 때문에 등분산성임을 확인\n",
    "stats.ks_2samp(df['수출건수'],df['수입건수']) "
   ]
  },
  {
   "cell_type": "code",
   "execution_count": 189,
   "metadata": {},
   "outputs": [
    {
     "data": {
      "text/plain": [
       "Ttest_indResult(statistic=-1.3740039439389151, pvalue=0.184363729226843)"
      ]
     },
     "execution_count": 189,
     "metadata": {},
     "output_type": "execute_result"
    }
   ],
   "source": [
    "# Welch's test\n",
    "# student's T-test에서 equal = False로 설정\n",
    "# student's T-test와 p-value가 크게 차이나지 않기 때문데, student's test써도 무방함\n",
    "stats.ttest_ind(df['수출건수'],df['수입건수'], equal_var= False)"
   ]
  },
  {
   "cell_type": "markdown",
   "metadata": {},
   "source": [
    "## 실습_2\n",
    "* 아래의 데이터에서 각각 T-test를 진행한다\n",
    "* T-test를 진행할 때, 결과가 특정 주장을 할 수 있어야 합니다.\n",
    "* FTA 데이터 예시)A/B 그룹의 수출금액이 서로 다른지 비교할 경우, 그 원인을 찾아 주장할 수 있다."
   ]
  },
  {
   "cell_type": "code",
   "execution_count": 195,
   "metadata": {},
   "outputs": [
    {
     "name": "stderr",
     "output_type": "stream",
     "text": [
      "c:\\Users\\user\\AppData\\Local\\Programs\\Python\\Python311\\Lib\\site-packages\\openpyxl\\styles\\stylesheet.py:226: UserWarning: Workbook contains no default style, apply openpyxl's default\n",
      "  warn(\"Workbook contains no default style, apply openpyxl's default\")\n",
      "C:\\Users\\user\\AppData\\Local\\Temp\\ipykernel_14956\\2920298531.py:2: DtypeWarning: Columns (7,19,20) have mixed types. Specify dtype option on import or set low_memory=False.\n",
      "  df2 = pd.read_csv('C:/Users/user/Desktop/230102~/실습 데이터/서울시 부동산 실거래가 정보.csv',encoding='cp949')\n"
     ]
    }
   ],
   "source": [
    "df1 = pd.read_excel('C:/Users/user/Desktop/230102~/실습 데이터/FTA무역통계_20230109000015.xls',header= 4,index_col= 1)\n",
    "df2 = pd.read_csv('C:/Users/user/Desktop/230102~/실습 데이터/서울시 부동산 실거래가 정보.csv',encoding='cp949')"
   ]
  },
  {
   "cell_type": "markdown",
   "metadata": {},
   "source": [
    "## 실습_2-1"
   ]
  },
  {
   "cell_type": "code",
   "execution_count": 233,
   "metadata": {},
   "outputs": [
    {
     "data": {
      "text/html": [
       "<div>\n",
       "<style scoped>\n",
       "    .dataframe tbody tr th:only-of-type {\n",
       "        vertical-align: middle;\n",
       "    }\n",
       "\n",
       "    .dataframe tbody tr th {\n",
       "        vertical-align: top;\n",
       "    }\n",
       "\n",
       "    .dataframe thead th {\n",
       "        text-align: right;\n",
       "    }\n",
       "</style>\n",
       "<table border=\"1\" class=\"dataframe\">\n",
       "  <thead>\n",
       "    <tr style=\"text-align: right;\">\n",
       "      <th></th>\n",
       "      <th>기간</th>\n",
       "      <th>수출건수</th>\n",
       "      <th>수출금액</th>\n",
       "      <th>수입건수</th>\n",
       "      <th>수입금액</th>\n",
       "      <th>무역수지</th>\n",
       "    </tr>\n",
       "    <tr>\n",
       "      <th>FTA명</th>\n",
       "      <th></th>\n",
       "      <th></th>\n",
       "      <th></th>\n",
       "      <th></th>\n",
       "      <th></th>\n",
       "      <th></th>\n",
       "    </tr>\n",
       "  </thead>\n",
       "  <tbody>\n",
       "    <tr>\n",
       "      <th>RCEP</th>\n",
       "      <td>2022</td>\n",
       "      <td>6474383</td>\n",
       "      <td>287564087</td>\n",
       "      <td>11944545</td>\n",
       "      <td>292113146</td>\n",
       "      <td>-4549059</td>\n",
       "    </tr>\n",
       "    <tr>\n",
       "      <th>한-EFTA</th>\n",
       "      <td>2022</td>\n",
       "      <td>26912</td>\n",
       "      <td>1794418</td>\n",
       "      <td>75489</td>\n",
       "      <td>4810598</td>\n",
       "      <td>-3016180</td>\n",
       "    </tr>\n",
       "    <tr>\n",
       "      <th>한-EU</th>\n",
       "      <td>2022</td>\n",
       "      <td>882224</td>\n",
       "      <td>67684624</td>\n",
       "      <td>4734145</td>\n",
       "      <td>66716800</td>\n",
       "      <td>967825</td>\n",
       "    </tr>\n",
       "    <tr>\n",
       "      <th>한-뉴질랜드</th>\n",
       "      <td>2022</td>\n",
       "      <td>36305</td>\n",
       "      <td>3139637</td>\n",
       "      <td>455563</td>\n",
       "      <td>1743951</td>\n",
       "      <td>1395687</td>\n",
       "    </tr>\n",
       "    <tr>\n",
       "      <th>한-미국</th>\n",
       "      <td>2022</td>\n",
       "      <td>2186357</td>\n",
       "      <td>100446018</td>\n",
       "      <td>18531680</td>\n",
       "      <td>74972585</td>\n",
       "      <td>25473433</td>\n",
       "    </tr>\n",
       "    <tr>\n",
       "      <th>한-베트남</th>\n",
       "      <td>2022</td>\n",
       "      <td>582908</td>\n",
       "      <td>56212924</td>\n",
       "      <td>860372</td>\n",
       "      <td>24850108</td>\n",
       "      <td>31362815</td>\n",
       "    </tr>\n",
       "    <tr>\n",
       "      <th>한-싱가포르</th>\n",
       "      <td>2022</td>\n",
       "      <td>749118</td>\n",
       "      <td>18696289</td>\n",
       "      <td>151934</td>\n",
       "      <td>9315582</td>\n",
       "      <td>9380706</td>\n",
       "    </tr>\n",
       "    <tr>\n",
       "      <th>한-아세안</th>\n",
       "      <td>2022</td>\n",
       "      <td>2775570</td>\n",
       "      <td>115599623</td>\n",
       "      <td>1839987</td>\n",
       "      <td>75744022</td>\n",
       "      <td>39855602</td>\n",
       "    </tr>\n",
       "    <tr>\n",
       "      <th>한-영국</th>\n",
       "      <td>2022</td>\n",
       "      <td>108368</td>\n",
       "      <td>5862160</td>\n",
       "      <td>386507</td>\n",
       "      <td>5374130</td>\n",
       "      <td>488030</td>\n",
       "    </tr>\n",
       "    <tr>\n",
       "      <th>한-인도</th>\n",
       "      <td>2022</td>\n",
       "      <td>193395</td>\n",
       "      <td>17391372</td>\n",
       "      <td>182655</td>\n",
       "      <td>8403685</td>\n",
       "      <td>8987687</td>\n",
       "    </tr>\n",
       "    <tr>\n",
       "      <th>한-중국</th>\n",
       "      <td>2022</td>\n",
       "      <td>1325620</td>\n",
       "      <td>144611224</td>\n",
       "      <td>6775116</td>\n",
       "      <td>142753918</td>\n",
       "      <td>1857306</td>\n",
       "    </tr>\n",
       "    <tr>\n",
       "      <th>한-중미</th>\n",
       "      <td>2022</td>\n",
       "      <td>28606</td>\n",
       "      <td>1388730</td>\n",
       "      <td>10003</td>\n",
       "      <td>933363</td>\n",
       "      <td>455367</td>\n",
       "    </tr>\n",
       "    <tr>\n",
       "      <th>한-칠레</th>\n",
       "      <td>2022</td>\n",
       "      <td>30137</td>\n",
       "      <td>1425386</td>\n",
       "      <td>16553</td>\n",
       "      <td>6264483</td>\n",
       "      <td>-4839097</td>\n",
       "    </tr>\n",
       "    <tr>\n",
       "      <th>한-캐나다</th>\n",
       "      <td>2022</td>\n",
       "      <td>212405</td>\n",
       "      <td>7224014</td>\n",
       "      <td>329449</td>\n",
       "      <td>7966998</td>\n",
       "      <td>-742985</td>\n",
       "    </tr>\n",
       "    <tr>\n",
       "      <th>한-콜롬비아</th>\n",
       "      <td>2022</td>\n",
       "      <td>14045</td>\n",
       "      <td>862924</td>\n",
       "      <td>11286</td>\n",
       "      <td>636784</td>\n",
       "      <td>226140</td>\n",
       "    </tr>\n",
       "    <tr>\n",
       "      <th>한-터키</th>\n",
       "      <td>2022</td>\n",
       "      <td>82688</td>\n",
       "      <td>7059423</td>\n",
       "      <td>46380</td>\n",
       "      <td>1287251</td>\n",
       "      <td>5772172</td>\n",
       "    </tr>\n",
       "    <tr>\n",
       "      <th>한-페루</th>\n",
       "      <td>2022</td>\n",
       "      <td>13929</td>\n",
       "      <td>721030</td>\n",
       "      <td>10024</td>\n",
       "      <td>2734129</td>\n",
       "      <td>-2013099</td>\n",
       "    </tr>\n",
       "    <tr>\n",
       "      <th>한-호주</th>\n",
       "      <td>2022</td>\n",
       "      <td>191729</td>\n",
       "      <td>17396124</td>\n",
       "      <td>560089</td>\n",
       "      <td>41235660</td>\n",
       "      <td>-23839536</td>\n",
       "    </tr>\n",
       "  </tbody>\n",
       "</table>\n",
       "</div>"
      ],
      "text/plain": [
       "          기간     수출건수       수출금액      수입건수       수입금액      무역수지\n",
       "FTA명                                                           \n",
       "RCEP    2022  6474383  287564087  11944545  292113146  -4549059\n",
       "한-EFTA  2022    26912    1794418     75489    4810598  -3016180\n",
       "한-EU    2022   882224   67684624   4734145   66716800    967825\n",
       "한-뉴질랜드  2022    36305    3139637    455563    1743951   1395687\n",
       "한-미국    2022  2186357  100446018  18531680   74972585  25473433\n",
       "한-베트남   2022   582908   56212924    860372   24850108  31362815\n",
       "한-싱가포르  2022   749118   18696289    151934    9315582   9380706\n",
       "한-아세안   2022  2775570  115599623   1839987   75744022  39855602\n",
       "한-영국    2022   108368    5862160    386507    5374130    488030\n",
       "한-인도    2022   193395   17391372    182655    8403685   8987687\n",
       "한-중국    2022  1325620  144611224   6775116  142753918   1857306\n",
       "한-중미    2022    28606    1388730     10003     933363    455367\n",
       "한-칠레    2022    30137    1425386     16553    6264483  -4839097\n",
       "한-캐나다   2022   212405    7224014    329449    7966998   -742985\n",
       "한-콜롬비아  2022    14045     862924     11286     636784    226140\n",
       "한-터키    2022    82688    7059423     46380    1287251   5772172\n",
       "한-페루    2022    13929     721030     10024    2734129  -2013099\n",
       "한-호주    2022   191729   17396124    560089   41235660 -23839536"
      ]
     },
     "execution_count": 233,
     "metadata": {},
     "output_type": "execute_result"
    }
   ],
   "source": [
    "df1"
   ]
  },
  {
   "cell_type": "code",
   "execution_count": 197,
   "metadata": {},
   "outputs": [],
   "source": [
    "for i in df1.columns[1:]:\n",
    "    df1[i] = df1[i].apply(lambda x:int(x.replace(',','')))\n"
   ]
  },
  {
   "cell_type": "code",
   "execution_count": 239,
   "metadata": {},
   "outputs": [],
   "source": [
    "# a= 아시아권 수출금액\n",
    "# b = 미국권 수출금액\n",
    "a = df1['수출금액'].loc[['한-중국','한-베트남','한-싱가포르','한-인도']]\n",
    "b = df1['수출금액'].loc[['한-미국','한-칠레','한-콜롬비아','한-페루','한-캐나다']]\n"
   ]
  },
  {
   "cell_type": "code",
   "execution_count": 240,
   "metadata": {},
   "outputs": [
    {
     "data": {
      "text/plain": [
       "FTA명\n",
       "한-중국      144611224\n",
       "한-베트남      56212924\n",
       "한-싱가포르     18696289\n",
       "한-인도       17391372\n",
       "Name: 수출금액, dtype: int64"
      ]
     },
     "execution_count": 240,
     "metadata": {},
     "output_type": "execute_result"
    }
   ],
   "source": [
    "a"
   ]
  },
  {
   "cell_type": "code",
   "execution_count": 241,
   "metadata": {},
   "outputs": [
    {
     "data": {
      "text/plain": [
       "(ShapiroResult(statistic=0.8206518292427063, pvalue=0.14471010863780975),\n",
       " ShapiroResult(statistic=0.5976779460906982, pvalue=0.0005833442555740476))"
      ]
     },
     "execution_count": 241,
     "metadata": {},
     "output_type": "execute_result"
    }
   ],
   "source": [
    "# 정규성 검정 아시아권은 정규성 , 미국권은 정규성 X \n",
    "# 정규성이 충족되지 않으므로 mannwhitneyu test검정\n",
    "stats.shapiro(a),stats.shapiro(b)\n"
   ]
  },
  {
   "cell_type": "code",
   "execution_count": 242,
   "metadata": {},
   "outputs": [
    {
     "data": {
      "text/plain": [
       "MannwhitneyuResult(statistic=17.0, pvalue=0.1111111111111111)"
      ]
     },
     "execution_count": 242,
     "metadata": {},
     "output_type": "execute_result"
    }
   ],
   "source": [
    "# p value 가 0.05이상이므로 두 집단간 수출금액의 차이가 있다고 할 수없다(차이가 없다고 할 수 있다.)\n",
    "stats.mannwhitneyu(a,b)"
   ]
  },
  {
   "cell_type": "code",
   "execution_count": 252,
   "metadata": {},
   "outputs": [],
   "source": [
    "from sklearn.preprocessing import MinMaxScaler\n",
    "scaler = MinMaxScaler()\n"
   ]
  },
  {
   "cell_type": "code",
   "execution_count": 267,
   "metadata": {},
   "outputs": [
    {
     "data": {
      "text/plain": [
       "[144611224, 56212924, 18696289, 17391372]"
      ]
     },
     "execution_count": 267,
     "metadata": {},
     "output_type": "execute_result"
    }
   ],
   "source": [
    "a1 = list(a.values)\n",
    "a1"
   ]
  },
  {
   "cell_type": "markdown",
   "metadata": {},
   "source": [
    "### 실습 2-2"
   ]
  },
  {
   "cell_type": "code",
   "execution_count": 224,
   "metadata": {},
   "outputs": [],
   "source": [
    "df2 = df2.dropna(subset = '신고구분')"
   ]
  },
  {
   "cell_type": "code",
   "execution_count": 226,
   "metadata": {},
   "outputs": [
    {
     "data": {
      "text/plain": [
       "array(['중개거래', '직거래'], dtype=object)"
      ]
     },
     "execution_count": 226,
     "metadata": {},
     "output_type": "execute_result"
    }
   ],
   "source": [
    "df2['신고구분'].unique()"
   ]
  },
  {
   "cell_type": "code",
   "execution_count": 230,
   "metadata": {},
   "outputs": [],
   "source": [
    "# 신고구분에 따른 물건금액의 차이가 있다고 가설을 설정하고 마스킹을 통해 데이터 분류\n",
    "# df2_a는 신고구분이 중개거래인 물건금액, b는 직거래인 물건금액\n",
    "m = df2['신고구분'] == '중개거래'\n",
    "df2_a = df2['물건금액(만원)'][m]\n",
    "df2_b = df2['물건금액(만원)'][~m]"
   ]
  },
  {
   "cell_type": "code",
   "execution_count": 275,
   "metadata": {},
   "outputs": [
    {
     "name": "stderr",
     "output_type": "stream",
     "text": [
      "c:\\Users\\user\\AppData\\Local\\Programs\\Python\\Python311\\Lib\\site-packages\\scipy\\stats\\_morestats.py:1816: UserWarning: p-value may not be accurate for N > 5000.\n",
      "  warnings.warn(\"p-value may not be accurate for N > 5000.\")\n"
     ]
    },
    {
     "data": {
      "text/plain": [
       "(ShapiroResult(statistic=0.47927504777908325, pvalue=0.0),\n",
       " ShapiroResult(statistic=0.06084322929382324, pvalue=0.0))"
      ]
     },
     "execution_count": 275,
     "metadata": {},
     "output_type": "execute_result"
    }
   ],
   "source": [
    "# p - value가 믿을 수 없으므로 다른 수단으로 대체해야함\n",
    "stats.shapiro(df2_a),stats.shapiro(df2_b) "
   ]
  },
  {
   "cell_type": "code",
   "execution_count": 274,
   "metadata": {},
   "outputs": [
    {
     "data": {
      "text/plain": [
       "KstestResult(statistic=0.18796996050385995, pvalue=0.0, statistic_location=49450, statistic_sign=-1)"
      ]
     },
     "execution_count": 274,
     "metadata": {},
     "output_type": "execute_result"
    }
   ],
   "source": [
    "stats.ks_2samp(df2_a,df2_b,mode = 'asymp') "
   ]
  },
  {
   "cell_type": "code",
   "execution_count": 273,
   "metadata": {},
   "outputs": [
    {
     "data": {
      "text/plain": [
       "Ttest_indResult(statistic=35.05947202410158, pvalue=2.687520592129121e-267)"
      ]
     },
     "execution_count": 273,
     "metadata": {},
     "output_type": "execute_result"
    }
   ],
   "source": [
    "# 검정 결과 p-value가 0.5미만이므로 두 집단간 차이가 있다고 할 수 있다.\n",
    "stats.ttest_ind(df2_a,df2_b,equal_var=False)"
   ]
  },
  {
   "cell_type": "markdown",
   "metadata": {},
   "source": [
    "---\n",
    "# 실습 1\n",
    "* FTA데이터에서 수출건수, 수출금액, 수입건수, 수입금액, 무역수지가 각각 평균 이하인 FTA와 평균 미만인 FTA로 이산화를 해보자\n",
    "* 이산화 데이터는 fta_bin으로 저장한다\n",
    "\n",
    "* 시간이 남는다면 어떤 데이터를 가져와도 동작하는 표준코드를 만들어보자"
   ]
  },
  {
   "cell_type": "code",
   "execution_count": 17,
   "metadata": {},
   "outputs": [
    {
     "name": "stderr",
     "output_type": "stream",
     "text": [
      "c:\\Users\\user\\AppData\\Local\\Programs\\Python\\Python311\\Lib\\site-packages\\openpyxl\\styles\\stylesheet.py:226: UserWarning: Workbook contains no default style, apply openpyxl's default\n",
      "  warn(\"Workbook contains no default style, apply openpyxl's default\")\n"
     ]
    }
   ],
   "source": [
    "import pandas as pd\n",
    "fta = pd.read_excel('C:/Users/user/Desktop/230102~/실습 데이터/FTA무역통계_20230109000015.xls',header=4, index_col= 1)\n",
    "fta_bin = fta.copy()"
   ]
  },
  {
   "cell_type": "code",
   "execution_count": null,
   "metadata": {},
   "outputs": [],
   "source": [
    "for i in fta_bin.columns[1:]:\n",
    "    fta_bin[i] = fta_bin[i].apply(lambda x:int(x.replace(',','')))\n",
    "    "
   ]
  },
  {
   "cell_type": "code",
   "execution_count": 22,
   "metadata": {},
   "outputs": [
    {
     "data": {
      "text/html": [
       "<div>\n",
       "<style scoped>\n",
       "    .dataframe tbody tr th:only-of-type {\n",
       "        vertical-align: middle;\n",
       "    }\n",
       "\n",
       "    .dataframe tbody tr th {\n",
       "        vertical-align: top;\n",
       "    }\n",
       "\n",
       "    .dataframe thead th {\n",
       "        text-align: right;\n",
       "    }\n",
       "</style>\n",
       "<table border=\"1\" class=\"dataframe\">\n",
       "  <thead>\n",
       "    <tr style=\"text-align: right;\">\n",
       "      <th></th>\n",
       "      <th>기간</th>\n",
       "      <th>수출건수</th>\n",
       "      <th>수출금액</th>\n",
       "      <th>수입건수</th>\n",
       "      <th>수입금액</th>\n",
       "      <th>무역수지</th>\n",
       "    </tr>\n",
       "    <tr>\n",
       "      <th>FTA명</th>\n",
       "      <th></th>\n",
       "      <th></th>\n",
       "      <th></th>\n",
       "      <th></th>\n",
       "      <th></th>\n",
       "      <th></th>\n",
       "    </tr>\n",
       "  </thead>\n",
       "  <tbody>\n",
       "    <tr>\n",
       "      <th>RCEP</th>\n",
       "      <td>2022</td>\n",
       "      <td>6474383</td>\n",
       "      <td>287564087</td>\n",
       "      <td>11944545</td>\n",
       "      <td>292113146</td>\n",
       "      <td>-4549059</td>\n",
       "    </tr>\n",
       "    <tr>\n",
       "      <th>한-EFTA</th>\n",
       "      <td>2022</td>\n",
       "      <td>26912</td>\n",
       "      <td>1794418</td>\n",
       "      <td>75489</td>\n",
       "      <td>4810598</td>\n",
       "      <td>-3016180</td>\n",
       "    </tr>\n",
       "    <tr>\n",
       "      <th>한-EU</th>\n",
       "      <td>2022</td>\n",
       "      <td>882224</td>\n",
       "      <td>67684624</td>\n",
       "      <td>4734145</td>\n",
       "      <td>66716800</td>\n",
       "      <td>967825</td>\n",
       "    </tr>\n",
       "    <tr>\n",
       "      <th>한-뉴질랜드</th>\n",
       "      <td>2022</td>\n",
       "      <td>36305</td>\n",
       "      <td>3139637</td>\n",
       "      <td>455563</td>\n",
       "      <td>1743951</td>\n",
       "      <td>1395687</td>\n",
       "    </tr>\n",
       "    <tr>\n",
       "      <th>한-미국</th>\n",
       "      <td>2022</td>\n",
       "      <td>2186357</td>\n",
       "      <td>100446018</td>\n",
       "      <td>18531680</td>\n",
       "      <td>74972585</td>\n",
       "      <td>25473433</td>\n",
       "    </tr>\n",
       "    <tr>\n",
       "      <th>한-베트남</th>\n",
       "      <td>2022</td>\n",
       "      <td>582908</td>\n",
       "      <td>56212924</td>\n",
       "      <td>860372</td>\n",
       "      <td>24850108</td>\n",
       "      <td>31362815</td>\n",
       "    </tr>\n",
       "    <tr>\n",
       "      <th>한-싱가포르</th>\n",
       "      <td>2022</td>\n",
       "      <td>749118</td>\n",
       "      <td>18696289</td>\n",
       "      <td>151934</td>\n",
       "      <td>9315582</td>\n",
       "      <td>9380706</td>\n",
       "    </tr>\n",
       "    <tr>\n",
       "      <th>한-아세안</th>\n",
       "      <td>2022</td>\n",
       "      <td>2775570</td>\n",
       "      <td>115599623</td>\n",
       "      <td>1839987</td>\n",
       "      <td>75744022</td>\n",
       "      <td>39855602</td>\n",
       "    </tr>\n",
       "    <tr>\n",
       "      <th>한-영국</th>\n",
       "      <td>2022</td>\n",
       "      <td>108368</td>\n",
       "      <td>5862160</td>\n",
       "      <td>386507</td>\n",
       "      <td>5374130</td>\n",
       "      <td>488030</td>\n",
       "    </tr>\n",
       "    <tr>\n",
       "      <th>한-인도</th>\n",
       "      <td>2022</td>\n",
       "      <td>193395</td>\n",
       "      <td>17391372</td>\n",
       "      <td>182655</td>\n",
       "      <td>8403685</td>\n",
       "      <td>8987687</td>\n",
       "    </tr>\n",
       "    <tr>\n",
       "      <th>한-중국</th>\n",
       "      <td>2022</td>\n",
       "      <td>1325620</td>\n",
       "      <td>144611224</td>\n",
       "      <td>6775116</td>\n",
       "      <td>142753918</td>\n",
       "      <td>1857306</td>\n",
       "    </tr>\n",
       "    <tr>\n",
       "      <th>한-중미</th>\n",
       "      <td>2022</td>\n",
       "      <td>28606</td>\n",
       "      <td>1388730</td>\n",
       "      <td>10003</td>\n",
       "      <td>933363</td>\n",
       "      <td>455367</td>\n",
       "    </tr>\n",
       "    <tr>\n",
       "      <th>한-칠레</th>\n",
       "      <td>2022</td>\n",
       "      <td>30137</td>\n",
       "      <td>1425386</td>\n",
       "      <td>16553</td>\n",
       "      <td>6264483</td>\n",
       "      <td>-4839097</td>\n",
       "    </tr>\n",
       "    <tr>\n",
       "      <th>한-캐나다</th>\n",
       "      <td>2022</td>\n",
       "      <td>212405</td>\n",
       "      <td>7224014</td>\n",
       "      <td>329449</td>\n",
       "      <td>7966998</td>\n",
       "      <td>-742985</td>\n",
       "    </tr>\n",
       "    <tr>\n",
       "      <th>한-콜롬비아</th>\n",
       "      <td>2022</td>\n",
       "      <td>14045</td>\n",
       "      <td>862924</td>\n",
       "      <td>11286</td>\n",
       "      <td>636784</td>\n",
       "      <td>226140</td>\n",
       "    </tr>\n",
       "    <tr>\n",
       "      <th>한-터키</th>\n",
       "      <td>2022</td>\n",
       "      <td>82688</td>\n",
       "      <td>7059423</td>\n",
       "      <td>46380</td>\n",
       "      <td>1287251</td>\n",
       "      <td>5772172</td>\n",
       "    </tr>\n",
       "    <tr>\n",
       "      <th>한-페루</th>\n",
       "      <td>2022</td>\n",
       "      <td>13929</td>\n",
       "      <td>721030</td>\n",
       "      <td>10024</td>\n",
       "      <td>2734129</td>\n",
       "      <td>-2013099</td>\n",
       "    </tr>\n",
       "    <tr>\n",
       "      <th>한-호주</th>\n",
       "      <td>2022</td>\n",
       "      <td>191729</td>\n",
       "      <td>17396124</td>\n",
       "      <td>560089</td>\n",
       "      <td>41235660</td>\n",
       "      <td>-23839536</td>\n",
       "    </tr>\n",
       "  </tbody>\n",
       "</table>\n",
       "</div>"
      ],
      "text/plain": [
       "          기간     수출건수       수출금액      수입건수       수입금액      무역수지\n",
       "FTA명                                                           \n",
       "RCEP    2022  6474383  287564087  11944545  292113146  -4549059\n",
       "한-EFTA  2022    26912    1794418     75489    4810598  -3016180\n",
       "한-EU    2022   882224   67684624   4734145   66716800    967825\n",
       "한-뉴질랜드  2022    36305    3139637    455563    1743951   1395687\n",
       "한-미국    2022  2186357  100446018  18531680   74972585  25473433\n",
       "한-베트남   2022   582908   56212924    860372   24850108  31362815\n",
       "한-싱가포르  2022   749118   18696289    151934    9315582   9380706\n",
       "한-아세안   2022  2775570  115599623   1839987   75744022  39855602\n",
       "한-영국    2022   108368    5862160    386507    5374130    488030\n",
       "한-인도    2022   193395   17391372    182655    8403685   8987687\n",
       "한-중국    2022  1325620  144611224   6775116  142753918   1857306\n",
       "한-중미    2022    28606    1388730     10003     933363    455367\n",
       "한-칠레    2022    30137    1425386     16553    6264483  -4839097\n",
       "한-캐나다   2022   212405    7224014    329449    7966998   -742985\n",
       "한-콜롬비아  2022    14045     862924     11286     636784    226140\n",
       "한-터키    2022    82688    7059423     46380    1287251   5772172\n",
       "한-페루    2022    13929     721030     10024    2734129  -2013099\n",
       "한-호주    2022   191729   17396124    560089   41235660 -23839536"
      ]
     },
     "execution_count": 22,
     "metadata": {},
     "output_type": "execute_result"
    }
   ],
   "source": [
    "fta_bin"
   ]
  },
  {
   "cell_type": "code",
   "execution_count": 35,
   "metadata": {},
   "outputs": [
    {
     "data": {
      "text/html": [
       "<div>\n",
       "<style scoped>\n",
       "    .dataframe tbody tr th:only-of-type {\n",
       "        vertical-align: middle;\n",
       "    }\n",
       "\n",
       "    .dataframe tbody tr th {\n",
       "        vertical-align: top;\n",
       "    }\n",
       "\n",
       "    .dataframe thead th {\n",
       "        text-align: right;\n",
       "    }\n",
       "</style>\n",
       "<table border=\"1\" class=\"dataframe\">\n",
       "  <thead>\n",
       "    <tr style=\"text-align: right;\">\n",
       "      <th></th>\n",
       "      <th>기간</th>\n",
       "      <th>수출건수</th>\n",
       "      <th>수출금액</th>\n",
       "      <th>수입건수</th>\n",
       "      <th>수입금액</th>\n",
       "      <th>무역수지</th>\n",
       "    </tr>\n",
       "    <tr>\n",
       "      <th>FTA명</th>\n",
       "      <th></th>\n",
       "      <th></th>\n",
       "      <th></th>\n",
       "      <th></th>\n",
       "      <th></th>\n",
       "      <th></th>\n",
       "    </tr>\n",
       "  </thead>\n",
       "  <tbody>\n",
       "    <tr>\n",
       "      <th>RCEP</th>\n",
       "      <td>2022</td>\n",
       "      <td>1</td>\n",
       "      <td>1</td>\n",
       "      <td>1</td>\n",
       "      <td>1</td>\n",
       "      <td>0</td>\n",
       "    </tr>\n",
       "    <tr>\n",
       "      <th>한-EFTA</th>\n",
       "      <td>2022</td>\n",
       "      <td>0</td>\n",
       "      <td>0</td>\n",
       "      <td>0</td>\n",
       "      <td>0</td>\n",
       "      <td>0</td>\n",
       "    </tr>\n",
       "    <tr>\n",
       "      <th>한-EU</th>\n",
       "      <td>2022</td>\n",
       "      <td>1</td>\n",
       "      <td>1</td>\n",
       "      <td>1</td>\n",
       "      <td>1</td>\n",
       "      <td>0</td>\n",
       "    </tr>\n",
       "    <tr>\n",
       "      <th>한-뉴질랜드</th>\n",
       "      <td>2022</td>\n",
       "      <td>0</td>\n",
       "      <td>0</td>\n",
       "      <td>0</td>\n",
       "      <td>0</td>\n",
       "      <td>0</td>\n",
       "    </tr>\n",
       "    <tr>\n",
       "      <th>한-미국</th>\n",
       "      <td>2022</td>\n",
       "      <td>1</td>\n",
       "      <td>1</td>\n",
       "      <td>1</td>\n",
       "      <td>1</td>\n",
       "      <td>1</td>\n",
       "    </tr>\n",
       "    <tr>\n",
       "      <th>한-베트남</th>\n",
       "      <td>2022</td>\n",
       "      <td>1</td>\n",
       "      <td>1</td>\n",
       "      <td>1</td>\n",
       "      <td>1</td>\n",
       "      <td>1</td>\n",
       "    </tr>\n",
       "    <tr>\n",
       "      <th>한-싱가포르</th>\n",
       "      <td>2022</td>\n",
       "      <td>1</td>\n",
       "      <td>0</td>\n",
       "      <td>0</td>\n",
       "      <td>0</td>\n",
       "      <td>1</td>\n",
       "    </tr>\n",
       "    <tr>\n",
       "      <th>한-아세안</th>\n",
       "      <td>2022</td>\n",
       "      <td>1</td>\n",
       "      <td>1</td>\n",
       "      <td>1</td>\n",
       "      <td>1</td>\n",
       "      <td>1</td>\n",
       "    </tr>\n",
       "    <tr>\n",
       "      <th>한-영국</th>\n",
       "      <td>2022</td>\n",
       "      <td>0</td>\n",
       "      <td>0</td>\n",
       "      <td>0</td>\n",
       "      <td>0</td>\n",
       "      <td>1</td>\n",
       "    </tr>\n",
       "    <tr>\n",
       "      <th>한-인도</th>\n",
       "      <td>2022</td>\n",
       "      <td>1</td>\n",
       "      <td>1</td>\n",
       "      <td>0</td>\n",
       "      <td>0</td>\n",
       "      <td>1</td>\n",
       "    </tr>\n",
       "    <tr>\n",
       "      <th>한-중국</th>\n",
       "      <td>2022</td>\n",
       "      <td>1</td>\n",
       "      <td>1</td>\n",
       "      <td>1</td>\n",
       "      <td>1</td>\n",
       "      <td>1</td>\n",
       "    </tr>\n",
       "    <tr>\n",
       "      <th>한-중미</th>\n",
       "      <td>2022</td>\n",
       "      <td>0</td>\n",
       "      <td>0</td>\n",
       "      <td>0</td>\n",
       "      <td>0</td>\n",
       "      <td>1</td>\n",
       "    </tr>\n",
       "    <tr>\n",
       "      <th>한-칠레</th>\n",
       "      <td>2022</td>\n",
       "      <td>0</td>\n",
       "      <td>0</td>\n",
       "      <td>0</td>\n",
       "      <td>1</td>\n",
       "      <td>0</td>\n",
       "    </tr>\n",
       "    <tr>\n",
       "      <th>한-캐나다</th>\n",
       "      <td>2022</td>\n",
       "      <td>1</td>\n",
       "      <td>1</td>\n",
       "      <td>1</td>\n",
       "      <td>1</td>\n",
       "      <td>1</td>\n",
       "    </tr>\n",
       "    <tr>\n",
       "      <th>한-콜롬비아</th>\n",
       "      <td>2022</td>\n",
       "      <td>0</td>\n",
       "      <td>0</td>\n",
       "      <td>0</td>\n",
       "      <td>0</td>\n",
       "      <td>1</td>\n",
       "    </tr>\n",
       "    <tr>\n",
       "      <th>한-터키</th>\n",
       "      <td>2022</td>\n",
       "      <td>1</td>\n",
       "      <td>1</td>\n",
       "      <td>1</td>\n",
       "      <td>0</td>\n",
       "      <td>1</td>\n",
       "    </tr>\n",
       "    <tr>\n",
       "      <th>한-페루</th>\n",
       "      <td>2022</td>\n",
       "      <td>1</td>\n",
       "      <td>0</td>\n",
       "      <td>0</td>\n",
       "      <td>1</td>\n",
       "      <td>0</td>\n",
       "    </tr>\n",
       "    <tr>\n",
       "      <th>한-호주</th>\n",
       "      <td>2022</td>\n",
       "      <td>1</td>\n",
       "      <td>1</td>\n",
       "      <td>1</td>\n",
       "      <td>1</td>\n",
       "      <td>0</td>\n",
       "    </tr>\n",
       "  </tbody>\n",
       "</table>\n",
       "</div>"
      ],
      "text/plain": [
       "          기간  수출건수  수출금액  수입건수  수입금액  무역수지\n",
       "FTA명                                      \n",
       "RCEP    2022     1     1     1     1     0\n",
       "한-EFTA  2022     0     0     0     0     0\n",
       "한-EU    2022     1     1     1     1     0\n",
       "한-뉴질랜드  2022     0     0     0     0     0\n",
       "한-미국    2022     1     1     1     1     1\n",
       "한-베트남   2022     1     1     1     1     1\n",
       "한-싱가포르  2022     1     0     0     0     1\n",
       "한-아세안   2022     1     1     1     1     1\n",
       "한-영국    2022     0     0     0     0     1\n",
       "한-인도    2022     1     1     0     0     1\n",
       "한-중국    2022     1     1     1     1     1\n",
       "한-중미    2022     0     0     0     0     1\n",
       "한-칠레    2022     0     0     0     1     0\n",
       "한-캐나다   2022     1     1     1     1     1\n",
       "한-콜롬비아  2022     0     0     0     0     1\n",
       "한-터키    2022     1     1     1     0     1\n",
       "한-페루    2022     1     0     0     1     0\n",
       "한-호주    2022     1     1     1     1     0"
      ]
     },
     "execution_count": 35,
     "metadata": {},
     "output_type": "execute_result"
    }
   ],
   "source": [
    "## df.loc['인덱스(행)','컬럼(열)']\n",
    "for i in fta_bin.columns[1:]:\n",
    "    for j in fta_bin.index:\n",
    "        if fta_bin.loc[j,i] >= fta_bin[i].mean():\n",
    "            fta_bin.loc[j,i] = 1\n",
    "        else:\n",
    "            fta_bin.loc[j,i] = 0\n",
    "        \n",
    "fta_bin\n",
    "    "
   ]
  },
  {
   "cell_type": "code",
   "execution_count": null,
   "metadata": {},
   "outputs": [],
   "source": [
    "# def df_to_bin(x = pd.DataFrame):\n",
    "#     1. 각 컬럼의 자료형태를 조사한다.\n",
    "#     2. 컬럼의 값들이 모두 동일하다면 이산화에서 배제한다\n",
    "#     3. 이산화에 필요한 코드를 작성한다\n",
    "#     4. 이산화한 데이터프레임을 리턴 받는다"
   ]
  },
  {
   "cell_type": "markdown",
   "metadata": {},
   "source": [
    "실습1 답안\n",
    "* FTA데이터에서 수출건수, 수출금액, 수입건수, 수입금액, 무역수지가 각각 평균 이하인 FTA와 평균 미만인 FTA로 이산화를 해보자\n",
    "* 이산화 데이터는 fta_bin으로 저장한다\n"
   ]
  },
  {
   "cell_type": "code",
   "execution_count": 36,
   "metadata": {},
   "outputs": [
    {
     "data": {
      "text/plain": [
       "884149.9444444445"
      ]
     },
     "execution_count": 36,
     "metadata": {},
     "output_type": "execute_result"
    }
   ],
   "source": [
    "fta['수출건수'].apply(lambda x : int(x.replace(' ','').replace(',',''))).mean() # 뛰어쓰기, 컴마 없애기"
   ]
  },
  {
   "cell_type": "code",
   "execution_count": 37,
   "metadata": {},
   "outputs": [
    {
     "data": {
      "text/plain": [
       "Index(['기간', '수출건수', '수출금액', '수입건수', '수입금액', '무역수지'], dtype='object')"
      ]
     },
     "execution_count": 37,
     "metadata": {},
     "output_type": "execute_result"
    }
   ],
   "source": [
    "fta.columns"
   ]
  },
  {
   "cell_type": "code",
   "execution_count": null,
   "metadata": {},
   "outputs": [],
   "source": [
    "target = fta.columns[1:]\n",
    "fta_bin1 = pd.DataFrame()\n",
    "df = fta\n",
    "for c in target:\n",
    "    col = df[c].apply(lambda x : int(x.replace(' ','')).replace(',',''))\n",
    "    fta_bin1[c] = col>col.mean()"
   ]
  },
  {
   "cell_type": "code",
   "execution_count": null,
   "metadata": {},
   "outputs": [],
   "source": [
    "fta_bin.replace([True,False],[1,0])\n",
    "# DataFrame에 replace 함수 사용해보기, 여러값 입력할 때는 리스트"
   ]
  },
  {
   "cell_type": "markdown",
   "metadata": {},
   "source": [
    "# 실습 2 : 데이터 축소\n",
    "* 앞서 배운 내용을 기반으로 데이터 축소를 해보자\n",
    "* 단 차원 축소는 제외"
   ]
  },
  {
   "cell_type": "code",
   "execution_count": 56,
   "metadata": {},
   "outputs": [
    {
     "name": "stderr",
     "output_type": "stream",
     "text": [
      "C:\\Users\\user\\AppData\\Local\\Temp\\ipykernel_14956\\2292915039.py:1: DtypeWarning: Columns (7,19,20) have mixed types. Specify dtype option on import or set low_memory=False.\n",
      "  df = pd.read_csv('C:/Users/user/Desktop/230102~/실습 데이터/서울시 부동산 실거래가 정보.csv' , encoding= 'cp949')\n"
     ]
    }
   ],
   "source": [
    "df = pd.read_csv('C:/Users/user/Desktop/230102~/실습 데이터/서울시 부동산 실거래가 정보.csv' , encoding= 'cp949')\n",
    "df_bakcup = df.copy()"
   ]
  },
  {
   "cell_type": "code",
   "execution_count": 57,
   "metadata": {},
   "outputs": [],
   "source": [
    "df.rename(columns= {'물건금액(만원)':'물건금액(억)'}, inplace = True)"
   ]
  },
  {
   "cell_type": "code",
   "execution_count": 58,
   "metadata": {},
   "outputs": [],
   "source": [
    "df['물건금액(억)'] = df['물건금액(억)'].apply(lambda x :x/10000)"
   ]
  },
  {
   "cell_type": "code",
   "execution_count": 106,
   "metadata": {},
   "outputs": [
    {
     "data": {
      "text/plain": [
       "0         2.700\n",
       "1         2.030\n",
       "2         1.350\n",
       "3         1.880\n",
       "4         2.250\n",
       "          ...  \n",
       "639995    2.200\n",
       "639996    4.980\n",
       "639997    2.500\n",
       "639998    1.950\n",
       "639999    2.025\n",
       "Name: 물건금액(억), Length: 640000, dtype: float64"
      ]
     },
     "execution_count": 106,
     "metadata": {},
     "output_type": "execute_result"
    }
   ],
   "source": [
    "df['물건금액(억)']"
   ]
  },
  {
   "cell_type": "markdown",
   "metadata": {},
   "source": [
    "실습 2 답안"
   ]
  },
  {
   "cell_type": "code",
   "execution_count": 82,
   "metadata": {},
   "outputs": [
    {
     "data": {
      "text/html": [
       "<div>\n",
       "<style scoped>\n",
       "    .dataframe tbody tr th:only-of-type {\n",
       "        vertical-align: middle;\n",
       "    }\n",
       "\n",
       "    .dataframe tbody tr th {\n",
       "        vertical-align: top;\n",
       "    }\n",
       "\n",
       "    .dataframe thead th {\n",
       "        text-align: right;\n",
       "    }\n",
       "</style>\n",
       "<table border=\"1\" class=\"dataframe\">\n",
       "  <thead>\n",
       "    <tr style=\"text-align: right;\">\n",
       "      <th></th>\n",
       "      <th>자치구코드</th>\n",
       "      <th>자치구명</th>\n",
       "    </tr>\n",
       "  </thead>\n",
       "  <tbody>\n",
       "    <tr>\n",
       "      <th>0</th>\n",
       "      <td>11710</td>\n",
       "      <td>송파구</td>\n",
       "    </tr>\n",
       "    <tr>\n",
       "      <th>1</th>\n",
       "      <td>11140</td>\n",
       "      <td>중구</td>\n",
       "    </tr>\n",
       "    <tr>\n",
       "      <th>2</th>\n",
       "      <td>11260</td>\n",
       "      <td>중랑구</td>\n",
       "    </tr>\n",
       "    <tr>\n",
       "      <th>3</th>\n",
       "      <td>11740</td>\n",
       "      <td>강동구</td>\n",
       "    </tr>\n",
       "    <tr>\n",
       "      <th>4</th>\n",
       "      <td>11380</td>\n",
       "      <td>은평구</td>\n",
       "    </tr>\n",
       "    <tr>\n",
       "      <th>5</th>\n",
       "      <td>11230</td>\n",
       "      <td>동대문구</td>\n",
       "    </tr>\n",
       "    <tr>\n",
       "      <th>7</th>\n",
       "      <td>11545</td>\n",
       "      <td>금천구</td>\n",
       "    </tr>\n",
       "    <tr>\n",
       "      <th>8</th>\n",
       "      <td>11200</td>\n",
       "      <td>성동구</td>\n",
       "    </tr>\n",
       "    <tr>\n",
       "      <th>10</th>\n",
       "      <td>11470</td>\n",
       "      <td>양천구</td>\n",
       "    </tr>\n",
       "    <tr>\n",
       "      <th>12</th>\n",
       "      <td>11410</td>\n",
       "      <td>서대문구</td>\n",
       "    </tr>\n",
       "    <tr>\n",
       "      <th>14</th>\n",
       "      <td>11320</td>\n",
       "      <td>도봉구</td>\n",
       "    </tr>\n",
       "    <tr>\n",
       "      <th>15</th>\n",
       "      <td>11305</td>\n",
       "      <td>강북구</td>\n",
       "    </tr>\n",
       "    <tr>\n",
       "      <th>17</th>\n",
       "      <td>11590</td>\n",
       "      <td>동작구</td>\n",
       "    </tr>\n",
       "    <tr>\n",
       "      <th>20</th>\n",
       "      <td>11620</td>\n",
       "      <td>관악구</td>\n",
       "    </tr>\n",
       "    <tr>\n",
       "      <th>21</th>\n",
       "      <td>11560</td>\n",
       "      <td>영등포구</td>\n",
       "    </tr>\n",
       "    <tr>\n",
       "      <th>22</th>\n",
       "      <td>11530</td>\n",
       "      <td>구로구</td>\n",
       "    </tr>\n",
       "    <tr>\n",
       "      <th>25</th>\n",
       "      <td>11650</td>\n",
       "      <td>서초구</td>\n",
       "    </tr>\n",
       "    <tr>\n",
       "      <th>27</th>\n",
       "      <td>11500</td>\n",
       "      <td>강서구</td>\n",
       "    </tr>\n",
       "    <tr>\n",
       "      <th>31</th>\n",
       "      <td>11215</td>\n",
       "      <td>광진구</td>\n",
       "    </tr>\n",
       "    <tr>\n",
       "      <th>33</th>\n",
       "      <td>11350</td>\n",
       "      <td>노원구</td>\n",
       "    </tr>\n",
       "    <tr>\n",
       "      <th>34</th>\n",
       "      <td>11680</td>\n",
       "      <td>강남구</td>\n",
       "    </tr>\n",
       "    <tr>\n",
       "      <th>48</th>\n",
       "      <td>11290</td>\n",
       "      <td>성북구</td>\n",
       "    </tr>\n",
       "    <tr>\n",
       "      <th>60</th>\n",
       "      <td>11170</td>\n",
       "      <td>용산구</td>\n",
       "    </tr>\n",
       "    <tr>\n",
       "      <th>70</th>\n",
       "      <td>11110</td>\n",
       "      <td>종로구</td>\n",
       "    </tr>\n",
       "    <tr>\n",
       "      <th>114</th>\n",
       "      <td>11440</td>\n",
       "      <td>마포구</td>\n",
       "    </tr>\n",
       "  </tbody>\n",
       "</table>\n",
       "</div>"
      ],
      "text/plain": [
       "     자치구코드  자치구명\n",
       "0    11710   송파구\n",
       "1    11140    중구\n",
       "2    11260   중랑구\n",
       "3    11740   강동구\n",
       "4    11380   은평구\n",
       "5    11230  동대문구\n",
       "7    11545   금천구\n",
       "8    11200   성동구\n",
       "10   11470   양천구\n",
       "12   11410  서대문구\n",
       "14   11320   도봉구\n",
       "15   11305   강북구\n",
       "17   11590   동작구\n",
       "20   11620   관악구\n",
       "21   11560  영등포구\n",
       "22   11530   구로구\n",
       "25   11650   서초구\n",
       "27   11500   강서구\n",
       "31   11215   광진구\n",
       "33   11350   노원구\n",
       "34   11680   강남구\n",
       "48   11290   성북구\n",
       "60   11170   용산구\n",
       "70   11110   종로구\n",
       "114  11440   마포구"
      ]
     },
     "execution_count": 82,
     "metadata": {},
     "output_type": "execute_result"
    }
   ],
   "source": [
    "df[['자치구코드','자치구명']].drop_duplicates() ## 이 데이터를 메타데이터로 저장"
   ]
  },
  {
   "cell_type": "code",
   "execution_count": 83,
   "metadata": {},
   "outputs": [
    {
     "data": {
      "text/html": [
       "<div>\n",
       "<style scoped>\n",
       "    .dataframe tbody tr th:only-of-type {\n",
       "        vertical-align: middle;\n",
       "    }\n",
       "\n",
       "    .dataframe tbody tr th {\n",
       "        vertical-align: top;\n",
       "    }\n",
       "\n",
       "    .dataframe thead th {\n",
       "        text-align: right;\n",
       "    }\n",
       "</style>\n",
       "<table border=\"1\" class=\"dataframe\">\n",
       "  <thead>\n",
       "    <tr style=\"text-align: right;\">\n",
       "      <th></th>\n",
       "      <th>법정동코드</th>\n",
       "      <th>법정동명</th>\n",
       "    </tr>\n",
       "  </thead>\n",
       "  <tbody>\n",
       "    <tr>\n",
       "      <th>0</th>\n",
       "      <td>10600</td>\n",
       "      <td>삼전동</td>\n",
       "    </tr>\n",
       "    <tr>\n",
       "      <th>1</th>\n",
       "      <td>16100</td>\n",
       "      <td>저동2가</td>\n",
       "    </tr>\n",
       "    <tr>\n",
       "      <th>2</th>\n",
       "      <td>10300</td>\n",
       "      <td>중화동</td>\n",
       "    </tr>\n",
       "    <tr>\n",
       "      <th>3</th>\n",
       "      <td>10900</td>\n",
       "      <td>천호동</td>\n",
       "    </tr>\n",
       "    <tr>\n",
       "      <th>4</th>\n",
       "      <td>10800</td>\n",
       "      <td>역촌동</td>\n",
       "    </tr>\n",
       "    <tr>\n",
       "      <th>...</th>\n",
       "      <td>...</td>\n",
       "      <td>...</td>\n",
       "    </tr>\n",
       "    <tr>\n",
       "      <th>567294</th>\n",
       "      <td>12600</td>\n",
       "      <td>명동1가</td>\n",
       "    </tr>\n",
       "    <tr>\n",
       "      <th>581662</th>\n",
       "      <td>16600</td>\n",
       "      <td>서소문동</td>\n",
       "    </tr>\n",
       "    <tr>\n",
       "      <th>599973</th>\n",
       "      <td>15900</td>\n",
       "      <td>초동</td>\n",
       "    </tr>\n",
       "    <tr>\n",
       "      <th>601008</th>\n",
       "      <td>13000</td>\n",
       "      <td>남산동3가</td>\n",
       "    </tr>\n",
       "    <tr>\n",
       "      <th>617559</th>\n",
       "      <td>11000</td>\n",
       "      <td>수표동</td>\n",
       "    </tr>\n",
       "  </tbody>\n",
       "</table>\n",
       "<p>418 rows × 2 columns</p>\n",
       "</div>"
      ],
      "text/plain": [
       "        법정동코드   법정동명\n",
       "0       10600    삼전동\n",
       "1       16100   저동2가\n",
       "2       10300    중화동\n",
       "3       10900    천호동\n",
       "4       10800    역촌동\n",
       "...       ...    ...\n",
       "567294  12600   명동1가\n",
       "581662  16600   서소문동\n",
       "599973  15900     초동\n",
       "601008  13000  남산동3가\n",
       "617559  11000    수표동\n",
       "\n",
       "[418 rows x 2 columns]"
      ]
     },
     "execution_count": 83,
     "metadata": {},
     "output_type": "execute_result"
    }
   ],
   "source": [
    "df[['법정동코드','법정동명']].drop_duplicates() ## 이 데이터를 메타데이터로 저장"
   ]
  },
  {
   "cell_type": "code",
   "execution_count": 84,
   "metadata": {},
   "outputs": [
    {
     "data": {
      "text/html": [
       "<div>\n",
       "<style scoped>\n",
       "    .dataframe tbody tr th:only-of-type {\n",
       "        vertical-align: middle;\n",
       "    }\n",
       "\n",
       "    .dataframe tbody tr th {\n",
       "        vertical-align: top;\n",
       "    }\n",
       "\n",
       "    .dataframe thead th {\n",
       "        text-align: right;\n",
       "    }\n",
       "</style>\n",
       "<table border=\"1\" class=\"dataframe\">\n",
       "  <thead>\n",
       "    <tr style=\"text-align: right;\">\n",
       "      <th></th>\n",
       "      <th>지번구분</th>\n",
       "      <th>지번구분명</th>\n",
       "    </tr>\n",
       "  </thead>\n",
       "  <tbody>\n",
       "    <tr>\n",
       "      <th>0</th>\n",
       "      <td>1.0</td>\n",
       "      <td>대지</td>\n",
       "    </tr>\n",
       "    <tr>\n",
       "      <th>28</th>\n",
       "      <td>NaN</td>\n",
       "      <td>NaN</td>\n",
       "    </tr>\n",
       "    <tr>\n",
       "      <th>1273</th>\n",
       "      <td>3.0</td>\n",
       "      <td>블럭</td>\n",
       "    </tr>\n",
       "    <tr>\n",
       "      <th>4639</th>\n",
       "      <td>2.0</td>\n",
       "      <td>산</td>\n",
       "    </tr>\n",
       "  </tbody>\n",
       "</table>\n",
       "</div>"
      ],
      "text/plain": [
       "      지번구분 지번구분명\n",
       "0      1.0    대지\n",
       "28     NaN   NaN\n",
       "1273   3.0    블럭\n",
       "4639   2.0     산"
      ]
     },
     "execution_count": 84,
     "metadata": {},
     "output_type": "execute_result"
    }
   ],
   "source": [
    "df[['지번구분','지번구분명']].drop_duplicates() ## 이 데이터를 메타데이터로 저장"
   ]
  },
  {
   "cell_type": "code",
   "execution_count": 85,
   "metadata": {},
   "outputs": [],
   "source": [
    "df.drop(['접수연도','자치구명','법정동명','지번구분명'], inplace = True, axis = 1)"
   ]
  },
  {
   "cell_type": "code",
   "execution_count": 87,
   "metadata": {},
   "outputs": [
    {
     "ename": "ImportError",
     "evalue": "Missing optional dependency 'pyarrow'.  Use pip or conda to install pyarrow.",
     "output_type": "error",
     "traceback": [
      "\u001b[1;31m---------------------------------------------------------------------------\u001b[0m",
      "\u001b[1;31mModuleNotFoundError\u001b[0m                       Traceback (most recent call last)",
      "File \u001b[1;32mc:\\Users\\user\\AppData\\Local\\Programs\\Python\\Python311\\Lib\\site-packages\\pandas\\compat\\_optional.py:141\u001b[0m, in \u001b[0;36mimport_optional_dependency\u001b[1;34m(name, extra, errors, min_version)\u001b[0m\n\u001b[0;32m    140\u001b[0m \u001b[39mtry\u001b[39;00m:\n\u001b[1;32m--> 141\u001b[0m     module \u001b[39m=\u001b[39m importlib\u001b[39m.\u001b[39;49mimport_module(name)\n\u001b[0;32m    142\u001b[0m \u001b[39mexcept\u001b[39;00m \u001b[39mImportError\u001b[39;00m:\n",
      "File \u001b[1;32mc:\\Users\\user\\AppData\\Local\\Programs\\Python\\Python311\\Lib\\importlib\\__init__.py:126\u001b[0m, in \u001b[0;36mimport_module\u001b[1;34m(name, package)\u001b[0m\n\u001b[0;32m    125\u001b[0m         level \u001b[39m+\u001b[39m\u001b[39m=\u001b[39m \u001b[39m1\u001b[39m\n\u001b[1;32m--> 126\u001b[0m \u001b[39mreturn\u001b[39;00m _bootstrap\u001b[39m.\u001b[39;49m_gcd_import(name[level:], package, level)\n",
      "File \u001b[1;32m<frozen importlib._bootstrap>:1206\u001b[0m, in \u001b[0;36m_gcd_import\u001b[1;34m(name, package, level)\u001b[0m\n",
      "File \u001b[1;32m<frozen importlib._bootstrap>:1178\u001b[0m, in \u001b[0;36m_find_and_load\u001b[1;34m(name, import_)\u001b[0m\n",
      "File \u001b[1;32m<frozen importlib._bootstrap>:1142\u001b[0m, in \u001b[0;36m_find_and_load_unlocked\u001b[1;34m(name, import_)\u001b[0m\n",
      "\u001b[1;31mModuleNotFoundError\u001b[0m: No module named 'pyarrow'",
      "\nDuring handling of the above exception, another exception occurred:\n",
      "\u001b[1;31mImportError\u001b[0m                               Traceback (most recent call last)",
      "Cell \u001b[1;32mIn[87], line 1\u001b[0m\n\u001b[1;32m----> 1\u001b[0m df\u001b[39m.\u001b[39;49mto_feather(\u001b[39m'\u001b[39;49m\u001b[39m../실습 데이터/230112result.feateher\u001b[39;49m\u001b[39m'\u001b[39;49m) \u001b[39m# feather 등의 I/O 부담이 덜한 확장자로 저장할 수 있음\u001b[39;00m\n",
      "File \u001b[1;32mc:\\Users\\user\\AppData\\Local\\Programs\\Python\\Python311\\Lib\\site-packages\\pandas\\util\\_decorators.py:211\u001b[0m, in \u001b[0;36mdeprecate_kwarg.<locals>._deprecate_kwarg.<locals>.wrapper\u001b[1;34m(*args, **kwargs)\u001b[0m\n\u001b[0;32m    209\u001b[0m     \u001b[39melse\u001b[39;00m:\n\u001b[0;32m    210\u001b[0m         kwargs[new_arg_name] \u001b[39m=\u001b[39m new_arg_value\n\u001b[1;32m--> 211\u001b[0m \u001b[39mreturn\u001b[39;00m func(\u001b[39m*\u001b[39;49margs, \u001b[39m*\u001b[39;49m\u001b[39m*\u001b[39;49mkwargs)\n",
      "File \u001b[1;32mc:\\Users\\user\\AppData\\Local\\Programs\\Python\\Python311\\Lib\\site-packages\\pandas\\core\\frame.py:2794\u001b[0m, in \u001b[0;36mDataFrame.to_feather\u001b[1;34m(self, path, **kwargs)\u001b[0m\n\u001b[0;32m   2769\u001b[0m \u001b[39m\u001b[39m\u001b[39m\"\"\"\u001b[39;00m\n\u001b[0;32m   2770\u001b[0m \u001b[39mWrite a DataFrame to the binary Feather format.\u001b[39;00m\n\u001b[0;32m   2771\u001b[0m \n\u001b[1;32m   (...)\u001b[0m\n\u001b[0;32m   2790\u001b[0m \u001b[39msupports custom indices e.g. `to_parquet`.\u001b[39;00m\n\u001b[0;32m   2791\u001b[0m \u001b[39m\"\"\"\u001b[39;00m\n\u001b[0;32m   2792\u001b[0m \u001b[39mfrom\u001b[39;00m \u001b[39mpandas\u001b[39;00m\u001b[39m.\u001b[39;00m\u001b[39mio\u001b[39;00m\u001b[39m.\u001b[39;00m\u001b[39mfeather_format\u001b[39;00m \u001b[39mimport\u001b[39;00m to_feather\n\u001b[1;32m-> 2794\u001b[0m to_feather(\u001b[39mself\u001b[39;49m, path, \u001b[39m*\u001b[39;49m\u001b[39m*\u001b[39;49mkwargs)\n",
      "File \u001b[1;32mc:\\Users\\user\\AppData\\Local\\Programs\\Python\\Python311\\Lib\\site-packages\\pandas\\io\\feather_format.py:51\u001b[0m, in \u001b[0;36mto_feather\u001b[1;34m(df, path, storage_options, **kwargs)\u001b[0m\n\u001b[0;32m     28\u001b[0m \u001b[39m@doc\u001b[39m(storage_options\u001b[39m=\u001b[39m_shared_docs[\u001b[39m\"\u001b[39m\u001b[39mstorage_options\u001b[39m\u001b[39m\"\u001b[39m])\n\u001b[0;32m     29\u001b[0m \u001b[39mdef\u001b[39;00m \u001b[39mto_feather\u001b[39m(\n\u001b[0;32m     30\u001b[0m     df: DataFrame,\n\u001b[1;32m   (...)\u001b[0m\n\u001b[0;32m     33\u001b[0m     \u001b[39m*\u001b[39m\u001b[39m*\u001b[39mkwargs,\n\u001b[0;32m     34\u001b[0m ) \u001b[39m-\u001b[39m\u001b[39m>\u001b[39m \u001b[39mNone\u001b[39;00m:\n\u001b[0;32m     35\u001b[0m \u001b[39m    \u001b[39m\u001b[39m\"\"\"\u001b[39;00m\n\u001b[0;32m     36\u001b[0m \u001b[39m    Write a DataFrame to the binary Feather format.\u001b[39;00m\n\u001b[0;32m     37\u001b[0m \n\u001b[1;32m   (...)\u001b[0m\n\u001b[0;32m     49\u001b[0m \u001b[39m        .. versionadded:: 1.1.0\u001b[39;00m\n\u001b[0;32m     50\u001b[0m \u001b[39m    \"\"\"\u001b[39;00m\n\u001b[1;32m---> 51\u001b[0m     import_optional_dependency(\u001b[39m\"\u001b[39;49m\u001b[39mpyarrow\u001b[39;49m\u001b[39m\"\u001b[39;49m)\n\u001b[0;32m     52\u001b[0m     \u001b[39mfrom\u001b[39;00m \u001b[39mpyarrow\u001b[39;00m \u001b[39mimport\u001b[39;00m feather\n\u001b[0;32m     54\u001b[0m     \u001b[39mif\u001b[39;00m \u001b[39mnot\u001b[39;00m \u001b[39misinstance\u001b[39m(df, DataFrame):\n",
      "File \u001b[1;32mc:\\Users\\user\\AppData\\Local\\Programs\\Python\\Python311\\Lib\\site-packages\\pandas\\compat\\_optional.py:144\u001b[0m, in \u001b[0;36mimport_optional_dependency\u001b[1;34m(name, extra, errors, min_version)\u001b[0m\n\u001b[0;32m    142\u001b[0m \u001b[39mexcept\u001b[39;00m \u001b[39mImportError\u001b[39;00m:\n\u001b[0;32m    143\u001b[0m     \u001b[39mif\u001b[39;00m errors \u001b[39m==\u001b[39m \u001b[39m\"\u001b[39m\u001b[39mraise\u001b[39m\u001b[39m\"\u001b[39m:\n\u001b[1;32m--> 144\u001b[0m         \u001b[39mraise\u001b[39;00m \u001b[39mImportError\u001b[39;00m(msg)\n\u001b[0;32m    145\u001b[0m     \u001b[39melse\u001b[39;00m:\n\u001b[0;32m    146\u001b[0m         \u001b[39mreturn\u001b[39;00m \u001b[39mNone\u001b[39;00m\n",
      "\u001b[1;31mImportError\u001b[0m: Missing optional dependency 'pyarrow'.  Use pip or conda to install pyarrow."
     ]
    }
   ],
   "source": [
    "df.to_feather('../실습 데이터/230112result.feateher') # feather 등의 I/O 부담이 덜한 확장자로 저장할 수 있음"
   ]
  },
  {
   "cell_type": "code",
   "execution_count": 107,
   "metadata": {},
   "outputs": [
    {
     "data": {
      "text/plain": [
       "0         X\n",
       "1         X\n",
       "2         X\n",
       "3         X\n",
       "4         X\n",
       "         ..\n",
       "639995    X\n",
       "639996    X\n",
       "639997    X\n",
       "639998    X\n",
       "639999    X\n",
       "Name: 물건금액(억), Length: 640000, dtype: object"
      ]
     },
     "execution_count": 107,
     "metadata": {},
     "output_type": "execute_result"
    }
   ],
   "source": [
    "list1 = pd.Series([1.23456,1.2548,1.2544,1.2356,1.5559,1])\n",
    "def dev_float(x):\n",
    "    if type(df['물건금액(억)']) == 'float64':\n",
    "        return 'O'\n",
    "    else:\n",
    "        return 'X'\n",
    "    \n",
    "df['물건금액(억)'].apply(lambda x: dev_float(x))"
   ]
  },
  {
   "cell_type": "code",
   "execution_count": 98,
   "metadata": {},
   "outputs": [
    {
     "data": {
      "text/plain": [
       "2"
      ]
     },
     "execution_count": 98,
     "metadata": {},
     "output_type": "execute_result"
    }
   ],
   "source": [
    "len(str(list1[5]).split('.'))"
   ]
  },
  {
   "cell_type": "code",
   "execution_count": 102,
   "metadata": {},
   "outputs": [
    {
     "name": "stdout",
     "output_type": "stream",
     "text": [
      "<class 'pandas.core.series.Series'>\n",
      "RangeIndex: 6 entries, 0 to 5\n",
      "Series name: None\n",
      "Non-Null Count  Dtype  \n",
      "--------------  -----  \n",
      "6 non-null      float64\n",
      "dtypes: float64(1)\n",
      "memory usage: 176.0 bytes\n"
     ]
    }
   ],
   "source": [
    "list1.info()"
   ]
  },
  {
   "cell_type": "markdown",
   "metadata": {},
   "source": [
    "## 고정소수점, 부동소수점 연산 시연\n"
   ]
  },
  {
   "cell_type": "code",
   "execution_count": 108,
   "metadata": {},
   "outputs": [
    {
     "data": {
      "text/plain": [
       "45.1212"
      ]
     },
     "execution_count": 108,
     "metadata": {},
     "output_type": "execute_result"
    }
   ],
   "source": [
    "float(45.1212) # 부동소수점 잔차 존재O 파이썬은 기본적으로 부동소수점 연산을 함"
   ]
  },
  {
   "cell_type": "code",
   "execution_count": 111,
   "metadata": {},
   "outputs": [
    {
     "data": {
      "text/plain": [
       "Decimal('45.2000000000000028421709430404007434844970703125')"
      ]
     },
     "execution_count": 111,
     "metadata": {},
     "output_type": "execute_result"
    }
   ],
   "source": [
    "import decimal # 고정소수점 정확도가 보장되지만 연산속도는 느림\n",
    "decimal.Decimal(45.2)"
   ]
  },
  {
   "cell_type": "code",
   "execution_count": 113,
   "metadata": {},
   "outputs": [
    {
     "data": {
      "text/plain": [
       "Decimal('7.5')"
      ]
     },
     "execution_count": 113,
     "metadata": {},
     "output_type": "execute_result"
    }
   ],
   "source": [
    "decimal.Decimal(45) / decimal.Decimal(6)"
   ]
  },
  {
   "cell_type": "markdown",
   "metadata": {},
   "source": [
    "# 차원축소 (복사 붙여넣기 권장)\n",
    "* 값이 왜곡됨\n",
    "* reduce는 값이 왜곡된 결과\n",
    "* PCA, LDA를 통해 축소한 결과값이 달라짐\n",
    "    * 그 이유는 비추는 각도(축소방법)가 달라지기 때문에"
   ]
  },
  {
   "cell_type": "code",
   "execution_count": 114,
   "metadata": {},
   "outputs": [],
   "source": [
    "from sklearn.preprocessing import StandardScaler\n",
    "from sklearn.decomposition import PCA\n",
    "from sklearn.discriminant_analysis import LinearDiscriminantAnalysis"
   ]
  },
  {
   "cell_type": "code",
   "execution_count": 116,
   "metadata": {},
   "outputs": [],
   "source": [
    "from sklearn.datasets import load_iris # 붓꽃 데이터"
   ]
  },
  {
   "cell_type": "code",
   "execution_count": 121,
   "metadata": {},
   "outputs": [
    {
     "data": {
      "text/plain": [
       "{'data': array([[5.1, 3.5, 1.4, 0.2],\n",
       "        [4.9, 3. , 1.4, 0.2],\n",
       "        [4.7, 3.2, 1.3, 0.2],\n",
       "        [4.6, 3.1, 1.5, 0.2],\n",
       "        [5. , 3.6, 1.4, 0.2],\n",
       "        [5.4, 3.9, 1.7, 0.4],\n",
       "        [4.6, 3.4, 1.4, 0.3],\n",
       "        [5. , 3.4, 1.5, 0.2],\n",
       "        [4.4, 2.9, 1.4, 0.2],\n",
       "        [4.9, 3.1, 1.5, 0.1],\n",
       "        [5.4, 3.7, 1.5, 0.2],\n",
       "        [4.8, 3.4, 1.6, 0.2],\n",
       "        [4.8, 3. , 1.4, 0.1],\n",
       "        [4.3, 3. , 1.1, 0.1],\n",
       "        [5.8, 4. , 1.2, 0.2],\n",
       "        [5.7, 4.4, 1.5, 0.4],\n",
       "        [5.4, 3.9, 1.3, 0.4],\n",
       "        [5.1, 3.5, 1.4, 0.3],\n",
       "        [5.7, 3.8, 1.7, 0.3],\n",
       "        [5.1, 3.8, 1.5, 0.3],\n",
       "        [5.4, 3.4, 1.7, 0.2],\n",
       "        [5.1, 3.7, 1.5, 0.4],\n",
       "        [4.6, 3.6, 1. , 0.2],\n",
       "        [5.1, 3.3, 1.7, 0.5],\n",
       "        [4.8, 3.4, 1.9, 0.2],\n",
       "        [5. , 3. , 1.6, 0.2],\n",
       "        [5. , 3.4, 1.6, 0.4],\n",
       "        [5.2, 3.5, 1.5, 0.2],\n",
       "        [5.2, 3.4, 1.4, 0.2],\n",
       "        [4.7, 3.2, 1.6, 0.2],\n",
       "        [4.8, 3.1, 1.6, 0.2],\n",
       "        [5.4, 3.4, 1.5, 0.4],\n",
       "        [5.2, 4.1, 1.5, 0.1],\n",
       "        [5.5, 4.2, 1.4, 0.2],\n",
       "        [4.9, 3.1, 1.5, 0.2],\n",
       "        [5. , 3.2, 1.2, 0.2],\n",
       "        [5.5, 3.5, 1.3, 0.2],\n",
       "        [4.9, 3.6, 1.4, 0.1],\n",
       "        [4.4, 3. , 1.3, 0.2],\n",
       "        [5.1, 3.4, 1.5, 0.2],\n",
       "        [5. , 3.5, 1.3, 0.3],\n",
       "        [4.5, 2.3, 1.3, 0.3],\n",
       "        [4.4, 3.2, 1.3, 0.2],\n",
       "        [5. , 3.5, 1.6, 0.6],\n",
       "        [5.1, 3.8, 1.9, 0.4],\n",
       "        [4.8, 3. , 1.4, 0.3],\n",
       "        [5.1, 3.8, 1.6, 0.2],\n",
       "        [4.6, 3.2, 1.4, 0.2],\n",
       "        [5.3, 3.7, 1.5, 0.2],\n",
       "        [5. , 3.3, 1.4, 0.2],\n",
       "        [7. , 3.2, 4.7, 1.4],\n",
       "        [6.4, 3.2, 4.5, 1.5],\n",
       "        [6.9, 3.1, 4.9, 1.5],\n",
       "        [5.5, 2.3, 4. , 1.3],\n",
       "        [6.5, 2.8, 4.6, 1.5],\n",
       "        [5.7, 2.8, 4.5, 1.3],\n",
       "        [6.3, 3.3, 4.7, 1.6],\n",
       "        [4.9, 2.4, 3.3, 1. ],\n",
       "        [6.6, 2.9, 4.6, 1.3],\n",
       "        [5.2, 2.7, 3.9, 1.4],\n",
       "        [5. , 2. , 3.5, 1. ],\n",
       "        [5.9, 3. , 4.2, 1.5],\n",
       "        [6. , 2.2, 4. , 1. ],\n",
       "        [6.1, 2.9, 4.7, 1.4],\n",
       "        [5.6, 2.9, 3.6, 1.3],\n",
       "        [6.7, 3.1, 4.4, 1.4],\n",
       "        [5.6, 3. , 4.5, 1.5],\n",
       "        [5.8, 2.7, 4.1, 1. ],\n",
       "        [6.2, 2.2, 4.5, 1.5],\n",
       "        [5.6, 2.5, 3.9, 1.1],\n",
       "        [5.9, 3.2, 4.8, 1.8],\n",
       "        [6.1, 2.8, 4. , 1.3],\n",
       "        [6.3, 2.5, 4.9, 1.5],\n",
       "        [6.1, 2.8, 4.7, 1.2],\n",
       "        [6.4, 2.9, 4.3, 1.3],\n",
       "        [6.6, 3. , 4.4, 1.4],\n",
       "        [6.8, 2.8, 4.8, 1.4],\n",
       "        [6.7, 3. , 5. , 1.7],\n",
       "        [6. , 2.9, 4.5, 1.5],\n",
       "        [5.7, 2.6, 3.5, 1. ],\n",
       "        [5.5, 2.4, 3.8, 1.1],\n",
       "        [5.5, 2.4, 3.7, 1. ],\n",
       "        [5.8, 2.7, 3.9, 1.2],\n",
       "        [6. , 2.7, 5.1, 1.6],\n",
       "        [5.4, 3. , 4.5, 1.5],\n",
       "        [6. , 3.4, 4.5, 1.6],\n",
       "        [6.7, 3.1, 4.7, 1.5],\n",
       "        [6.3, 2.3, 4.4, 1.3],\n",
       "        [5.6, 3. , 4.1, 1.3],\n",
       "        [5.5, 2.5, 4. , 1.3],\n",
       "        [5.5, 2.6, 4.4, 1.2],\n",
       "        [6.1, 3. , 4.6, 1.4],\n",
       "        [5.8, 2.6, 4. , 1.2],\n",
       "        [5. , 2.3, 3.3, 1. ],\n",
       "        [5.6, 2.7, 4.2, 1.3],\n",
       "        [5.7, 3. , 4.2, 1.2],\n",
       "        [5.7, 2.9, 4.2, 1.3],\n",
       "        [6.2, 2.9, 4.3, 1.3],\n",
       "        [5.1, 2.5, 3. , 1.1],\n",
       "        [5.7, 2.8, 4.1, 1.3],\n",
       "        [6.3, 3.3, 6. , 2.5],\n",
       "        [5.8, 2.7, 5.1, 1.9],\n",
       "        [7.1, 3. , 5.9, 2.1],\n",
       "        [6.3, 2.9, 5.6, 1.8],\n",
       "        [6.5, 3. , 5.8, 2.2],\n",
       "        [7.6, 3. , 6.6, 2.1],\n",
       "        [4.9, 2.5, 4.5, 1.7],\n",
       "        [7.3, 2.9, 6.3, 1.8],\n",
       "        [6.7, 2.5, 5.8, 1.8],\n",
       "        [7.2, 3.6, 6.1, 2.5],\n",
       "        [6.5, 3.2, 5.1, 2. ],\n",
       "        [6.4, 2.7, 5.3, 1.9],\n",
       "        [6.8, 3. , 5.5, 2.1],\n",
       "        [5.7, 2.5, 5. , 2. ],\n",
       "        [5.8, 2.8, 5.1, 2.4],\n",
       "        [6.4, 3.2, 5.3, 2.3],\n",
       "        [6.5, 3. , 5.5, 1.8],\n",
       "        [7.7, 3.8, 6.7, 2.2],\n",
       "        [7.7, 2.6, 6.9, 2.3],\n",
       "        [6. , 2.2, 5. , 1.5],\n",
       "        [6.9, 3.2, 5.7, 2.3],\n",
       "        [5.6, 2.8, 4.9, 2. ],\n",
       "        [7.7, 2.8, 6.7, 2. ],\n",
       "        [6.3, 2.7, 4.9, 1.8],\n",
       "        [6.7, 3.3, 5.7, 2.1],\n",
       "        [7.2, 3.2, 6. , 1.8],\n",
       "        [6.2, 2.8, 4.8, 1.8],\n",
       "        [6.1, 3. , 4.9, 1.8],\n",
       "        [6.4, 2.8, 5.6, 2.1],\n",
       "        [7.2, 3. , 5.8, 1.6],\n",
       "        [7.4, 2.8, 6.1, 1.9],\n",
       "        [7.9, 3.8, 6.4, 2. ],\n",
       "        [6.4, 2.8, 5.6, 2.2],\n",
       "        [6.3, 2.8, 5.1, 1.5],\n",
       "        [6.1, 2.6, 5.6, 1.4],\n",
       "        [7.7, 3. , 6.1, 2.3],\n",
       "        [6.3, 3.4, 5.6, 2.4],\n",
       "        [6.4, 3.1, 5.5, 1.8],\n",
       "        [6. , 3. , 4.8, 1.8],\n",
       "        [6.9, 3.1, 5.4, 2.1],\n",
       "        [6.7, 3.1, 5.6, 2.4],\n",
       "        [6.9, 3.1, 5.1, 2.3],\n",
       "        [5.8, 2.7, 5.1, 1.9],\n",
       "        [6.8, 3.2, 5.9, 2.3],\n",
       "        [6.7, 3.3, 5.7, 2.5],\n",
       "        [6.7, 3. , 5.2, 2.3],\n",
       "        [6.3, 2.5, 5. , 1.9],\n",
       "        [6.5, 3. , 5.2, 2. ],\n",
       "        [6.2, 3.4, 5.4, 2.3],\n",
       "        [5.9, 3. , 5.1, 1.8]]),\n",
       " 'target': array([0, 0, 0, 0, 0, 0, 0, 0, 0, 0, 0, 0, 0, 0, 0, 0, 0, 0, 0, 0, 0, 0,\n",
       "        0, 0, 0, 0, 0, 0, 0, 0, 0, 0, 0, 0, 0, 0, 0, 0, 0, 0, 0, 0, 0, 0,\n",
       "        0, 0, 0, 0, 0, 0, 1, 1, 1, 1, 1, 1, 1, 1, 1, 1, 1, 1, 1, 1, 1, 1,\n",
       "        1, 1, 1, 1, 1, 1, 1, 1, 1, 1, 1, 1, 1, 1, 1, 1, 1, 1, 1, 1, 1, 1,\n",
       "        1, 1, 1, 1, 1, 1, 1, 1, 1, 1, 1, 1, 2, 2, 2, 2, 2, 2, 2, 2, 2, 2,\n",
       "        2, 2, 2, 2, 2, 2, 2, 2, 2, 2, 2, 2, 2, 2, 2, 2, 2, 2, 2, 2, 2, 2,\n",
       "        2, 2, 2, 2, 2, 2, 2, 2, 2, 2, 2, 2, 2, 2, 2, 2, 2, 2]),\n",
       " 'frame': None,\n",
       " 'target_names': array(['setosa', 'versicolor', 'virginica'], dtype='<U10'),\n",
       " 'DESCR': '.. _iris_dataset:\\n\\nIris plants dataset\\n--------------------\\n\\n**Data Set Characteristics:**\\n\\n    :Number of Instances: 150 (50 in each of three classes)\\n    :Number of Attributes: 4 numeric, predictive attributes and the class\\n    :Attribute Information:\\n        - sepal length in cm\\n        - sepal width in cm\\n        - petal length in cm\\n        - petal width in cm\\n        - class:\\n                - Iris-Setosa\\n                - Iris-Versicolour\\n                - Iris-Virginica\\n                \\n    :Summary Statistics:\\n\\n    ============== ==== ==== ======= ===== ====================\\n                    Min  Max   Mean    SD   Class Correlation\\n    ============== ==== ==== ======= ===== ====================\\n    sepal length:   4.3  7.9   5.84   0.83    0.7826\\n    sepal width:    2.0  4.4   3.05   0.43   -0.4194\\n    petal length:   1.0  6.9   3.76   1.76    0.9490  (high!)\\n    petal width:    0.1  2.5   1.20   0.76    0.9565  (high!)\\n    ============== ==== ==== ======= ===== ====================\\n\\n    :Missing Attribute Values: None\\n    :Class Distribution: 33.3% for each of 3 classes.\\n    :Creator: R.A. Fisher\\n    :Donor: Michael Marshall (MARSHALL%PLU@io.arc.nasa.gov)\\n    :Date: July, 1988\\n\\nThe famous Iris database, first used by Sir R.A. Fisher. The dataset is taken\\nfrom Fisher\\'s paper. Note that it\\'s the same as in R, but not as in the UCI\\nMachine Learning Repository, which has two wrong data points.\\n\\nThis is perhaps the best known database to be found in the\\npattern recognition literature.  Fisher\\'s paper is a classic in the field and\\nis referenced frequently to this day.  (See Duda & Hart, for example.)  The\\ndata set contains 3 classes of 50 instances each, where each class refers to a\\ntype of iris plant.  One class is linearly separable from the other 2; the\\nlatter are NOT linearly separable from each other.\\n\\n.. topic:: References\\n\\n   - Fisher, R.A. \"The use of multiple measurements in taxonomic problems\"\\n     Annual Eugenics, 7, Part II, 179-188 (1936); also in \"Contributions to\\n     Mathematical Statistics\" (John Wiley, NY, 1950).\\n   - Duda, R.O., & Hart, P.E. (1973) Pattern Classification and Scene Analysis.\\n     (Q327.D83) John Wiley & Sons.  ISBN 0-471-22361-1.  See page 218.\\n   - Dasarathy, B.V. (1980) \"Nosing Around the Neighborhood: A New System\\n     Structure and Classification Rule for Recognition in Partially Exposed\\n     Environments\".  IEEE Transactions on Pattern Analysis and Machine\\n     Intelligence, Vol. PAMI-2, No. 1, 67-71.\\n   - Gates, G.W. (1972) \"The Reduced Nearest Neighbor Rule\".  IEEE Transactions\\n     on Information Theory, May 1972, 431-433.\\n   - See also: 1988 MLC Proceedings, 54-64.  Cheeseman et al\"s AUTOCLASS II\\n     conceptual clustering system finds 3 classes in the data.\\n   - Many, many more ...',\n",
       " 'feature_names': ['sepal length (cm)',\n",
       "  'sepal width (cm)',\n",
       "  'petal length (cm)',\n",
       "  'petal width (cm)'],\n",
       " 'filename': 'iris.csv',\n",
       " 'data_module': 'sklearn.datasets.data'}"
      ]
     },
     "execution_count": 121,
     "metadata": {},
     "output_type": "execute_result"
    }
   ],
   "source": [
    "iris = load_iris()\n",
    "iris"
   ]
  },
  {
   "cell_type": "code",
   "execution_count": 122,
   "metadata": {},
   "outputs": [
    {
     "name": "stdout",
     "output_type": "stream",
     "text": [
      ".. _iris_dataset:\n",
      "\n",
      "Iris plants dataset\n",
      "--------------------\n",
      "\n",
      "**Data Set Characteristics:**\n",
      "\n",
      "    :Number of Instances: 150 (50 in each of three classes)\n",
      "    :Number of Attributes: 4 numeric, predictive attributes and the class\n",
      "    :Attribute Information:\n",
      "        - sepal length in cm\n",
      "        - sepal width in cm\n",
      "        - petal length in cm\n",
      "        - petal width in cm\n",
      "        - class:\n",
      "                - Iris-Setosa\n",
      "                - Iris-Versicolour\n",
      "                - Iris-Virginica\n",
      "                \n",
      "    :Summary Statistics:\n",
      "\n",
      "    ============== ==== ==== ======= ===== ====================\n",
      "                    Min  Max   Mean    SD   Class Correlation\n",
      "    ============== ==== ==== ======= ===== ====================\n",
      "    sepal length:   4.3  7.9   5.84   0.83    0.7826\n",
      "    sepal width:    2.0  4.4   3.05   0.43   -0.4194\n",
      "    petal length:   1.0  6.9   3.76   1.76    0.9490  (high!)\n",
      "    petal width:    0.1  2.5   1.20   0.76    0.9565  (high!)\n",
      "    ============== ==== ==== ======= ===== ====================\n",
      "\n",
      "    :Missing Attribute Values: None\n",
      "    :Class Distribution: 33.3% for each of 3 classes.\n",
      "    :Creator: R.A. Fisher\n",
      "    :Donor: Michael Marshall (MARSHALL%PLU@io.arc.nasa.gov)\n",
      "    :Date: July, 1988\n",
      "\n",
      "The famous Iris database, first used by Sir R.A. Fisher. The dataset is taken\n",
      "from Fisher's paper. Note that it's the same as in R, but not as in the UCI\n",
      "Machine Learning Repository, which has two wrong data points.\n",
      "\n",
      "This is perhaps the best known database to be found in the\n",
      "pattern recognition literature.  Fisher's paper is a classic in the field and\n",
      "is referenced frequently to this day.  (See Duda & Hart, for example.)  The\n",
      "data set contains 3 classes of 50 instances each, where each class refers to a\n",
      "type of iris plant.  One class is linearly separable from the other 2; the\n",
      "latter are NOT linearly separable from each other.\n",
      "\n",
      ".. topic:: References\n",
      "\n",
      "   - Fisher, R.A. \"The use of multiple measurements in taxonomic problems\"\n",
      "     Annual Eugenics, 7, Part II, 179-188 (1936); also in \"Contributions to\n",
      "     Mathematical Statistics\" (John Wiley, NY, 1950).\n",
      "   - Duda, R.O., & Hart, P.E. (1973) Pattern Classification and Scene Analysis.\n",
      "     (Q327.D83) John Wiley & Sons.  ISBN 0-471-22361-1.  See page 218.\n",
      "   - Dasarathy, B.V. (1980) \"Nosing Around the Neighborhood: A New System\n",
      "     Structure and Classification Rule for Recognition in Partially Exposed\n",
      "     Environments\".  IEEE Transactions on Pattern Analysis and Machine\n",
      "     Intelligence, Vol. PAMI-2, No. 1, 67-71.\n",
      "   - Gates, G.W. (1972) \"The Reduced Nearest Neighbor Rule\".  IEEE Transactions\n",
      "     on Information Theory, May 1972, 431-433.\n",
      "   - See also: 1988 MLC Proceedings, 54-64.  Cheeseman et al\"s AUTOCLASS II\n",
      "     conceptual clustering system finds 3 classes in the data.\n",
      "   - Many, many more ...\n"
     ]
    }
   ],
   "source": [
    "print(iris.DESCR)"
   ]
  },
  {
   "cell_type": "code",
   "execution_count": 123,
   "metadata": {},
   "outputs": [
    {
     "data": {
      "text/plain": [
       "['sepal length (cm)',\n",
       " 'sepal width (cm)',\n",
       " 'petal length (cm)',\n",
       " 'petal width (cm)']"
      ]
     },
     "execution_count": 123,
     "metadata": {},
     "output_type": "execute_result"
    }
   ],
   "source": [
    "iris.feature_names"
   ]
  },
  {
   "cell_type": "code",
   "execution_count": 124,
   "metadata": {},
   "outputs": [
    {
     "data": {
      "text/plain": [
       "array([0, 0, 0, 0, 0, 0, 0, 0, 0, 0, 0, 0, 0, 0, 0, 0, 0, 0, 0, 0, 0, 0,\n",
       "       0, 0, 0, 0, 0, 0, 0, 0, 0, 0, 0, 0, 0, 0, 0, 0, 0, 0, 0, 0, 0, 0,\n",
       "       0, 0, 0, 0, 0, 0, 1, 1, 1, 1, 1, 1, 1, 1, 1, 1, 1, 1, 1, 1, 1, 1,\n",
       "       1, 1, 1, 1, 1, 1, 1, 1, 1, 1, 1, 1, 1, 1, 1, 1, 1, 1, 1, 1, 1, 1,\n",
       "       1, 1, 1, 1, 1, 1, 1, 1, 1, 1, 1, 1, 2, 2, 2, 2, 2, 2, 2, 2, 2, 2,\n",
       "       2, 2, 2, 2, 2, 2, 2, 2, 2, 2, 2, 2, 2, 2, 2, 2, 2, 2, 2, 2, 2, 2,\n",
       "       2, 2, 2, 2, 2, 2, 2, 2, 2, 2, 2, 2, 2, 2, 2, 2, 2, 2])"
      ]
     },
     "execution_count": 124,
     "metadata": {},
     "output_type": "execute_result"
    }
   ],
   "source": [
    "iris.target"
   ]
  },
  {
   "cell_type": "code",
   "execution_count": 126,
   "metadata": {},
   "outputs": [],
   "source": [
    "scaler = StandardScaler()\n",
    "pca = PCA(n_components=3) # 투영된 값들간 관계를 파악하기 용이함\n",
    "lda = LinearDiscriminantAnalysis(n_components=2) # PCA에 비해서 결과값이 더 잘나옴"
   ]
  },
  {
   "cell_type": "code",
   "execution_count": 127,
   "metadata": {},
   "outputs": [
    {
     "data": {
      "text/html": [
       "<style>#sk-container-id-1 {color: black;background-color: white;}#sk-container-id-1 pre{padding: 0;}#sk-container-id-1 div.sk-toggleable {background-color: white;}#sk-container-id-1 label.sk-toggleable__label {cursor: pointer;display: block;width: 100%;margin-bottom: 0;padding: 0.3em;box-sizing: border-box;text-align: center;}#sk-container-id-1 label.sk-toggleable__label-arrow:before {content: \"▸\";float: left;margin-right: 0.25em;color: #696969;}#sk-container-id-1 label.sk-toggleable__label-arrow:hover:before {color: black;}#sk-container-id-1 div.sk-estimator:hover label.sk-toggleable__label-arrow:before {color: black;}#sk-container-id-1 div.sk-toggleable__content {max-height: 0;max-width: 0;overflow: hidden;text-align: left;background-color: #f0f8ff;}#sk-container-id-1 div.sk-toggleable__content pre {margin: 0.2em;color: black;border-radius: 0.25em;background-color: #f0f8ff;}#sk-container-id-1 input.sk-toggleable__control:checked~div.sk-toggleable__content {max-height: 200px;max-width: 100%;overflow: auto;}#sk-container-id-1 input.sk-toggleable__control:checked~label.sk-toggleable__label-arrow:before {content: \"▾\";}#sk-container-id-1 div.sk-estimator input.sk-toggleable__control:checked~label.sk-toggleable__label {background-color: #d4ebff;}#sk-container-id-1 div.sk-label input.sk-toggleable__control:checked~label.sk-toggleable__label {background-color: #d4ebff;}#sk-container-id-1 input.sk-hidden--visually {border: 0;clip: rect(1px 1px 1px 1px);clip: rect(1px, 1px, 1px, 1px);height: 1px;margin: -1px;overflow: hidden;padding: 0;position: absolute;width: 1px;}#sk-container-id-1 div.sk-estimator {font-family: monospace;background-color: #f0f8ff;border: 1px dotted black;border-radius: 0.25em;box-sizing: border-box;margin-bottom: 0.5em;}#sk-container-id-1 div.sk-estimator:hover {background-color: #d4ebff;}#sk-container-id-1 div.sk-parallel-item::after {content: \"\";width: 100%;border-bottom: 1px solid gray;flex-grow: 1;}#sk-container-id-1 div.sk-label:hover label.sk-toggleable__label {background-color: #d4ebff;}#sk-container-id-1 div.sk-serial::before {content: \"\";position: absolute;border-left: 1px solid gray;box-sizing: border-box;top: 0;bottom: 0;left: 50%;z-index: 0;}#sk-container-id-1 div.sk-serial {display: flex;flex-direction: column;align-items: center;background-color: white;padding-right: 0.2em;padding-left: 0.2em;position: relative;}#sk-container-id-1 div.sk-item {position: relative;z-index: 1;}#sk-container-id-1 div.sk-parallel {display: flex;align-items: stretch;justify-content: center;background-color: white;position: relative;}#sk-container-id-1 div.sk-item::before, #sk-container-id-1 div.sk-parallel-item::before {content: \"\";position: absolute;border-left: 1px solid gray;box-sizing: border-box;top: 0;bottom: 0;left: 50%;z-index: -1;}#sk-container-id-1 div.sk-parallel-item {display: flex;flex-direction: column;z-index: 1;position: relative;background-color: white;}#sk-container-id-1 div.sk-parallel-item:first-child::after {align-self: flex-end;width: 50%;}#sk-container-id-1 div.sk-parallel-item:last-child::after {align-self: flex-start;width: 50%;}#sk-container-id-1 div.sk-parallel-item:only-child::after {width: 0;}#sk-container-id-1 div.sk-dashed-wrapped {border: 1px dashed gray;margin: 0 0.4em 0.5em 0.4em;box-sizing: border-box;padding-bottom: 0.4em;background-color: white;}#sk-container-id-1 div.sk-label label {font-family: monospace;font-weight: bold;display: inline-block;line-height: 1.2em;}#sk-container-id-1 div.sk-label-container {text-align: center;}#sk-container-id-1 div.sk-container {/* jupyter's `normalize.less` sets `[hidden] { display: none; }` but bootstrap.min.css set `[hidden] { display: none !important; }` so we also need the `!important` here to be able to override the default hidden behavior on the sphinx rendered scikit-learn.org. See: https://github.com/scikit-learn/scikit-learn/issues/21755 */display: inline-block !important;position: relative;}#sk-container-id-1 div.sk-text-repr-fallback {display: none;}</style><div id=\"sk-container-id-1\" class=\"sk-top-container\"><div class=\"sk-text-repr-fallback\"><pre>PCA(n_components=3)</pre><b>In a Jupyter environment, please rerun this cell to show the HTML representation or trust the notebook. <br />On GitHub, the HTML representation is unable to render, please try loading this page with nbviewer.org.</b></div><div class=\"sk-container\" hidden><div class=\"sk-item\"><div class=\"sk-estimator sk-toggleable\"><input class=\"sk-toggleable__control sk-hidden--visually\" id=\"sk-estimator-id-1\" type=\"checkbox\" checked><label for=\"sk-estimator-id-1\" class=\"sk-toggleable__label sk-toggleable__label-arrow\">PCA</label><div class=\"sk-toggleable__content\"><pre>PCA(n_components=3)</pre></div></div></div></div></div>"
      ],
      "text/plain": [
       "PCA(n_components=3)"
      ]
     },
     "execution_count": 127,
     "metadata": {},
     "output_type": "execute_result"
    }
   ],
   "source": [
    "scaler.fit(iris.data)\n",
    "pca.fit(iris.data)"
   ]
  },
  {
   "cell_type": "code",
   "execution_count": 129,
   "metadata": {},
   "outputs": [],
   "source": [
    "scaled = scaler.transform(iris.data)\n",
    "reduced = pca.transform(iris.data)"
   ]
  },
  {
   "cell_type": "code",
   "execution_count": 132,
   "metadata": {},
   "outputs": [],
   "source": [
    "lda.fit(scaled,iris.target)\n",
    "iris_lda = lda.transform(scaled)"
   ]
  },
  {
   "cell_type": "code",
   "execution_count": 133,
   "metadata": {},
   "outputs": [
    {
     "data": {
      "text/plain": [
       "(150, 3)"
      ]
     },
     "execution_count": 133,
     "metadata": {},
     "output_type": "execute_result"
    }
   ],
   "source": [
    "reduced.shape"
   ]
  },
  {
   "cell_type": "code",
   "execution_count": 134,
   "metadata": {},
   "outputs": [
    {
     "data": {
      "text/plain": [
       "(150, 2)"
      ]
     },
     "execution_count": 134,
     "metadata": {},
     "output_type": "execute_result"
    }
   ],
   "source": [
    "iris_lda.shape"
   ]
  }
 ],
 "metadata": {
  "kernelspec": {
   "display_name": "Python 3.11.1 64-bit",
   "language": "python",
   "name": "python3"
  },
  "language_info": {
   "codemirror_mode": {
    "name": "ipython",
    "version": 3
   },
   "file_extension": ".py",
   "mimetype": "text/x-python",
   "name": "python",
   "nbconvert_exporter": "python",
   "pygments_lexer": "ipython3",
   "version": "3.11.1"
  },
  "orig_nbformat": 4,
  "vscode": {
   "interpreter": {
    "hash": "de47f5c92c0ee6f12a59a5613ac5feff6aab19ddff207ba0b3964cced08c4ccc"
   }
  }
 },
 "nbformat": 4,
 "nbformat_minor": 2
}
