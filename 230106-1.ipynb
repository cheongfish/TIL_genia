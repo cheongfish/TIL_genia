{
 "cells": [
  {
   "cell_type": "markdown",
   "metadata": {},
   "source": [
    "# apply 함수 이용하기\n",
    "* series의 요소 하나하나 접근하여 함수를 작동시킴\n",
    "* ex) df['강좌내용'] = series <br> \n",
    "df['강좌내용'].apply >> 시리즈의 각 요소마다 접근하므로 해당 자료형(str, int)와  관련된 함수 사용 가능\n",
    "---\n",
    "변수 선언할 때 주의점\n",
    "* list, str, int, print 등 파이썬에는 예약변수가 있음\n",
    "* 해당변수에 다른 값을 입력하면, 나중에 해당기능 사용불가\n",
    "* ex)print = 456, print 사용 불가\n"
   ]
  },
  {
   "cell_type": "code",
   "execution_count": 2,
   "metadata": {},
   "outputs": [],
   "source": [
    "import pandas as pd\n",
    "df = pd.read_csv(\"C:/Users/user/Desktop/230102~/실습 데이터/시청자미디어재단_체험형미디어교육_20221109 - 시청자미디어재단_체험형미디어교육_20221109.csv\")\n",
    "df1 = df.copy()"
   ]
  },
  {
   "cell_type": "code",
   "execution_count": 9,
   "metadata": {},
   "outputs": [
    {
     "data": {
      "text/html": [
       "<div>\n",
       "<style scoped>\n",
       "    .dataframe tbody tr th:only-of-type {\n",
       "        vertical-align: middle;\n",
       "    }\n",
       "\n",
       "    .dataframe tbody tr th {\n",
       "        vertical-align: top;\n",
       "    }\n",
       "\n",
       "    .dataframe thead th {\n",
       "        text-align: right;\n",
       "    }\n",
       "</style>\n",
       "<table border=\"1\" class=\"dataframe\">\n",
       "  <thead>\n",
       "    <tr style=\"text-align: right;\">\n",
       "      <th></th>\n",
       "      <th>센터명</th>\n",
       "      <th>강좌명</th>\n",
       "      <th>강사명</th>\n",
       "      <th>교육시작일자</th>\n",
       "      <th>교육종료일자</th>\n",
       "      <th>강좌내용</th>\n",
       "      <th>교육대상구분</th>\n",
       "      <th>교육방법구분</th>\n",
       "      <th>운영요일</th>\n",
       "      <th>강좌정원수</th>\n",
       "      <th>데이터기준일자</th>\n",
       "    </tr>\n",
       "  </thead>\n",
       "  <tbody>\n",
       "    <tr>\n",
       "      <th>0</th>\n",
       "      <td>서울시청자미디어센터</td>\n",
       "      <td>상설미디어체험 교육</td>\n",
       "      <td>이수현,김민호</td>\n",
       "      <td>2022-11-12</td>\n",
       "      <td>2022-11-26</td>\n",
       "      <td>상설미디어체험(뉴스앵커체험 등)</td>\n",
       "      <td>일반</td>\n",
       "      <td>오프라인</td>\n",
       "      <td>토</td>\n",
       "      <td>True</td>\n",
       "      <td>2022-11-09</td>\n",
       "    </tr>\n",
       "    <tr>\n",
       "      <th>1</th>\n",
       "      <td>서울시청자미디어센터</td>\n",
       "      <td>찾아가는미디어나눔버스 체험 교육</td>\n",
       "      <td>김도경,이수현</td>\n",
       "      <td>2022-11-21</td>\n",
       "      <td>2022-11-21</td>\n",
       "      <td>찾아가는미디어나눔버스 체험</td>\n",
       "      <td>청소년</td>\n",
       "      <td>오프라인</td>\n",
       "      <td>월</td>\n",
       "      <td>True</td>\n",
       "      <td>2022-11-09</td>\n",
       "    </tr>\n",
       "    <tr>\n",
       "      <th>2</th>\n",
       "      <td>서울시청자미디어센터</td>\n",
       "      <td>찾아가는미디어나눔버스 체험</td>\n",
       "      <td>김도경,이수현</td>\n",
       "      <td>2022-11-22</td>\n",
       "      <td>2022-11-22</td>\n",
       "      <td>찾아가는미디어나눔버스 체험</td>\n",
       "      <td>청소년</td>\n",
       "      <td>오프라인</td>\n",
       "      <td>화</td>\n",
       "      <td>True</td>\n",
       "      <td>2022-11-09</td>\n",
       "    </tr>\n",
       "    <tr>\n",
       "      <th>3</th>\n",
       "      <td>서울시청자미디어센터</td>\n",
       "      <td>찾아가는미디어나눔버스 체험</td>\n",
       "      <td>김도경,이수현</td>\n",
       "      <td>2022-11-23</td>\n",
       "      <td>2022-11-23</td>\n",
       "      <td>찾아가는미디어나눔버스 체험</td>\n",
       "      <td>청소년</td>\n",
       "      <td>오프라인</td>\n",
       "      <td>수</td>\n",
       "      <td>True</td>\n",
       "      <td>2022-11-09</td>\n",
       "    </tr>\n",
       "    <tr>\n",
       "      <th>4</th>\n",
       "      <td>서울시청자미디어센터</td>\n",
       "      <td>찾아가는미디어나눔버스 체험</td>\n",
       "      <td>김도경,이수현</td>\n",
       "      <td>2022-11-25</td>\n",
       "      <td>2022-11-25</td>\n",
       "      <td>찾아가는미디어나눔버스 체험</td>\n",
       "      <td>청소년</td>\n",
       "      <td>오프라인</td>\n",
       "      <td>금</td>\n",
       "      <td>True</td>\n",
       "      <td>2022-11-09</td>\n",
       "    </tr>\n",
       "  </tbody>\n",
       "</table>\n",
       "</div>"
      ],
      "text/plain": [
       "          센터명                강좌명      강사명      교육시작일자      교육종료일자  \\\n",
       "0  서울시청자미디어센터         상설미디어체험 교육  이수현,김민호  2022-11-12  2022-11-26   \n",
       "1  서울시청자미디어센터  찾아가는미디어나눔버스 체험 교육  김도경,이수현  2022-11-21  2022-11-21   \n",
       "2  서울시청자미디어센터     찾아가는미디어나눔버스 체험  김도경,이수현  2022-11-22  2022-11-22   \n",
       "3  서울시청자미디어센터     찾아가는미디어나눔버스 체험  김도경,이수현  2022-11-23  2022-11-23   \n",
       "4  서울시청자미디어센터     찾아가는미디어나눔버스 체험  김도경,이수현  2022-11-25  2022-11-25   \n",
       "\n",
       "                강좌내용 교육대상구분 교육방법구분 운영요일  강좌정원수     데이터기준일자  \n",
       "0  상설미디어체험(뉴스앵커체험 등)     일반   오프라인    토   True  2022-11-09  \n",
       "1     찾아가는미디어나눔버스 체험    청소년   오프라인    월   True  2022-11-09  \n",
       "2     찾아가는미디어나눔버스 체험    청소년   오프라인    화   True  2022-11-09  \n",
       "3     찾아가는미디어나눔버스 체험    청소년   오프라인    수   True  2022-11-09  \n",
       "4     찾아가는미디어나눔버스 체험    청소년   오프라인    금   True  2022-11-09  "
      ]
     },
     "execution_count": 9,
     "metadata": {},
     "output_type": "execute_result"
    }
   ],
   "source": [
    "df['강좌정원수'] = df['강좌정원수'].apply(lambda x: str(x)[-1] == '5')\n",
    "df.head()"
   ]
  },
  {
   "cell_type": "markdown",
   "metadata": {},
   "source": [
    "## 실습 1\n",
    "* 몇 월인지 알아보는 코드: df['교육종료일자'][0].split('-')[1]\n",
    "* 여기서 값을 판단할 대상은: df['교육종료일자'][0]\n",
    "* 해당코드를 활용하여 교육종료일자가 각각 몇 월인지 알아보기\n",
    "* apply함수를 사용"
   ]
  },
  {
   "cell_type": "code",
   "execution_count": 12,
   "metadata": {},
   "outputs": [
    {
     "data": {
      "text/plain": [
       "0     11\n",
       "1     11\n",
       "2     11\n",
       "3     11\n",
       "4     11\n",
       "      ..\n",
       "94    11\n",
       "95    11\n",
       "96    11\n",
       "97    11\n",
       "98    11\n",
       "Name: 교육종료일자, Length: 99, dtype: object"
      ]
     },
     "execution_count": 12,
     "metadata": {},
     "output_type": "execute_result"
    }
   ],
   "source": [
    "df['교육종료일자'].apply(lambda i: i.split('-')[1])"
   ]
  },
  {
   "cell_type": "code",
   "execution_count": 17,
   "metadata": {},
   "outputs": [
    {
     "data": {
      "text/plain": [
       "0     [2022, 11, 26]\n",
       "1     [2022, 11, 21]\n",
       "2     [2022, 11, 22]\n",
       "3     [2022, 11, 23]\n",
       "4     [2022, 11, 25]\n",
       "           ...      \n",
       "94    [2022, 11, 30]\n",
       "95    [2022, 11, 30]\n",
       "96    [2022, 11, 30]\n",
       "97    [2022, 11, 30]\n",
       "98    [2022, 11, 30]\n",
       "Name: 교육종료일자, Length: 99, dtype: object"
      ]
     },
     "execution_count": 17,
     "metadata": {},
     "output_type": "execute_result"
    }
   ],
   "source": [
    "df['교육종료일자'].apply(lambda x: x.split('-'))"
   ]
  },
  {
   "cell_type": "code",
   "execution_count": 18,
   "metadata": {},
   "outputs": [],
   "source": [
    "# df['강좌정원수'].apply(lambda x: x+1)\n",
    "# df['강좌정원수'] +1 "
   ]
  },
  {
   "cell_type": "code",
   "execution_count": null,
   "metadata": {},
   "outputs": [],
   "source": [
    "df['강좌명'].apply(lambda x: x[0:4])"
   ]
  },
  {
   "cell_type": "markdown",
   "metadata": {},
   "source": [
    "## 실습 2\n",
    "* 데이터 기준일자에서 아래 조건에 해당하는 값을 True라고 수정하기\n",
    "* 데이터 기준일자가 3의 배수인 날짜인지 확인\n",
    "* 해당 결과값은 데이터 기준일자 column으로 저장한다.\n"
   ]
  },
  {
   "cell_type": "code",
   "execution_count": 40,
   "metadata": {},
   "outputs": [
    {
     "data": {
      "text/html": [
       "<div>\n",
       "<style scoped>\n",
       "    .dataframe tbody tr th:only-of-type {\n",
       "        vertical-align: middle;\n",
       "    }\n",
       "\n",
       "    .dataframe tbody tr th {\n",
       "        vertical-align: top;\n",
       "    }\n",
       "\n",
       "    .dataframe thead th {\n",
       "        text-align: right;\n",
       "    }\n",
       "</style>\n",
       "<table border=\"1\" class=\"dataframe\">\n",
       "  <thead>\n",
       "    <tr style=\"text-align: right;\">\n",
       "      <th></th>\n",
       "      <th>센터명</th>\n",
       "      <th>강좌명</th>\n",
       "      <th>강사명</th>\n",
       "      <th>교육시작일자</th>\n",
       "      <th>교육종료일자</th>\n",
       "      <th>강좌내용</th>\n",
       "      <th>교육대상구분</th>\n",
       "      <th>교육방법구분</th>\n",
       "      <th>운영요일</th>\n",
       "      <th>강좌정원수</th>\n",
       "      <th>데이터기준일자</th>\n",
       "    </tr>\n",
       "  </thead>\n",
       "  <tbody>\n",
       "    <tr>\n",
       "      <th>0</th>\n",
       "      <td>서울시청자미디어센터</td>\n",
       "      <td>상설미디어체험 교육</td>\n",
       "      <td>이수현,김민호</td>\n",
       "      <td>2022-11-12</td>\n",
       "      <td>2022-11-26</td>\n",
       "      <td>상설미디어체험(뉴스앵커체험 등)</td>\n",
       "      <td>일반</td>\n",
       "      <td>오프라인</td>\n",
       "      <td>토</td>\n",
       "      <td>25</td>\n",
       "      <td>True</td>\n",
       "    </tr>\n",
       "    <tr>\n",
       "      <th>1</th>\n",
       "      <td>서울시청자미디어센터</td>\n",
       "      <td>찾아가는미디어나눔버스 체험 교육</td>\n",
       "      <td>김도경,이수현</td>\n",
       "      <td>2022-11-21</td>\n",
       "      <td>2022-11-21</td>\n",
       "      <td>찾아가는미디어나눔버스 체험</td>\n",
       "      <td>청소년</td>\n",
       "      <td>오프라인</td>\n",
       "      <td>월</td>\n",
       "      <td>25</td>\n",
       "      <td>True</td>\n",
       "    </tr>\n",
       "    <tr>\n",
       "      <th>2</th>\n",
       "      <td>서울시청자미디어센터</td>\n",
       "      <td>찾아가는미디어나눔버스 체험</td>\n",
       "      <td>김도경,이수현</td>\n",
       "      <td>2022-11-22</td>\n",
       "      <td>2022-11-22</td>\n",
       "      <td>찾아가는미디어나눔버스 체험</td>\n",
       "      <td>청소년</td>\n",
       "      <td>오프라인</td>\n",
       "      <td>화</td>\n",
       "      <td>25</td>\n",
       "      <td>True</td>\n",
       "    </tr>\n",
       "    <tr>\n",
       "      <th>3</th>\n",
       "      <td>서울시청자미디어센터</td>\n",
       "      <td>찾아가는미디어나눔버스 체험</td>\n",
       "      <td>김도경,이수현</td>\n",
       "      <td>2022-11-23</td>\n",
       "      <td>2022-11-23</td>\n",
       "      <td>찾아가는미디어나눔버스 체험</td>\n",
       "      <td>청소년</td>\n",
       "      <td>오프라인</td>\n",
       "      <td>수</td>\n",
       "      <td>25</td>\n",
       "      <td>True</td>\n",
       "    </tr>\n",
       "    <tr>\n",
       "      <th>4</th>\n",
       "      <td>서울시청자미디어센터</td>\n",
       "      <td>찾아가는미디어나눔버스 체험</td>\n",
       "      <td>김도경,이수현</td>\n",
       "      <td>2022-11-25</td>\n",
       "      <td>2022-11-25</td>\n",
       "      <td>찾아가는미디어나눔버스 체험</td>\n",
       "      <td>청소년</td>\n",
       "      <td>오프라인</td>\n",
       "      <td>금</td>\n",
       "      <td>25</td>\n",
       "      <td>True</td>\n",
       "    </tr>\n",
       "    <tr>\n",
       "      <th>...</th>\n",
       "      <td>...</td>\n",
       "      <td>...</td>\n",
       "      <td>...</td>\n",
       "      <td>...</td>\n",
       "      <td>...</td>\n",
       "      <td>...</td>\n",
       "      <td>...</td>\n",
       "      <td>...</td>\n",
       "      <td>...</td>\n",
       "      <td>...</td>\n",
       "      <td>...</td>\n",
       "    </tr>\n",
       "    <tr>\n",
       "      <th>94</th>\n",
       "      <td>인천시청자미디어센터</td>\n",
       "      <td>찾아가는 미디어나눔버스(TV뉴스체험)</td>\n",
       "      <td>류은애,김은자</td>\n",
       "      <td>2022-11-30</td>\n",
       "      <td>2022-11-30</td>\n",
       "      <td>TV 뉴스 제작 및 영상합성 크로마키 체험</td>\n",
       "      <td>중학생</td>\n",
       "      <td>오프라인</td>\n",
       "      <td>수</td>\n",
       "      <td>25</td>\n",
       "      <td>True</td>\n",
       "    </tr>\n",
       "    <tr>\n",
       "      <th>95</th>\n",
       "      <td>충북시청자미디어센터</td>\n",
       "      <td>TV체험(뉴스체험)</td>\n",
       "      <td>미정</td>\n",
       "      <td>2022-11-01</td>\n",
       "      <td>2022-11-30</td>\n",
       "      <td>아나운서, 기자, 기상캐스터 등 역할을 나누어 뉴스 제작 과정을 체험해보는 프로그램</td>\n",
       "      <td>초등학생 이상</td>\n",
       "      <td>오프라인</td>\n",
       "      <td>월,화,수,목,금,토</td>\n",
       "      <td>15</td>\n",
       "      <td>True</td>\n",
       "    </tr>\n",
       "    <tr>\n",
       "      <th>96</th>\n",
       "      <td>충북시청자미디어센터</td>\n",
       "      <td>라디오체험(DJ체험)</td>\n",
       "      <td>미정</td>\n",
       "      <td>2022-11-01</td>\n",
       "      <td>2022-11-30</td>\n",
       "      <td>라디오 프로그램을 작가, DJ, 게스트가 되어 라디오 프로그램을 제작해보는 체험</td>\n",
       "      <td>초등학생 이상</td>\n",
       "      <td>오프라인</td>\n",
       "      <td>월,화,수,목,금,토</td>\n",
       "      <td>15</td>\n",
       "      <td>True</td>\n",
       "    </tr>\n",
       "    <tr>\n",
       "      <th>97</th>\n",
       "      <td>충북시청자미디어센터</td>\n",
       "      <td>유아 크로마키 체험</td>\n",
       "      <td>미정</td>\n",
       "      <td>2022-11-01</td>\n",
       "      <td>2022-11-30</td>\n",
       "      <td>유아 대상 크로마키를 통해 다양한 놀이를 해보는 체험</td>\n",
       "      <td>6~7세</td>\n",
       "      <td>오프라인</td>\n",
       "      <td>월,화,수,목,금,토</td>\n",
       "      <td>15</td>\n",
       "      <td>True</td>\n",
       "    </tr>\n",
       "    <tr>\n",
       "      <th>98</th>\n",
       "      <td>충북시청자미디어센터</td>\n",
       "      <td>AI 체험</td>\n",
       "      <td>미정</td>\n",
       "      <td>2022-11-01</td>\n",
       "      <td>2022-11-30</td>\n",
       "      <td>인공지능에 대해 이해하고 머신러닝을 여러 방법으로 알아보는 체험</td>\n",
       "      <td>초등학생 이상</td>\n",
       "      <td>오프라인</td>\n",
       "      <td>월,화,수,목,금,토</td>\n",
       "      <td>15</td>\n",
       "      <td>True</td>\n",
       "    </tr>\n",
       "  </tbody>\n",
       "</table>\n",
       "<p>99 rows × 11 columns</p>\n",
       "</div>"
      ],
      "text/plain": [
       "           센터명                   강좌명      강사명      교육시작일자      교육종료일자  \\\n",
       "0   서울시청자미디어센터            상설미디어체험 교육  이수현,김민호  2022-11-12  2022-11-26   \n",
       "1   서울시청자미디어센터     찾아가는미디어나눔버스 체험 교육  김도경,이수현  2022-11-21  2022-11-21   \n",
       "2   서울시청자미디어센터        찾아가는미디어나눔버스 체험  김도경,이수현  2022-11-22  2022-11-22   \n",
       "3   서울시청자미디어센터        찾아가는미디어나눔버스 체험  김도경,이수현  2022-11-23  2022-11-23   \n",
       "4   서울시청자미디어센터        찾아가는미디어나눔버스 체험  김도경,이수현  2022-11-25  2022-11-25   \n",
       "..         ...                   ...      ...         ...         ...   \n",
       "94  인천시청자미디어센터  찾아가는 미디어나눔버스(TV뉴스체험)  류은애,김은자  2022-11-30  2022-11-30   \n",
       "95  충북시청자미디어센터            TV체험(뉴스체험)       미정  2022-11-01  2022-11-30   \n",
       "96  충북시청자미디어센터           라디오체험(DJ체험)       미정  2022-11-01  2022-11-30   \n",
       "97  충북시청자미디어센터            유아 크로마키 체험       미정  2022-11-01  2022-11-30   \n",
       "98  충북시청자미디어센터                 AI 체험       미정  2022-11-01  2022-11-30   \n",
       "\n",
       "                                              강좌내용   교육대상구분 교육방법구분  \\\n",
       "0                                상설미디어체험(뉴스앵커체험 등)       일반   오프라인   \n",
       "1                                   찾아가는미디어나눔버스 체험      청소년   오프라인   \n",
       "2                                   찾아가는미디어나눔버스 체험      청소년   오프라인   \n",
       "3                                   찾아가는미디어나눔버스 체험      청소년   오프라인   \n",
       "4                                   찾아가는미디어나눔버스 체험      청소년   오프라인   \n",
       "..                                             ...      ...    ...   \n",
       "94                         TV 뉴스 제작 및 영상합성 크로마키 체험      중학생   오프라인   \n",
       "95  아나운서, 기자, 기상캐스터 등 역할을 나누어 뉴스 제작 과정을 체험해보는 프로그램  초등학생 이상   오프라인   \n",
       "96    라디오 프로그램을 작가, DJ, 게스트가 되어 라디오 프로그램을 제작해보는 체험  초등학생 이상   오프라인   \n",
       "97                   유아 대상 크로마키를 통해 다양한 놀이를 해보는 체험     6~7세   오프라인   \n",
       "98             인공지능에 대해 이해하고 머신러닝을 여러 방법으로 알아보는 체험  초등학생 이상   오프라인   \n",
       "\n",
       "           운영요일  강좌정원수  데이터기준일자  \n",
       "0             토     25     True  \n",
       "1             월     25     True  \n",
       "2             화     25     True  \n",
       "3             수     25     True  \n",
       "4             금     25     True  \n",
       "..          ...    ...      ...  \n",
       "94            수     25     True  \n",
       "95  월,화,수,목,금,토     15     True  \n",
       "96  월,화,수,목,금,토     15     True  \n",
       "97  월,화,수,목,금,토     15     True  \n",
       "98  월,화,수,목,금,토     15     True  \n",
       "\n",
       "[99 rows x 11 columns]"
      ]
     },
     "execution_count": 40,
     "metadata": {},
     "output_type": "execute_result"
    }
   ],
   "source": [
    "df['데이터기준일자'] =True\n",
    "df\n",
    "\n",
    "## 다른 답안\n",
    "# temp = df['데이터기준일자'].apply(lambda x: True if int(x[-2:]) % 3 ==0  else x)\n"
   ]
  },
  {
   "cell_type": "code",
   "execution_count": null,
   "metadata": {},
   "outputs": [],
   "source": [
    "## 데이터프레임 columns의 unique값 확인하기\n",
    "for i in df.columns:\n",
    "    df_uniques = df[i].unique()\n",
    "    print(i,df_uniques,'\\n')"
   ]
  },
  {
   "cell_type": "markdown",
   "metadata": {},
   "source": [
    "## 실습 3 \n",
    "* 아래 데이터에서, 센터가 수도권에 위치해있고\n",
    "* 교육대상이 법정성인 이상인 강좌를 확인해보자"
   ]
  },
  {
   "cell_type": "code",
   "execution_count": 44,
   "metadata": {},
   "outputs": [
    {
     "data": {
      "text/plain": [
       "array(['일반', '청소년', '유아', '초등학생', '미취학', '중학생', '유아,아동', '초등학생 이상',\n",
       "       '중고등학생', '노인(65세~)', '모든연령', '고등학생', '지역주민', '고등학생,장애인', '성인',\n",
       "       '대학생', '성인,장애인', '중학생,장애인', '6~7세'], dtype=object)"
      ]
     },
     "execution_count": 44,
     "metadata": {},
     "output_type": "execute_result"
    }
   ],
   "source": [
    "df['교육대상구분'].unique()"
   ]
  },
  {
   "cell_type": "code",
   "execution_count": 46,
   "metadata": {},
   "outputs": [
    {
     "data": {
      "text/plain": [
       "array(['서울시청자미디어센터', '울산시청자미디어센터', '강원시청자미디어센터', '대전시청자미디어센터',\n",
       "       '광주시청자미디어센터', '부산시청자미디어센터', '인천시청자미디어센터', '충북시청자미디어센터'],\n",
       "      dtype=object)"
      ]
     },
     "execution_count": 46,
     "metadata": {},
     "output_type": "execute_result"
    }
   ],
   "source": [
    "df['센터명'].unique()"
   ]
  },
  {
   "cell_type": "code",
   "execution_count": 20,
   "metadata": {},
   "outputs": [],
   "source": [
    "#수도권 센터 찾기\n",
    "m = df['센터명'].apply(lambda x: x[:2] == '서울' or x[:2] == '인천')\n",
    "df2 = df[m]"
   ]
  },
  {
   "cell_type": "code",
   "execution_count": 8,
   "metadata": {},
   "outputs": [],
   "source": [
    "# 다른방법1\n",
    "m = df['센터명'].apply(lambda x:'서울' in x or '인천' in x)"
   ]
  },
  {
   "cell_type": "code",
   "execution_count": null,
   "metadata": {},
   "outputs": [],
   "source": [
    "# 다른방법 2 (any)\n",
    "m = df['센터명'].apply(lambda x:any (['서울' in x , '인천' in x]))\n",
    "df[m]"
   ]
  },
  {
   "cell_type": "code",
   "execution_count": 29,
   "metadata": {},
   "outputs": [
    {
     "name": "stderr",
     "output_type": "stream",
     "text": [
      "C:\\Users\\user\\AppData\\Local\\Temp\\ipykernel_16396\\1316372765.py:2: UserWarning: Boolean Series key will be reindexed to match DataFrame index.\n",
      "  df[m][n]\n"
     ]
    },
    {
     "data": {
      "text/html": [
       "<div>\n",
       "<style scoped>\n",
       "    .dataframe tbody tr th:only-of-type {\n",
       "        vertical-align: middle;\n",
       "    }\n",
       "\n",
       "    .dataframe tbody tr th {\n",
       "        vertical-align: top;\n",
       "    }\n",
       "\n",
       "    .dataframe thead th {\n",
       "        text-align: right;\n",
       "    }\n",
       "</style>\n",
       "<table border=\"1\" class=\"dataframe\">\n",
       "  <thead>\n",
       "    <tr style=\"text-align: right;\">\n",
       "      <th></th>\n",
       "      <th>센터명</th>\n",
       "      <th>강좌명</th>\n",
       "      <th>강사명</th>\n",
       "      <th>교육시작일자</th>\n",
       "      <th>교육종료일자</th>\n",
       "      <th>강좌내용</th>\n",
       "      <th>교육대상구분</th>\n",
       "      <th>교육방법구분</th>\n",
       "      <th>운영요일</th>\n",
       "      <th>강좌정원수</th>\n",
       "      <th>데이터기준일자</th>\n",
       "    </tr>\n",
       "  </thead>\n",
       "  <tbody>\n",
       "    <tr>\n",
       "      <th>68</th>\n",
       "      <td>인천시청자미디어센터</td>\n",
       "      <td>TV뉴스체험</td>\n",
       "      <td>류은애,김은자</td>\n",
       "      <td>2022-11-02</td>\n",
       "      <td>2022-11-02</td>\n",
       "      <td>TV 뉴스 제작 및 영상합성 크로마키 체험</td>\n",
       "      <td>성인</td>\n",
       "      <td>오프라인</td>\n",
       "      <td>수</td>\n",
       "      <td>12</td>\n",
       "      <td>2022-11-09</td>\n",
       "    </tr>\n",
       "    <tr>\n",
       "      <th>69</th>\n",
       "      <td>인천시청자미디어센터</td>\n",
       "      <td>라디오체험</td>\n",
       "      <td>류은애,김은자</td>\n",
       "      <td>2022-11-02</td>\n",
       "      <td>2022-11-02</td>\n",
       "      <td>라디오 프로그램 제작 체험</td>\n",
       "      <td>성인</td>\n",
       "      <td>오프라인</td>\n",
       "      <td>수</td>\n",
       "      <td>12</td>\n",
       "      <td>2022-11-09</td>\n",
       "    </tr>\n",
       "    <tr>\n",
       "      <th>73</th>\n",
       "      <td>인천시청자미디어센터</td>\n",
       "      <td>TV뉴스체험</td>\n",
       "      <td>이두인,이희주</td>\n",
       "      <td>2022-11-07</td>\n",
       "      <td>2022-11-07</td>\n",
       "      <td>TV 뉴스 제작 및 영상합성 크로마키 체험</td>\n",
       "      <td>성인,장애인</td>\n",
       "      <td>오프라인</td>\n",
       "      <td>월</td>\n",
       "      <td>15</td>\n",
       "      <td>2022-11-09</td>\n",
       "    </tr>\n",
       "  </tbody>\n",
       "</table>\n",
       "</div>"
      ],
      "text/plain": [
       "           센터명     강좌명      강사명      교육시작일자      교육종료일자  \\\n",
       "68  인천시청자미디어센터  TV뉴스체험  류은애,김은자  2022-11-02  2022-11-02   \n",
       "69  인천시청자미디어센터   라디오체험  류은애,김은자  2022-11-02  2022-11-02   \n",
       "73  인천시청자미디어센터  TV뉴스체험  이두인,이희주  2022-11-07  2022-11-07   \n",
       "\n",
       "                       강좌내용  교육대상구분 교육방법구분 운영요일  강좌정원수     데이터기준일자  \n",
       "68  TV 뉴스 제작 및 영상합성 크로마키 체험      성인   오프라인    수     12  2022-11-09  \n",
       "69           라디오 프로그램 제작 체험      성인   오프라인    수     12  2022-11-09  \n",
       "73  TV 뉴스 제작 및 영상합성 크로마키 체험  성인,장애인   오프라인    월     15  2022-11-09  "
      ]
     },
     "execution_count": 29,
     "metadata": {},
     "output_type": "execute_result"
    }
   ],
   "source": [
    "n = df['교육대상구분'].apply(lambda x: any(['성인' in x, '노인' in x]))\n",
    "df[m][n]"
   ]
  },
  {
   "cell_type": "code",
   "execution_count": 28,
   "metadata": {},
   "outputs": [
    {
     "data": {
      "text/plain": [
       "68    TV뉴스체험\n",
       "69     라디오체험\n",
       "73    TV뉴스체험\n",
       "Name: 강좌명, dtype: object"
      ]
     },
     "execution_count": 28,
     "metadata": {},
     "output_type": "execute_result"
    }
   ],
   "source": [
    "n =df['교육대상구분'].str.contains('성인')\n",
    "df['강좌명'][m][n]"
   ]
  },
  {
   "cell_type": "code",
   "execution_count": null,
   "metadata": {},
   "outputs": [],
   "source": [
    "## \n",
    "target = ['일반','초등학생 이상','노인(65세~)','모든연령','지역주민','고등학생,장애인','성인','대학생','성인,장애인','중학생,장애인']\n",
    "query_expr = '교육대상구분 in @target' # @ = 외부변수를 이용한다는 선언\n",
    "df2.query(query_expr)\n"
   ]
  },
  {
   "cell_type": "markdown",
   "metadata": {},
   "source": [
    "# 함수의 기본구조\n",
    " def(함수이름)(input):<br>\n",
    "     retrun (리턴 값) <br>\n",
    "\n",
    "위 요소 중 첫번째 줄만 갖추면 내부에 어떤 코드를 입력해도 무관함\n",
    "* 약간 어려운 함수라도 읽을수 있어야함\n",
    "* 함수를 안쓰고 프로그래밍 하는데 비효율적이기 때문에\n",
    "* return 사용시 무조건 함수가 종료됨 >> return 아래에 있는 코드가 작동이 안됨"
   ]
  },
  {
   "cell_type": "code",
   "execution_count": null,
   "metadata": {},
   "outputs": [
    {
     "data": {
      "text/plain": [
       "'type1'"
      ]
     },
     "metadata": {},
     "output_type": "display_data"
    }
   ],
   "source": [
    "def func1(x,y):\n",
    "    z = x%y # 연산1\n",
    "    w = x-y # 연산2\n",
    "    if z>w: # 조건에 따른 리턴\n",
    "        return 'type1'\n",
    "    else:\n",
    "        return 'type2'"
   ]
  },
  {
   "cell_type": "code",
   "execution_count": null,
   "metadata": {},
   "outputs": [
    {
     "data": {
      "text/plain": [
       "'type1'"
      ]
     },
     "metadata": {},
     "output_type": "display_data"
    }
   ],
   "source": [
    "func1(10,20) "
   ]
  },
  {
   "cell_type": "code",
   "execution_count": null,
   "metadata": {},
   "outputs": [
    {
     "data": {
      "text/plain": [
       "'type1'"
      ]
     },
     "metadata": {},
     "output_type": "display_data"
    }
   ],
   "source": [
    "func1(9,99)"
   ]
  },
  {
   "cell_type": "code",
   "execution_count": null,
   "metadata": {},
   "outputs": [
    {
     "data": {
      "text/plain": [
       "'type2'"
      ]
     },
     "metadata": {},
     "output_type": "display_data"
    }
   ],
   "source": [
    "result = func1(4,3)\n",
    "result"
   ]
  },
  {
   "cell_type": "code",
   "execution_count": null,
   "metadata": {},
   "outputs": [],
   "source": [
    "def func2(): ## print는 화면에 출력함 , return은 출력하지 않으면 볼 수 없음\n",
    "    print('func2 start')"
   ]
  },
  {
   "cell_type": "code",
   "execution_count": null,
   "metadata": {},
   "outputs": [
    {
     "name": "stdout",
     "output_type": "stream",
     "text": [
      "func2 start\n"
     ]
    }
   ],
   "source": [
    "func2()"
   ]
  },
  {
   "cell_type": "code",
   "execution_count": null,
   "metadata": {},
   "outputs": [],
   "source": [
    "def func3():\n",
    "    1+1"
   ]
  },
  {
   "cell_type": "code",
   "execution_count": null,
   "metadata": {},
   "outputs": [],
   "source": [
    "func3()"
   ]
  },
  {
   "cell_type": "code",
   "execution_count": null,
   "metadata": {},
   "outputs": [],
   "source": [
    "def func4():  # pass사용 가능\n",
    "    pass"
   ]
  },
  {
   "cell_type": "code",
   "execution_count": null,
   "metadata": {},
   "outputs": [],
   "source": [
    "func4()"
   ]
  },
  {
   "cell_type": "code",
   "execution_count": null,
   "metadata": {},
   "outputs": [],
   "source": [
    "def func5(a,b):\n",
    "    return a+b"
   ]
  },
  {
   "cell_type": "code",
   "execution_count": null,
   "metadata": {},
   "outputs": [
    {
     "data": {
      "text/plain": [
       "15"
      ]
     },
     "metadata": {},
     "output_type": "display_data"
    }
   ],
   "source": [
    "func5(4,11)"
   ]
  },
  {
   "cell_type": "code",
   "execution_count": null,
   "metadata": {},
   "outputs": [
    {
     "data": {
      "text/plain": [
       "'helloworld'"
      ]
     },
     "metadata": {},
     "output_type": "display_data"
    }
   ],
   "source": [
    "func5('hello','world')"
   ]
  },
  {
   "cell_type": "code",
   "execution_count": null,
   "metadata": {},
   "outputs": [],
   "source": [
    "def func5(b): ## 고정패러미터 설정 가능, 함수 안의 변수는 밖에서 쓸 수 없음(지역변수)\n",
    "    a = 500 ## << 지역변수\n",
    "    return a+b"
   ]
  },
  {
   "cell_type": "code",
   "execution_count": null,
   "metadata": {},
   "outputs": [
    {
     "data": {
      "text/plain": [
       "505"
      ]
     },
     "metadata": {},
     "output_type": "display_data"
    }
   ],
   "source": [
    "func5(5)"
   ]
  },
  {
   "cell_type": "code",
   "execution_count": null,
   "metadata": {},
   "outputs": [
    {
     "name": "stdout",
     "output_type": "stream",
     "text": [
      "987\n"
     ]
    }
   ],
   "source": [
    "x = 987 # 전역변수 (함수 바깥에 있는 변수, 함수 안에서도 쓸 수 있음)\n",
    "print(x)"
   ]
  },
  {
   "cell_type": "code",
   "execution_count": null,
   "metadata": {},
   "outputs": [],
   "source": [
    "def func5(): \n",
    "    a = 500 ## << 지역변수\n",
    "    return a+x"
   ]
  },
  {
   "cell_type": "code",
   "execution_count": null,
   "metadata": {},
   "outputs": [
    {
     "data": {
      "text/plain": [
       "1487"
      ]
     },
     "metadata": {},
     "output_type": "display_data"
    }
   ],
   "source": [
    "func5()"
   ]
  },
  {
   "cell_type": "code",
   "execution_count": null,
   "metadata": {},
   "outputs": [],
   "source": [
    "a = 0"
   ]
  },
  {
   "cell_type": "code",
   "execution_count": null,
   "metadata": {},
   "outputs": [],
   "source": [
    "def func5(): \n",
    "    global a # 전역변수 a를 이 함수 안으로 가져온다\n",
    "    a += 500 # 전역변수를 참조할 경우, 해당 전역변수를 수정할 수 있음\n",
    "    print(a)\n",
    "    return a+x"
   ]
  },
  {
   "cell_type": "code",
   "execution_count": null,
   "metadata": {},
   "outputs": [
    {
     "name": "stdout",
     "output_type": "stream",
     "text": [
      "3500\n"
     ]
    },
    {
     "data": {
      "text/plain": [
       "4487"
      ]
     },
     "metadata": {},
     "output_type": "display_data"
    }
   ],
   "source": [
    "func5()"
   ]
  },
  {
   "cell_type": "markdown",
   "metadata": {},
   "source": [
    "## 함수를 이용한 편리한 코드작성\n",
    "* 리스트 컴프리헨션\n",
    "* apply함수 이용\n",
    "* 반복문에 활용"
   ]
  },
  {
   "cell_type": "code",
   "execution_count": null,
   "metadata": {},
   "outputs": [
    {
     "name": "stdout",
     "output_type": "stream",
     "text": [
      "-10\n",
      "-9\n",
      "-8\n",
      "-7\n",
      "-6\n"
     ]
    }
   ],
   "source": [
    "def func6(x,y): ## 반복문에 활용\n",
    "    return x-y\n",
    "    print(10) ## 리턴이 사용되어 코드가 작동 X\n",
    "\n",
    "for i in range(5):\n",
    "    print(func6(i,10))"
   ]
  },
  {
   "cell_type": "code",
   "execution_count": null,
   "metadata": {},
   "outputs": [
    {
     "data": {
      "text/plain": [
       "[0, 1, 2, 3, 4, 5, 6, 7, 8, 9]"
      ]
     },
     "metadata": {},
     "output_type": "display_data"
    }
   ],
   "source": [
    "[i for i in range(10)] ## 리스트 컴프리헨션"
   ]
  },
  {
   "cell_type": "code",
   "execution_count": null,
   "metadata": {},
   "outputs": [
    {
     "name": "stdout",
     "output_type": "stream",
     "text": [
      "0\n",
      "1\n",
      "2\n",
      "3\n",
      "4\n",
      "5\n",
      "6\n",
      "7\n",
      "8\n",
      "9\n"
     ]
    }
   ],
   "source": [
    "for i in range(10):print(i)"
   ]
  },
  {
   "cell_type": "code",
   "execution_count": null,
   "metadata": {},
   "outputs": [
    {
     "name": "stdout",
     "output_type": "stream",
     "text": [
      "0\n",
      "2\n",
      "4\n",
      "6\n",
      "8\n"
     ]
    }
   ],
   "source": [
    "for i in range(10):\n",
    "    if i%2 ==0:\n",
    "        print(i)"
   ]
  },
  {
   "cell_type": "code",
   "execution_count": null,
   "metadata": {},
   "outputs": [],
   "source": [
    "def func7(x):\n",
    "    if x%2 ==0:\n",
    "        return x"
   ]
  },
  {
   "cell_type": "code",
   "execution_count": null,
   "metadata": {},
   "outputs": [
    {
     "data": {
      "text/plain": [
       "[0, None, 2, None, 4]"
      ]
     },
     "metadata": {},
     "output_type": "display_data"
    }
   ],
   "source": [
    "[func7(i) for i in range(5)]"
   ]
  },
  {
   "cell_type": "markdown",
   "metadata": {},
   "source": [
    "## 실습 1: 함수를 이용한 반복문\n",
    "* 입력된 두 수의 제곱을 각각 리턴하는 함수를 만든다.\n",
    "* 두 숫자를 입력 받고 첫번째 숫자는 팩토리얼 값, 두번째 숫자는 제곱을 출력한다.\n",
    "* 특정 숫자를 입력받고 팩토리얼 연산을 한다. 단 반복문은 사용하지 않는다. (재귀함수 사용시 반복문보다 속도가 빠름)\n"
   ]
  },
  {
   "cell_type": "code",
   "execution_count": null,
   "metadata": {},
   "outputs": [
    {
     "data": {
      "text/plain": [
       "[(1, 4), (4, 9), (9, 16), (16, 25), (25, 36)]"
      ]
     },
     "metadata": {},
     "output_type": "display_data"
    }
   ],
   "source": [
    "def a(x,y): ## 1\n",
    "    return x**2, y**2\n",
    "[a(i,i+1) for i in range(1,6)]"
   ]
  },
  {
   "cell_type": "code",
   "execution_count": null,
   "metadata": {},
   "outputs": [
    {
     "data": {
      "text/plain": [
       "[(1, 1), (2, 4), (6, 9), (24, 16), (120, 25)]"
      ]
     },
     "metadata": {},
     "output_type": "display_data"
    }
   ],
   "source": [
    "def b(x,y): ## 2\n",
    "    result = 1\n",
    "    for i in range(1,x+1):\n",
    "        result *=i\n",
    "    return result,y**2   \n",
    "[b(i,i) for i in range(1,6)]"
   ]
  },
  {
   "cell_type": "code",
   "execution_count": null,
   "metadata": {},
   "outputs": [
    {
     "data": {
      "text/plain": [
       "120"
      ]
     },
     "metadata": {},
     "output_type": "display_data"
    }
   ],
   "source": [
    "def c(x): ##3 \n",
    "    if(x>1):\n",
    "        return x*c(x-1)\n",
    "    else:\n",
    "        return 1\n",
    "c(5)"
   ]
  },
  {
   "cell_type": "code",
   "execution_count": null,
   "metadata": {},
   "outputs": [],
   "source": [
    "def c(x): ##3 다른 방법   \n",
    "    a= x-1\n",
    "    if(x>1):\n",
    "        return x*c(a)\n",
    "    else:\n",
    "        return 1"
   ]
  },
  {
   "cell_type": "code",
   "execution_count": null,
   "metadata": {},
   "outputs": [
    {
     "data": {
      "text/plain": [
       "[1, 2, 6, 24, 120, 720, 5040, 40320, 362880]"
      ]
     },
     "metadata": {},
     "output_type": "display_data"
    }
   ],
   "source": [
    "[c(i) for i in range(1,10)]"
   ]
  },
  {
   "cell_type": "code",
   "execution_count": null,
   "metadata": {},
   "outputs": [
    {
     "data": {
      "text/plain": [
       "[1, 2, 6, 24, 120, 720, 5040, 40320, 362880, 3628800]"
      ]
     },
     "metadata": {},
     "output_type": "display_data"
    }
   ],
   "source": [
    "list1 =[]\n",
    "for i in range(1,11):\n",
    "    list1.append(c(i))\n",
    "list1"
   ]
  },
  {
   "cell_type": "code",
   "execution_count": null,
   "metadata": {},
   "outputs": [
    {
     "data": {
      "text/plain": [
       "[1, 2, 6, 24, 120, 720, 5040, 40320, 362880, 3628800]"
      ]
     },
     "metadata": {},
     "output_type": "display_data"
    }
   ],
   "source": [
    "list1 =[]\n",
    "for i in range(1,11):\n",
    "    list1 += [c(i)]\n",
    "list1"
   ]
  },
  {
   "cell_type": "markdown",
   "metadata": {},
   "source": [
    "## 실습 2 : 리스트컴프리헨션 이용하기\n",
    "1. 1~99 범위 중 짝수만 들어있는 리스트\n",
    "2. 100~-100 범위중 끝자리가 5인 수만 들어있는 리스트\n",
    "3. 'apple','bird','cat','dog','e'문자에서 각 문자를 대문자로 만든 리스트"
   ]
  },
  {
   "cell_type": "code",
   "execution_count": null,
   "metadata": {},
   "outputs": [
    {
     "data": {
      "text/plain": [
       "'APPLE'"
      ]
     },
     "metadata": {},
     "output_type": "display_data"
    }
   ],
   "source": [
    "'apple'.upper() # 대문자로 만들기"
   ]
  },
  {
   "cell_type": "code",
   "execution_count": null,
   "metadata": {},
   "outputs": [
    {
     "data": {
      "text/plain": [
       "[2,\n",
       " 4,\n",
       " 6,\n",
       " 8,\n",
       " 10,\n",
       " 12,\n",
       " 14,\n",
       " 16,\n",
       " 18,\n",
       " 20,\n",
       " 22,\n",
       " 24,\n",
       " 26,\n",
       " 28,\n",
       " 30,\n",
       " 32,\n",
       " 34,\n",
       " 36,\n",
       " 38,\n",
       " 40,\n",
       " 42,\n",
       " 44,\n",
       " 46,\n",
       " 48,\n",
       " 50,\n",
       " 52,\n",
       " 54,\n",
       " 56,\n",
       " 58,\n",
       " 60,\n",
       " 62,\n",
       " 64,\n",
       " 66,\n",
       " 68,\n",
       " 70,\n",
       " 72,\n",
       " 74,\n",
       " 76,\n",
       " 78,\n",
       " 80,\n",
       " 82,\n",
       " 84,\n",
       " 86,\n",
       " 88,\n",
       " 90,\n",
       " 92,\n",
       " 94,\n",
       " 96,\n",
       " 98]"
      ]
     },
     "metadata": {},
     "output_type": "display_data"
    }
   ],
   "source": [
    "list1 = [] #1 첫번째 방법\n",
    "for i in range(1,100):\n",
    "    if i%2 == 0:\n",
    "        list1.append(i)\n",
    "list1"
   ]
  },
  {
   "cell_type": "code",
   "execution_count": null,
   "metadata": {},
   "outputs": [
    {
     "data": {
      "text/plain": [
       "[None,\n",
       " 2,\n",
       " None,\n",
       " 4,\n",
       " None,\n",
       " 6,\n",
       " None,\n",
       " 8,\n",
       " None,\n",
       " 10,\n",
       " None,\n",
       " 12,\n",
       " None,\n",
       " 14,\n",
       " None,\n",
       " 16,\n",
       " None,\n",
       " 18,\n",
       " None,\n",
       " 20,\n",
       " None,\n",
       " 22,\n",
       " None,\n",
       " 24,\n",
       " None,\n",
       " 26,\n",
       " None,\n",
       " 28,\n",
       " None,\n",
       " 30,\n",
       " None,\n",
       " 32,\n",
       " None,\n",
       " 34,\n",
       " None,\n",
       " 36,\n",
       " None,\n",
       " 38,\n",
       " None,\n",
       " 40,\n",
       " None,\n",
       " 42,\n",
       " None,\n",
       " 44,\n",
       " None,\n",
       " 46,\n",
       " None,\n",
       " 48,\n",
       " None,\n",
       " 50,\n",
       " None,\n",
       " 52,\n",
       " None,\n",
       " 54,\n",
       " None,\n",
       " 56,\n",
       " None,\n",
       " 58,\n",
       " None,\n",
       " 60,\n",
       " None,\n",
       " 62,\n",
       " None,\n",
       " 64,\n",
       " None,\n",
       " 66,\n",
       " None,\n",
       " 68,\n",
       " None,\n",
       " 70,\n",
       " None,\n",
       " 72,\n",
       " None,\n",
       " 74,\n",
       " None,\n",
       " 76,\n",
       " None,\n",
       " 78,\n",
       " None,\n",
       " 80,\n",
       " None,\n",
       " 82,\n",
       " None,\n",
       " 84,\n",
       " None,\n",
       " 86,\n",
       " None,\n",
       " 88,\n",
       " None,\n",
       " 90,\n",
       " None,\n",
       " 92,\n",
       " None,\n",
       " 94,\n",
       " None,\n",
       " 96,\n",
       " None,\n",
       " 98,\n",
       " None]"
      ]
     },
     "metadata": {},
     "output_type": "display_data"
    }
   ],
   "source": [
    "def funcA(x):\n",
    "    if x %2 ==0:\n",
    "        return x\n",
    "    \n",
    "[funcA(i) for i in range(1,100,1)]"
   ]
  },
  {
   "cell_type": "code",
   "execution_count": null,
   "metadata": {},
   "outputs": [
    {
     "data": {
      "text/plain": [
       "[2,\n",
       " 4,\n",
       " 6,\n",
       " 8,\n",
       " 10,\n",
       " 12,\n",
       " 14,\n",
       " 16,\n",
       " 18,\n",
       " 20,\n",
       " 22,\n",
       " 24,\n",
       " 26,\n",
       " 28,\n",
       " 30,\n",
       " 32,\n",
       " 34,\n",
       " 36,\n",
       " 38,\n",
       " 40,\n",
       " 42,\n",
       " 44,\n",
       " 46,\n",
       " 48,\n",
       " 50,\n",
       " 52,\n",
       " 54,\n",
       " 56,\n",
       " 58,\n",
       " 60,\n",
       " 62,\n",
       " 64,\n",
       " 66,\n",
       " 68,\n",
       " 70,\n",
       " 72,\n",
       " 74,\n",
       " 76,\n",
       " 78,\n",
       " 80,\n",
       " 82,\n",
       " 84,\n",
       " 86,\n",
       " 88,\n",
       " 90,\n",
       " 92,\n",
       " 94,\n",
       " 96,\n",
       " 98]"
      ]
     },
     "metadata": {},
     "output_type": "display_data"
    }
   ],
   "source": [
    "[i if i%2 ==0 else'' for i in range(2,100,2)] #1 두번째 방법"
   ]
  },
  {
   "cell_type": "code",
   "execution_count": null,
   "metadata": {},
   "outputs": [],
   "source": [
    "list1 = [] #2 첫번째 방법\n",
    "for i in range(100,-100,-5):\n",
    "    list1.append(i)\n",
    "list1"
   ]
  },
  {
   "cell_type": "code",
   "execution_count": null,
   "metadata": {},
   "outputs": [
    {
     "data": {
      "text/plain": [
       "[100,\n",
       " 95,\n",
       " 90,\n",
       " 85,\n",
       " 80,\n",
       " 75,\n",
       " 70,\n",
       " 65,\n",
       " 60,\n",
       " 55,\n",
       " 50,\n",
       " 45,\n",
       " 40,\n",
       " 35,\n",
       " 30,\n",
       " 25,\n",
       " 20,\n",
       " 15,\n",
       " 10,\n",
       " 5,\n",
       " 0,\n",
       " -5,\n",
       " -10,\n",
       " -15,\n",
       " -20,\n",
       " -25,\n",
       " -30,\n",
       " -35,\n",
       " -40,\n",
       " -45,\n",
       " -50,\n",
       " -55,\n",
       " -60,\n",
       " -65,\n",
       " -70,\n",
       " -75,\n",
       " -80,\n",
       " -85,\n",
       " -90,\n",
       " -95]"
      ]
     },
     "metadata": {},
     "output_type": "display_data"
    }
   ],
   "source": [
    "list1 = [] #2 두번째 방법\n",
    "for i in range(100,-100,-1):\n",
    "    if i %5 ==0:\n",
    "        list1.append(i)\n",
    "list1"
   ]
  },
  {
   "cell_type": "code",
   "execution_count": null,
   "metadata": {},
   "outputs": [
    {
     "data": {
      "text/plain": [
       "[100,\n",
       " 95,\n",
       " 90,\n",
       " 85,\n",
       " 80,\n",
       " 75,\n",
       " 70,\n",
       " 65,\n",
       " 60,\n",
       " 55,\n",
       " 50,\n",
       " 45,\n",
       " 40,\n",
       " 35,\n",
       " 30,\n",
       " 25,\n",
       " 20,\n",
       " 15,\n",
       " 10,\n",
       " 5,\n",
       " 0,\n",
       " -5,\n",
       " -10,\n",
       " -15,\n",
       " -20,\n",
       " -25,\n",
       " -30,\n",
       " -35,\n",
       " -40,\n",
       " -45,\n",
       " -50,\n",
       " -55,\n",
       " -60,\n",
       " -65,\n",
       " -70,\n",
       " -75,\n",
       " -80,\n",
       " -85,\n",
       " -90,\n",
       " -95]"
      ]
     },
     "metadata": {},
     "output_type": "display_data"
    }
   ],
   "source": [
    "[i if i%5 ==0 else '' for i in range(100,-100,-5)]"
   ]
  },
  {
   "cell_type": "code",
   "execution_count": null,
   "metadata": {},
   "outputs": [
    {
     "data": {
      "text/plain": [
       "[95,\n",
       " 85,\n",
       " 75,\n",
       " 65,\n",
       " 55,\n",
       " 45,\n",
       " 35,\n",
       " 25,\n",
       " 15,\n",
       " 5,\n",
       " -5,\n",
       " -15,\n",
       " -25,\n",
       " -35,\n",
       " -45,\n",
       " -55,\n",
       " -65,\n",
       " -75,\n",
       " -85,\n",
       " -95]"
      ]
     },
     "metadata": {},
     "output_type": "display_data"
    }
   ],
   "source": [
    "list1 = []\n",
    "for i in range(100,-101,-1):\n",
    "    if str(i)[-1] =='5':\n",
    "        list1 +=[i]\n",
    "list1"
   ]
  },
  {
   "cell_type": "code",
   "execution_count": null,
   "metadata": {},
   "outputs": [
    {
     "data": {
      "text/plain": [
       "[95,\n",
       " 85,\n",
       " 75,\n",
       " 65,\n",
       " 55,\n",
       " 45,\n",
       " 35,\n",
       " 25,\n",
       " 15,\n",
       " 5,\n",
       " -5,\n",
       " -15,\n",
       " -25,\n",
       " -35,\n",
       " -45,\n",
       " -55,\n",
       " -65,\n",
       " -75,\n",
       " -85,\n",
       " -95]"
      ]
     },
     "metadata": {},
     "output_type": "display_data"
    }
   ],
   "source": [
    "[i for i in range(100,-101,-1) if str(i)[-1] =='5']"
   ]
  },
  {
   "cell_type": "code",
   "execution_count": null,
   "metadata": {},
   "outputs": [
    {
     "data": {
      "text/plain": [
       "['APPLE', 'BIRD', 'CAT', 'DOG', 'E']"
      ]
     },
     "metadata": {},
     "output_type": "display_data"
    }
   ],
   "source": [
    "list2 = [] #3 첫번째 방법\n",
    "for i in ['apple','bird','cat','dog','e']:\n",
    "    list2.append(i.upper())\n",
    "list2\n",
    "    "
   ]
  },
  {
   "cell_type": "code",
   "execution_count": null,
   "metadata": {},
   "outputs": [
    {
     "data": {
      "text/plain": [
       "['APPLE', 'BIRD', 'CAT', 'DOG', 'E']"
      ]
     },
     "metadata": {},
     "output_type": "display_data"
    }
   ],
   "source": [
    "[i.upper() for i in ['apple','bird','cat','dog','e']] #3 두번째 방법"
   ]
  },
  {
   "cell_type": "markdown",
   "metadata": {},
   "source": [
    "# 과제 \n",
    "* 반복문을 함수로 대체해보기\n",
    "\n",
    "1. 판다스 패키지를 이용한다\n",
    "2. 주어진 데이터를 이용해 각 row데이터에 대해 연산하기(x+1) *2 (교육시작일자 연도를 대상으로 함)\n",
    "3. 연산 결과는 'calc'열로 따로 저장하기\n",
    "4. (오늘 날짜).csv 파일로 내보내기\n",
    "5. 이 때, 반복문을 사용한 코드, 함수를 이용한 코드를 각각 작성해보자"
   ]
  },
  {
   "cell_type": "code",
   "execution_count": 64,
   "metadata": {},
   "outputs": [],
   "source": [
    "import pandas as pd\n",
    "df = pd.read_csv(\"C:/Users/user/Desktop/230102~/실습 데이터/시청자미디어재단_체험형미디어교육_20221109 - 시청자미디어재단_체험형미디어교육_20221109.csv\")\n",
    "df1 = df.copy()\n",
    "new_df = df.copy()"
   ]
  },
  {
   "cell_type": "code",
   "execution_count": 35,
   "metadata": {},
   "outputs": [],
   "source": [
    "# apply함수로 작성\n",
    "calc_column =df['교육시작일자'].apply(lambda x: x.split('-')[0])\n",
    "df['calc'] = calc_column.apply(lambda x : (int(x)+1) * 2)\n",
    "df.to_csv('20230106.csv',index = False) ## 인코딩 에러 발생시, encoding = 'cp949'"
   ]
  },
  {
   "cell_type": "code",
   "execution_count": 70,
   "metadata": {},
   "outputs": [],
   "source": [
    "# for 반복문 작성\n",
    "year =  int(df1.loc[:,'교육시작일자'][i].split('-')[0])\n",
    "calc = []\n",
    "for i in df1.index:\n",
    "    calc.append((int(df1.loc[:,'교육시작일자'][i].split('-')[0]) +1) *2 )\n",
    "df1['calc'] = calc\n",
    "df1.to_csv('20230106-1.csv',index = False)"
   ]
  },
  {
   "cell_type": "code",
   "execution_count": null,
   "metadata": {},
   "outputs": [],
   "source": [
    "# calc에 담을 인자를 변수에 저장\n",
    "year =  int(df1.loc[:,'교육시작일자'][i].split('-')[0])\n",
    "calc = []\n",
    "for i in df1.index:\n",
    "    calc.append((year +1) *2 )\n",
    "calc"
   ]
  },
  {
   "cell_type": "code",
   "execution_count": 61,
   "metadata": {},
   "outputs": [],
   "source": [
    "# 리스트 컴프리헨션\n",
    "df['calc'] = [(int(i[:4]) +1)* 2 for i in df['교육시작일자']]"
   ]
  },
  {
   "cell_type": "code",
   "execution_count": null,
   "metadata": {},
   "outputs": [],
   "source": [
    "# 커스텀 함수\n",
    "def calc(x):\n",
    "    return (int(x[:4])+1)* 2\n",
    "\n",
    "new_df['calc'] = new_df['교육시작일자'].apply(lambda x: calc(x))\n",
    "new_df"
   ]
  },
  {
   "cell_type": "code",
   "execution_count": 71,
   "metadata": {},
   "outputs": [
    {
     "data": {
      "text/html": [
       "<div>\n",
       "<style scoped>\n",
       "    .dataframe tbody tr th:only-of-type {\n",
       "        vertical-align: middle;\n",
       "    }\n",
       "\n",
       "    .dataframe tbody tr th {\n",
       "        vertical-align: top;\n",
       "    }\n",
       "\n",
       "    .dataframe thead th {\n",
       "        text-align: right;\n",
       "    }\n",
       "</style>\n",
       "<table border=\"1\" class=\"dataframe\">\n",
       "  <thead>\n",
       "    <tr style=\"text-align: right;\">\n",
       "      <th></th>\n",
       "      <th>센터명</th>\n",
       "      <th>강좌명</th>\n",
       "      <th>강사명</th>\n",
       "      <th>교육시작일자</th>\n",
       "      <th>교육종료일자</th>\n",
       "      <th>강좌내용</th>\n",
       "      <th>교육대상구분</th>\n",
       "      <th>교육방법구분</th>\n",
       "      <th>운영요일</th>\n",
       "      <th>강좌정원수</th>\n",
       "      <th>데이터기준일자</th>\n",
       "      <th>calc</th>\n",
       "    </tr>\n",
       "  </thead>\n",
       "  <tbody>\n",
       "    <tr>\n",
       "      <th>0</th>\n",
       "      <td>서울시청자미디어센터</td>\n",
       "      <td>상설미디어체험 교육</td>\n",
       "      <td>이수현,김민호</td>\n",
       "      <td>2022-11-12</td>\n",
       "      <td>2022-11-26</td>\n",
       "      <td>상설미디어체험(뉴스앵커체험 등)</td>\n",
       "      <td>일반</td>\n",
       "      <td>오프라인</td>\n",
       "      <td>토</td>\n",
       "      <td>25</td>\n",
       "      <td>2022-11-09</td>\n",
       "      <td>4046</td>\n",
       "    </tr>\n",
       "    <tr>\n",
       "      <th>1</th>\n",
       "      <td>서울시청자미디어센터</td>\n",
       "      <td>찾아가는미디어나눔버스 체험 교육</td>\n",
       "      <td>김도경,이수현</td>\n",
       "      <td>2022-11-21</td>\n",
       "      <td>2022-11-21</td>\n",
       "      <td>찾아가는미디어나눔버스 체험</td>\n",
       "      <td>청소년</td>\n",
       "      <td>오프라인</td>\n",
       "      <td>월</td>\n",
       "      <td>25</td>\n",
       "      <td>2022-11-09</td>\n",
       "      <td>4046</td>\n",
       "    </tr>\n",
       "    <tr>\n",
       "      <th>2</th>\n",
       "      <td>서울시청자미디어센터</td>\n",
       "      <td>찾아가는미디어나눔버스 체험</td>\n",
       "      <td>김도경,이수현</td>\n",
       "      <td>2022-11-22</td>\n",
       "      <td>2022-11-22</td>\n",
       "      <td>찾아가는미디어나눔버스 체험</td>\n",
       "      <td>청소년</td>\n",
       "      <td>오프라인</td>\n",
       "      <td>화</td>\n",
       "      <td>25</td>\n",
       "      <td>2022-11-09</td>\n",
       "      <td>4046</td>\n",
       "    </tr>\n",
       "    <tr>\n",
       "      <th>3</th>\n",
       "      <td>서울시청자미디어센터</td>\n",
       "      <td>찾아가는미디어나눔버스 체험</td>\n",
       "      <td>김도경,이수현</td>\n",
       "      <td>2022-11-23</td>\n",
       "      <td>2022-11-23</td>\n",
       "      <td>찾아가는미디어나눔버스 체험</td>\n",
       "      <td>청소년</td>\n",
       "      <td>오프라인</td>\n",
       "      <td>수</td>\n",
       "      <td>25</td>\n",
       "      <td>2022-11-09</td>\n",
       "      <td>4046</td>\n",
       "    </tr>\n",
       "    <tr>\n",
       "      <th>4</th>\n",
       "      <td>서울시청자미디어센터</td>\n",
       "      <td>찾아가는미디어나눔버스 체험</td>\n",
       "      <td>김도경,이수현</td>\n",
       "      <td>2022-11-25</td>\n",
       "      <td>2022-11-25</td>\n",
       "      <td>찾아가는미디어나눔버스 체험</td>\n",
       "      <td>청소년</td>\n",
       "      <td>오프라인</td>\n",
       "      <td>금</td>\n",
       "      <td>25</td>\n",
       "      <td>2022-11-09</td>\n",
       "      <td>4046</td>\n",
       "    </tr>\n",
       "  </tbody>\n",
       "</table>\n",
       "</div>"
      ],
      "text/plain": [
       "          센터명                강좌명      강사명      교육시작일자      교육종료일자  \\\n",
       "0  서울시청자미디어센터         상설미디어체험 교육  이수현,김민호  2022-11-12  2022-11-26   \n",
       "1  서울시청자미디어센터  찾아가는미디어나눔버스 체험 교육  김도경,이수현  2022-11-21  2022-11-21   \n",
       "2  서울시청자미디어센터     찾아가는미디어나눔버스 체험  김도경,이수현  2022-11-22  2022-11-22   \n",
       "3  서울시청자미디어센터     찾아가는미디어나눔버스 체험  김도경,이수현  2022-11-23  2022-11-23   \n",
       "4  서울시청자미디어센터     찾아가는미디어나눔버스 체험  김도경,이수현  2022-11-25  2022-11-25   \n",
       "\n",
       "                강좌내용 교육대상구분 교육방법구분 운영요일  강좌정원수     데이터기준일자  calc  \n",
       "0  상설미디어체험(뉴스앵커체험 등)     일반   오프라인    토     25  2022-11-09  4046  \n",
       "1     찾아가는미디어나눔버스 체험    청소년   오프라인    월     25  2022-11-09  4046  \n",
       "2     찾아가는미디어나눔버스 체험    청소년   오프라인    화     25  2022-11-09  4046  \n",
       "3     찾아가는미디어나눔버스 체험    청소년   오프라인    수     25  2022-11-09  4046  \n",
       "4     찾아가는미디어나눔버스 체험    청소년   오프라인    금     25  2022-11-09  4046  "
      ]
     },
     "execution_count": 71,
     "metadata": {},
     "output_type": "execute_result"
    }
   ],
   "source": [
    "df1.head()"
   ]
  },
  {
   "cell_type": "code",
   "execution_count": 79,
   "metadata": {},
   "outputs": [
    {
     "data": {
      "text/plain": [
       "'김도경,이수현'"
      ]
     },
     "execution_count": 79,
     "metadata": {},
     "output_type": "execute_result"
    }
   ],
   "source": [
    "df1['강사명'][2]"
   ]
  },
  {
   "cell_type": "code",
   "execution_count": 80,
   "metadata": {},
   "outputs": [
    {
     "data": {
      "text/plain": [
       "'김도경,이수현'"
      ]
     },
     "execution_count": 80,
     "metadata": {},
     "output_type": "execute_result"
    }
   ],
   "source": [
    "df1.loc[2,'강사명']"
   ]
  },
  {
   "cell_type": "code",
   "execution_count": 81,
   "metadata": {},
   "outputs": [
    {
     "data": {
      "text/plain": [
       "'김도경,이수현'"
      ]
     },
     "execution_count": 81,
     "metadata": {},
     "output_type": "execute_result"
    }
   ],
   "source": [
    "df.iloc[2,2]"
   ]
  },
  {
   "cell_type": "code",
   "execution_count": 83,
   "metadata": {},
   "outputs": [
    {
     "data": {
      "text/plain": [
       "(99, 12)"
      ]
     },
     "execution_count": 83,
     "metadata": {},
     "output_type": "execute_result"
    }
   ],
   "source": [
    "df1.shape"
   ]
  },
  {
   "cell_type": "markdown",
   "metadata": {},
   "source": [
    "# 실습 3\n",
    "* df에서 (16,12)에 해당하는 값 찾아보기\n",
    "* df에서 (4:70, 6:8)에 해당하는 값 찾아보기"
   ]
  },
  {
   "cell_type": "code",
   "execution_count": 90,
   "metadata": {},
   "outputs": [
    {
     "data": {
      "text/plain": [
       "4046"
      ]
     },
     "execution_count": 90,
     "metadata": {},
     "output_type": "execute_result"
    }
   ],
   "source": [
    "df1.iloc[15,11]\n",
    "# 만약 1부터 센 숫자 기준으로 좌표를 설명했다면, 위 표기대로 해결 가능함"
   ]
  },
  {
   "cell_type": "code",
   "execution_count": 91,
   "metadata": {},
   "outputs": [
    {
     "data": {
      "text/html": [
       "<div>\n",
       "<style scoped>\n",
       "    .dataframe tbody tr th:only-of-type {\n",
       "        vertical-align: middle;\n",
       "    }\n",
       "\n",
       "    .dataframe tbody tr th {\n",
       "        vertical-align: top;\n",
       "    }\n",
       "\n",
       "    .dataframe thead th {\n",
       "        text-align: right;\n",
       "    }\n",
       "</style>\n",
       "<table border=\"1\" class=\"dataframe\">\n",
       "  <thead>\n",
       "    <tr style=\"text-align: right;\">\n",
       "      <th></th>\n",
       "      <th>강좌내용</th>\n",
       "      <th>교육대상구분</th>\n",
       "    </tr>\n",
       "  </thead>\n",
       "  <tbody>\n",
       "    <tr>\n",
       "      <th>3</th>\n",
       "      <td>찾아가는미디어나눔버스 체험</td>\n",
       "      <td>청소년</td>\n",
       "    </tr>\n",
       "    <tr>\n",
       "      <th>4</th>\n",
       "      <td>찾아가는미디어나눔버스 체험</td>\n",
       "      <td>청소년</td>\n",
       "    </tr>\n",
       "    <tr>\n",
       "      <th>5</th>\n",
       "      <td>앵커 체험</td>\n",
       "      <td>유아</td>\n",
       "    </tr>\n",
       "    <tr>\n",
       "      <th>6</th>\n",
       "      <td>매거진프로그램을 만들어보는 체험</td>\n",
       "      <td>초등학생</td>\n",
       "    </tr>\n",
       "    <tr>\n",
       "      <th>7</th>\n",
       "      <td>라디오프로그램을 만들어 보는 체험</td>\n",
       "      <td>초등학생</td>\n",
       "    </tr>\n",
       "    <tr>\n",
       "      <th>...</th>\n",
       "      <td>...</td>\n",
       "      <td>...</td>\n",
       "    </tr>\n",
       "    <tr>\n",
       "      <th>64</th>\n",
       "      <td>TV, 라디오, 스마트 등 매체별 미디어체험 프로그램</td>\n",
       "      <td>지역주민</td>\n",
       "    </tr>\n",
       "    <tr>\n",
       "      <th>65</th>\n",
       "      <td>TV, 라디오, 스마트 등 매체별 미디어체험 프로그램</td>\n",
       "      <td>지역주민</td>\n",
       "    </tr>\n",
       "    <tr>\n",
       "      <th>66</th>\n",
       "      <td>TV, 라디오, 스마트 등 매체별 미디어체험 프로그램</td>\n",
       "      <td>지역주민</td>\n",
       "    </tr>\n",
       "    <tr>\n",
       "      <th>67</th>\n",
       "      <td>라디오 프로그램 제작 체험</td>\n",
       "      <td>고등학생,장애인</td>\n",
       "    </tr>\n",
       "    <tr>\n",
       "      <th>68</th>\n",
       "      <td>TV 뉴스 제작 및 영상합성 크로마키 체험</td>\n",
       "      <td>성인</td>\n",
       "    </tr>\n",
       "  </tbody>\n",
       "</table>\n",
       "<p>66 rows × 2 columns</p>\n",
       "</div>"
      ],
      "text/plain": [
       "                             강좌내용    교육대상구분\n",
       "3                  찾아가는미디어나눔버스 체험       청소년\n",
       "4                  찾아가는미디어나눔버스 체험       청소년\n",
       "5                           앵커 체험        유아\n",
       "6               매거진프로그램을 만들어보는 체험      초등학생\n",
       "7              라디오프로그램을 만들어 보는 체험      초등학생\n",
       "..                            ...       ...\n",
       "64  TV, 라디오, 스마트 등 매체별 미디어체험 프로그램      지역주민\n",
       "65  TV, 라디오, 스마트 등 매체별 미디어체험 프로그램      지역주민\n",
       "66  TV, 라디오, 스마트 등 매체별 미디어체험 프로그램      지역주민\n",
       "67                 라디오 프로그램 제작 체험  고등학생,장애인\n",
       "68        TV 뉴스 제작 및 영상합성 크로마키 체험        성인\n",
       "\n",
       "[66 rows x 2 columns]"
      ]
     },
     "execution_count": 91,
     "metadata": {},
     "output_type": "execute_result"
    }
   ],
   "source": [
    "df1.iloc[3:69,5:7]"
   ]
  },
  {
   "cell_type": "markdown",
   "metadata": {},
   "source": [
    "# 실습 4\n",
    "* 각 요일마다 몇개의 프로그램이 진행되는지 확인하기"
   ]
  },
  {
   "cell_type": "code",
   "execution_count": 211,
   "metadata": {},
   "outputs": [
    {
     "data": {
      "text/plain": [
       "array(['토', '월', '화', '수', '금', '목', '월,화,수,목,금,토'], dtype=object)"
      ]
     },
     "execution_count": 211,
     "metadata": {},
     "output_type": "execute_result"
    }
   ],
   "source": [
    "df1['운영요일'].unique()"
   ]
  },
  {
   "cell_type": "code",
   "execution_count": 114,
   "metadata": {},
   "outputs": [
    {
     "data": {
      "text/plain": [
       "11"
      ]
     },
     "execution_count": 114,
     "metadata": {},
     "output_type": "execute_result"
    }
   ],
   "source": [
    "# result = 0\n",
    "# for i in set(df1['운영요일']):\n",
    "#     for j in list(df1['운영요일']):\n",
    "#         if  j == i:\n",
    "#             result +=1\n",
    "#     print(i,result) \n",
    "    \n",
    "m = df1['운영요일'] == '월'\n",
    "df1['운영요일'][m].count()"
   ]
  },
  {
   "cell_type": "code",
   "execution_count": 103,
   "metadata": {},
   "outputs": [
    {
     "data": {
      "text/plain": [
       "금              19\n",
       "수              18\n",
       "화              15\n",
       "목              15\n",
       "월              11\n",
       "월,화,수,목,금,토    11\n",
       "토              10\n",
       "Name: 운영요일, dtype: int64"
      ]
     },
     "execution_count": 103,
     "metadata": {},
     "output_type": "execute_result"
    }
   ],
   "source": [
    "df['운영요일'].value_counts()"
   ]
  },
  {
   "cell_type": "code",
   "execution_count": 115,
   "metadata": {},
   "outputs": [
    {
     "data": {
      "text/plain": [
       "22"
      ]
     },
     "execution_count": 115,
     "metadata": {},
     "output_type": "execute_result"
    }
   ],
   "source": [
    "list(df['운영요일'].apply(lambda x: '월' in x )).count(True)"
   ]
  },
  {
   "cell_type": "code",
   "execution_count": 119,
   "metadata": {},
   "outputs": [
    {
     "data": {
      "text/plain": [
       "22"
      ]
     },
     "execution_count": 119,
     "metadata": {},
     "output_type": "execute_result"
    }
   ],
   "source": [
    "mon = 0\n",
    "for i in df['운영요일']:\n",
    "    if '월' in i:\n",
    "        mon +=1\n",
    "mon"
   ]
  },
  {
   "cell_type": "code",
   "execution_count": 122,
   "metadata": {},
   "outputs": [
    {
     "name": "stdout",
     "output_type": "stream",
     "text": [
      "월 22\n",
      "화 26\n",
      "수 29\n",
      "목 26\n",
      "금 30\n",
      "토 21\n"
     ]
    }
   ],
   "source": [
    "for d in ['월','화','수','목','금','토']:\n",
    "    apply_result = df['운영요일'].apply(lambda x: d in x)\n",
    "    print(d,list(apply_result).count(True))"
   ]
  },
  {
   "cell_type": "markdown",
   "metadata": {},
   "source": [
    "# 실습 5 \n",
    "* 위 데이터프레임에서, 교육시작일자를 11월 전반과 후반부로 분류한다.\n",
    "* 11월 전/후반부에서 온/오프라인의 비중 변화를 확인한다\n",
    "* 11월 전/후반부에서 강좌의 연령층 변화를 확인한다"
   ]
  },
  {
   "cell_type": "code",
   "execution_count": 154,
   "metadata": {},
   "outputs": [
    {
     "data": {
      "text/plain": [
       "array(['오프라인', '온라인'], dtype=object)"
      ]
     },
     "execution_count": 154,
     "metadata": {},
     "output_type": "execute_result"
    }
   ],
   "source": [
    "df['교육방법구분'].unique()"
   ]
  },
  {
   "cell_type": "code",
   "execution_count": 125,
   "metadata": {},
   "outputs": [
    {
     "data": {
      "text/plain": [
       "array(['2022-11-12', '2022-11-21', '2022-11-22', '2022-11-23',\n",
       "       '2022-11-25', '2022-11-07', '2022-11-08', '2022-11-09',\n",
       "       '2022-11-10', '2022-11-11', '2022-11-14', '2022-11-17',\n",
       "       '2022-11-18', '2022-11-24', '2022-11-01', '2022-11-16',\n",
       "       '2022-11-26', '2022-11-02', '2022-11-03', '2022-11-04',\n",
       "       '2022-11-05', '2022-11-15', '2022-11-19', '2022-11-28',\n",
       "       '2022-11-29', '2022-11-30'], dtype=object)"
      ]
     },
     "execution_count": 125,
     "metadata": {},
     "output_type": "execute_result"
    }
   ],
   "source": [
    "df['교육시작일자'].unique()"
   ]
  },
  {
   "cell_type": "code",
   "execution_count": 175,
   "metadata": {},
   "outputs": [],
   "source": [
    "second = df['교육시작일자'].apply(lambda x: int(x[-2:])>=15)\n",
    "first = df['교육시작일자'].apply(lambda x: int(x[-2:])<15)"
   ]
  },
  {
   "cell_type": "code",
   "execution_count": 144,
   "metadata": {},
   "outputs": [
    {
     "data": {
      "text/plain": [
       "(49, 11)"
      ]
     },
     "execution_count": 144,
     "metadata": {},
     "output_type": "execute_result"
    }
   ],
   "source": [
    "df_second = df[m]\n",
    "df_second.shape"
   ]
  },
  {
   "cell_type": "code",
   "execution_count": 145,
   "metadata": {},
   "outputs": [
    {
     "data": {
      "text/plain": [
       "(50, 11)"
      ]
     },
     "execution_count": 145,
     "metadata": {},
     "output_type": "execute_result"
    }
   ],
   "source": [
    "df_first = df[n]\n",
    "df_first.shape"
   ]
  },
  {
   "cell_type": "code",
   "execution_count": 207,
   "metadata": {},
   "outputs": [
    {
     "data": {
      "text/plain": [
       "['초등학생', '중학생', '초등학생 이상', '중고등학생', '고등학생', '고등학생,장애인', '대학생', '중학생,장애인']"
      ]
     },
     "execution_count": 207,
     "metadata": {},
     "output_type": "execute_result"
    }
   ],
   "source": [
    "old = list(df['교육대상구분'].unique())\n",
    "new = []\n",
    "for i in old:\n",
    "    if '학생' in i:\n",
    "        new.append(i)\n",
    "new\n",
    "  \n",
    "        "
   ]
  },
  {
   "cell_type": "code",
   "execution_count": 196,
   "metadata": {},
   "outputs": [],
   "source": [
    "old = list(df['교육대상구분'].unique()) # 원래 df에서 교육대상구분이 어떤 종류가 있는지를 저장한 정보\n",
    "new =['혼합','미성년','미성년','미성년','미성년','미성년','혼합','미성년','성인','혼합','미성년','혼합','혼합','성년','성년','혼합','혼합']"
   ]
  },
  {
   "cell_type": "code",
   "execution_count": 185,
   "metadata": {},
   "outputs": [],
   "source": [
    "m = df['교육시작일자'].apply(lambda x: int(x[-2:])>15)\n",
    "df_15 = df[-m] # -기호는 not이라는 뜻으로, True는 False ,False는 True로 변경함\n",
    "df_30 = df[m]"
   ]
  },
  {
   "cell_type": "code",
   "execution_count": 183,
   "metadata": {},
   "outputs": [
    {
     "data": {
      "text/plain": [
       "오프라인    50\n",
       "온라인      2\n",
       "Name: 교육방법구분, dtype: int64"
      ]
     },
     "execution_count": 183,
     "metadata": {},
     "output_type": "execute_result"
    }
   ],
   "source": [
    "df_15['교육방법구분'].value_counts()"
   ]
  },
  {
   "cell_type": "code",
   "execution_count": 186,
   "metadata": {},
   "outputs": [
    {
     "data": {
      "text/plain": [
       "오프라인    47\n",
       "Name: 교육방법구분, dtype: int64"
      ]
     },
     "execution_count": 186,
     "metadata": {},
     "output_type": "execute_result"
    }
   ],
   "source": [
    "df_30['교육방법구분'].value_counts()"
   ]
  },
  {
   "cell_type": "code",
   "execution_count": null,
   "metadata": {},
   "outputs": [],
   "source": []
  }
 ],
 "metadata": {
  "kernelspec": {
   "display_name": "Python 3.11.1 64-bit",
   "language": "python",
   "name": "python3"
  },
  "language_info": {
   "codemirror_mode": {
    "name": "ipython",
    "version": 3
   },
   "file_extension": ".py",
   "mimetype": "text/x-python",
   "name": "python",
   "nbconvert_exporter": "python",
   "pygments_lexer": "ipython3",
   "version": "3.11.1"
  },
  "orig_nbformat": 4,
  "vscode": {
   "interpreter": {
    "hash": "de47f5c92c0ee6f12a59a5613ac5feff6aab19ddff207ba0b3964cced08c4ccc"
   }
  }
 },
 "nbformat": 4,
 "nbformat_minor": 2
}
