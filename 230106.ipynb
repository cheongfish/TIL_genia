{
 "cells": [
  {
   "cell_type": "markdown",
   "metadata": {},
   "source": [
    "# 함수의 기본구조\n",
    " def(함수이름)(input):<br>\n",
    "     retrun (리턴 값) <br>\n",
    "\n",
    "위 요소 중 첫번째 줄만 갖추면 내부에 어떤 코드를 입력해도 무관함\n",
    "* 약간 어려운 함수라도 읽을수 있어야함\n",
    "* 함수를 안쓰고 프로그래밍 하는데 비효율적이기 때문에\n",
    "* return 사용시 무조건 함수가 종료됨 >> return 아래에 있는 코드가 작동이 안됨"
   ]
  },
  {
   "cell_type": "code",
   "execution_count": null,
   "metadata": {},
   "outputs": [
    {
     "data": {
      "text/plain": [
       "'type1'"
      ]
     },
     "metadata": {},
     "output_type": "display_data"
    }
   ],
   "source": [
    "def func1(x,y):\n",
    "    z = x%y # 연산1\n",
    "    w = x-y # 연산2\n",
    "    if z>w: # 조건에 따른 리턴\n",
    "        return 'type1'\n",
    "    else:\n",
    "        return 'type2'"
   ]
  },
  {
   "cell_type": "code",
   "execution_count": null,
   "metadata": {},
   "outputs": [
    {
     "data": {
      "text/plain": [
       "'type1'"
      ]
     },
     "metadata": {},
     "output_type": "display_data"
    }
   ],
   "source": [
    "func1(10,20) "
   ]
  },
  {
   "cell_type": "code",
   "execution_count": null,
   "metadata": {},
   "outputs": [
    {
     "data": {
      "text/plain": [
       "'type1'"
      ]
     },
     "metadata": {},
     "output_type": "display_data"
    }
   ],
   "source": [
    "func1(9,99)"
   ]
  },
  {
   "cell_type": "code",
   "execution_count": null,
   "metadata": {},
   "outputs": [
    {
     "data": {
      "text/plain": [
       "'type2'"
      ]
     },
     "metadata": {},
     "output_type": "display_data"
    }
   ],
   "source": [
    "result = func1(4,3)\n",
    "result"
   ]
  },
  {
   "cell_type": "code",
   "execution_count": null,
   "metadata": {},
   "outputs": [],
   "source": [
    "def func2(): ## print는 화면에 출력함 , return은 출력하지 않으면 볼 수 없음\n",
    "    print('func2 start')"
   ]
  },
  {
   "cell_type": "code",
   "execution_count": null,
   "metadata": {},
   "outputs": [
    {
     "name": "stdout",
     "output_type": "stream",
     "text": [
      "func2 start\n"
     ]
    }
   ],
   "source": [
    "func2()"
   ]
  },
  {
   "cell_type": "code",
   "execution_count": null,
   "metadata": {},
   "outputs": [],
   "source": [
    "def func3():\n",
    "    1+1"
   ]
  },
  {
   "cell_type": "code",
   "execution_count": null,
   "metadata": {},
   "outputs": [],
   "source": [
    "func3()"
   ]
  },
  {
   "cell_type": "code",
   "execution_count": null,
   "metadata": {},
   "outputs": [],
   "source": [
    "def func4():  # pass사용 가능\n",
    "    pass"
   ]
  },
  {
   "cell_type": "code",
   "execution_count": null,
   "metadata": {},
   "outputs": [],
   "source": [
    "func4()"
   ]
  },
  {
   "cell_type": "code",
   "execution_count": null,
   "metadata": {},
   "outputs": [],
   "source": [
    "def func5(a,b):\n",
    "    return a+b"
   ]
  },
  {
   "cell_type": "code",
   "execution_count": null,
   "metadata": {},
   "outputs": [
    {
     "data": {
      "text/plain": [
       "15"
      ]
     },
     "metadata": {},
     "output_type": "display_data"
    }
   ],
   "source": [
    "func5(4,11)"
   ]
  },
  {
   "cell_type": "code",
   "execution_count": null,
   "metadata": {},
   "outputs": [
    {
     "data": {
      "text/plain": [
       "'helloworld'"
      ]
     },
     "metadata": {},
     "output_type": "display_data"
    }
   ],
   "source": [
    "func5('hello','world')"
   ]
  },
  {
   "cell_type": "code",
   "execution_count": null,
   "metadata": {},
   "outputs": [],
   "source": [
    "def func5(b): ## 고정패러미터 설정 가능, 함수 안의 변수는 밖에서 쓸 수 없음(지역변수)\n",
    "    a = 500 ## << 지역변수\n",
    "    return a+b"
   ]
  },
  {
   "cell_type": "code",
   "execution_count": null,
   "metadata": {},
   "outputs": [
    {
     "data": {
      "text/plain": [
       "505"
      ]
     },
     "metadata": {},
     "output_type": "display_data"
    }
   ],
   "source": [
    "func5(5)"
   ]
  },
  {
   "cell_type": "code",
   "execution_count": null,
   "metadata": {},
   "outputs": [
    {
     "name": "stdout",
     "output_type": "stream",
     "text": [
      "987\n"
     ]
    }
   ],
   "source": [
    "x = 987 # 전역변수 (함수 바깥에 있는 변수, 함수 안에서도 쓸 수 있음)\n",
    "print(x)"
   ]
  },
  {
   "cell_type": "code",
   "execution_count": null,
   "metadata": {},
   "outputs": [],
   "source": [
    "def func5(): \n",
    "    a = 500 ## << 지역변수\n",
    "    return a+x"
   ]
  },
  {
   "cell_type": "code",
   "execution_count": null,
   "metadata": {},
   "outputs": [
    {
     "data": {
      "text/plain": [
       "1487"
      ]
     },
     "metadata": {},
     "output_type": "display_data"
    }
   ],
   "source": [
    "func5()"
   ]
  },
  {
   "cell_type": "code",
   "execution_count": null,
   "metadata": {},
   "outputs": [],
   "source": [
    "a = 0"
   ]
  },
  {
   "cell_type": "code",
   "execution_count": null,
   "metadata": {},
   "outputs": [],
   "source": [
    "def func5(): \n",
    "    global a # 전역변수 a를 이 함수 안으로 가져온다\n",
    "    a += 500 # 전역변수를 참조할 경우, 해당 전역변수를 수정할 수 있음\n",
    "    print(a)\n",
    "    return a+x"
   ]
  },
  {
   "cell_type": "code",
   "execution_count": null,
   "metadata": {},
   "outputs": [
    {
     "name": "stdout",
     "output_type": "stream",
     "text": [
      "3500\n"
     ]
    },
    {
     "data": {
      "text/plain": [
       "4487"
      ]
     },
     "metadata": {},
     "output_type": "display_data"
    }
   ],
   "source": [
    "func5()"
   ]
  },
  {
   "cell_type": "markdown",
   "metadata": {},
   "source": [
    "## 함수를 이용한 편리한 코드작성\n",
    "* 리스트 컴프리헨션\n",
    "* apply함수 이용\n",
    "* 반복문에 활용"
   ]
  },
  {
   "cell_type": "code",
   "execution_count": null,
   "metadata": {},
   "outputs": [
    {
     "name": "stdout",
     "output_type": "stream",
     "text": [
      "-10\n",
      "-9\n",
      "-8\n",
      "-7\n",
      "-6\n"
     ]
    }
   ],
   "source": [
    "def func6(x,y): ## 반복문에 활용\n",
    "    return x-y\n",
    "    print(10) ## 리턴이 사용되어 코드가 작동 X\n",
    "\n",
    "for i in range(5):\n",
    "    print(func6(i,10))"
   ]
  },
  {
   "cell_type": "code",
   "execution_count": null,
   "metadata": {},
   "outputs": [
    {
     "data": {
      "text/plain": [
       "[0, 1, 2, 3, 4, 5, 6, 7, 8, 9]"
      ]
     },
     "metadata": {},
     "output_type": "display_data"
    }
   ],
   "source": [
    "[i for i in range(10)] ## 리스트 컴프리헨션"
   ]
  },
  {
   "cell_type": "code",
   "execution_count": null,
   "metadata": {},
   "outputs": [
    {
     "name": "stdout",
     "output_type": "stream",
     "text": [
      "0\n",
      "1\n",
      "2\n",
      "3\n",
      "4\n",
      "5\n",
      "6\n",
      "7\n",
      "8\n",
      "9\n"
     ]
    }
   ],
   "source": [
    "for i in range(10):print(i)"
   ]
  },
  {
   "cell_type": "code",
   "execution_count": null,
   "metadata": {},
   "outputs": [
    {
     "name": "stdout",
     "output_type": "stream",
     "text": [
      "0\n",
      "2\n",
      "4\n",
      "6\n",
      "8\n"
     ]
    }
   ],
   "source": [
    "for i in range(10):\n",
    "    if i%2 ==0:\n",
    "        print(i)"
   ]
  },
  {
   "cell_type": "code",
   "execution_count": null,
   "metadata": {},
   "outputs": [],
   "source": [
    "def func7(x):\n",
    "    if x%2 ==0:\n",
    "        return x"
   ]
  },
  {
   "cell_type": "code",
   "execution_count": null,
   "metadata": {},
   "outputs": [
    {
     "data": {
      "text/plain": [
       "[0, None, 2, None, 4]"
      ]
     },
     "metadata": {},
     "output_type": "display_data"
    }
   ],
   "source": [
    "[func7(i) for i in range(5)]"
   ]
  },
  {
   "cell_type": "markdown",
   "metadata": {},
   "source": [
    "## 실습 1: 함수를 이용한 반복문\n",
    "* 입력된 두 수의 제곱을 각각 리턴하는 함수를 만든다.\n",
    "* 두 숫자를 입력 받고 첫번째 숫자는 팩토리얼 값, 두번째 숫자는 제곱을 출력한다.\n",
    "* 특정 숫자를 입력받고 팩토리얼 연산을 한다. 단 반복문은 사용하지 않는다. (재귀함수 사용시 반복문보다 속도가 빠름)\n"
   ]
  },
  {
   "cell_type": "code",
   "execution_count": null,
   "metadata": {},
   "outputs": [
    {
     "data": {
      "text/plain": [
       "[(1, 4), (4, 9), (9, 16), (16, 25), (25, 36)]"
      ]
     },
     "metadata": {},
     "output_type": "display_data"
    }
   ],
   "source": [
    "def a(x,y): ## 1\n",
    "    return x**2, y**2\n",
    "[a(i,i+1) for i in range(1,6)]"
   ]
  },
  {
   "cell_type": "code",
   "execution_count": null,
   "metadata": {},
   "outputs": [
    {
     "data": {
      "text/plain": [
       "[(1, 1), (2, 4), (6, 9), (24, 16), (120, 25)]"
      ]
     },
     "metadata": {},
     "output_type": "display_data"
    }
   ],
   "source": [
    "def b(x,y): ## 2\n",
    "    result = 1\n",
    "    for i in range(1,x+1):\n",
    "        result *=i\n",
    "    return result,y**2   \n",
    "[b(i,i) for i in range(1,6)]"
   ]
  },
  {
   "cell_type": "code",
   "execution_count": null,
   "metadata": {},
   "outputs": [
    {
     "data": {
      "text/plain": [
       "120"
      ]
     },
     "metadata": {},
     "output_type": "display_data"
    }
   ],
   "source": [
    "def c(x): ##3 \n",
    "    if(x>1):\n",
    "        return x*c(x-1)\n",
    "    else:\n",
    "        return 1\n",
    "c(5)"
   ]
  },
  {
   "cell_type": "code",
   "execution_count": null,
   "metadata": {},
   "outputs": [],
   "source": [
    "def c(x): ##3 다른 방법   \n",
    "    a= x-1\n",
    "    if(x>1):\n",
    "        return x*c(a)\n",
    "    else:\n",
    "        return 1"
   ]
  },
  {
   "cell_type": "code",
   "execution_count": null,
   "metadata": {},
   "outputs": [
    {
     "data": {
      "text/plain": [
       "[1, 2, 6, 24, 120, 720, 5040, 40320, 362880]"
      ]
     },
     "metadata": {},
     "output_type": "display_data"
    }
   ],
   "source": [
    "[c(i) for i in range(1,10)]"
   ]
  },
  {
   "cell_type": "code",
   "execution_count": null,
   "metadata": {},
   "outputs": [
    {
     "data": {
      "text/plain": [
       "[1, 2, 6, 24, 120, 720, 5040, 40320, 362880, 3628800]"
      ]
     },
     "metadata": {},
     "output_type": "display_data"
    }
   ],
   "source": [
    "list1 =[]\n",
    "for i in range(1,11):\n",
    "    list1.append(c(i))\n",
    "list1"
   ]
  },
  {
   "cell_type": "code",
   "execution_count": null,
   "metadata": {},
   "outputs": [
    {
     "data": {
      "text/plain": [
       "[1, 2, 6, 24, 120, 720, 5040, 40320, 362880, 3628800]"
      ]
     },
     "metadata": {},
     "output_type": "display_data"
    }
   ],
   "source": [
    "list1 =[]\n",
    "for i in range(1,11):\n",
    "    list1 += [c(i)]\n",
    "list1"
   ]
  },
  {
   "cell_type": "markdown",
   "metadata": {},
   "source": [
    "## 실습 2 : 리스트컴프리헨션 이용하기\n",
    "1. 1~99 범위 중 짝수만 들어있는 리스트\n",
    "2. 100~-100 범위중 끝자리가 5인 수만 들어있는 리스트\n",
    "3. 'apple','bird','cat','dog','e'문자에서 각 문자를 대문자로 만든 리스트"
   ]
  },
  {
   "cell_type": "code",
   "execution_count": null,
   "metadata": {},
   "outputs": [
    {
     "data": {
      "text/plain": [
       "'APPLE'"
      ]
     },
     "metadata": {},
     "output_type": "display_data"
    }
   ],
   "source": [
    "'apple'.upper() # 대문자로 만들기"
   ]
  },
  {
   "cell_type": "code",
   "execution_count": null,
   "metadata": {},
   "outputs": [
    {
     "data": {
      "text/plain": [
       "[2,\n",
       " 4,\n",
       " 6,\n",
       " 8,\n",
       " 10,\n",
       " 12,\n",
       " 14,\n",
       " 16,\n",
       " 18,\n",
       " 20,\n",
       " 22,\n",
       " 24,\n",
       " 26,\n",
       " 28,\n",
       " 30,\n",
       " 32,\n",
       " 34,\n",
       " 36,\n",
       " 38,\n",
       " 40,\n",
       " 42,\n",
       " 44,\n",
       " 46,\n",
       " 48,\n",
       " 50,\n",
       " 52,\n",
       " 54,\n",
       " 56,\n",
       " 58,\n",
       " 60,\n",
       " 62,\n",
       " 64,\n",
       " 66,\n",
       " 68,\n",
       " 70,\n",
       " 72,\n",
       " 74,\n",
       " 76,\n",
       " 78,\n",
       " 80,\n",
       " 82,\n",
       " 84,\n",
       " 86,\n",
       " 88,\n",
       " 90,\n",
       " 92,\n",
       " 94,\n",
       " 96,\n",
       " 98]"
      ]
     },
     "metadata": {},
     "output_type": "display_data"
    }
   ],
   "source": [
    "list1 = [] #1 첫번째 방법\n",
    "for i in range(1,100):\n",
    "    if i%2 == 0:\n",
    "        list1.append(i)\n",
    "list1"
   ]
  },
  {
   "cell_type": "code",
   "execution_count": null,
   "metadata": {},
   "outputs": [
    {
     "data": {
      "text/plain": [
       "[None,\n",
       " 2,\n",
       " None,\n",
       " 4,\n",
       " None,\n",
       " 6,\n",
       " None,\n",
       " 8,\n",
       " None,\n",
       " 10,\n",
       " None,\n",
       " 12,\n",
       " None,\n",
       " 14,\n",
       " None,\n",
       " 16,\n",
       " None,\n",
       " 18,\n",
       " None,\n",
       " 20,\n",
       " None,\n",
       " 22,\n",
       " None,\n",
       " 24,\n",
       " None,\n",
       " 26,\n",
       " None,\n",
       " 28,\n",
       " None,\n",
       " 30,\n",
       " None,\n",
       " 32,\n",
       " None,\n",
       " 34,\n",
       " None,\n",
       " 36,\n",
       " None,\n",
       " 38,\n",
       " None,\n",
       " 40,\n",
       " None,\n",
       " 42,\n",
       " None,\n",
       " 44,\n",
       " None,\n",
       " 46,\n",
       " None,\n",
       " 48,\n",
       " None,\n",
       " 50,\n",
       " None,\n",
       " 52,\n",
       " None,\n",
       " 54,\n",
       " None,\n",
       " 56,\n",
       " None,\n",
       " 58,\n",
       " None,\n",
       " 60,\n",
       " None,\n",
       " 62,\n",
       " None,\n",
       " 64,\n",
       " None,\n",
       " 66,\n",
       " None,\n",
       " 68,\n",
       " None,\n",
       " 70,\n",
       " None,\n",
       " 72,\n",
       " None,\n",
       " 74,\n",
       " None,\n",
       " 76,\n",
       " None,\n",
       " 78,\n",
       " None,\n",
       " 80,\n",
       " None,\n",
       " 82,\n",
       " None,\n",
       " 84,\n",
       " None,\n",
       " 86,\n",
       " None,\n",
       " 88,\n",
       " None,\n",
       " 90,\n",
       " None,\n",
       " 92,\n",
       " None,\n",
       " 94,\n",
       " None,\n",
       " 96,\n",
       " None,\n",
       " 98,\n",
       " None]"
      ]
     },
     "metadata": {},
     "output_type": "display_data"
    }
   ],
   "source": [
    "def funcA(x):\n",
    "    if x %2 ==0:\n",
    "        return x\n",
    "    \n",
    "[funcA(i) for i in range(1,100,1)]"
   ]
  },
  {
   "cell_type": "code",
   "execution_count": null,
   "metadata": {},
   "outputs": [
    {
     "data": {
      "text/plain": [
       "[2,\n",
       " 4,\n",
       " 6,\n",
       " 8,\n",
       " 10,\n",
       " 12,\n",
       " 14,\n",
       " 16,\n",
       " 18,\n",
       " 20,\n",
       " 22,\n",
       " 24,\n",
       " 26,\n",
       " 28,\n",
       " 30,\n",
       " 32,\n",
       " 34,\n",
       " 36,\n",
       " 38,\n",
       " 40,\n",
       " 42,\n",
       " 44,\n",
       " 46,\n",
       " 48,\n",
       " 50,\n",
       " 52,\n",
       " 54,\n",
       " 56,\n",
       " 58,\n",
       " 60,\n",
       " 62,\n",
       " 64,\n",
       " 66,\n",
       " 68,\n",
       " 70,\n",
       " 72,\n",
       " 74,\n",
       " 76,\n",
       " 78,\n",
       " 80,\n",
       " 82,\n",
       " 84,\n",
       " 86,\n",
       " 88,\n",
       " 90,\n",
       " 92,\n",
       " 94,\n",
       " 96,\n",
       " 98]"
      ]
     },
     "metadata": {},
     "output_type": "display_data"
    }
   ],
   "source": [
    "[i if i%2 ==0 else'' for i in range(2,100,2)] #1 두번째 방법"
   ]
  },
  {
   "cell_type": "code",
   "execution_count": null,
   "metadata": {},
   "outputs": [],
   "source": [
    "list1 = [] #2 첫번째 방법\n",
    "for i in range(100,-100,-5):\n",
    "    list1.append(i)\n",
    "list1"
   ]
  },
  {
   "cell_type": "code",
   "execution_count": null,
   "metadata": {},
   "outputs": [
    {
     "data": {
      "text/plain": [
       "[100,\n",
       " 95,\n",
       " 90,\n",
       " 85,\n",
       " 80,\n",
       " 75,\n",
       " 70,\n",
       " 65,\n",
       " 60,\n",
       " 55,\n",
       " 50,\n",
       " 45,\n",
       " 40,\n",
       " 35,\n",
       " 30,\n",
       " 25,\n",
       " 20,\n",
       " 15,\n",
       " 10,\n",
       " 5,\n",
       " 0,\n",
       " -5,\n",
       " -10,\n",
       " -15,\n",
       " -20,\n",
       " -25,\n",
       " -30,\n",
       " -35,\n",
       " -40,\n",
       " -45,\n",
       " -50,\n",
       " -55,\n",
       " -60,\n",
       " -65,\n",
       " -70,\n",
       " -75,\n",
       " -80,\n",
       " -85,\n",
       " -90,\n",
       " -95]"
      ]
     },
     "metadata": {},
     "output_type": "display_data"
    }
   ],
   "source": [
    "list1 = [] #2 두번째 방법\n",
    "for i in range(100,-100,-1):\n",
    "    if i %5 ==0:\n",
    "        list1.append(i)\n",
    "list1"
   ]
  },
  {
   "cell_type": "code",
   "execution_count": null,
   "metadata": {},
   "outputs": [
    {
     "data": {
      "text/plain": [
       "[100,\n",
       " 95,\n",
       " 90,\n",
       " 85,\n",
       " 80,\n",
       " 75,\n",
       " 70,\n",
       " 65,\n",
       " 60,\n",
       " 55,\n",
       " 50,\n",
       " 45,\n",
       " 40,\n",
       " 35,\n",
       " 30,\n",
       " 25,\n",
       " 20,\n",
       " 15,\n",
       " 10,\n",
       " 5,\n",
       " 0,\n",
       " -5,\n",
       " -10,\n",
       " -15,\n",
       " -20,\n",
       " -25,\n",
       " -30,\n",
       " -35,\n",
       " -40,\n",
       " -45,\n",
       " -50,\n",
       " -55,\n",
       " -60,\n",
       " -65,\n",
       " -70,\n",
       " -75,\n",
       " -80,\n",
       " -85,\n",
       " -90,\n",
       " -95]"
      ]
     },
     "metadata": {},
     "output_type": "display_data"
    }
   ],
   "source": [
    "[i if i%5 ==0 else '' for i in range(100,-100,-5)]"
   ]
  },
  {
   "cell_type": "code",
   "execution_count": null,
   "metadata": {},
   "outputs": [
    {
     "data": {
      "text/plain": [
       "[95,\n",
       " 85,\n",
       " 75,\n",
       " 65,\n",
       " 55,\n",
       " 45,\n",
       " 35,\n",
       " 25,\n",
       " 15,\n",
       " 5,\n",
       " -5,\n",
       " -15,\n",
       " -25,\n",
       " -35,\n",
       " -45,\n",
       " -55,\n",
       " -65,\n",
       " -75,\n",
       " -85,\n",
       " -95]"
      ]
     },
     "metadata": {},
     "output_type": "display_data"
    }
   ],
   "source": [
    "list1 = []\n",
    "for i in range(100,-101,-1):\n",
    "    if str(i)[-1] =='5':\n",
    "        list1 +=[i]\n",
    "list1"
   ]
  },
  {
   "cell_type": "code",
   "execution_count": null,
   "metadata": {},
   "outputs": [
    {
     "data": {
      "text/plain": [
       "[95,\n",
       " 85,\n",
       " 75,\n",
       " 65,\n",
       " 55,\n",
       " 45,\n",
       " 35,\n",
       " 25,\n",
       " 15,\n",
       " 5,\n",
       " -5,\n",
       " -15,\n",
       " -25,\n",
       " -35,\n",
       " -45,\n",
       " -55,\n",
       " -65,\n",
       " -75,\n",
       " -85,\n",
       " -95]"
      ]
     },
     "metadata": {},
     "output_type": "display_data"
    }
   ],
   "source": [
    "[i for i in range(100,-101,-1) if str(i)[-1] =='5']"
   ]
  },
  {
   "cell_type": "code",
   "execution_count": null,
   "metadata": {},
   "outputs": [
    {
     "data": {
      "text/plain": [
       "['APPLE', 'BIRD', 'CAT', 'DOG', 'E']"
      ]
     },
     "metadata": {},
     "output_type": "display_data"
    }
   ],
   "source": [
    "list2 = [] #3 첫번째 방법\n",
    "for i in ['apple','bird','cat','dog','e']:\n",
    "    list2.append(i.upper())\n",
    "list2\n",
    "    "
   ]
  },
  {
   "cell_type": "code",
   "execution_count": null,
   "metadata": {},
   "outputs": [
    {
     "data": {
      "text/plain": [
       "['APPLE', 'BIRD', 'CAT', 'DOG', 'E']"
      ]
     },
     "metadata": {},
     "output_type": "display_data"
    }
   ],
   "source": [
    "[i.upper() for i in ['apple','bird','cat','dog','e']] #3 두번째 방법"
   ]
  }
 ],
 "metadata": {
  "kernelspec": {
   "display_name": "Python 3.10.9 64-bit (microsoft store)",
   "language": "python",
   "name": "python3"
  },
  "language_info": {
   "codemirror_mode": {
    "name": "ipython",
    "version": 3
   },
   "file_extension": ".py",
   "mimetype": "text/x-python",
   "name": "python",
   "nbconvert_exporter": "python",
   "pygments_lexer": "ipython3",
   "version": "3.10.9"
  },
  "orig_nbformat": 4,
  "vscode": {
   "interpreter": {
    "hash": "7b1f2b33e866b0bf2409397e5f58ba9cdf170d3b7f64c8f359c79998e2f88ad4"
   }
  }
 },
 "nbformat": 4,
 "nbformat_minor": 2
}
