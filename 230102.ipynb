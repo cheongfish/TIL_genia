{
 "cells": [
  {
   "cell_type": "markdown",
   "metadata": {},
   "source": [
    "1."
   ]
  },
  {
   "cell_type": "code",
   "execution_count": 33,
   "metadata": {},
   "outputs": [
    {
     "ename": "ValueError",
     "evalue": "not enough values to unpack (expected 3, got 0)",
     "output_type": "error",
     "traceback": [
      "\u001b[1;31m---------------------------------------------------------------------------\u001b[0m",
      "\u001b[1;31mValueError\u001b[0m                                Traceback (most recent call last)",
      "Cell \u001b[1;32mIn[33], line 1\u001b[0m\n\u001b[1;32m----> 1\u001b[0m x,y,z \u001b[39m=\u001b[39m \u001b[39mmap\u001b[39m(\u001b[39mint\u001b[39m,\u001b[39minput\u001b[39m()\u001b[39m.\u001b[39msplit())\n\u001b[0;32m      3\u001b[0m x\u001b[39m*\u001b[39m\u001b[39m100\u001b[39m \u001b[39m+\u001b[39m y\u001b[39m*\u001b[39m\u001b[39m10\u001b[39m \u001b[39m+\u001b[39m z\n",
      "\u001b[1;31mValueError\u001b[0m: not enough values to unpack (expected 3, got 0)"
     ]
    }
   ],
   "source": [
    "x,y,z = map(int,input().split())\n",
    "\n",
    "x*100 + y*10 + z\n"
   ]
  },
  {
   "cell_type": "code",
   "execution_count": null,
   "metadata": {},
   "outputs": [],
   "source": [
    "x = int(input())\n",
    "y = int(input())\n",
    "result=pow(x,y)\n",
    "result"
   ]
  },
  {
   "cell_type": "code",
   "execution_count": null,
   "metadata": {},
   "outputs": [],
   "source": [
    "x = int(input())\n",
    "y = int(input())\n",
    "z = input()\n",
    "\n",
    "if z == '*':\n",
    "    result = x*y\n",
    "elif z == '/':\n",
    "    result = x/y\n",
    "result\n"
   ]
  },
  {
   "cell_type": "code",
   "execution_count": null,
   "metadata": {},
   "outputs": [],
   "source": [
    "x,y = map(int,input().split())\n",
    "z = input()\n",
    "result = 0\n",
    "\n",
    "if z =='+':\n",
    "    result = x+y\n",
    "elif z == '-':\n",
    "    result = x-y\n",
    "elif z == '*':\n",
    "    result = x*y\n",
    "elif z == '/':\n",
    "    result = x/y\n",
    "elif z == '**':\n",
    "    result = x**y\n",
    "elif z == '//':\n",
    "    result = x//y\n",
    "else:\n",
    "    result = '올바른 연산기호를 입력하세요.'    \n",
    "result"
   ]
  },
  {
   "cell_type": "code",
   "execution_count": null,
   "metadata": {},
   "outputs": [],
   "source": [
    "print('a',1)"
   ]
  },
  {
   "cell_type": "markdown",
   "metadata": {},
   "source": [
    "## 나눗셈 연산을 하는 프로그램 만들기\n",
    "* 두 수를 입력받아 몫과 나머지를 출력하는 프로그램을 만들자"
   ]
  },
  {
   "cell_type": "code",
   "execution_count": null,
   "metadata": {},
   "outputs": [],
   "source": [
    "x = int(input('첫번째 숫자: '))\n",
    "y = int(input('두번째 숫자: '))\n",
    "a = x//y\n",
    "b = x% y\n",
    "print(f'몫은  : {a}', f'나머지는 : {b}')\n",
    "\n"
   ]
  },
  {
   "cell_type": "code",
   "execution_count": null,
   "metadata": {},
   "outputs": [],
   "source": [
    "print('''hello\n",
    "python!''')"
   ]
  },
  {
   "cell_type": "code",
   "execution_count": null,
   "metadata": {},
   "outputs": [],
   "source": [
    "x = 123456\n",
    "y= 'asdf'\n",
    "a = [1,2,3,4,5,'abv',x,[2,3,5,7,8]]\n",
    "y[-2:]"
   ]
  },
  {
   "cell_type": "code",
   "execution_count": null,
   "metadata": {},
   "outputs": [],
   "source": [
    "list1 = [1,2,3,4,5,6]\n",
    "tuple1 = (1,2,3,4,5,6)\n",
    "list1[3] = 44\n",
    "list1\n",
    "# tuple1[1] = 44 tuple은 변경이 불가능함\n"
   ]
  },
  {
   "cell_type": "code",
   "execution_count": null,
   "metadata": {},
   "outputs": [],
   "source": [
    "dict1 = {'a': '123','b': '456'} # 딕셔너리는 인덱스가 키 기반으로 인덱싱 {'key' : 'value' , 'key1' : 'value1'}\n",
    "dict1['b']"
   ]
  },
  {
   "cell_type": "code",
   "execution_count": null,
   "metadata": {},
   "outputs": [],
   "source": [
    "# set \n",
    "set1 = {1,2,3,4,5,6}\n",
    "# set은 인덱싱, 슬라이싱 불가 , 값변환도 불가\n",
    "set2 = {9,8,7,99,99,89,59,789} # 중복값 제거(unique) , 오름차순 정렬(sort)\n",
    "set2"
   ]
  },
  {
   "cell_type": "code",
   "execution_count": null,
   "metadata": {},
   "outputs": [],
   "source": [
    "#  bool자료형\n",
    "True , False  # 조건 불일치 조건을 직접 주거나 "
   ]
  },
  {
   "cell_type": "markdown",
   "metadata": {},
   "source": [
    "## 실습\n",
    "* 나머지 자료형(float, set, tuple , bool)에 대해서 어떤 연산자가 동작하는지 알아보기"
   ]
  },
  {
   "cell_type": "code",
   "execution_count": null,
   "metadata": {},
   "outputs": [],
   "source": [
    "#  float 자료형은 사칙연산 가능\n",
    "print(0.9+0.1)\n",
    "print(0.9-0.1)\n",
    "print(0.9/0.1)\n",
    "print(0.9*0.1)"
   ]
  },
  {
   "cell_type": "code",
   "execution_count": null,
   "metadata": {},
   "outputs": [],
   "source": [
    "#  set자료형은 -연산 가능\n",
    "a = {1,2,3,4,5,6}\n",
    "b = {5,6,7,8,9}\n",
    "print(a+b)\n",
    "print(a-b)\n",
    "print(a/b)\n",
    "print(a*b)\n"
   ]
  },
  {
   "cell_type": "code",
   "execution_count": null,
   "metadata": {},
   "outputs": [],
   "source": [
    "# tuple 자료형은 덧셈 가능\n",
    "a = (1,2,3)\n",
    "b = (4,5,6)\n",
    "print(a+b)\n",
    "print(a-b)\n",
    "print(a/b)\n",
    "print(a*b)\n"
   ]
  },
  {
   "cell_type": "code",
   "execution_count": null,
   "metadata": {},
   "outputs": [],
   "source": [
    "# boolean 사칙연산 가능\n",
    "a = False\n",
    "b = True\n",
    "print(a+b)\n",
    "print(a-b)\n",
    "print(a/b)\n",
    "print(a*b)\n"
   ]
  },
  {
   "cell_type": "markdown",
   "metadata": {},
   "source": [
    "## 실습 \n",
    "* 위 코드를 활용해서 128을 2로 4번 나누는 프로그램을 만들자\n",
    "* 128을 x변수에 저장하고, 나누는 값은 항상 x에 저장한다."
   ]
  },
  {
   "cell_type": "code",
   "execution_count": 42,
   "metadata": {},
   "outputs": [
    {
     "data": {
      "text/plain": [
       "8.0"
      ]
     },
     "execution_count": 42,
     "metadata": {},
     "output_type": "execute_result"
    }
   ],
   "source": [
    "x = 128\n",
    "x /=2\n",
    "x /=2\n",
    "x /=2\n",
    "x /=2\n",
    "x\n"
   ]
  }
 ],
 "metadata": {
  "kernelspec": {
   "display_name": "Python 3.11.0 64-bit",
   "language": "python",
   "name": "python3"
  },
  "language_info": {
   "codemirror_mode": {
    "name": "ipython",
    "version": 3
   },
   "file_extension": ".py",
   "mimetype": "text/x-python",
   "name": "python",
   "nbconvert_exporter": "python",
   "pygments_lexer": "ipython3",
   "version": "3.11.0"
  },
  "orig_nbformat": 4,
  "vscode": {
   "interpreter": {
    "hash": "de47f5c92c0ee6f12a59a5613ac5feff6aab19ddff207ba0b3964cced08c4ccc"
   }
  }
 },
 "nbformat": 4,
 "nbformat_minor": 2
}
